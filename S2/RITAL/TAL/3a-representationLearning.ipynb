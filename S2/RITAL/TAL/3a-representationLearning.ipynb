{
  "cells": [
    {
      "cell_type": "markdown",
      "metadata": {},
      "source": [
        "# NLP & representation learning: Neural Embeddings, Text Classification\n",
        "\n",
        "\n",
        "To use statistical classifiers with text, it is first necessary to vectorize the text. In the first practical session we explored the **Bag of Word (BoW)** model. \n",
        "\n",
        "Modern **state of the art** methods uses  embeddings to vectorize the text before classification in order to avoid feature engineering.\n",
        "\n",
        "## [Dataset](https://thome.isir.upmc.fr/classes/RITAL/json_pol)\n",
        "\n",
        "\n",
        "## \"Modern\" NLP pipeline\n",
        "\n",
        "By opposition to the **bag of word** model, in the modern NLP pipeline everything is **embeddings**. Instead of encoding a text as a **sparse vector** of length $D$ (size of feature dictionnary) the goal is to encode the text in a meaningful dense vector of a small size $|e| <<< |D|$. \n",
        "\n",
        "\n",
        "The raw classification pipeline is then the following:\n",
        "\n",
        "```\n",
        "raw text ---|embedding table|-->  vectors --|Neural Net|--> class \n",
        "```\n",
        "\n",
        "\n",
        "### Using a  language model:\n",
        "\n",
        "How to tokenize the text and extract a feature dictionnary is still a manual task. To directly have meaningful embeddings, it is common to use a pre-trained language model such as `word2vec` which we explore in this practical.\n",
        "\n",
        "In this setting, the pipeline becomes the following:\n",
        "```\n",
        "      \n",
        "raw text ---|(pre-trained) Language Model|--> vectors --|classifier (or fine-tuning)|--> class \n",
        "```\n",
        "\n",
        "\n",
        "- #### Classic word embeddings\n",
        "\n",
        " - [Word2Vec](https://arxiv.org/abs/1301.3781)\n",
        " - [Glove](https://nlp.stanford.edu/projects/glove/)\n",
        "\n",
        "\n",
        "- #### bleeding edge language models techniques (see next)\n",
        "\n",
        " - [UMLFIT](https://arxiv.org/abs/1801.06146)\n",
        " - [ELMO](https://arxiv.org/abs/1802.05365)\n",
        " - [GPT](https://blog.openai.com/language-unsupervised/)\n",
        " - [BERT](https://arxiv.org/abs/1810.04805)\n",
        "\n",
        "\n",
        "\n",
        "\n",
        "\n",
        "\n",
        "### Goal of this session:\n",
        "\n",
        "1. Train word embeddings on training dataset\n",
        "2. Tinker with the learnt embeddings and see learnt relations\n",
        "3. Tinker with pre-trained embeddings.\n",
        "4. Use those embeddings for classification\n",
        "5. Compare different embedding models\n",
        "6. Pytorch first look: learn to generate text."
      ]
    },
    {
      "cell_type": "markdown",
      "metadata": {},
      "source": [
        "## STEP 0: Loading data "
      ]
    },
    {
      "cell_type": "code",
      "execution_count": null,
      "metadata": {},
      "outputs": [
        {
          "name": "stdout",
          "output_type": "stream",
          "text": [
            "Number of train reviews :  25000\n",
            "----> # of positive :  12500\n",
            "----> # of negative :  12500\n",
            "\n",
            "[\"The undoubted highlight of this movie is Peter O'Toole's performance. In turn wildly comical and terribly terribly tragic. Does anybody do it better than O'Toole? I don't think so. What a great face that man has!<br /><br />The story is an odd one and quite disturbing and emotionally intense in parts (especially toward the end) but it is also oddly touching and does succeed on many levels. However, I felt the film basically revolved around Peter O'Toole's luminous performance and I'm sure I wouldn't have enjoyed it even half as much if he hadn't been in it.\", 1]\n",
            "\n",
            "Number of test reviews :  25000\n",
            "----> # of positive :  12500\n",
            "----> # of negative :  12500\n",
            "\n",
            "['Although credit should have been given to Dr. Seuess for stealing the story-line of \"Horton Hatches The Egg\", this was a fine film. It touched both the emotions and the intellect. Due especially to the incredible performance of seven year old Justin Henry and a script that was sympathetic to each character (and each one\\'s predicament), the thought provoking elements linger long after the tear jerking ones are over. Overall, superior acting from a solid cast, excellent directing, and a very powerful script. The right touches of humor throughout help keep a \"heavy\" subject from becoming tedious or difficult to sit through. Lastly, this film stands the test of time and seems in no way dated, decades after it was released.', 1]\n",
            "\n"
          ]
        }
      ],
      "source": [
        "import json\n",
        "from collections import Counter\n",
        "\n",
        "# Loading json\n",
        "with open(\"data/json_pol\",encoding=\"utf-8\") as f:\n",
        "    data = f.readlines()\n",
        "    json_data = json.loads(data[0])\n",
        "    train = json_data[\"train\"]\n",
        "    test = json_data[\"test\"]\n",
        "    \n",
        "\n",
        "# Quick Check\n",
        "counter_train = Counter((x[1] for x in train))\n",
        "counter_test = Counter((x[1] for x in test))\n",
        "print(\"Number of train reviews : \", len(train))\n",
        "print(\"----> # of positive : \", counter_train[1])\n",
        "print(\"----> # of negative : \", counter_train[0])\n",
        "print(\"\")\n",
        "print(train[0])\n",
        "print(\"\")\n",
        "print(\"Number of test reviews : \",len(test))\n",
        "print(\"----> # of positive : \", counter_test[1])\n",
        "print(\"----> # of negative : \", counter_test[0])\n",
        "print(\"\")\n",
        "print(test[0])\n",
        "print(\"\")"
      ]
    },
    {
      "cell_type": "markdown",
      "metadata": {},
      "source": [
        "## Word2Vec: Quick Recap\n",
        "\n",
        "**[Word2Vec](https://arxiv.org/abs/1301.3781) is composed of two distinct language models (CBOW and SG), optimized to quickly learn word vectors**\n",
        "\n",
        "\n",
        "given a random text: `i'm taking the dog out for a walk`\n",
        "\n",
        "\n",
        "\n",
        "### (a) Continuous Bag of Word (CBOW)\n",
        "    -  predicts a word given a context\n",
        "    \n",
        "maximizing `p(dog | i'm taking the ___ out for a walk)`\n",
        "    \n",
        "### (b) Skip-Gram (SG)               \n",
        "    -  predicts a context given a word\n",
        "    \n",
        " maximizing `p(i'm taking the out for a walk | dog)`\n",
        "\n",
        "\n",
        "\n",
        "   "
      ]
    },
    {
      "cell_type": "markdown",
      "metadata": {},
      "source": [
        "## STEP 1: train a language model (word2vec)\n",
        "\n",
        "Gensim has one of [Word2Vec](https://radimrehurek.com/gensim/models/word2vec.html) fastest implementation.\n",
        "\n",
        "\n",
        "### Train:"
      ]
    },
    {
      "cell_type": "code",
      "execution_count": null,
      "metadata": {},
      "outputs": [],
      "source": [
        "# if gensim not installed yet\n",
        "# ! pip install gensim"
      ]
    },
    {
      "cell_type": "raw",
      "metadata": {},
      "source": [
        "import logging\n",
        "logging.basicConfig(format='%(asctime)s : %(levelname)s : %(message)s', level=logging.INFO)\n",
        "\n",
        "text = [t.split() for t,p in train]\n",
        "\n",
        "# the following configuration is the default configuration\n",
        "w2v = gensim.models.word2vec.Word2Vec(sentences=text,\n",
        "                                vector_size=100, window=5,               ### here we train a cbow model \n",
        "                                min_count=5,                      \n",
        "                                sample=0.001, workers=3,\n",
        "                                sg=1, hs=0, negative=5,        ### set sg to 1 to train a sg model\n",
        "                                cbow_mean=1, epochs=5)"
      ]
    },
    {
      "attachments": {},
      "cell_type": "markdown",
      "metadata": {},
      "source": [
        "## STEP 2: Test learnt embeddings\n",
        "\n",
        "The word embedding space directly encodes similarities between words: the vector coding for the word \"great\" will be closer to the vector coding for \"good\" than to the one coding for \"bad\". Generally, [cosine similarity](https://en.wikipedia.org/wiki/Cosine_similarity) is the distance used when considering distance between vectors.\n",
        "\n",
        "KeyedVectors have a built in [similarity](https://radimrehurek.com/gensim/models/keyedvectors.html#gensim.models.keyedvectors.BaseKeyedVectors.similarity) method to compute the cosine similarity between words"
      ]
    },
    {
      "cell_type": "code",
      "execution_count": null,
      "metadata": {},
      "outputs": [
        {
          "name": "stdout",
          "output_type": "stream",
          "text": [
            "great and good: 0.7808741\n",
            "great and bad: 0.48554623\n"
          ]
        }
      ],
      "source": [
        "# is great really closer to good than to bad ?\n",
        "print(\"great and good:\",w2v.wv.similarity(\"great\",\"good\"))\n",
        "print(\"great and bad:\",w2v.wv.similarity(\"great\",\"bad\"))"
      ]
    },
    {
      "cell_type": "markdown",
      "metadata": {},
      "source": [
        "Since cosine distance encodes similarity, neighboring words are supposed to be similar. The [most_similar](https://radimrehurek.com/gensim/models/keyedvectors.html#gensim.models.keyedvectors.BaseKeyedVectors.most_similar) method returns the `topn` words given a query."
      ]
    },
    {
      "cell_type": "code",
      "execution_count": null,
      "metadata": {},
      "outputs": [
        {
          "data": {
            "text/plain": [
              "[('film', 0.9401001930236816),\n",
              " ('\"film\"', 0.8587080240249634),\n",
              " ('\"movie\"', 0.799458920955658),\n",
              " (\"'movie'\", 0.765182375907898),\n",
              " ('movie...', 0.7599055767059326)]"
            ]
          },
          "execution_count": 7,
          "metadata": {},
          "output_type": "execute_result"
        }
      ],
      "source": [
        "# The query can be as simple as a word, such as \"movie\"\n",
        "\n",
        "# Try changing the word\n",
        "w2v.wv.most_similar(\"movie\", topn=5) # 5 most similar words\n",
        "# w2v.wv.most_similar(\"awesome\", topn=5)\n",
        "# w2v.wv.most_similar(\"actor\", topn=5)"
      ]
    },
    {
      "cell_type": "markdown",
      "metadata": {},
      "source": [
        "But it can be a more complicated query\n",
        "Word embedding spaces tend to encode much more.\n",
        "\n",
        "The most famous exemple is: `vec(king) - vec(man) + vec(woman) => vec(queen)`"
      ]
    },
    {
      "cell_type": "code",
      "execution_count": null,
      "metadata": {},
      "outputs": [
        {
          "data": {
            "text/plain": [
              "[('actresses', 0.7771156430244446),\n",
              " ('performers', 0.7047034502029419),\n",
              " ('actors,', 0.699517548084259),\n",
              " ('accents', 0.6796764731407166),\n",
              " ('professionals', 0.6730060577392578),\n",
              " ('actresses,', 0.6701850891113281),\n",
              " ('Asians', 0.6487534642219543),\n",
              " ('musicians', 0.6361316442489624),\n",
              " ('actors.', 0.6335344910621643),\n",
              " ('cast', 0.6323182582855225)]"
            ]
          },
          "execution_count": 8,
          "metadata": {},
          "output_type": "execute_result"
        }
      ],
      "source": [
        "# What is awesome - good + bad ?\n",
        "\n",
        "w2v.wv.most_similar(positive=[\"awesome\",\"bad\"],negative=[\"good\"],topn=3)  \n",
        "w2v.wv.most_similar(positive=[\"actor\",\"woman\"],negative=[\"man\"],topn=3) # do the famous example works for actor?*\n",
        "\n",
        "# Try other things like plurals for exemple.\n",
        "w2v.wv.most_similar(positive=[\"actors\", \"women\"], negative=[\"men\"])"
      ]
    },
    {
      "cell_type": "markdown",
      "metadata": {},
      "source": [
        "To test learnt \"synctactic\" and \"semantic\" similarities, Mikolov et al. introduced a special dataset containing a wide variety of three way similarities."
      ]
    },
    {
      "cell_type": "markdown",
      "metadata": {},
      "source": [
        "**When training the w2v models on the review dataset, since it hasn't been learnt with a lot of data, it does not perform very well.**\n"
      ]
    },
    {
      "cell_type": "markdown",
      "metadata": {},
      "source": [
        "## STEP 3: Loading a pre-trained model"
      ]
    },
    {
      "attachments": {},
      "cell_type": "markdown",
      "metadata": {},
      "source": [
        "In Gensim, embeddings are loaded and can be used via the [\"KeyedVectors\"](https://radimrehurek.com/gensim/models/keyedvectors.html) class.\n",
        "\n",
        "> Since trained word vectors are independent from the way they were trained (Word2Vec, FastText, WordRank, VarEmbed etc), they can be represented by a standalone structure, as implemented in this module.\n",
        "\n",
        "> The structure is called “KeyedVectors” and is essentially a mapping between entities and vectors. Each entity is identified by its string id, so this is a mapping between {str => 1D numpy array}.\n",
        "\n",
        "> The entity typically corresponds to a word (so the mapping maps words to 1D vectors), but for some models, they key can also correspond to a document, a graph node etc. To generalize over different use-cases, this module calls the keys entities. Each entity is always represented by its string id, no matter whether the entity is a word, a document or a graph node."
      ]
    },
    {
      "cell_type": "markdown",
      "metadata": {},
      "source": [
        "**Perform the \"synctactic\" and \"semantic\" evaluations again. Conclude on the pre-trained embeddings.**"
      ]
    },
    {
      "cell_type": "markdown",
      "metadata": {},
      "source": [
        "## STEP 4:  sentiment classification\n",
        "\n",
        "In the previous practical session, we used a bag of word approach to transform text into vectors.\n",
        "Here, we propose to try to use word vectors (previously learnt or loaded).\n",
        "\n",
        "\n",
        "### <font color='green'> Since we have only word vectors and that sentences are made of multiple words, we need to aggregate them. </font>\n",
        "\n",
        "\n",
        "### (1) Vectorize reviews using word vectors:\n",
        "\n",
        "Word aggregation can be done in different ways:\n",
        "\n",
        "- Sum\n",
        "- Average\n",
        "- Min/feature\n",
        "- Max/feature\n",
        "\n",
        "#### a few pointers:\n",
        "\n",
        "- `w2v.wv.vocab` is a `set()` of the vocabulary (all existing words in your model)\n",
        "- `np.minimum(a,b) and np.maximum(a,b)` respectively return element-wise min/max "
      ]
    },
    {
      "cell_type": "code",
      "execution_count": null,
      "metadata": {},
      "outputs": [
        {
          "name": "stdout",
          "output_type": "stream",
          "text": [
            "[  2.4070184   10.728726     1.6023915    1.0205295    1.3956563\n",
            " -24.924358    15.950708    36.009624   -34.828377   -26.462513\n",
            "  -0.7197295  -28.055614    -1.4644612   16.100155     5.736347\n",
            "  -9.046975     7.8378916  -13.229714    -3.658669   -43.264645\n",
            "  17.188086     6.6812267   15.422864   -18.638058    12.364625\n",
            "  -1.9098312  -13.421583     3.5866108  -13.583027    17.841858\n",
            "  27.16892     -7.5095916    7.923023   -24.883074    -5.5531106\n",
            "  21.77718     -4.552547    10.378692   -12.161695   -17.032448\n",
            "  17.070347    -7.4205475   -9.159653     2.5495095   11.765165\n",
            "  -3.7292545  -18.52769     -8.326244    23.724642    19.957317\n",
            "  11.743031   -21.19807     -1.862691     3.542273    -1.0009884\n",
            "  14.811585     5.597716    12.371134   -22.83988      9.306429\n",
            "  -6.67124     -3.8192432   24.278128     9.8927145  -11.401448\n",
            "  26.157171     3.204264     7.212545   -19.564785    15.332829\n",
            "   6.535295    10.513625    17.79961      1.9214424   11.614121\n",
            "  -6.370225    21.081099    -8.223018    -7.5383663   -3.647142\n",
            " -26.203793    -9.588219   -15.071536    19.92267     -6.043187\n",
            "  -6.6589313    9.658885    17.608736    17.326487    14.008056\n",
            "  37.095688    -0.52502245  -3.3425      -2.3580663   23.745888\n",
            "  -2.5100772    1.6742055  -20.195227    -2.7474704   -6.527519  ]\n"
          ]
        }
      ],
      "source": [
        "import numpy as np\n",
        "# We first need to vectorize text:\n",
        "# First we propose to a sum of them\n",
        "\n",
        "\n",
        "def vectorize(text, aggfunc=np.sum):\n",
        "    \"\"\"\n",
        "    This function should vectorize one review\n",
        "\n",
        "    input: str\n",
        "    output: np.array(float)\n",
        "    \"\"\"    \n",
        "    vec = []\n",
        "    for word in text.split():\n",
        "        # do something\n",
        "        try:\n",
        "            vec.append(w2v.wv[word])\n",
        "        except KeyError: # on ignore les mots qui ne sont pas dans notre modèle\n",
        "            continue\n",
        "    return aggfunc(vec, axis=0)\n",
        "    \n",
        "\n",
        "classes = [pol for text, pol in train]\n",
        "true = [pol for text, pol in test]\n",
        "X = [vectorize(text) for text, pol in train]\n",
        "X_test = [vectorize(text) for text, pol in test]\n",
        "\n",
        "# let's see what a review vector looks like.\n",
        "print(X[0])"
      ]
    },
    {
      "cell_type": "markdown",
      "metadata": {},
      "source": [
        "### (2) Train a classifier \n",
        "as in the previous practical session, train a logistic regression to do sentiment classification with word vectors\n",
        "\n"
      ]
    },
    {
      "cell_type": "code",
      "execution_count": null,
      "metadata": {},
      "outputs": [
        {
          "data": {
            "text/plain": [
              "0.81448"
            ]
          },
          "execution_count": 85,
          "metadata": {},
          "output_type": "execute_result"
        }
      ],
      "source": [
        "X = [vectorize(text, np.mean) for text, pol in train]\n",
        "X_test = [vectorize(text, np.mean) for text, pol in test]\n",
        "lr = LogisticRegression().fit(X, classes)\n",
        "lr.score(X_test, true)"
      ]
    },
    {
      "cell_type": "markdown",
      "metadata": {},
      "source": [
        "performance should be worst than with bag of word (~80%). Sum/Mean aggregation does not work well on long reviews (especially with many frequent words). This adds a lot of noise.\n",
        "\n",
        "## **Todo** :  Try answering the following questions:\n",
        "\n",
        "- Which word2vec model works best: skip-gram or cbow\n",
        "- Do pretrained vectors work best than those learnt on the train dataset ?\n"
      ]
    },
    {
      "cell_type": "markdown",
      "metadata": {},
      "source": [
        "\n",
        "**(Bonus)** To have a better accuracy, we could try two things:\n",
        "- Better aggregation methods (weight by tf-idf ?)\n",
        "- Another word vectorizing method such as [fasttext](https://radimrehurek.com/gensim/models/fasttext.html)\n",
        "- A document vectorizing method such as [Doc2Vec](https://radimrehurek.com/gensim/models/doc2vec.html)"
      ]
    }
  ],
  "metadata": {},
  "nbformat": 4,
  "nbformat_minor": 2
}
