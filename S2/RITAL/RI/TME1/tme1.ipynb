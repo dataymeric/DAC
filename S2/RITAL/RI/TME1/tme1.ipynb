{
  "cells": [
    {
      "cell_type": "code",
      "execution_count": null,
      "metadata": {},
      "outputs": [
        {
          "data": {
            "text/plain": [
              "Counter({'new': 1,\n",
              "         'home': 1,\n",
              "         'ha': 1,\n",
              "         'been': 1,\n",
              "         'sale': 1,\n",
              "         'top': 1,\n",
              "         'forecast': 1})"
            ]
          },
          "execution_count": 73,
          "metadata": {},
          "output_type": "execute_result"
        }
      ],
      "source": [
        "from porter import stem\n",
        "from collections import Counter\n",
        "import numpy as np\n",
        "import re\n",
        "import heapq\n",
        "\n",
        "doc = [\n",
        "    \"the new home has been saled on top forecasts\",\n",
        "    \"the home sales rise in july\",\n",
        "    \"there is an increase in home sales in july\",\n",
        "    \"july encounter new a new home sales rise\",\n",
        "]\n",
        "\n",
        "stopwords = [\"the\", \"a\", \"an\", \"on\", \"behind\", \"under\", \"there\", \"in\", \"on\"]\n",
        "\n",
        "# from nltk import stopwords\n",
        "# stopwords.words(\"english\")\n",
        "\n",
        "\n",
        "\n",
        "def traitement(document, stop_words=stopwords):\n",
        "    temp = [stem(word.lower()) for word in document.split(\" \") if word not in stop_words]\n",
        "    return Counter(temp)\n",
        "\n",
        "def preprocess(t):\n",
        "    for word in re.split(r\"\\W+\", t):\n",
        "        word = stem(word.lower())\n",
        "        if word not in stopwords:\n",
        "            yield word\n",
        "\n",
        "print(Counter(preprocess(doc[0])))\n",
        "\n",
        "def tf(document):\n",
        "    return Counter(document)\n",
        "\n",
        "traitement(doc[0])\n"
      ]
    },
    {
      "cell_type": "code",
      "execution_count": null,
      "metadata": {},
      "outputs": [
        {
          "data": {
            "text/plain": [
              "{0: Counter({'new': 1,\n",
              "          'home': 1,\n",
              "          'ha': 1,\n",
              "          'been': 1,\n",
              "          'sale': 1,\n",
              "          'top': 1,\n",
              "          'forecast': 1}),\n",
              " 1: Counter({'home': 1, 'sale': 1, 'rise': 1, 'juli': 1}),\n",
              " 2: Counter({'is': 1, 'increas': 1, 'home': 1, 'sale': 1, 'juli': 1}),\n",
              " 3: Counter({'juli': 1,\n",
              "          'encount': 1,\n",
              "          'new': 2,\n",
              "          'home': 1,\n",
              "          'sale': 1,\n",
              "          'rise': 1})}"
            ]
          },
          "execution_count": 98,
          "metadata": {},
          "output_type": "execute_result"
        }
      ],
      "source": [
        "def create_index(document, tfidf=False):\n",
        "    index = {}\n",
        "    for id, doc in enumerate(document):\n",
        "        index[id] = traitement(doc)\n",
        "\n",
        "    return index\n",
        "\n",
        "index = create_index(doc)\n",
        "index\n",
        "\n"
      ]
    },
    {
      "cell_type": "code",
      "execution_count": null,
      "metadata": {},
      "outputs": [],
      "source": [
        "\n",
        "def df(index):\n",
        "    pass\n",
        "    "
      ]
    },
    {
      "cell_type": "code",
      "execution_count": null,
      "metadata": {},
      "outputs": [],
      "source": [
        "for k, v in index.items():\n",
        "    for w in v.items():\n",
        "        c = Counter()\n",
        "        c.update({w: 1})\n",
        "\n"
      ]
    },
    {
      "cell_type": "code",
      "execution_count": null,
      "metadata": {},
      "outputs": [
        {
          "data": {
            "text/plain": [
              "{'been': {0: 0.9162907318741551},\n",
              " 'encount': {3: 0.9162907318741551},\n",
              " 'forecast': {0: 0.9162907318741551},\n",
              " 'ha': {0: 0.9162907318741551},\n",
              " 'home': {0: 0.0, 1: 0.0, 2: 0.0, 3: 0.0},\n",
              " 'increas': {2: 0.9162907318741551},\n",
              " 'is': {2: 0.9162907318741551},\n",
              " 'juli': {1: 0.22314355131420976,\n",
              "  2: 0.22314355131420976,\n",
              "  3: 0.22314355131420976},\n",
              " 'new': {0: 0.5108256237659907, 3: 1.0216512475319814},\n",
              " 'rise': {1: 0.5108256237659907, 3: 0.5108256237659907},\n",
              " 'sale': {0: 0.0, 1: 0.0, 2: 0.0, 3: 0.0},\n",
              " 'top': {0: 0.9162907318741551}}"
            ]
          },
          "execution_count": 101,
          "metadata": {},
          "output_type": "execute_result"
        }
      ],
      "source": [
        "def vocabulaire(document, stop_words=stopwords):\n",
        "    words = [stem(word.lower()) for doc in document for word in doc.split(\" \") if word not in stop_words]\n",
        "    return np.unique(words)\n",
        "\n",
        "\n",
        "def create_index_inverse(document, tfidf=False):\n",
        "    index = {}\n",
        "    N = len(document)\n",
        "    voc = vocabulaire(document)\n",
        "    for w in voc:\n",
        "        index[w] = {}\n",
        "        for id, doc in enumerate(document):\n",
        "            count = traitement(doc)[w]\n",
        "            if count != 0:\n",
        "                index[w].update({id: count})\n",
        "        if tfidf:\n",
        "            df = len(index[w])\n",
        "            for k, v in index[w].items():\n",
        "                index[w].update({k: v * np.log((1 + N) / (1 + df))})\n",
        "\n",
        "    return index\n",
        "\n",
        "create_index_inverse(doc, True)\n",
        "\n",
        "# voir version sans passer par le vocabulaire ?? :thinking:"
      ]
    },
    {
      "cell_type": "code",
      "execution_count": null,
      "metadata": {},
      "outputs": [
        {
          "data": {
            "text/plain": [
              "{'been': 1,\n",
              " 'encount': 1,\n",
              " 'forecast': 1,\n",
              " 'ha': 1,\n",
              " 'home': 4,\n",
              " 'increas': 1,\n",
              " 'is': 1,\n",
              " 'juli': 3,\n",
              " 'new': 2,\n",
              " 'rise': 2,\n",
              " 'sale': 4,\n",
              " 'top': 1}"
            ]
          },
          "execution_count": 57,
          "metadata": {},
          "output_type": "execute_result"
        }
      ],
      "source": [
        "def df(document, stop_words=stopwords):\n",
        "    voc = vocabulaire(document)\n",
        "    df = {w: 0 for w in voc}\n",
        "    for w in voc:\n",
        "        for doc in document:\n",
        "            if w in traitement(doc):\n",
        "                df[w] += 1\n",
        "    return df\n",
        "\n",
        "df(doc)"
      ]
    },
    {
      "cell_type": "code",
      "execution_count": null,
      "metadata": {},
      "outputs": [],
      "source": [
        "def tfidf(document, word):\n",
        "    N = len(document)\n",
        "    df_ = df(document)\n",
        "    tfidf = {}\n",
        "    for doc in document:\n",
        "        tf = traitement(doc)\n",
        "        for word in doc.split(\" \"):\n",
        "            tf[word] * np.log((1 + N) / (1 + df))\n",
        "    # idf = np.log(1 + N / 1 + df)\n",
        "\n",
        "# pas ça"
      ]
    },
    {
      "cell_type": "code",
      "execution_count": null,
      "metadata": {},
      "outputs": [
        {
          "data": {
            "text/plain": [
              "[(3, 1.0216512475319814), (0, 0.5108256237659907), (1, 0.0), (2, 0.0)]"
            ]
          },
          "execution_count": 143,
          "metadata": {},
          "output_type": "execute_result"
        }
      ],
      "source": [
        "def taat(document, question, tfidf=False):\n",
        "    q = question.split(\" \")\n",
        "    index = create_index_inverse(document, tfidf)\n",
        "    index_tri = {k: sorted(v.items(), key=lambda x:x[1], reverse=True) for k, v in index.items()}\n",
        "    taat = {}\n",
        "    t = []\n",
        "    for word, counter in index_tri.items():\n",
        "\n",
        "        if word in q:\n",
        "            \n",
        "            for v in counter:\n",
        "                #heapq.heappush(t, v)\n",
        "                if v[0] in taat:\n",
        "                    taat[v[0]] += v[1]\n",
        "                else:\n",
        "                    taat[v[0]] = v[1]\n",
        "    # print(t)\n",
        "    \n",
        "    return sorted(taat.items(), key=lambda x:x[1], reverse=True)\n",
        "\n",
        "taat(doc, \"new home sales\", True)"
      ]
    },
    {
      "cell_type": "code",
      "execution_count": null,
      "metadata": {},
      "outputs": [
        {
          "data": {
            "text/plain": [
              "[1, 2, 3, 4]"
            ]
          },
          "execution_count": 145,
          "metadata": {},
          "output_type": "execute_result"
        }
      ],
      "source": [
        "t = [1, 2, 3, 4]\n",
        "heapq.heapify(t)\n",
        "t"
      ]
    },
    {
      "cell_type": "code",
      "execution_count": null,
      "metadata": {},
      "outputs": [
        {
          "name": "stdout",
          "output_type": "stream",
          "text": [
            "[(0, 0.9162907318741551)]\n",
            "[(3, 0.9162907318741551)]\n",
            "[(0, 0.9162907318741551)]\n",
            "[(0, 0.9162907318741551)]\n",
            "[(0, 0.0), (1, 0.0), (2, 0.0), (3, 0.0)]\n",
            "[(2, 0.9162907318741551)]\n",
            "[(2, 0.9162907318741551)]\n",
            "[(1, 0.22314355131420976), (2, 0.22314355131420976), (3, 0.22314355131420976)]\n",
            "[(3, 1.0216512475319814), (0, 0.5108256237659907)]\n",
            "[(1, 0.5108256237659907), (3, 0.5108256237659907)]\n",
            "[(0, 0.0), (1, 0.0), (2, 0.0), (3, 0.0)]\n",
            "[(0, 0.9162907318741551)]\n"
          ]
        }
      ],
      "source": [
        "d = create_index_inverse(doc, True)\n",
        "for k, v in d.items():\n",
        "    print(sorted(v.items(), key=lambda x:x[1], reverse=True))\n",
        "    "
      ]
    },
    {
      "cell_type": "raw",
      "metadata": {},
      "source": [
        "from collections import OrderedDict\n",
        "for k, v in d.items():\n",
        "    print(OrderedDict(sorted(v.items(), key=lambda x:x[1])))"
      ]
    },
    {
      "cell_type": "code",
      "execution_count": null,
      "metadata": {},
      "outputs": [
        {
          "data": {
            "text/plain": [
              "{0: Counter({'new': 1,\n",
              "          'home': 1,\n",
              "          'ha': 1,\n",
              "          'been': 1,\n",
              "          'sale': 1,\n",
              "          'top': 1,\n",
              "          'forecast': 1}),\n",
              " 1: Counter({'home': 1, 'sale': 1, 'rise': 1, 'juli': 1}),\n",
              " 2: Counter({'is': 1, 'increas': 1, 'home': 1, 'sale': 1, 'juli': 1}),\n",
              " 3: Counter({'juli': 1,\n",
              "          'encount': 1,\n",
              "          'new': 2,\n",
              "          'home': 1,\n",
              "          'sale': 1,\n",
              "          'rise': 1})}"
            ]
          },
          "execution_count": 146,
          "metadata": {},
          "output_type": "execute_result"
        }
      ],
      "source": [
        "create_index(doc)"
      ]
    },
    {
      "cell_type": "code",
      "execution_count": null,
      "metadata": {},
      "outputs": [],
      "source": [
        "def daat(document, question):\n",
        "    q = question.split(\" \")\n",
        "    index = create_index_inverse(document)\n",
        "    for word in q:\n",
        "        index[word]\n",
        "    pass"
      ]
    },
    {
      "cell_type": "code",
      "execution_count": null,
      "metadata": {},
      "outputs": [],
      "source": [
        "def add_if(ds, heap, k):\n",
        "    \"\"\" heap suppose que les couples doc/score soient comparables\n",
        "    plus simple d'avoir une classe qu'un couple et faire la comparaison\n",
        "    sur le score\n",
        "    \"\"\"\n",
        "    if len(heap) < k:\n",
        "        heap.push(heap, ds)\n",
        "    elif heap[0][1] < ds.score:\n",
        "        heapq.heapreplace(heap, ds)"
      ]
    },
    {
      "attachments": {},
      "cell_type": "markdown",
      "metadata": {},
      "source": [
        "ID document (interne) <-> ID externe"
      ]
    }
  ],
  "metadata": {},
  "nbformat": 4,
  "nbformat_minor": 2
}
