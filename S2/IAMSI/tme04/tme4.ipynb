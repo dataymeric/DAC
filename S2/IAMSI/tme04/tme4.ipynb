{
 "cells": [
  {
   "cell_type": "code",
   "execution_count": 2,
   "id": "1b0c48ee",
   "metadata": {},
   "outputs": [],
   "source": [
    "from tme4 import *"
   ]
  },
  {
   "cell_type": "code",
   "execution_count": 5,
   "id": "67bb8582",
   "metadata": {},
   "outputs": [
    {
     "name": "stdout",
     "output_type": "stream",
     "text": [
      "timeout atteint...\n",
      "timeout atteint...\n",
      "timeout atteint...\n",
      "timeout atteint...\n"
     ]
    },
    {
     "data": {
      "text/plain": [
       "14"
      ]
     },
     "execution_count": 5,
     "metadata": {},
     "output_type": "execute_result"
    }
   ],
   "source": [
    "optimisation(8, 10, 20)"
   ]
  },
  {
   "cell_type": "code",
   "execution_count": 4,
   "id": "e714b5e1",
   "metadata": {},
   "outputs": [
    {
     "name": "stdout",
     "output_type": "stream",
     "text": [
      "timeout atteint...\n",
      "timeout atteint...\n",
      "timeout atteint...\n",
      "timeout atteint...\n",
      "timeout atteint...\n",
      "timeout atteint...\n",
      "timeout atteint...\n",
      "timeout atteint...\n",
      "timeout atteint...\n",
      "timeout atteint...\n",
      "timeout atteint...\n",
      "timeout atteint...\n",
      "timeout atteint...\n",
      "timeout atteint...\n",
      "timeout atteint...\n",
      "timeout atteint...\n",
      "timeout atteint...\n",
      "timeout atteint...\n",
      "timeout atteint...\n",
      "timeout atteint...\n"
     ]
    }
   ],
   "source": [
    "optimisation(20, 20, 40)"
   ]
  },
  {
   "cell_type": "code",
   "execution_count": 13,
   "id": "3d5305e8",
   "metadata": {},
   "outputs": [],
   "source": [
    "encoder(8, 14)\n",
    "glucose()"
   ]
  },
  {
   "cell_type": "code",
   "execution_count": null,
   "id": "bd864546",
   "metadata": {},
   "outputs": [],
   "source": []
  }
 ],
 "metadata": {
  "kernelspec": {
   "display_name": "Python 3",
   "language": "python",
   "name": "python3"
  },
  "language_info": {
   "codemirror_mode": {
    "name": "ipython",
    "version": 3
   },
   "file_extension": ".py",
   "mimetype": "text/x-python",
   "name": "python",
   "nbconvert_exporter": "python",
   "pygments_lexer": "ipython3",
   "version": "3.11.2"
  },
  "vscode": {
   "interpreter": {
    "hash": "e7370f93d1d0cde622a1f8e1c04877d8463912d04d973331ad4851f04de6915a"
   }
  }
 },
 "nbformat": 4,
 "nbformat_minor": 5
}
