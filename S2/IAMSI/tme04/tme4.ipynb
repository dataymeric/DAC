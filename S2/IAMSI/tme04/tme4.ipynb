{
  "cells": [
    {
      "cell_type": "code",
      "execution_count": null,
      "id": "1b0c48ee",
      "metadata": {},
      "outputs": [],
      "source": [
        "from tme4 import *"
      ]
    },
    {
      "cell_type": "code",
      "execution_count": null,
      "id": "67bb8582",
      "metadata": {},
      "outputs": [
        {
          "name": "stdout",
          "output_type": "stream",
          "text": [
            "timeout atteint...\n",
            "timeout atteint...\n",
            "timeout atteint...\n",
            "timeout atteint...\n"
          ]
        },
        {
          "data": {
            "text/plain": [
              "14"
            ]
          },
          "execution_count": 5,
          "metadata": {},
          "output_type": "execute_result"
        }
      ],
      "source": [
        "optimisation(8, 10, 20)"
      ]
    },
    {
      "cell_type": "code",
      "execution_count": null,
      "id": "e714b5e1",
      "metadata": {},
      "outputs": [
        {
          "name": "stdout",
          "output_type": "stream",
          "text": [
            "timeout atteint...\n",
            "timeout atteint...\n",
            "timeout atteint...\n",
            "timeout atteint...\n",
            "timeout atteint...\n",
            "timeout atteint...\n",
            "timeout atteint...\n",
            "timeout atteint...\n",
            "timeout atteint...\n",
            "timeout atteint...\n",
            "timeout atteint...\n",
            "timeout atteint...\n",
            "timeout atteint...\n",
            "timeout atteint...\n",
            "timeout atteint...\n",
            "timeout atteint...\n",
            "timeout atteint...\n",
            "timeout atteint...\n",
            "timeout atteint...\n",
            "timeout atteint...\n"
          ]
        }
      ],
      "source": [
        "optimisation(20, 20, 40)"
      ]
    },
    {
      "cell_type": "code",
      "execution_count": null,
      "id": "3d5305e8",
      "metadata": {},
      "outputs": [],
      "source": [
        "encoder(8, 14)\n",
        "glucose()"
      ]
    },
    {
      "cell_type": "code",
      "execution_count": null,
      "id": "bd864546",
      "metadata": {},
      "outputs": [],
      "source": []
    }
  ],
  "metadata": {},
  "nbformat": 4,
  "nbformat_minor": 5
}
