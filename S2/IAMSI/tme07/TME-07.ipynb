{
 "cells": [
  {
   "attachments": {},
   "cell_type": "markdown",
   "metadata": {},
   "source": [
    "## IAMSI -- 2022-2023\n",
    "\n",
    "# TME 07: Règles d'association\n"
   ]
  },
  {
   "attachments": {},
   "cell_type": "markdown",
   "metadata": {},
   "source": [
    "<font color=\"RED\" size=\"+1\">**[Q]**</font> **Indiquer dans la boîte ci-dessous vos noms et prénoms**\n"
   ]
  },
  {
   "attachments": {},
   "cell_type": "markdown",
   "metadata": {},
   "source": [
    "_Double-cliquer ici et insérer les noms et prénoms de votre binôme_\n"
   ]
  },
  {
   "attachments": {},
   "cell_type": "markdown",
   "metadata": {},
   "source": [
    "## Présentation\n"
   ]
  },
  {
   "attachments": {},
   "cell_type": "markdown",
   "metadata": {},
   "source": [
    "### But de ce TME\n",
    "\n",
    "Ce TME a pour but de réaliser une implémentation _intuitive_ de l'algorithme **apriori** afin de la comparer à une version efficace de cet algorithme, puis à une implémentation de l'algorithme **fp-growth**.\n"
   ]
  },
  {
   "attachments": {},
   "cell_type": "markdown",
   "metadata": {},
   "source": [
    "#### Contenu de l'archive téléchargée\n",
    "\n",
    "Une fois détarée, l'archive **tme-07.tgz** crée le répertoire `tme07` contenant :\n",
    "\n",
    "- un répertoire `dataset` contenant des bases d'exemples pour tester les algorithmes\n",
    "- deux fichiers exécutables (Linux): `apriori32` et `fpgrowth32` (ces 2 programmes ont été développés par Christian Borgelt, plus d'infos sur sa page web https://www.borgelt.net/software.html). Ces programmes seront utilisés en fin de séance. Si vous n'êtes pas sous Linux, vous pouvez trouver une version pour votre OS ici:\n",
    "  - `apriori` : https://borgelt.net/apriori.html\n",
    "  - `fpgrowth` : https://borgelt.net/fpgrowth.html\n"
   ]
  },
  {
   "attachments": {},
   "cell_type": "markdown",
   "metadata": {},
   "source": [
    "#### Compte-rendu de la séance\n",
    "\n",
    "Le compte-rendu de ce TME se compose de ce notebook complété par les réponses aux questions posées.\n",
    "\n",
    "Ce compte-rendu est à poster :\n",
    "\n",
    "- à l'issue de la séance, un premier envoi doit être **obligatoirement** fait avec ce que vous avez réalisé\n",
    "- si nécessaire, un complément peut être envoyé **au plus tard avant le début de la prochaine séance**.\n"
   ]
  },
  {
   "attachments": {},
   "cell_type": "markdown",
   "metadata": {},
   "source": [
    "<font color=\"RED\">IMPORTANT: soumission de votre fichier final</font>\n",
    "\n",
    "**Nom à donner au fichier à poster** : _Nom1_Nom2.ipynb_\n",
    "\n",
    "- _Nom1_ et _Nom2_ : noms des membres du binôme\n",
    "- ne pas compresser ou faire une archive : envoyer le notebook tel quel, éventuellement, si vous avez d'autres fichiers à envoyer, les joindre au message.\n"
   ]
  },
  {
   "cell_type": "code",
   "execution_count": 1,
   "metadata": {
    "collapsed": true
   },
   "outputs": [
    {
     "data": {
      "text/plain": [
       "['/home/aymeric/Documents/DAC/S2/IAMSI/tme07',\n",
       " '/home/aymeric/.pyenv/versions/3.10.10/lib/python310.zip',\n",
       " '/home/aymeric/.pyenv/versions/3.10.10/lib/python3.10',\n",
       " '/home/aymeric/.pyenv/versions/3.10.10/lib/python3.10/lib-dynload',\n",
       " '',\n",
       " '/home/aymeric/.pyenv/versions/3.10.10/lib/python3.10/site-packages']"
      ]
     },
     "execution_count": 1,
     "metadata": {},
     "output_type": "execute_result"
    }
   ],
   "source": [
    "# Vérification de la version de Python utilisée:\n",
    "import sys\n",
    "\n",
    "sys.path  # le path doit contenir python3.5 ou une version supérieure\n"
   ]
  },
  {
   "cell_type": "code",
   "execution_count": 2,
   "metadata": {},
   "outputs": [],
   "source": [
    "from pprint import pprint\n"
   ]
  },
  {
   "attachments": {},
   "cell_type": "markdown",
   "metadata": {},
   "source": [
    "## Traitement d'une base d'apprentissage\n",
    "\n",
    "### Chargement de la base\n",
    "\n",
    "On commence par travailler sur la base exemple du fichier `exemple-1.txt` (fourni dans le répertoire datasets).\n",
    "\n",
    "Ce fichier contient une transaction par ligne. Chaque transaction est composée d'un groupe d'items séparés par un espace.\n",
    "\n",
    "On peut charger en Python ce fichier par la commande suivante (le répertoire datasets doit se trouver dans le répertoire courant) :\n"
   ]
  },
  {
   "cell_type": "code",
   "execution_count": 3,
   "metadata": {
    "scrolled": true
   },
   "outputs": [
    {
     "name": "stdout",
     "output_type": "stream",
     "text": [
      "ligne 1 : ['a', 'b', 'c'] {'c', 'a', 'b'}\n",
      "ligne 2 : ['a', 'd', 'e'] {'d', 'e', 'a'}\n",
      "ligne 3 : ['b', 'c', 'd'] {'c', 'd', 'b'}\n",
      "ligne 4 : ['a', 'b', 'c', 'd'] {'c', 'd', 'a', 'b'}\n",
      "ligne 5 : ['b', 'c'] {'c', 'b'}\n",
      "ligne 6 : ['a', 'b', 'd'] {'d', 'a', 'b'}\n",
      "ligne 7 : ['d', 'e'] {'d', 'e'}\n",
      "ligne 8 : ['a', 'b', 'c', 'd'] {'c', 'd', 'a', 'b'}\n",
      "ligne 9 : ['c', 'd', 'e'] {'c', 'd', 'e'}\n",
      "ligne 10 : ['a', 'b', 'c'] {'c', 'a', 'b'}\n"
     ]
    }
   ],
   "source": [
    "import csv\n",
    "\n",
    "with open(\"datasets/exemple-1.txt\", \"r\") as fichier:\n",
    "    lecteur = csv.reader(fichier, delimiter=\" \")\n",
    "    i = 0\n",
    "    for ligne in lecteur:\n",
    "        i += 1\n",
    "        print(\"ligne\", i, \":\", ligne, set(ligne))\n"
   ]
  },
  {
   "attachments": {},
   "cell_type": "markdown",
   "metadata": {},
   "source": [
    "<font color=\"RED\" size=\"+1\">**[Q]**</font> Ecrire la fonction `chargeBase` qui prend en argument un nom de fichier, respectant le format énoncé plus haut, le lit et rend un dictionnaire dont les clés sont les numéros de ligne (une transaction) et les valeurs associées les itemsets correspondants représentés sous forme d'ensembles Python (des `set()` donc).\n",
    "\n",
    "Ici, il est plus intéressant de représenter un itemset comme un ensemble Python plutôt que comme une liste. Il est ainsi plus facile de réaliser des comparaisons d'ensembles ou des ajouts d'éléments.\n",
    "\n",
    "Dans le reste de ce document, on appelle **BASE** un dictionnaire de ce type.\n"
   ]
  },
  {
   "cell_type": "code",
   "execution_count": 4,
   "metadata": {},
   "outputs": [],
   "source": [
    "def chargeBase(filepath, delimiteur=\" \"):\n",
    "    \"\"\"Renvoie les itemsets contenus dans un fichier texte.\n",
    "\n",
    "    Parameters\n",
    "    ----------\n",
    "    filename : str\n",
    "        Chemin vers le fichier.\n",
    "    delimiteur : str, default=\" \"\n",
    "        Le caractère utilisé pour séparer les données.\n",
    "\n",
    "    Returns\n",
    "    -------\n",
    "    base : dict of set\n",
    "        Ensemble des transactions.\n",
    "        Clé : numéro de la transaction (numéro de la ligne).\n",
    "        Valeur : itemset correspondant.\n",
    "    \"\"\"\n",
    "    import csv\n",
    "\n",
    "    base = {}\n",
    "    with open(filepath, \"r\") as fichier:\n",
    "        lecteur = csv.reader(fichier, delimiter=delimiteur)\n",
    "        for row, ligne in enumerate(lecteur):\n",
    "            base[row] = set(ligne)\n",
    "    return base\n"
   ]
  },
  {
   "cell_type": "code",
   "execution_count": 5,
   "metadata": {},
   "outputs": [
    {
     "name": "stdout",
     "output_type": "stream",
     "text": [
      "Résultat du chargement de 'exemple-1.txt', on obtient : \n"
     ]
    },
    {
     "data": {
      "text/plain": [
       "{0: {'a', 'b', 'c'},\n",
       " 1: {'a', 'd', 'e'},\n",
       " 2: {'b', 'c', 'd'},\n",
       " 3: {'a', 'b', 'c', 'd'},\n",
       " 4: {'b', 'c'},\n",
       " 5: {'a', 'b', 'd'},\n",
       " 6: {'d', 'e'},\n",
       " 7: {'a', 'b', 'c', 'd'},\n",
       " 8: {'c', 'd', 'e'},\n",
       " 9: {'a', 'b', 'c'}}"
      ]
     },
     "execution_count": 5,
     "metadata": {},
     "output_type": "execute_result"
    }
   ],
   "source": [
    "print(\"Résultat du chargement de 'exemple-1.txt', on obtient : \")\n",
    "Base1 = chargeBase(\"datasets/exemple-1.txt\")\n",
    "Base1\n"
   ]
  },
  {
   "attachments": {},
   "cell_type": "markdown",
   "metadata": {},
   "source": [
    "On utilise la variable **Base1** dans la suite pour faire référence à cette base.\n"
   ]
  },
  {
   "attachments": {},
   "cell_type": "markdown",
   "metadata": {},
   "source": [
    "## Itemsets et support\n"
   ]
  },
  {
   "attachments": {},
   "cell_type": "markdown",
   "metadata": {},
   "source": [
    "<font color=\"RED\" size=\"+1\">**[Q]**</font> Ecrire la fonction `noms_items` qui prend en argument une BASE et rend l'ensemble des items qui composent cette base.\n"
   ]
  },
  {
   "cell_type": "code",
   "execution_count": 6,
   "metadata": {},
   "outputs": [],
   "source": [
    "def noms_items(base):\n",
    "    \"\"\"Renvoie l'ensemble des items composant une base.\n",
    "\n",
    "    Parameters\n",
    "    ----------\n",
    "    base : dict of set\n",
    "        Ensemble des transactions.\n",
    "\n",
    "    Returns\n",
    "    -------\n",
    "    set\n",
    "        Items uniques de la base.\n",
    "    \"\"\"\n",
    "    return set().union(*base.values())\n"
   ]
  },
  {
   "cell_type": "code",
   "execution_count": 7,
   "metadata": {},
   "outputs": [
    {
     "name": "stdout",
     "output_type": "stream",
     "text": [
      "Pour la BASE précédente :\n"
     ]
    },
    {
     "data": {
      "text/plain": [
       "{'a', 'b', 'c', 'd', 'e'}"
      ]
     },
     "execution_count": 7,
     "metadata": {},
     "output_type": "execute_result"
    }
   ],
   "source": [
    "print(\"Pour la BASE précédente :\")\n",
    "noms_items(Base1)\n"
   ]
  },
  {
   "attachments": {},
   "cell_type": "markdown",
   "metadata": {},
   "source": [
    "<font color=\"RED\" size=\"+1\">**[Q]**</font> Ecrire la fonction `singletons` qui prend en argument une BASE et rend la liste des itemsets de taille 1 obtenus à partir de cette base.\n",
    "\n",
    "_Remarque_ : attention, ici on utilise une **liste** pour stocker les itemsets (un itemset est un ensemble Python) car il n'est pas possible en Python de créer des ensembles d'ensembles.\n"
   ]
  },
  {
   "cell_type": "code",
   "execution_count": 8,
   "metadata": {},
   "outputs": [],
   "source": [
    "def singletons(base):\n",
    "    \"\"\"Rend la liste des itemsets de taille 1 d'une base.\n",
    "\n",
    "    Parameters\n",
    "    ----------\n",
    "    base : dict of set\n",
    "        Ensemble des transactions.\n",
    "\n",
    "    Returns\n",
    "    -------\n",
    "    list of set\n",
    "        Liste des singletons de la base.\n",
    "    \"\"\"\n",
    "    return [{singleton} for singleton in noms_items(base)]\n"
   ]
  },
  {
   "cell_type": "code",
   "execution_count": 9,
   "metadata": {},
   "outputs": [
    {
     "name": "stdout",
     "output_type": "stream",
     "text": [
      "Exemple: singletons(Base1) rend :\n"
     ]
    },
    {
     "data": {
      "text/plain": [
       "[{'b'}, {'d'}, {'e'}, {'c'}, {'a'}]"
      ]
     },
     "execution_count": 9,
     "metadata": {},
     "output_type": "execute_result"
    }
   ],
   "source": [
    "print(\"Exemple: singletons(Base1) rend :\")\n",
    "singletons(Base1)\n"
   ]
  },
  {
   "attachments": {},
   "cell_type": "markdown",
   "metadata": {},
   "source": [
    "<font color=\"RED\" size=\"+1\">**[Q]**</font> Ecrire la fonction `comptage` qui, pour une BASE et un itemset donnés, rend le nombre de transactions de BASE qui contiennent cet itemset.\n"
   ]
  },
  {
   "cell_type": "code",
   "execution_count": 10,
   "metadata": {},
   "outputs": [],
   "source": [
    "def comptage(base, itemset):\n",
    "    \"\"\"Renvoie le nombre de transactions contenant un itemset dans une base.\n",
    "\n",
    "    Parameters\n",
    "    ----------\n",
    "    base : dict of set\n",
    "        Ensemble des transactionss.\n",
    "    itemset : set\n",
    "        Itemset.\n",
    "\n",
    "    Returns\n",
    "    -------\n",
    "    int\n",
    "        Nombre de transactions contenant l'itemset donné.\n",
    "    \"\"\"\n",
    "    return sum([itemset.issubset(transaction) for transaction in base.values()])\n"
   ]
  },
  {
   "cell_type": "code",
   "execution_count": 11,
   "metadata": {},
   "outputs": [
    {
     "name": "stdout",
     "output_type": "stream",
     "text": [
      "Comptage de l'itemset {'a','b','c'} dans la base précédente : \n",
      "comptage(Base1, {'a','b','c'}) rend la valeur 4.\n",
      "comptage(Base1, {'a'}) rend la valeur 6.\n"
     ]
    }
   ],
   "source": [
    "print(\"Comptage de l'itemset {'a','b','c'} dans la base précédente : \")\n",
    "print(\"comptage(Base1, {'a','b','c'}) rend la valeur %s.\" % comptage(Base1, {\"a\", \"b\", \"c\"}))\n",
    "print(\"comptage(Base1, {'a'}) rend la valeur %s.\" % comptage(Base1, {\"a\"}))\n"
   ]
  },
  {
   "attachments": {},
   "cell_type": "markdown",
   "metadata": {},
   "source": [
    "<font color=\"RED\" size=\"+1\">**[Q]**</font> Ecrire la fonction `support` qui, pour une BASE et un itemset donné, rend le support de cet itemset dans la BASE.\n"
   ]
  },
  {
   "cell_type": "code",
   "execution_count": 12,
   "metadata": {},
   "outputs": [],
   "source": [
    "comptage(Base1, {\"a\", \"b\", \"c\"})\n",
    "\n",
    "\n",
    "def support(base, itemset):\n",
    "    \"\"\"Calcule le support d'un itemset d'une base.\n",
    "\n",
    "    .. math:: \\text{support} = \\frac {n_{\\text{itemset}}} {n}\n",
    "\n",
    "    Parameters\n",
    "    ----------\n",
    "    base : dict of set\n",
    "        Ensemble des itemsets.\n",
    "    itemset : set\n",
    "        Itemset.\n",
    "\n",
    "    Returns\n",
    "    -------\n",
    "    float\n",
    "        Support de l'itemset donné.\n",
    "    \"\"\"\n",
    "    return comptage(base, itemset) / len(base)\n"
   ]
  },
  {
   "cell_type": "code",
   "execution_count": 13,
   "metadata": {},
   "outputs": [
    {
     "name": "stdout",
     "output_type": "stream",
     "text": [
      "Support de l'itemset {'a','b','c'} dans la base précédente : 0.4\n",
      "Support de l'itemset {'a'} dans la base précédente : 0.6\n"
     ]
    }
   ],
   "source": [
    "print(\"Support de l'itemset {'a','b','c'} dans la base précédente : \" + str(support(Base1, {\"a\", \"b\", \"c\"})))\n",
    "print(\"Support de l'itemset {'a'} dans la base précédente : \" + str(support(Base1, {\"a\"})))\n"
   ]
  },
  {
   "attachments": {},
   "cell_type": "markdown",
   "metadata": {},
   "source": [
    "## Implémentation de l'algorithme a-priori\n",
    "\n",
    "Dans cette partie, une implémentation de la partie de construction des itemsets fréquents de l'algorithme a-priori est réalisée. On ne s'intéresse pas dans cette question à la génération des règles d'association (mais cela peut être fait en complément).\n",
    "\n",
    "Votre programme doit pouvoir s'appliquer aux bases fournies dans le répertoire _datasets_ (éventuellement, sur au moins les 10 premiers exemples de la base mushrooms).\n"
   ]
  },
  {
   "attachments": {},
   "cell_type": "markdown",
   "metadata": {},
   "source": [
    "<font color=\"RED\" size=\"+1\">**[Q]**</font> Ecrire la fonction `apriori_gen` qui prend en argument une liste d'itemsets de même longueur $k$, applique l'algorithme apriori-gen pour rendre la liste des itemsets candidats de longueurs $k+1$.\n",
    "\n",
    "*Rappel de l'algorithme* :\n",
    "\n",
    "<font style=\"font-variant: small-caps\">Apriori-Gen</font>($F$)<br>\n",
    "Entrée : $F$ ensemble d’itemsets fréquents de longueur $k$<br>\n",
    "$C \\leftarrow \\{c = f_1 ∪ f_2 \\in F \\times F$ tels que $|c| = k + 1\\}$<br>\n",
    "pour chaque $c \\in C$ faire<br>\n",
    "&emsp; pour chaque $i \\in c$ faire<br>\n",
    "&emsp;&emsp;si $c \\setminus \\{i\\} \\in F$ alors<br>\n",
    "&emsp;&emsp;&emsp;$C \\leftarrow C \\setminus \\{c\\}$<br>\n",
    "retourner $C$<br>"
   ]
  },
  {
   "cell_type": "code",
   "execution_count": 14,
   "metadata": {},
   "outputs": [
    {
     "name": "stdout",
     "output_type": "stream",
     "text": [
      "3.89 µs ± 147 ns per loop (mean ± std. dev. of 7 runs, 100,000 loops each)\n",
      "5.35 µs ± 191 ns per loop (mean ± std. dev. of 7 runs, 100,000 loops each)\n"
     ]
    }
   ],
   "source": [
    "def apriori_gen(itemsets):\n",
    "    \"\"\"Variante avec deux boucles.\"\"\"\n",
    "    C = []\n",
    "    k = len(itemsets[0])\n",
    "    for f1 in itemsets:\n",
    "        for f2 in itemsets:\n",
    "            c = f1.union(f2)\n",
    "            if len(c) == k + 1 and c not in C:\n",
    "                C.append(c)\n",
    "    for c in C[:]:\n",
    "        for i in c:\n",
    "            if c.difference({i}) not in itemsets and c in C:\n",
    "                C.remove(c)\n",
    "    return C\n",
    "    \n",
    "%timeit apriori_gen([{\"a\"}, {\"b\"}, {\"c\"}, {\"d\"}])\n",
    "%timeit apriori_gen([{\"a\", \"b\"}, {\"a\", \"d\"}, {\"b\", \"d\"}, {\"b\", \"c\"}, {\"c\", \"d\"}])"
   ]
  },
  {
   "cell_type": "code",
   "execution_count": 15,
   "metadata": {},
   "outputs": [
    {
     "name": "stdout",
     "output_type": "stream",
     "text": [
      "2.69 µs ± 55.3 ns per loop (mean ± std. dev. of 7 runs, 100,000 loops each)\n",
      "3.66 µs ± 238 ns per loop (mean ± std. dev. of 7 runs, 100,000 loops each)\n"
     ]
    }
   ],
   "source": [
    "from itertools import combinations\n",
    "\n",
    "def apriori_gen(itemsets):\n",
    "    \"\"\"Applique l'algorithme apriori-gen pour rendre la liste des itemsets candidats\n",
    "    à partir d'une liste d'itemsets.\n",
    "\n",
    "    Parameters\n",
    "    ----------\n",
    "    itemsets : list\n",
    "        Liste d'itemsets de même longueur k.\n",
    "\n",
    "    Returns\n",
    "    -------\n",
    "    list\n",
    "        Liste des itemsets candidats de longueurs k+1.\n",
    "    \"\"\"\n",
    "    C = []\n",
    "    k = len(itemsets[0])\n",
    "    for f1, f2 in combinations(itemsets, 2):\n",
    "        c = f1.union(f2)\n",
    "        if len(c) == k + 1 and c not in C:\n",
    "            C.append(c)\n",
    "    for c in C[:]:\n",
    "        for i in c:\n",
    "            if c.difference({i}) not in itemsets and c in C:\n",
    "                C.remove(c)\n",
    "    return C\n",
    "    \n",
    "%timeit apriori_gen([{\"a\"}, {\"b\"}, {\"c\"}, {\"d\"}])\n",
    "%timeit apriori_gen([{\"a\", \"b\"}, {\"a\", \"d\"}, {\"b\", \"d\"}, {\"b\", \"c\"}, {\"c\", \"d\"}])"
   ]
  },
  {
   "cell_type": "code",
   "execution_count": 16,
   "metadata": {},
   "outputs": [
    {
     "name": "stdout",
     "output_type": "stream",
     "text": [
      "Exemple: apriori_gen([{'a'}, {'b'}, {'c'}, {'d'}]) rend \n",
      "[{'a', 'b'}, {'c', 'a'}, {'d', 'a'}, {'c', 'b'}, {'d', 'b'}, {'c', 'd'}]\n",
      "-------------------------------------------------------------------------------\n",
      "Exemple: apriori_gen([{'a','b'},{'a','d'},{'b','d'},{'b','c'},{'c','d'}]) rend \n",
      "[{'d', 'a', 'b'}, {'c', 'd', 'b'}]\n"
     ]
    }
   ],
   "source": [
    "print(\"Exemple: apriori_gen([{'a'}, {'b'}, {'c'}, {'d'}]) rend \")\n",
    "print(apriori_gen([{\"a\"}, {\"b\"}, {\"c\"}, {\"d\"}]))\n",
    "print(\"-------------------------------------------------------------------------------\")\n",
    "print(\"Exemple: apriori_gen([{'a','b'},{'a','d'},{'b','d'},{'b','c'},{'c','d'}]) rend \")\n",
    "print(apriori_gen([{\"a\", \"b\"}, {\"a\", \"d\"}, {\"b\", \"d\"}, {\"b\", \"c\"}, {\"c\", \"d\"}]))\n"
   ]
  },
  {
   "attachments": {},
   "cell_type": "markdown",
   "metadata": {},
   "source": [
    "<font color=\"RED\" size=\"+1\">**[Q]**</font> Ecrire la fonction `apriori` qui prend en argument une BASE et une valeur réelle comprise entre 0 et 1, et qui rend une liste de tuples dont le premier élément et un itemset trouvé et le deuxième élément est la valeur de support correspondante.\n"
   ]
  },
  {
   "cell_type": "code",
   "execution_count": 17,
   "metadata": {},
   "outputs": [
    {
     "name": "stdout",
     "output_type": "stream",
     "text": [
      "28.5 µs ± 160 ns per loop (mean ± std. dev. of 7 runs, 10,000 loops each)\n"
     ]
    }
   ],
   "source": [
    "def apriori(base, minsup):\n",
    "    \"\"\"Renvoie la liste des itemsets trouvés par apriori.\n",
    "\n",
    "    Parameters\n",
    "    ----------\n",
    "    base : dict of set\n",
    "        Ensemble des transactions.\n",
    "    minsup : float\n",
    "        Seuil minimal pour le support.\n",
    "\n",
    "    Returns\n",
    "    -------\n",
    "    list of tuple of (set, float)\n",
    "        (itemset, support)\n",
    "    \"\"\"\n",
    "    C = [singletons(base)]\n",
    "    F = []\n",
    "    k = 0\n",
    "    while len(C[k]) > 0:\n",
    "        Fk = []\n",
    "        for c in C[k]:\n",
    "            s = support(base, c)\n",
    "            if s >= minsup:\n",
    "                Fk.append(c)\n",
    "                F.append((c, s))\n",
    "        gen = apriori_gen(Fk)\n",
    "        C.append(gen)\n",
    "        k += 1\n",
    "    return F\n",
    "\n",
    "\n",
    "%timeit apriori(Base1, 0.3)\n"
   ]
  },
  {
   "cell_type": "code",
   "execution_count": 18,
   "metadata": {},
   "outputs": [
    {
     "name": "stdout",
     "output_type": "stream",
     "text": [
      "Exemple: apriori(Base1, 0.3) rend \n",
      "[({'b'}, 0.7),\n",
      " ({'d'}, 0.7),\n",
      " ({'e'}, 0.3),\n",
      " ({'c'}, 0.7),\n",
      " ({'a'}, 0.6),\n",
      " ({'d', 'b'}, 0.4),\n",
      " ({'c', 'b'}, 0.6),\n",
      " ({'a', 'b'}, 0.5),\n",
      " ({'d', 'e'}, 0.3),\n",
      " ({'c', 'd'}, 0.4),\n",
      " ({'d', 'a'}, 0.4),\n",
      " ({'c', 'a'}, 0.4),\n",
      " ({'c', 'd', 'b'}, 0.3),\n",
      " ({'d', 'a', 'b'}, 0.3),\n",
      " ({'c', 'a', 'b'}, 0.4)]\n"
     ]
    }
   ],
   "source": [
    "print(\"Exemple: apriori(Base1, 0.3) rend \")\n",
    "pprint(apriori(Base1, 0.3))\n"
   ]
  },
  {
   "attachments": {},
   "cell_type": "markdown",
   "metadata": {},
   "source": [
    "## Expérimentations\n"
   ]
  },
  {
   "attachments": {},
   "cell_type": "markdown",
   "metadata": {},
   "source": [
    "### Vérification avec la base du TD\n",
    "\n",
    "Utiliser la fonction `apriori` avec la base de transactions du TD afin de vérifier que les itemsets obtenus sont corrects.\n"
   ]
  },
  {
   "cell_type": "code",
   "execution_count": 19,
   "metadata": {},
   "outputs": [
    {
     "name": "stdout",
     "output_type": "stream",
     "text": [
      "{0: {'d', 'e', 'a', 'b'},\n",
      " 1: {'c', 'd', 'b'},\n",
      " 2: {'d', 'e', 'a', 'b'},\n",
      " 3: {'c', 'd', 'e', 'a'},\n",
      " 4: {'c', 'd', 'e', 'b'},\n",
      " 5: {'d', 'e', 'b'},\n",
      " 6: {'c', 'd'},\n",
      " 7: {'c', 'a', 'b'},\n",
      " 8: {'d', 'e', 'a'},\n",
      " 9: {'d', 'b'}}\n",
      "Singletons : [{'b'}, {'d'}, {'e'}, {'c'}, {'a'}]\n"
     ]
    }
   ],
   "source": [
    "BaseTD = chargeBase(\"datasets/td.txt\")\n",
    "pprint(BaseTD)\n",
    "print(\"Singletons :\", singletons(BaseTD))\n"
   ]
  },
  {
   "cell_type": "code",
   "execution_count": 20,
   "metadata": {},
   "outputs": [
    {
     "name": "stdout",
     "output_type": "stream",
     "text": [
      "Exemple : apriori(BaseTD, 0.3) rend :\n",
      "[({'b'}, 0.7),\n",
      " ({'d'}, 0.9),\n",
      " ({'e'}, 0.6),\n",
      " ({'c'}, 0.5),\n",
      " ({'a'}, 0.5),\n",
      " ({'d', 'b'}, 0.6),\n",
      " ({'e', 'b'}, 0.4),\n",
      " ({'c', 'b'}, 0.3),\n",
      " ({'a', 'b'}, 0.3),\n",
      " ({'d', 'e'}, 0.6),\n",
      " ({'c', 'd'}, 0.4),\n",
      " ({'d', 'a'}, 0.4),\n",
      " ({'e', 'a'}, 0.4),\n",
      " ({'d', 'e', 'b'}, 0.4),\n",
      " ({'d', 'e', 'a'}, 0.4)]\n"
     ]
    }
   ],
   "source": [
    "print(\"Exemple : apriori(BaseTD, 0.3) rend :\")\n",
    "pprint(apriori(BaseTD, 0.3))\n"
   ]
  },
  {
   "attachments": {},
   "cell_type": "markdown",
   "metadata": {},
   "source": [
    "### Comparaisons avec les implémentations apriori et fpgrowth\n"
   ]
  },
  {
   "attachments": {},
   "cell_type": "markdown",
   "metadata": {},
   "source": [
    "<font color=\"RED\" size=\"+1\">**[Q]**</font> Tester votre fonction `apriori` sur les 3 bases données dans datasets et confronter les résultats obtenus avec ceux fournis par l'exécutable `apriori`.\n"
   ]
  },
  {
   "cell_type": "code",
   "execution_count": 21,
   "metadata": {},
   "outputs": [
    {
     "name": "stdout",
     "output_type": "stream",
     "text": [
      "Résultat du chargement de 'mushrooms.txt', on obtient : \n",
      "8416  transactions.\n"
     ]
    }
   ],
   "source": [
    "print(\"Résultat du chargement de 'mushrooms.txt', on obtient : \")\n",
    "Base_mushrooms = chargeBase(\"datasets/mushrooms.txt\", delimiteur=\",\")\n",
    "# Base_mushrooms\n",
    "print(len(Base_mushrooms), \" transactions.\")\n"
   ]
  },
  {
   "cell_type": "code",
   "execution_count": 22,
   "metadata": {
    "scrolled": false
   },
   "outputs": [
    {
     "name": "stdout",
     "output_type": "stream",
     "text": [
      "Pour la BASE précédente :\n",
      "{'GRASSES', 'ONE', 'KNOBBED', 'FIBROUS', 'SCATTERED', 'FOUL', 'BULBOUS', 'CLOSE', 'SUNKEN', 'PINK', 'NO', 'FREE', 'CREOSOTE', 'BLACK', 'URBAN', 'CINNAMON', '?', 'BELL', 'NUMEROUS', 'FISHY', 'ANISE', 'NONE', 'SILKY', 'TAPERING', 'MUSTY', 'CHOCOLATE', 'GRAY', 'SMOOTH', 'GREEN', 'PARTIAL', 'ATTACHED', 'TWO', 'WOODS', 'FLAT', 'FLARING', 'YELLOW', 'CLUB', 'BRUISES', 'PUNGENT', 'PATHS', 'EVANESCENT', 'POISONOUS', 'SPICY', 'SCALY', 'CLUSTERED', 'BUFF', 'SEVERAL', 'PURPLE', 'ALMOND', 'CROWDED', 'GROOVES', 'MEADOWS', 'LEAVES', 'SOLITARY', 'EDIBLE', 'ENLARGING', 'RED', 'NARROW', 'PENDANT', 'BROWN', 'ABUNDANT', 'WASTE', 'CONVEX', 'BROAD', 'ROOTED', 'LARGE', 'CONICAL', 'ORANGE', 'EQUAL', 'WHITE'}\n",
      "Exemple: singletons(Base_mushrooms) rend :\n",
      "[{'GRASSES'}, {'ONE'}, {'KNOBBED'}, {'FIBROUS'}, {'SCATTERED'}, {'FOUL'}, {'BULBOUS'}, {'CLOSE'}, {'SUNKEN'}, {'PINK'}, {'NO'}, {'FREE'}, {'CREOSOTE'}, {'BLACK'}, {'URBAN'}, {'CINNAMON'}, {'?'}, {'BELL'}, {'NUMEROUS'}, {'FISHY'}, {'ANISE'}, {'NONE'}, {'SILKY'}, {'TAPERING'}, {'MUSTY'}, {'CHOCOLATE'}, {'GRAY'}, {'SMOOTH'}, {'GREEN'}, {'PARTIAL'}, {'ATTACHED'}, {'TWO'}, {'WOODS'}, {'FLAT'}, {'FLARING'}, {'YELLOW'}, {'CLUB'}, {'BRUISES'}, {'PUNGENT'}, {'PATHS'}, {'EVANESCENT'}, {'POISONOUS'}, {'SPICY'}, {'SCALY'}, {'CLUSTERED'}, {'BUFF'}, {'SEVERAL'}, {'PURPLE'}, {'ALMOND'}, {'CROWDED'}, {'GROOVES'}, {'MEADOWS'}, {'LEAVES'}, {'SOLITARY'}, {'EDIBLE'}, {'ENLARGING'}, {'RED'}, {'NARROW'}, {'PENDANT'}, {'BROWN'}, {'ABUNDANT'}, {'WASTE'}, {'CONVEX'}, {'BROAD'}, {'ROOTED'}, {'LARGE'}, {'CONICAL'}, {'ORANGE'}, {'EQUAL'}, {'WHITE'}]\n",
      "Nombre de singletons : 70\n"
     ]
    }
   ],
   "source": [
    "print(\"Pour la BASE précédente :\")\n",
    "print(noms_items(Base_mushrooms))\n",
    "print(\"Exemple: singletons(Base_mushrooms) rend :\")\n",
    "print(singletons(Base_mushrooms))\n",
    "print(\"Nombre de singletons :\", len(singletons(Base_mushrooms)))\n"
   ]
  },
  {
   "cell_type": "code",
   "execution_count": 23,
   "metadata": {},
   "outputs": [
    {
     "name": "stdout",
     "output_type": "stream",
     "text": [
      "[({'ONE'}, 0.9230038022813688),\n",
      " ({'FREE'}, 0.9743346007604563),\n",
      " ({'PARTIAL'}, 1.0),\n",
      " ({'WHITE'}, 0.9771863117870723),\n",
      " ({'ONE', 'FREE'}, 0.9001901140684411),\n",
      " ({'ONE', 'PARTIAL'}, 0.9230038022813688),\n",
      " ({'ONE', 'WHITE'}, 0.9001901140684411),\n",
      " ({'FREE', 'PARTIAL'}, 0.9743346007604563),\n",
      " ({'FREE', 'WHITE'}, 0.9743346007604563),\n",
      " ({'PARTIAL', 'WHITE'}, 0.9771863117870723),\n",
      " ({'ONE', 'FREE', 'PARTIAL'}, 0.9001901140684411),\n",
      " ({'ONE', 'FREE', 'WHITE'}, 0.9001901140684411),\n",
      " ({'ONE', 'PARTIAL', 'WHITE'}, 0.9001901140684411),\n",
      " ({'FREE', 'PARTIAL', 'WHITE'}, 0.9743346007604563),\n",
      " ({'PARTIAL', 'ONE', 'FREE', 'WHITE'}, 0.9001901140684411)]\n"
     ]
    }
   ],
   "source": [
    "pprint(apriori(Base_mushrooms, 0.9))\n"
   ]
  },
  {
   "cell_type": "code",
   "execution_count": 24,
   "metadata": {},
   "outputs": [
    {
     "name": "stdout",
     "output_type": "stream",
     "text": [
      "Résultat du chargement de 'titanic-red.csv', on obtient : \n",
      "741  transactions.\n"
     ]
    }
   ],
   "source": [
    "print(\"Résultat du chargement de 'titanic-red.csv', on obtient : \")\n",
    "Base_titanic = chargeBase(\"datasets/titanic-red.csv\", delimiteur=\",\")\n",
    "print(len(Base_titanic), \" transactions.\")\n"
   ]
  },
  {
   "cell_type": "code",
   "execution_count": 25,
   "metadata": {},
   "outputs": [
    {
     "name": "stdout",
     "output_type": "stream",
     "text": [
      "Pour la BASE Titanic :\n",
      "Exemple: singletons(Base_titanic) rend :\n"
     ]
    },
    {
     "data": {
      "text/plain": [
       "[{'GuernseyMontclairNJand/orToledoOhio'},\n",
       " {'AuburnNY'},\n",
       " {'BrynMawrPAUSA'},\n",
       " {'NewForestEngland'},\n",
       " {'HaverfordPACooperstownNY'},\n",
       " {'BronxNY'},\n",
       " {'KrakuddenSwedenMouneIL'},\n",
       " {'ProvoUT'},\n",
       " {'AberdeenPortlandOR'},\n",
       " {'NewBritainCT'},\n",
       " {'BromsgroveEnglandMontrealPQ'},\n",
       " {'RotterdamNetherlands'},\n",
       " {'HaddenfieldNJ'},\n",
       " {'StroodKentEnglandDetroitMI'},\n",
       " {'EnglandSanFranciscoCA'},\n",
       " {'MexicoCityMexico'},\n",
       " {'AscotBerkshireRochesterNY'},\n",
       " {'BirkdaleEnglandClevelandOhio'},\n",
       " {'LondonMiddlesex'},\n",
       " {'BridgeruleDevon'},\n",
       " {'SyriaYoungstownOH'},\n",
       " {'LondonStatenIslandNY'},\n",
       " {'MerrillWI'},\n",
       " {'GuernseyEnglandEdgewoodRI'},\n",
       " {'HelsinkiFinlandAshtabulaOhio'},\n",
       " {'SeattleWA'},\n",
       " {'EnglandOglesbyIL'},\n",
       " {'MontrealPQ'},\n",
       " {'BelgiumMontrealPQ'},\n",
       " {'ForesvikNorwayPortlandND'},\n",
       " {'VancouverBC'},\n",
       " {'IllinoisUSA'},\n",
       " {'Greece'},\n",
       " {'RotherfieldSussexEnglandEssexCoMA'},\n",
       " {'GermantownPhiladelphiaPA'},\n",
       " {'SanFranciscoCA'},\n",
       " {'ParisMontrealPQ'},\n",
       " {'StJamesLongIslandNY'},\n",
       " {'BrooklineMA'},\n",
       " {'JanjgirIndiaPennsylvania'},\n",
       " {'VadsbroSwedenMinisteeMI'},\n",
       " {'CoSligoIrelandHartfordCT'},\n",
       " {'CornwallSpokaneWA'},\n",
       " {'WestonSuperMareSomerset'},\n",
       " {'DagsasSwedenFowerMN'},\n",
       " {'TranvikFinlandNewYork'},\n",
       " {'HessleYorks'},\n",
       " {'GenevaSwitzerlandRadnorPA'},\n",
       " {'LondonWinnipegMB'},\n",
       " {'GallipolisOhioParisNewYork'},\n",
       " {'SouthingtonNoankCT'},\n",
       " {'AughnacliffCoLongfordIrelandNewYorkNY'},\n",
       " {'SkaraSwedenRockfordIL'},\n",
       " {'SydneyAustralia'},\n",
       " {'MontrealPQChestervilleON'},\n",
       " {'NorwayLosAngelesCA'},\n",
       " {'PlymouthDevonDetroitMI'},\n",
       " {'HartfordHuntingdonshire'},\n",
       " {'BulgariaCoonRapidsIA'},\n",
       " {'LondonBirmingham'},\n",
       " {'SittingbourneEnglandSanDiegoCA'},\n",
       " {'ToftaSwedenJolietIL'},\n",
       " {'SwedenWorcesterMA'},\n",
       " {'EastProvidenceRI'},\n",
       " {'EnglandHartfordCT'},\n",
       " {'EnglandPhiladelphiaPA'},\n",
       " {'SpringfieldMA'},\n",
       " {'CatfordKentDetroitMI'},\n",
       " {'FinlandMinneapolisMN'},\n",
       " {'RochesterNY'},\n",
       " {'AmeniaND'},\n",
       " {'PlymouthDorsetHoughtonMI'},\n",
       " {'StLouisMO'},\n",
       " {'BrightonSussex'},\n",
       " {'NewYorkNY'},\n",
       " {'GuernseyElizabethNJ'},\n",
       " {'Queenstown'},\n",
       " {'HuntingtonWV'},\n",
       " {'NewarkNJ'},\n",
       " {'2nd'},\n",
       " {'AlbanyNY'},\n",
       " {'ColumbusOH'},\n",
       " {'StAndrewsGuernsey'},\n",
       " {'GlenRidgeNJ'},\n",
       " {'BelmontMA'},\n",
       " {'StLeonardsonSeaEnglandOhio'},\n",
       " {'YoungstownOH'},\n",
       " {'HornseyEngland'},\n",
       " {'BelfastNI'},\n",
       " {'StAustallCornwall'},\n",
       " {'BrennesNorwayNewYork'},\n",
       " {'BulgariaChicagoIL'},\n",
       " {'sex'},\n",
       " {'SaultStMarieON'},\n",
       " {'HongKongNewYorkNY'},\n",
       " {'BarreCoWashingtonVT'},\n",
       " {'Cherbourg'},\n",
       " {'WestHavenCT'},\n",
       " {'WinnipegMB'},\n",
       " {'KrakorydSwedenBloomingtonIL'},\n",
       " {'1st'},\n",
       " {'LondonEngland'},\n",
       " {'DenmarkHillSurreyChicago'},\n",
       " {'IrelandChicagoIL'},\n",
       " {'KilmacowenCoSligoIrelandNewYorkNY'},\n",
       " {'BristolAvonJacksonvilleFL'},\n",
       " {'StreathamSurrey'},\n",
       " {'Ireland'},\n",
       " {'SyriaOttawaON'},\n",
       " {'PortlandOR'},\n",
       " {'EnglandDetroitMI'},\n",
       " {'RoachdaleIN'},\n",
       " {'DorkingSurreyEngland'},\n",
       " {'BournmouthEngland'},\n",
       " {'NewYorkNYWashingtonDC'},\n",
       " {'DenverCO'},\n",
       " {'WinnipegMN'},\n",
       " {'CambridgeMA'},\n",
       " {'BallydehobCoCorkIrelandNewYorkNY'},\n",
       " {'TokyoJapan'},\n",
       " {'IrelandNewYorkNY'},\n",
       " {'EastOrangeNJ'},\n",
       " {'CoAthloneIrelandNewYorkNY'},\n",
       " {'HaverfordPA'},\n",
       " {'PerkinsCountySD'},\n",
       " {'ParisFranceNewYorkNY'},\n",
       " {'SeattleWAToledoOH'},\n",
       " {'NorwichNewYorkNY'},\n",
       " {'RuotsinphytaaFinlandNewYorkNY'},\n",
       " {'EnglandBrooklynNY'},\n",
       " {'GreenportNY'},\n",
       " {'HarrowEngland'},\n",
       " {'GreenwichCT'},\n",
       " {'AustriaHungary'},\n",
       " {'CalgaryAB'},\n",
       " {'Spain'},\n",
       " {'DevonportEngland'},\n",
       " {'TrentonNJ'},\n",
       " {'MadridSpain'},\n",
       " {'NewYorkNYGreenwichCT'},\n",
       " {'StDenysSouthamptonHants'},\n",
       " {'DorchesterMA'},\n",
       " {'StockholmSwedenWashingtonDC'},\n",
       " {'TuxedoParkNY'},\n",
       " {'BerneSwitzerlandCentralCityIA'},\n",
       " {'embarked'},\n",
       " {'HolleyNY'},\n",
       " {'JacksonvilleFL'},\n",
       " {'AntwerpBelgiumStantonOH'},\n",
       " {'FrankfortKY'},\n",
       " {'CoCorkIrelandRoxburyMA'},\n",
       " {'StantonIA'},\n",
       " {'IlfordEssexWinnipegMB'},\n",
       " {'BridgwaterSomersetEngland'},\n",
       " {'CoLimerickIrelandSherbrookePQ'},\n",
       " {'SwedenJolietIL'},\n",
       " {'SwedenArlingtonNJ'},\n",
       " {'HalesworthEngland'},\n",
       " {'KontiolahtiFinlandDetroitMI'},\n",
       " {'LakeArthurChavezCountyNM'},\n",
       " {'MilfordNH'},\n",
       " {'SyriaNewYorkNY'},\n",
       " {'FinlandSudburyON'},\n",
       " {'LakewoodNJ'},\n",
       " {'LosAngelesCA'},\n",
       " {'LondonChicagoIL'},\n",
       " {'SarniaON'},\n",
       " {'GoteborgSwedenHuntleyIL'},\n",
       " {'GuernseyWilmingtonDE'},\n",
       " {'DowagiacMI'},\n",
       " {'BrooklynNY'},\n",
       " {'SwedenAkeleyMN'},\n",
       " {'CornwallEnglandHoughtonMI'},\n",
       " {'LiverpoolEnglandBedfordOH'},\n",
       " {'DetroitMI'},\n",
       " {'NewYorkNYIthacaNY'},\n",
       " {'RussiaNewYorkNY'},\n",
       " {'IndiaRapidCitySD'},\n",
       " {'SwedenWinnipegMN'},\n",
       " {'SurbitonHillSurrey'},\n",
       " {'LondonNewYorkNY'},\n",
       " {'3rd'},\n",
       " {'MyrenSwedenNewYorkNY'},\n",
       " {'PhiladelphiaPA'},\n",
       " {'BournemouthEnglandNewarkNJ'},\n",
       " {'SomersetBernardsvilleNJ'},\n",
       " {'EnglandNewYorkNY'},\n",
       " {'BristolEnglandClevelandOH'},\n",
       " {'CopenhagenDenmark'},\n",
       " {'KingwilliamstownCoCorkIrelandNewYorkNY'},\n",
       " {'LondonSkantealesNY'},\n",
       " {'BuenosAiresArgentinaNewJerseyNJ'},\n",
       " {'MedeltorpSwedenChicagoIL'},\n",
       " {'IrelandBrooklynNY'},\n",
       " {'dead'},\n",
       " {'PlymouthEngland'},\n",
       " {'WestHampsteadLondonNeepawaMB'},\n",
       " {'WoodfordCountyKY'},\n",
       " {'Glasgow'},\n",
       " {'HartfordCT'},\n",
       " {'BarcelonaSpainHavanaCuba'},\n",
       " {'Austria'},\n",
       " {'TorontoON'},\n",
       " {'ChicagoIL'},\n",
       " {'FolkstoneKentNewYorkNY'},\n",
       " {'AustraliaFingalND'},\n",
       " {'IsleworthEngland'},\n",
       " {'YoevilEnglandCottageGroveOR'},\n",
       " {'Croatia'},\n",
       " {'BroomfieldChelmsfordEngland'},\n",
       " {'ElkinsParkPA'},\n",
       " {'BaselSwitzerland'},\n",
       " {'GreensburgPA'},\n",
       " {'TreherbertCardiffWales'},\n",
       " {'WaukeganChicagoIL'},\n",
       " {'CologneGermany'},\n",
       " {'CapeTownSouthAfricaSeattleWA'},\n",
       " {'LyndhurstEngland'},\n",
       " {'BristolEnglandNewBritainCT'},\n",
       " {'WestKensingtonLondon'},\n",
       " {'AustriaNiagaraFallsNY'},\n",
       " {'ScituateMA'},\n",
       " {'HamiltonON'},\n",
       " {'OttawaON'},\n",
       " {'DevonEnglandWichitaKS'},\n",
       " {'SyriaFredericksburgVA'},\n",
       " {'Russia'},\n",
       " {'WestBromwichEnglandPontiacMI'},\n",
       " {'IndiaPittsburghPA'},\n",
       " {'KingwilliamstownCoCorkIrelandGlensFallsNY'},\n",
       " {'CoClareIrelandWashingtonDC'},\n",
       " {'London'},\n",
       " {'IndianapolisIN'},\n",
       " {'TampicoMT'},\n",
       " {'WalthamstowEngland'},\n",
       " {'SwindonEngland'},\n",
       " {'home.dest'},\n",
       " {'ProvidenceRI'},\n",
       " {'WestcliffonSeaEssex'},\n",
       " {'MontevideoUruguay'},\n",
       " {'EnglandBenningtonVT'},\n",
       " {'female'},\n",
       " {'CornwallHancockMI'},\n",
       " {'MilwaukeeWI'},\n",
       " {'StIvesCornwallCalumetMI'},\n",
       " {'OsloNorwayCameronWI'},\n",
       " {'FondduLacWI'},\n",
       " {'LondonParis'},\n",
       " {'LondonEnglandNorfolkVA'},\n",
       " {'UpperBurmaIndiaPittsburghPA'},\n",
       " {'ClevedonEngland'},\n",
       " {'alive'},\n",
       " {'DeephavenMNCedarRapidsIA'},\n",
       " {'LittleOnnHallStaffs'},\n",
       " {'WarwickEngland'},\n",
       " {'LondonMontrealPQ'},\n",
       " {'EnglandAlbionNY'},\n",
       " {'IsleofWightEngland'},\n",
       " {'ManchesterEngland'},\n",
       " {'NewYorkNYBriarcliffManorNY'},\n",
       " {\"StAnne'sonSeaLancashire\"},\n",
       " {'VictoriaBC'},\n",
       " {'NorthEvingtonEngland'},\n",
       " {'BangkokThailandRosevilleIL'},\n",
       " {'PenzanceCornwallAkronOH'},\n",
       " {'IlfracombeDevon'},\n",
       " {'WorcesterEngland'},\n",
       " {'MoscowBronxNY'},\n",
       " {'MiddleburgHeightsOH'},\n",
       " {'KarbergSwedenJeromeJunctionAZ'},\n",
       " {'CornwallClearCreekCO'},\n",
       " {'WimbledonParkLondonHaylingIslandHants'},\n",
       " {'WashingtonDC'},\n",
       " {'GunturIndiaBentonHarbourMI'},\n",
       " {'LuccaItalyCalifornia'},\n",
       " {'BishopstokeHantsFayetteValleyID'},\n",
       " {'BostonMA'},\n",
       " {'StIvesCornwallHancockMI'},\n",
       " {'Southampton'},\n",
       " {'UnionHillNJ'},\n",
       " {'OskarshamnSwedenMinneapolisMN'},\n",
       " {'HarrisburgPA'},\n",
       " {'male'},\n",
       " {'ParisFrance'},\n",
       " {'BrocktonMA'},\n",
       " {'DenmarkNewYorkNY'},\n",
       " {'MamaroneckNY'},\n",
       " {'EnglandSaltLakeCityUtah'},\n",
       " {'SouthamptonNewYorkNY'},\n",
       " {'Syria'},\n",
       " {'CornwallHoughtonMI'},\n",
       " {'BenningtonVT'},\n",
       " {'StockholmSweden'},\n",
       " {'BuffaloNY'},\n",
       " {'SpainHavanaCuba'},\n",
       " {'CooperstownNY'},\n",
       " {'MinneapolisMN'},\n",
       " {'LiverpoolMontrealPQ'},\n",
       " {'AltdorfSwitzerland'},\n",
       " {'ItalyPhiladelphiaPA'},\n",
       " {'RuotsinphyhtaaFinlandNewYorkNY'},\n",
       " {'KingstonSurrey'},\n",
       " {'CoLongfordIrelandNewYorkNY'},\n",
       " {'MtAiryPhiladelphiaPA'},\n",
       " {'BaysideQueensNY'},\n",
       " {'GoteborgSwedenRockfordIL'},\n",
       " {'LondonBrooklynNY'},\n",
       " {'Paris'},\n",
       " {'Argentina'},\n",
       " {'ElmiraNYOrangeNJ'},\n",
       " {'EnglandSacramentoCA'},\n",
       " {'Portugal'},\n",
       " {'ParisNewYorkNY'},\n",
       " {'IrelandPhiladelphiaPA'},\n",
       " {'LondonEnglandMariettaOhioandMilwaukeeWI'},\n",
       " {'WorcesterMA'},\n",
       " {'SouthseaHants'},\n",
       " {'BournemouthEngland'},\n",
       " {'EffingtonRutSD'},\n",
       " {'SwedenChicagoIL'},\n",
       " {'NewYorkNYStamfordCT'},\n",
       " {'Guernsey'},\n",
       " {'LexingtonMA'},\n",
       " {'EastBridgewaterMA'},\n",
       " {'HalifaxNS'},\n",
       " {'Pennsylvania'},\n",
       " {'CornwallCamdenNJ'},\n",
       " {'England'},\n",
       " {'WestonSuperMareMooseJawSK'},\n",
       " {'ElizabethNJ'},\n",
       " {'WestHobokenNJ'},\n",
       " {'HarrowontheHillMiddlesex'},\n",
       " {'BrunswickME'},\n",
       " {'AsarumSwedenBrooklynNY'},\n",
       " {'OsloNorwayBayonneNJ'},\n",
       " {'StIvesCornwallHoughtonMI'},\n",
       " {'LondonFortByronNY'},\n",
       " {'NorrlotSwedenChicagoIL'},\n",
       " {'BergenNorway'},\n",
       " {'pclass'},\n",
       " {'LowerClaptonMiddlesexorErdingtonBirmingham'},\n",
       " {'ParisHaiti'},\n",
       " {'CoCorkIrelandCharlestownMA'},\n",
       " {'DuluthMN'},\n",
       " {'DeerLodgeMT'},\n",
       " {'SaloFinlandAstoriaOR'},\n",
       " {'NiceFrance'},\n",
       " {'BrightonMA'},\n",
       " {'WindsorEnglandNewYorkNY'},\n",
       " {'ChelseaLondon'},\n",
       " {'survived'},\n",
       " {'WiltshireEnglandNiagaraFallsNY'},\n",
       " {'CornwallAkronOH'},\n",
       " {'LondonEastOrangeNJ'},\n",
       " {'BelgiumDetroitMI'},\n",
       " {'PondersendEnglandNewDurhamNJ'},\n",
       " {'TaalintehdasFinlandHobokenNJ'},\n",
       " {'Liverpool'},\n",
       " {'Belfast'},\n",
       " {'GunnislakeEnglandButteMT'},\n",
       " {'LondonVancouverBC'},\n",
       " {'GreenBayWI'},\n",
       " {'Cornwall'},\n",
       " {'PomeroyWA'},\n",
       " {'PetworthSussex'},\n",
       " {'ZurichSwitzerland'},\n",
       " {'OmahaNE'},\n",
       " {'SyriaKentON'},\n",
       " {'HudsonNY'},\n",
       " {'StoughtonMA'},\n",
       " {'FinlandWashingtonDC'},\n",
       " {'GlasgowBangorME'},\n",
       " {'BrynMawrPA'},\n",
       " {'LimaPeru'},\n",
       " {'BathEnglandMassachusetts'},\n",
       " {'StockholmSwedenNewYork'},\n",
       " {'CoSligoIrelandNewYorkNY'},\n",
       " {'AustriaHungaryGermantownPhiladelphiaPA'}]"
      ]
     },
     "execution_count": 25,
     "metadata": {},
     "output_type": "execute_result"
    }
   ],
   "source": [
    "print(\"Pour la BASE Titanic :\")\n",
    "noms_items(Base_titanic)\n",
    "print(\"Exemple: singletons(Base_titanic) rend :\")\n",
    "singletons(Base_titanic)\n"
   ]
  },
  {
   "cell_type": "code",
   "execution_count": 26,
   "metadata": {},
   "outputs": [
    {
     "name": "stdout",
     "output_type": "stream",
     "text": [
      "({'dead', 'male'}, 0.46963562753036436)\n",
      "({'Southampton', 'male'}, 0.46288798920377866)\n",
      "({'dead', 'Southampton'}, 0.41295546558704455)\n",
      "({'dead', 'Southampton', 'male'}, 0.3684210526315789)\n",
      "({'alive', 'female'}, 0.32388663967611336)\n",
      "({'Southampton', '2nd'}, 0.30634278002699056)\n",
      "({'Southampton', 'alive'}, 0.2982456140350877)\n",
      "({'Southampton', 'female'}, 0.2483130904183536)\n",
      "({'1st', 'alive'}, 0.23076923076923078)\n",
      "({'1st', 'male'}, 0.21997300944669365)\n",
      "({'Southampton', '1st'}, 0.20917678812415655)\n",
      "({'2nd', 'male'}, 0.20647773279352227)\n",
      "({'Southampton', 'alive', 'female'}, 0.203778677462888)\n"
     ]
    }
   ],
   "source": [
    "Lres = apriori(Base_titanic, 0.2)\n",
    "\n",
    "# tri sur les valeurs de supports:\n",
    "# print(sorted(Lres, key=lambda data: data[1]))\n",
    "\n",
    "# tri sur la taille des itemsets\n",
    "# print(sorted(Lres, key=lambda data: len(data[0])))\n",
    "\n",
    "for t in sorted(Lres, key=lambda data: data[1], reverse=True):\n",
    "    if len(t[0]) > 1:\n",
    "        print(t)\n"
   ]
  },
  {
   "attachments": {},
   "cell_type": "markdown",
   "metadata": {},
   "source": [
    "<font color=\"RED\" size=\"+1\">**[Q]**</font> Utiliser l'éxécutable `apriori` pour générer des règles d'association (voir les différentes options en annexe) sur les différentes bases de données fournies. Tester différents seuils (support et confiance).\n"
   ]
  },
  {
   "cell_type": "code",
   "execution_count": 27,
   "metadata": {},
   "outputs": [],
   "source": [
    "%%capture\n",
    "!./apriori -trs30 datasets/exemple-1.txt out/exemple-1-trs30.out\n",
    "!./apriori -trc20 datasets/exemple-1.txt out/exemple-1-trc20.out\n",
    "!./apriori -trs90 datasets/mushrooms.txt out/mushrooms-trs90.out\n",
    "!./apriori -trs90c95 datasets/mushrooms.txt out/mushrooms-trs90c95.out\n",
    "!./apriori -trs20m2n2 datasets/titanic-red.csv out/titanic-red-trs20m2n2.out\n",
    "!./apriori -trc99 datasets/titanic-red.csv out/titanic-red-trc99.out"
   ]
  },
  {
   "cell_type": "code",
   "execution_count": 28,
   "metadata": {},
   "outputs": [
    {
     "data": {
      "text/plain": [
       "d <- e (30, 100)\n",
       "b <- a c (40, 100)\n",
       "c <- a b (50, 80)\n",
       "b <- a (60, 83.3333)\n",
       "b <- c (70, 85.7143)\n",
       "c <- b (70, 85.7143)\n"
      ]
     },
     "execution_count": 28,
     "metadata": {},
     "output_type": "execute_result"
    }
   ],
   "source": [
    "from IPython.display import Pretty\n",
    "Pretty(data=\"out/exemple-1-trs30.out\")"
   ]
  },
  {
   "cell_type": "code",
   "execution_count": 29,
   "metadata": {},
   "outputs": [
    {
     "data": {
      "text/plain": [
       "d <- e a (10, 100)\n",
       "a <- e d (30, 33.3333)\n",
       "e <- a d (40, 25)\n",
       "a <- e (30, 33.3333)\n",
       "c <- e d (30, 33.3333)\n",
       "d <- e c (10, 100)\n",
       "e <- d c (40, 25)\n",
       "d <- e (30, 100)\n",
       "e <- d (70, 42.8571)\n",
       "c <- e (30, 33.3333)\n",
       "e <-  (100, 30)\n",
       "b <- a d c (20, 100)\n",
       "c <- a d b (30, 66.6667)\n",
       "d <- a c b (40, 50)\n",
       "a <- d c b (30, 66.6667)\n",
       "c <- a d (40, 50)\n",
       "d <- a c (40, 50)\n",
       "a <- d c (40, 50)\n",
       "b <- a d (40, 75)\n",
       "d <- a b (50, 60)\n",
       "a <- d b (40, 75)\n",
       "d <- a (60, 66.6667)\n",
       "a <- d (70, 57.1429)\n",
       "b <- a c (40, 100)\n",
       "c <- a b (50, 80)\n",
       "a <- c b (60, 66.6667)\n",
       "c <- a (60, 66.6667)\n",
       "a <- c (70, 57.1429)\n",
       "b <- a (60, 83.3333)\n",
       "a <- b (70, 71.4286)\n",
       "a <-  (100, 60)\n",
       "b <- d c (40, 75)\n",
       "c <- d b (40, 75)\n",
       "d <- c b (60, 50)\n",
       "c <- d (70, 57.1429)\n",
       "d <- c (70, 57.1429)\n",
       "b <- d (70, 57.1429)\n",
       "d <- b (70, 57.1429)\n",
       "d <-  (100, 70)\n",
       "b <- c (70, 85.7143)\n",
       "c <- b (70, 85.7143)\n",
       "c <-  (100, 70)\n",
       "b <-  (100, 70)\n"
      ]
     },
     "execution_count": 29,
     "metadata": {},
     "output_type": "execute_result"
    }
   ],
   "source": [
    "Pretty(data=\"out/exemple-1-trc20.out\")"
   ]
  },
  {
   "cell_type": "code",
   "execution_count": 30,
   "metadata": {},
   "outputs": [
    {
     "data": {
      "text/plain": [
       "CLOSE <- ONE FREE WHITE PARTIAL (90.019, 82.7878)\n",
       "CLOSE <- ONE FREE WHITE (90.019, 82.7878)\n",
       "CLOSE <- ONE FREE PARTIAL (90.019, 82.7878)\n",
       "CLOSE <- ONE FREE (90.019, 82.7878)\n",
       "CLOSE <- ONE WHITE PARTIAL (90.019, 82.7878)\n",
       "CLOSE <- ONE WHITE (90.019, 82.7878)\n",
       "CLOSE <- ONE PARTIAL (92.3004, 83.2132)\n",
       "CLOSE <- ONE (92.3004, 83.2132)\n",
       "CLOSE <- FREE WHITE PARTIAL (97.4335, 80.5854)\n",
       "CLOSE <- FREE WHITE (97.4335, 80.5854)\n",
       "CLOSE <- FREE PARTIAL (97.4335, 80.5854)\n",
       "CLOSE <- FREE (97.4335, 80.5854)\n",
       "CLOSE <- WHITE PARTIAL (97.7186, 80.642)\n",
       "CLOSE <- WHITE (97.7186, 80.642)\n",
       "CLOSE <- PARTIAL (100, 81.0837)\n",
       "CLOSE <-  (100, 81.0837)\n",
       "PARTIAL <- ONE FREE WHITE (90.019, 100)\n",
       "WHITE <- ONE FREE PARTIAL (90.019, 100)\n",
       "FREE <- ONE WHITE PARTIAL (90.019, 100)\n",
       "ONE <- FREE WHITE PARTIAL (97.4335, 92.3902)\n",
       "WHITE <- ONE FREE (90.019, 100)\n",
       "FREE <- ONE WHITE (90.019, 100)\n",
       "ONE <- FREE WHITE (97.4335, 92.3902)\n",
       "PARTIAL <- ONE FREE (90.019, 100)\n",
       "FREE <- ONE PARTIAL (92.3004, 97.5283)\n",
       "ONE <- FREE PARTIAL (97.4335, 92.3902)\n",
       "FREE <- ONE (92.3004, 97.5283)\n",
       "ONE <- FREE (97.4335, 92.3902)\n",
       "PARTIAL <- ONE WHITE (90.019, 100)\n",
       "WHITE <- ONE PARTIAL (92.3004, 97.5283)\n",
       "ONE <- WHITE PARTIAL (97.7186, 92.1206)\n",
       "WHITE <- ONE (92.3004, 97.5283)\n",
       "ONE <- WHITE (97.7186, 92.1206)\n",
       "PARTIAL <- ONE (92.3004, 100)\n",
       "ONE <- PARTIAL (100, 92.3004)\n",
       "ONE <-  (100, 92.3004)\n",
       "PARTIAL <- FREE WHITE (97.4335, 100)\n",
       "WHITE <- FREE PARTIAL (97.4335, 100)\n",
       "FREE <- WHITE PARTIAL (97.7186, 99.7082)\n",
       "WHITE <- FREE (97.4335, 100)\n",
       "FREE <- WHITE (97.7186, 99.7082)\n",
       "PARTIAL <- FREE (97.4335, 100)\n",
       "FREE <- PARTIAL (100, 97.4335)\n",
       "FREE <-  (100, 97.4335)\n",
       "PARTIAL <- WHITE (97.7186, 100)\n",
       "WHITE <- PARTIAL (100, 97.7186)\n",
       "WHITE <-  (100, 97.7186)\n",
       "PARTIAL <-  (100, 100)\n"
      ]
     },
     "execution_count": 30,
     "metadata": {},
     "output_type": "execute_result"
    }
   ],
   "source": [
    "Pretty(data=\"out/mushrooms-trs90.out\")"
   ]
  },
  {
   "cell_type": "code",
   "execution_count": 31,
   "metadata": {},
   "outputs": [
    {
     "data": {
      "text/plain": [
       "PARTIAL <- ONE FREE WHITE (90.019, 100)\n",
       "WHITE <- ONE FREE PARTIAL (90.019, 100)\n",
       "FREE <- ONE WHITE PARTIAL (90.019, 100)\n",
       "WHITE <- ONE FREE (90.019, 100)\n",
       "FREE <- ONE WHITE (90.019, 100)\n",
       "PARTIAL <- ONE FREE (90.019, 100)\n",
       "FREE <- ONE PARTIAL (92.3004, 97.5283)\n",
       "FREE <- ONE (92.3004, 97.5283)\n",
       "PARTIAL <- ONE WHITE (90.019, 100)\n",
       "WHITE <- ONE PARTIAL (92.3004, 97.5283)\n",
       "WHITE <- ONE (92.3004, 97.5283)\n",
       "PARTIAL <- ONE (92.3004, 100)\n",
       "PARTIAL <- FREE WHITE (97.4335, 100)\n",
       "WHITE <- FREE PARTIAL (97.4335, 100)\n",
       "FREE <- WHITE PARTIAL (97.7186, 99.7082)\n",
       "WHITE <- FREE (97.4335, 100)\n",
       "FREE <- WHITE (97.7186, 99.7082)\n",
       "PARTIAL <- FREE (97.4335, 100)\n",
       "FREE <- PARTIAL (100, 97.4335)\n",
       "FREE <-  (100, 97.4335)\n",
       "PARTIAL <- WHITE (97.7186, 100)\n",
       "WHITE <- PARTIAL (100, 97.7186)\n",
       "WHITE <-  (100, 97.7186)\n",
       "PARTIAL <-  (100, 100)\n"
      ]
     },
     "execution_count": 31,
     "metadata": {},
     "output_type": "execute_result"
    }
   ],
   "source": [
    "Pretty(data=\"out/mushrooms-trs90c95.out\")"
   ]
  },
  {
   "cell_type": "code",
   "execution_count": 32,
   "metadata": {},
   "outputs": [
    {
     "data": {
      "text/plain": [
       "Southampton <- 2nd (34.8178, 87.9845)\n",
       "alive <- female (38.8664, 83.3333)\n",
       "male <- dead (53.4413, 87.8788)\n"
      ]
     },
     "execution_count": 32,
     "metadata": {},
     "output_type": "execute_result"
    }
   ],
   "source": [
    "Pretty(data=\"out/titanic-red-trs20m2n2.out\")"
   ]
  },
  {
   "cell_type": "code",
   "execution_count": 33,
   "metadata": {},
   "outputs": [
    {
     "data": {
      "text/plain": []
     },
     "execution_count": 33,
     "metadata": {},
     "output_type": "execute_result"
    }
   ],
   "source": [
    "Pretty(data=\"out/titanic-red-trc99.out\")"
   ]
  },
  {
   "attachments": {},
   "cell_type": "markdown",
   "metadata": {},
   "source": [
    "<font color=\"RED\" size=\"+1\">**[Q]**</font> Ajouter les deux mesures d'intérêt vues en TD (lift et RR) et afficher leurs valeurs pour chaque règle trouvée. Ajouter un argument au programme afin de pouvoir sélectionner une de ces mesures pour éliminer les règles inintéressantes.\n"
   ]
  },
  {
   "cell_type": "code",
   "execution_count": 34,
   "metadata": {},
   "outputs": [],
   "source": [
    "%%capture\n",
    "!./apriori -tr -el datasets/td.txt out/td-lift.out\n",
    "!./apriori -tr -ez datasets/td.txt out/td-RR.out"
   ]
  },
  {
   "cell_type": "code",
   "execution_count": 35,
   "metadata": {},
   "outputs": [
    {
     "data": {
      "text/plain": [
       "d <- c a e (10, 100)\n",
       "e <- c a d (10, 100)\n",
       "d <- c e b (10, 100)\n",
       "d <- c e (20, 100)\n",
       "d <- c (50, 80)\n",
       "d <- a e b (20, 100)\n",
       "e <- a b d (20, 100)\n",
       "d <- a e (40, 100)\n",
       "e <- a d (40, 100)\n",
       "e <- a (50, 80)\n",
       "d <- a (50, 80)\n",
       "d <- e b (40, 100)\n",
       "d <- e (60, 100)\n",
       "d <- b (70, 85.7143)\n",
       "d <-  (100, 90)\n"
      ]
     },
     "execution_count": 35,
     "metadata": {},
     "output_type": "execute_result"
    }
   ],
   "source": [
    "Pretty(data=\"out/td-lift.out\")"
   ]
  },
  {
   "cell_type": "code",
   "execution_count": 36,
   "metadata": {},
   "outputs": [
    {
     "data": {
      "text/plain": [
       "d <- c a e (10, 100)\n",
       "e <- c a d (10, 100)\n",
       "d <- c e b (10, 100)\n",
       "d <- c e (20, 100)\n",
       "d <- a e b (20, 100)\n",
       "e <- a b d (20, 100)\n",
       "d <- a e (40, 100)\n",
       "e <- a d (40, 100)\n",
       "e <- a (50, 80)\n",
       "d <- e b (40, 100)\n",
       "d <- e (60, 100)\n"
      ]
     },
     "execution_count": 36,
     "metadata": {},
     "output_type": "execute_result"
    }
   ],
   "source": [
    "Pretty(data=\"out/td-RR.out\")"
   ]
  },
  {
   "attachments": {},
   "cell_type": "markdown",
   "metadata": {},
   "source": [
    "<font color=\"RED\" size=\"+1\">**[Q]**</font> Ajouter les deux mesures d'intérêt suivantes et afficher leurs valeurs\n",
    "pour chaque règle trouvée. Ajouter un argument au programme afin de pouvoir sélectionner une de ces mesures pour éliminer les règles inintéressantes.\n",
    "\n",
    "Par exemple :\n",
    "\n",
    "\\begin{align}\n",
    "\\text{Interest}(X \\longrightarrow Y) & = \\frac{P(X,Y)}{P(X)}P(Y) \\nonumber\\\\\n",
    "\\text{IS}(X \\longrightarrow Y) & = \\frac{P(X,Y)}{\\sqrt{P(X)P(Y)}} \\nonumber\n",
    "\\end{align}\n"
   ]
  },
  {
   "attachments": {},
   "cell_type": "markdown",
   "metadata": {},
   "source": [
    "### Utilisation de fp-growth\n"
   ]
  },
  {
   "attachments": {},
   "cell_type": "markdown",
   "metadata": {},
   "source": [
    "<font color=\"RED\" size=\"+1\">**[Q]**</font> Utiliser `fpgrowth` pour générer des règles d'association sur les différentes\n",
    "bases de données. Comparer avec les résultats obtenus dans la section précédente. En particulier, comparer les temps d'éxecution.\n"
   ]
  },
  {
   "cell_type": "code",
   "execution_count": 37,
   "metadata": {},
   "outputs": [],
   "source": [
    "%%capture\n",
    "!./fpgrowth -trs30 datasets/exemple-1.txt out/exemple-1-trs30.out\n",
    "!./fpgrowth -trs90 datasets/mushrooms.txt out/mushrooms-trs90.out\n",
    "!./fpgrowth -trs20m2n2 datasets/titanic-red.csv out/titanic-red-trs20m2n2.out"
   ]
  },
  {
   "cell_type": "code",
   "execution_count": 38,
   "metadata": {},
   "outputs": [
    {
     "data": {
      "text/plain": [
       "c <- b (70, 85.7143)\n",
       "b <- c (70, 85.7143)\n",
       "c <- a b (50, 80)\n",
       "b <- a c (40, 100)\n",
       "b <- a (60, 83.3333)\n",
       "d <- e (30, 100)\n"
      ]
     },
     "execution_count": 38,
     "metadata": {},
     "output_type": "execute_result"
    }
   ],
   "source": [
    "Pretty(data=\"out/exemple-1-trs30.out\")"
   ]
  },
  {
   "cell_type": "code",
   "execution_count": 39,
   "metadata": {},
   "outputs": [
    {
     "data": {
      "text/plain": [
       "PARTIAL <-  (100, 100)\n",
       "PARTIAL <- WHITE (97.7186, 100)\n",
       "WHITE <- PARTIAL (100, 97.7186)\n",
       "WHITE <-  (100, 97.7186)\n",
       "PARTIAL <- FREE (97.4335, 100)\n",
       "FREE <- PARTIAL (100, 97.4335)\n",
       "PARTIAL <- FREE WHITE (97.4335, 100)\n",
       "WHITE <- FREE PARTIAL (97.4335, 100)\n",
       "FREE <- WHITE PARTIAL (97.7186, 99.7082)\n",
       "WHITE <- FREE (97.4335, 100)\n",
       "FREE <- WHITE (97.7186, 99.7082)\n",
       "FREE <-  (100, 97.4335)\n",
       "PARTIAL <- ONE (92.3004, 100)\n",
       "ONE <- PARTIAL (100, 92.3004)\n",
       "PARTIAL <- ONE WHITE (90.019, 100)\n",
       "WHITE <- ONE PARTIAL (92.3004, 97.5283)\n",
       "ONE <- WHITE PARTIAL (97.7186, 92.1206)\n",
       "WHITE <- ONE (92.3004, 97.5283)\n",
       "ONE <- WHITE (97.7186, 92.1206)\n",
       "PARTIAL <- ONE FREE (90.019, 100)\n",
       "FREE <- ONE PARTIAL (92.3004, 97.5283)\n",
       "ONE <- FREE PARTIAL (97.4335, 92.3902)\n",
       "PARTIAL <- ONE FREE WHITE (90.019, 100)\n",
       "WHITE <- ONE FREE PARTIAL (90.019, 100)\n",
       "FREE <- ONE WHITE PARTIAL (90.019, 100)\n",
       "ONE <- FREE WHITE PARTIAL (97.4335, 92.3902)\n",
       "WHITE <- ONE FREE (90.019, 100)\n",
       "FREE <- ONE WHITE (90.019, 100)\n",
       "ONE <- FREE WHITE (97.4335, 92.3902)\n",
       "FREE <- ONE (92.3004, 97.5283)\n",
       "ONE <- FREE (97.4335, 92.3902)\n",
       "ONE <-  (100, 92.3004)\n",
       "CLOSE <- PARTIAL (100, 81.0837)\n",
       "CLOSE <- WHITE PARTIAL (97.7186, 80.642)\n",
       "CLOSE <- WHITE (97.7186, 80.642)\n",
       "CLOSE <- FREE PARTIAL (97.4335, 80.5854)\n",
       "CLOSE <- FREE WHITE PARTIAL (97.4335, 80.5854)\n",
       "CLOSE <- FREE WHITE (97.4335, 80.5854)\n",
       "CLOSE <- FREE (97.4335, 80.5854)\n",
       "CLOSE <- ONE PARTIAL (92.3004, 83.2132)\n",
       "CLOSE <- ONE WHITE PARTIAL (90.019, 82.7878)\n",
       "CLOSE <- ONE WHITE (90.019, 82.7878)\n",
       "CLOSE <- ONE FREE PARTIAL (90.019, 82.7878)\n",
       "CLOSE <- ONE FREE WHITE PARTIAL (90.019, 82.7878)\n",
       "CLOSE <- ONE FREE WHITE (90.019, 82.7878)\n",
       "CLOSE <- ONE FREE (90.019, 82.7878)\n",
       "CLOSE <- ONE (92.3004, 83.2132)\n",
       "CLOSE <-  (100, 81.0837)\n"
      ]
     },
     "execution_count": 39,
     "metadata": {},
     "output_type": "execute_result"
    }
   ],
   "source": [
    "Pretty(data=\"out/mushrooms-trs90.out\")"
   ]
  },
  {
   "cell_type": "code",
   "execution_count": 40,
   "metadata": {},
   "outputs": [
    {
     "data": {
      "text/plain": [
       "male <- dead (53.4413, 87.8788)\n",
       "alive <- female (38.8664, 83.3333)\n",
       "Southampton <- 2nd (34.8178, 87.9845)\n"
      ]
     },
     "execution_count": 40,
     "metadata": {},
     "output_type": "execute_result"
    }
   ],
   "source": [
    "Pretty(data=\"out//titanic-red-trs20m2n2.out\")"
   ]
  },
  {
   "cell_type": "code",
   "execution_count": 41,
   "metadata": {},
   "outputs": [
    {
     "name": "stdout",
     "output_type": "stream",
     "text": [
      "1.72 ms ± 80.9 µs per loop (mean ± std. dev. of 7 runs, 1,000 loops each)\n",
      "8.3 ms ± 246 µs per loop (mean ± std. dev. of 7 runs, 100 loops each)\n",
      "2.12 ms ± 60.5 µs per loop (mean ± std. dev. of 7 runs, 1,000 loops each)\n"
     ]
    }
   ],
   "source": [
    "%timeit !!./apriori -trs30 datasets/exemple-1.txt out/exemple-1-trs30.out\n",
    "%timeit !!./apriori -trs90 datasets/mushrooms.txt out/mushrooms-trs90.out\n",
    "%timeit !!./apriori -trs20m2n2 datasets/titanic-red.csv out/titanic-red-trs20m2n2.out"
   ]
  },
  {
   "cell_type": "code",
   "execution_count": 42,
   "metadata": {},
   "outputs": [
    {
     "name": "stdout",
     "output_type": "stream",
     "text": [
      "1.7 ms ± 34.8 µs per loop (mean ± std. dev. of 7 runs, 1,000 loops each)\n",
      "7.81 ms ± 227 µs per loop (mean ± std. dev. of 7 runs, 100 loops each)\n",
      "2.03 ms ± 83.3 µs per loop (mean ± std. dev. of 7 runs, 100 loops each)\n"
     ]
    }
   ],
   "source": [
    "%timeit !!./fpgrowth -trs30 datasets/exemple-1.txt out/exemple-1-trs30.out\n",
    "%timeit !!./fpgrowth -trs90 datasets/mushrooms.txt out/mushrooms-trs90.out\n",
    "%timeit !!./fpgrowth -trs20m2n2 datasets/titanic-red.csv out/titanic-red-trs20m2n2.out"
   ]
  },
  {
   "attachments": {},
   "cell_type": "markdown",
   "metadata": {},
   "source": [
    "Petit t-test pour comparer parce que c'est pas très flagrant... :thinking:"
   ]
  },
  {
   "attachments": {},
   "cell_type": "markdown",
   "metadata": {},
   "source": [
    "<font color=\"RED\" size=\"+1\">**[Q]**</font> En essayant différentes valeurs de seuil, tester la génération de règles d'association intéressantes sur les bases de données fournies.\n"
   ]
  },
  {
   "cell_type": "code",
   "execution_count": 43,
   "metadata": {},
   "outputs": [],
   "source": [
    "%%capture\n",
    "!!./fpgrowth -trs90n2c95 -ez datasets/mushrooms.txt out/mushrooms-trs90n2c95.out\n",
    "!!./fpgrowth -trs20m3n3c80 -el datasets/titanic-red.csv out/titanic-red-trs20m3n3c80.out"
   ]
  },
  {
   "cell_type": "code",
   "execution_count": 44,
   "metadata": {},
   "outputs": [
    {
     "data": {
      "text/plain": [
       "PARTIAL <-  (100, 100)\n",
       "PARTIAL <- WHITE (97.7186, 100)\n",
       "PARTIAL <- FREE (97.4335, 100)\n",
       "WHITE <- FREE (97.4335, 100)\n",
       "FREE <- WHITE (97.7186, 99.7082)\n",
       "PARTIAL <- ONE (92.3004, 100)\n"
      ]
     },
     "execution_count": 44,
     "metadata": {},
     "output_type": "execute_result"
    }
   ],
   "source": [
    "Pretty(data=\"out/mushrooms-trs90n2c95.out\")"
   ]
  },
  {
   "cell_type": "code",
   "execution_count": 45,
   "metadata": {},
   "outputs": [
    {
     "data": {
      "text/plain": [
       "male <- dead Southampton (41.2955, 89.2157)\n",
       "alive <- female Southampton (24.8313, 82.0652)\n",
       "Southampton <- 2nd male (20.6478, 88.2353)\n",
       "dead <- 2nd male (20.6478, 83.6601)\n"
      ]
     },
     "execution_count": 45,
     "metadata": {},
     "output_type": "execute_result"
    }
   ],
   "source": [
    "Pretty(data=\"out/titanic-red-trs20m3n3c80.out\")"
   ]
  },
  {
   "attachments": {},
   "cell_type": "markdown",
   "metadata": {},
   "source": [
    "## Annexes : utilisation des exécutables _apriori_ et _fpgrowth_\n",
    "\n",
    "La documentation complète de ces programmes est disponible aux URL suivantes :\n",
    "\n",
    "- pour _apriori_ : https://www.borgelt.net/doc/apriori/apriori.html\n",
    "- pour _fp-growth_ : https://www.borgelt.net/doc/fpgrowth/fpgrowth.html\n",
    "\n",
    "Leur format d'utilisation général est :\n",
    "\n",
    "        ./<programme> [options] infile [outfile]\n",
    "\n",
    "(où <`programme`> est soit _apriori_, soit _fpgrowth_).\n",
    "\n",
    "Les options de base de ces 2 programmes sont :\n",
    "\n",
    "- sans argument : génération des itemsets fréquents (argument `-ts` activé par défaut)\n",
    "- _tr_ : pour obtenir les règles d'associations\n",
    "- _s_ : pour fournir une valeur minimale de support. Le support est ici donné en valeur absolue ($n_{AB}$) et non pas en valeur relative ($\\frac{n_{AB}}{n}$).\n",
    "- _m_ : pour fournir un nombre minimum d'items dans un itemset\n",
    "- _n_ : pour fournir un nombre maximum d'items dans un itemset\n",
    "\n",
    "Par exemple (commandes lancées dans le répertoire père du répertoire _datasets/_) :\n",
    "\n",
    "        ./apriori -trs50m2n5 datasets/exemple-1.txt fichier-resultat.out\n",
    "        ./fpgrowth -trs50m2n5 datasets/mushrooms.txt fichier-resultat.out\n"
   ]
  },
  {
   "cell_type": "code",
   "execution_count": null,
   "metadata": {},
   "outputs": [],
   "source": []
  }
 ],
 "metadata": {
  "kernelspec": {
   "display_name": "Python 3",
   "language": "python",
   "name": "python3"
  },
  "language_info": {
   "codemirror_mode": {
    "name": "ipython",
    "version": 3
   },
   "file_extension": ".py",
   "mimetype": "text/x-python",
   "name": "python",
   "nbconvert_exporter": "python",
   "pygments_lexer": "ipython3",
   "version": "3.10.10"
  }
 },
 "nbformat": 4,
 "nbformat_minor": 1
}
