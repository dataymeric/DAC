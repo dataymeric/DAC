{
  "cells": [
    {
      "cell_type": "markdown",
      "metadata": {},
      "source": [
        "# TP Plans d'exécution \n",
        "Savoir traduire un plan d'exécution en un programme\n"
      ]
    },
    {
      "cell_type": "markdown",
      "metadata": {},
      "source": [
        "## Préparation\n",
        "\n",
        "Définir des tables Joueur, Gain, Rencontre"
      ]
    },
    {
      "cell_type": "code",
      "execution_count": null,
      "metadata": {},
      "outputs": [
        {
          "name": "stdout",
          "output_type": "stream",
          "text": [
            "URL pour les datasets  https://nuage.lip6.fr/s/H3bpyRGgnCq2NR4\n"
          ]
        },
        {
          "data": {
            "text/plain": [
              "['Joueur_data.txt', 'Gain_data.txt', 'Rencontre_data.txt']"
            ]
          },
          "execution_count": 15,
          "metadata": {},
          "output_type": "execute_result"
        }
      ],
      "source": [
        "# !pip install sortedcontainers\n",
        "from sortedcontainers import SortedList\n",
        "\n",
        "import os\n",
        "from urllib import request\n",
        "\n",
        "# URL du dossier PUBLIC_DATASET contenant des fichiers de données pour les TP\n",
        "PUBLIC_DATASET_URL = \"https://nuage.lip6.fr/s/H3bpyRGgnCq2NR4\" \n",
        "PUBLIC_DATASET=PUBLIC_DATASET_URL + \"/download?path=\"\n",
        "print(\"URL pour les datasets \", PUBLIC_DATASET_URL)\n",
        "\n",
        "tennis = PUBLIC_DATASET + \"/tennis/\"\n",
        "temp = \"/temp/\"\n",
        "os.makedirs(temp, exist_ok=True)\n",
        "\n",
        "for file in [\"Joueur_data.txt\", \"Gain_data.txt\", \"Rencontre_data.txt\"]:\n",
        "  if(not(os.path.isfile(temp + file))) :\n",
        "    request.urlretrieve(tennis + file, temp + file) \n",
        "\n",
        "os.listdir(temp)"
      ]
    },
    {
      "cell_type": "code",
      "execution_count": null,
      "metadata": {},
      "outputs": [
        {
          "name": "stdout",
          "output_type": "stream",
          "text": [
            "/temp/Joueur_data.txt a pour schéma : ['NUJOUEUR', 'NOM', 'PRENOM', 'ANNAISS', 'NATIONALITE']\n",
            "/temp/Gain_data.txt a pour schéma : ['NUJOUEUR', 'LIEUTOURNOI', 'ANNEE', 'PRIME', 'NOMSPONSOR']\n",
            "/temp/Rencontre_data.txt a pour schéma : ['NUGAGNANT', 'NUPERDANT', 'LIEUTOURNOI', 'ANNEE']\n"
          ]
        }
      ],
      "source": [
        "import csv\n",
        "import collections\n",
        "\n",
        "def readTable(csv_file) :\n",
        "  reader =  csv.reader(open(csv_file),  delimiter='\\t')\n",
        "  attributes = next(reader, None)\n",
        "  print(csv_file, \"a pour schéma :\", attributes)\n",
        "  tuple_type = collections.namedtuple(\"Tuple\", attributes)\n",
        "  return [tuple_type(*line) for line in reader]\n",
        "\n",
        "Joueur = readTable(temp + \"Joueur_data.txt\")\n",
        "Gain = readTable(temp + \"Gain_data.txt\")\n",
        "Rencontre = readTable(temp + \"Rencontre_data.txt\")"
      ]
    },
    {
      "cell_type": "markdown",
      "metadata": {},
      "source": [
        "#### Table Joueur"
      ]
    },
    {
      "cell_type": "code",
      "execution_count": null,
      "metadata": {},
      "outputs": [
        {
          "name": "stdout",
          "output_type": "stream",
          "text": [
            "Tuple(NUJOUEUR='1', NOM='MARTINEZ', PRENOM='Conchita', ANNAISS='1972', NATIONALITE='Espagne')\n",
            "Tuple(NUJOUEUR='2', NOM='NAVRATILOVA', PRENOM='Martina', ANNAISS='1957', NATIONALITE='Etats-Unis')\n",
            "Tuple(NUJOUEUR='3', NOM='GRAF', PRENOM='Steffi', ANNAISS='1969', NATIONALITE='Allemagne')\n",
            "Tuple(NUJOUEUR='4', NOM='HALARD', PRENOM='Julie', ANNAISS='1970', NATIONALITE='France')\n",
            "Tuple(NUJOUEUR='5', NOM='PIERCE', PRENOM='Mary', ANNAISS='1975', NATIONALITE='France')\n",
            "Tuple(NUJOUEUR='6', NOM='EDBERG', PRENOM='Stephan', ANNAISS='1966', NATIONALITE='Suede')\n",
            "Tuple(NUJOUEUR='7', NOM='LARSSON', PRENOM='Magnus', ANNAISS='1970', NATIONALITE='Suede')\n",
            "Tuple(NUJOUEUR='8', NOM='LECONTE', PRENOM='Henri', ANNAISS='1963', NATIONALITE='France')\n",
            "Tuple(NUJOUEUR='9', NOM='FORGET', PRENOM='Guy', ANNAISS='1965', NATIONALITE='France')\n",
            "Tuple(NUJOUEUR='10', NOM='FLEURIAN', PRENOM='Jean-Philippe', ANNAISS='1965', NATIONALITE='France')\n",
            "Tuple(NUJOUEUR='11', NOM='WILANDER', PRENOM='Mats', ANNAISS='1964', NATIONALITE='Suede')\n",
            "Tuple(NUJOUEUR='12', NOM='CONNORS', PRENOM='Jimmy', ANNAISS='1952', NATIONALITE='Etats-Unis')\n",
            "Tuple(NUJOUEUR='13', NOM='McENROE', PRENOM='John', ANNAISS='1959', NATIONALITE='Etats-Unis')\n",
            "Tuple(NUJOUEUR='14', NOM='SAMPRAS', PRENOM='Pete', ANNAISS='1972', NATIONALITE='Etats-Unis')\n"
          ]
        }
      ],
      "source": [
        "for t in Joueur:\n",
        "  print(t)"
      ]
    },
    {
      "cell_type": "markdown",
      "metadata": {},
      "source": [
        "#### Table Gain"
      ]
    },
    {
      "cell_type": "code",
      "execution_count": null,
      "metadata": {},
      "outputs": [
        {
          "name": "stdout",
          "output_type": "stream",
          "text": [
            "Tuple(NUJOUEUR='14', LIEUTOURNOI='Roland Garros', ANNEE='1992', PRIME='200000', NOMSPONSOR='Peugeot')\n",
            "Tuple(NUJOUEUR='14', LIEUTOURNOI='Roland Garros', ANNEE='1994', PRIME='1800000', NOMSPONSOR='Reebok')\n",
            "Tuple(NUJOUEUR='14', LIEUTOURNOI='Wimbledon', ANNEE='1992', PRIME='700000', NOMSPONSOR='Peugeot')\n",
            "Tuple(NUJOUEUR='14', LIEUTOURNOI='Wimbledon', ANNEE='1993', PRIME='1400000', NOMSPONSOR='Peugeot')\n",
            "Tuple(NUJOUEUR='13', LIEUTOURNOI='Roland Garros', ANNEE='1990', PRIME='1100000', NOMSPONSOR='Kennex')\n",
            "Tuple(NUJOUEUR='13', LIEUTOURNOI='Roland Garros', ANNEE='1992', PRIME='1500000', NOMSPONSOR='Kennex')\n",
            "Tuple(NUJOUEUR='13', LIEUTOURNOI='Wimbledon', ANNEE='1989', PRIME='350000', NOMSPONSOR='Donnay')\n",
            "Tuple(NUJOUEUR='13', LIEUTOURNOI='Wimbledon', ANNEE='1992', PRIME='400000', NOMSPONSOR='Kennex')\n",
            "Tuple(NUJOUEUR='12', LIEUTOURNOI='Roland Garros', ANNEE='1990', PRIME='400000', NOMSPONSOR='Dunlop')\n",
            "Tuple(NUJOUEUR='12', LIEUTOURNOI='Roland Garros', ANNEE='1992', PRIME='200000', NOMSPONSOR='Dunlop')\n",
            "Tuple(NUJOUEUR='12', LIEUTOURNOI='Wimbledon', ANNEE='1989', PRIME='600000', NOMSPONSOR='Dunlop')\n",
            "Tuple(NUJOUEUR='12', LIEUTOURNOI='Flushing Meadow', ANNEE='1989', PRIME='1600000', NOMSPONSOR='Dunlop')\n",
            "Tuple(NUJOUEUR='12', LIEUTOURNOI='Flushing Meadow', ANNEE='1991', PRIME='1800000', NOMSPONSOR='Lacoste')\n",
            "Tuple(NUJOUEUR='11', LIEUTOURNOI='Roland Garros', ANNEE='1990', PRIME='700000', NOMSPONSOR='Kennex')\n",
            "Tuple(NUJOUEUR='11', LIEUTOURNOI='Roland Garros', ANNEE='1992', PRIME='500000', NOMSPONSOR='Kennex')\n",
            "Tuple(NUJOUEUR='11', LIEUTOURNOI='Wimbledon', ANNEE='1989', PRIME='1000000', NOMSPONSOR='Dunlop')\n",
            "Tuple(NUJOUEUR='10', LIEUTOURNOI='Roland Garros', ANNEE='1994', PRIME='600000', NOMSPONSOR='Peugeot')\n",
            "Tuple(NUJOUEUR='10', LIEUTOURNOI='Wimbledon', ANNEE='1993', PRIME='500000', NOMSPONSOR='Peugeot')\n",
            "Tuple(NUJOUEUR='8', LIEUTOURNOI='Roland Garros', ANNEE='1992', PRIME='500000', NOMSPONSOR='Lacoste')\n",
            "Tuple(NUJOUEUR='8', LIEUTOURNOI='Roland Garros', ANNEE='1994', PRIME='1000000', NOMSPONSOR='Reebok')\n",
            "Tuple(NUJOUEUR='8', LIEUTOURNOI='Wimbledon', ANNEE='1989', PRIME='350000', NOMSPONSOR='Peugeot')\n",
            "Tuple(NUJOUEUR='7', LIEUTOURNOI='Roland Garros', ANNEE='1992', PRIME='200000', NOMSPONSOR='Donnay')\n",
            "Tuple(NUJOUEUR='7', LIEUTOURNOI='Wimbledon', ANNEE='1993', PRIME='800000', NOMSPONSOR='Reebok')\n",
            "Tuple(NUJOUEUR='7', LIEUTOURNOI='Flushing Meadow', ANNEE='1991', PRIME='1000000', NOMSPONSOR='Donnay')\n",
            "Tuple(NUJOUEUR='6', LIEUTOURNOI='Roland Garros', ANNEE='1992', PRIME='900000', NOMSPONSOR='Dunlop')\n",
            "Tuple(NUJOUEUR='6', LIEUTOURNOI='Wimbledon', ANNEE='1992', PRIME='1200000', NOMSPONSOR='Dunlop')\n",
            "Tuple(NUJOUEUR='5', LIEUTOURNOI='Wimbledon', ANNEE='1992', PRIME='300000', NOMSPONSOR='Dunlop')\n",
            "Tuple(NUJOUEUR='5', LIEUTOURNOI='Wimbledon', ANNEE='1993', PRIME='350000', NOMSPONSOR='Reebok')\n",
            "Tuple(NUJOUEUR='4', LIEUTOURNOI='Roland Garros', ANNEE='1994', PRIME='400000', NOMSPONSOR='Lacoste')\n",
            "Tuple(NUJOUEUR='4', LIEUTOURNOI='Wimbledon', ANNEE='1992', PRIME='300000', NOMSPONSOR='Lacoste')\n",
            "Tuple(NUJOUEUR='4', LIEUTOURNOI='Wimbledon', ANNEE='1993', PRIME='350000', NOMSPONSOR='Lacoste')\n",
            "Tuple(NUJOUEUR='9', LIEUTOURNOI='Roland Garros', ANNEE='1990', PRIME='400000', NOMSPONSOR='Peugeot')\n",
            "Tuple(NUJOUEUR='9', LIEUTOURNOI='Roland Garros', ANNEE='1992', PRIME='200000', NOMSPONSOR='Peugeot')\n",
            "Tuple(NUJOUEUR='9', LIEUTOURNOI='Roland Garros', ANNEE='1994', PRIME='600000', NOMSPONSOR='Reebok')\n",
            "Tuple(NUJOUEUR='9', LIEUTOURNOI='Wimbledon', ANNEE='1992', PRIME='400000', NOMSPONSOR='Peugeot')\n",
            "Tuple(NUJOUEUR='9', LIEUTOURNOI='Wimbledon', ANNEE='1993', PRIME='500000', NOMSPONSOR='Reebok')\n",
            "Tuple(NUJOUEUR='9', LIEUTOURNOI='Flushing Meadow', ANNEE='1989', PRIME='900000', NOMSPONSOR='Lacoste')\n",
            "Tuple(NUJOUEUR='3', LIEUTOURNOI='Roland Garros', ANNEE='1990', PRIME='500000', NOMSPONSOR='Donnay')\n",
            "Tuple(NUJOUEUR='3', LIEUTOURNOI='Roland Garros', ANNEE='1992', PRIME='550000', NOMSPONSOR='Donnay')\n",
            "Tuple(NUJOUEUR='3', LIEUTOURNOI='Roland Garros', ANNEE='1994', PRIME='400000', NOMSPONSOR='Reebok')\n",
            "Tuple(NUJOUEUR='3', LIEUTOURNOI='Wimbledon', ANNEE='1989', PRIME='750000', NOMSPONSOR='Donnay')\n",
            "Tuple(NUJOUEUR='3', LIEUTOURNOI='Wimbledon', ANNEE='1992', PRIME='850000', NOMSPONSOR='Donnay')\n",
            "Tuple(NUJOUEUR='3', LIEUTOURNOI='Flushing Meadow', ANNEE='1989', PRIME='700000', NOMSPONSOR='Donnay')\n",
            "Tuple(NUJOUEUR='2', LIEUTOURNOI='Roland Garros', ANNEE='1990', PRIME='800000', NOMSPONSOR='Vittel')\n",
            "Tuple(NUJOUEUR='2', LIEUTOURNOI='Roland Garros', ANNEE='1992', PRIME='900000', NOMSPONSOR='Vittel')\n",
            "Tuple(NUJOUEUR='2', LIEUTOURNOI='Roland Garros', ANNEE='1994', PRIME='1200000', NOMSPONSOR='Donnay')\n",
            "Tuple(NUJOUEUR='2', LIEUTOURNOI='Wimbledon', ANNEE='1989', PRIME='400000', NOMSPONSOR='Vittel')\n",
            "Tuple(NUJOUEUR='2', LIEUTOURNOI='Wimbledon', ANNEE='1992', PRIME='500000', NOMSPONSOR='Vittel')\n",
            "Tuple(NUJOUEUR='2', LIEUTOURNOI='Wimbledon', ANNEE='1993', PRIME='600000', NOMSPONSOR='Donnay')\n",
            "Tuple(NUJOUEUR='2', LIEUTOURNOI='Flushing Meadow', ANNEE='1989', PRIME='1000000', NOMSPONSOR='Vittel')\n",
            "Tuple(NUJOUEUR='1', LIEUTOURNOI='Wimbledon', ANNEE='1993', PRIME='900000', NOMSPONSOR='Nike')\n",
            "Tuple(NUJOUEUR='1', LIEUTOURNOI='Roland Garros', ANNEE='1994', PRIME='800000', NOMSPONSOR='Nike')\n"
          ]
        }
      ],
      "source": [
        "for t in Gain:\n",
        "  print(t)"
      ]
    },
    {
      "cell_type": "markdown",
      "metadata": {},
      "source": [
        "#### Table Rencontre"
      ]
    },
    {
      "cell_type": "code",
      "execution_count": null,
      "metadata": {},
      "outputs": [
        {
          "name": "stdout",
          "output_type": "stream",
          "text": [
            "Tuple(NUGAGNANT='13', NUPERDANT='9', LIEUTOURNOI='Roland Garros', ANNEE='1990')\n",
            "Tuple(NUGAGNANT='11', NUPERDANT='12', LIEUTOURNOI='Roland Garros', ANNEE='1990')\n",
            "Tuple(NUGAGNANT='13', NUPERDANT='11', LIEUTOURNOI='Roland Garros', ANNEE='1990')\n",
            "Tuple(NUGAGNANT='2', NUPERDANT='3', LIEUTOURNOI='Roland Garros', ANNEE='1990')\n",
            "Tuple(NUGAGNANT='13', NUPERDANT='12', LIEUTOURNOI='Roland Garros', ANNEE='1992')\n",
            "Tuple(NUGAGNANT='6', NUPERDANT='14', LIEUTOURNOI='Roland Garros', ANNEE='1992')\n",
            "Tuple(NUGAGNANT='11', NUPERDANT='9', LIEUTOURNOI='Roland Garros', ANNEE='1992')\n",
            "Tuple(NUGAGNANT='8', NUPERDANT='7', LIEUTOURNOI='Roland Garros', ANNEE='1992')\n",
            "Tuple(NUGAGNANT='13', NUPERDANT='8', LIEUTOURNOI='Roland Garros', ANNEE='1992')\n",
            "Tuple(NUGAGNANT='6', NUPERDANT='11', LIEUTOURNOI='Roland Garros', ANNEE='1992')\n",
            "Tuple(NUGAGNANT='13', NUPERDANT='6', LIEUTOURNOI='Roland Garros', ANNEE='1992')\n",
            "Tuple(NUGAGNANT='2', NUPERDANT='3', LIEUTOURNOI='Roland Garros', ANNEE='1992')\n",
            "Tuple(NUGAGNANT='14', NUPERDANT='10', LIEUTOURNOI='Roland Garros', ANNEE='1994')\n",
            "Tuple(NUGAGNANT='8', NUPERDANT='9', LIEUTOURNOI='Roland Garros', ANNEE='1994')\n",
            "Tuple(NUGAGNANT='14', NUPERDANT='8', LIEUTOURNOI='Roland Garros', ANNEE='1994')\n",
            "Tuple(NUGAGNANT='2', NUPERDANT='4', LIEUTOURNOI='Roland Garros', ANNEE='1994')\n",
            "Tuple(NUGAGNANT='1', NUPERDANT='3', LIEUTOURNOI='Roland Garros', ANNEE='1994')\n",
            "Tuple(NUGAGNANT='2', NUPERDANT='1', LIEUTOURNOI='Roland Garros', ANNEE='1994')\n",
            "Tuple(NUGAGNANT='11', NUPERDANT='8', LIEUTOURNOI='Wimbledon', ANNEE='1989')\n",
            "Tuple(NUGAGNANT='12', NUPERDANT='13', LIEUTOURNOI='Wimbledon', ANNEE='1989')\n",
            "Tuple(NUGAGNANT='11', NUPERDANT='12', LIEUTOURNOI='Wimbledon', ANNEE='1989')\n",
            "Tuple(NUGAGNANT='3', NUPERDANT='2', LIEUTOURNOI='Wimbledon', ANNEE='1989')\n",
            "Tuple(NUGAGNANT='14', NUPERDANT='13', LIEUTOURNOI='Wimbledon', ANNEE='1992')\n",
            "Tuple(NUGAGNANT='6', NUPERDANT='9', LIEUTOURNOI='Wimbledon', ANNEE='1992')\n",
            "Tuple(NUGAGNANT='6', NUPERDANT='14', LIEUTOURNOI='Wimbledon', ANNEE='1992')\n",
            "Tuple(NUGAGNANT='3', NUPERDANT='5', LIEUTOURNOI='Wimbledon', ANNEE='1992')\n",
            "Tuple(NUGAGNANT='2', NUPERDANT='4', LIEUTOURNOI='Wimbledon', ANNEE='1992')\n",
            "Tuple(NUGAGNANT='3', NUPERDANT='2', LIEUTOURNOI='Wimbledon', ANNEE='1992')\n",
            "Tuple(NUGAGNANT='14', NUPERDANT='10', LIEUTOURNOI='Wimbledon', ANNEE='1993')\n",
            "Tuple(NUGAGNANT='7', NUPERDANT='9', LIEUTOURNOI='Wimbledon', ANNEE='1993')\n",
            "Tuple(NUGAGNANT='14', NUPERDANT='7', LIEUTOURNOI='Wimbledon', ANNEE='1993')\n",
            "Tuple(NUGAGNANT='1', NUPERDANT='5', LIEUTOURNOI='Wimbledon', ANNEE='1993')\n",
            "Tuple(NUGAGNANT='2', NUPERDANT='4', LIEUTOURNOI='Wimbledon', ANNEE='1993')\n",
            "Tuple(NUGAGNANT='1', NUPERDANT='2', LIEUTOURNOI='Wimbledon', ANNEE='1993')\n",
            "Tuple(NUGAGNANT='12', NUPERDANT='9', LIEUTOURNOI='Flushing Meadow', ANNEE='1989')\n",
            "Tuple(NUGAGNANT='2', NUPERDANT='3', LIEUTOURNOI='Flushing Meadow', ANNEE='1989')\n",
            "Tuple(NUGAGNANT='12', NUPERDANT='7', LIEUTOURNOI='Flushing Meadow', ANNEE='1991')\n"
          ]
        }
      ],
      "source": [
        "for t in Rencontre:\n",
        "  print(t)"
      ]
    },
    {
      "cell_type": "markdown",
      "metadata": {},
      "source": [
        "## Requetes"
      ]
    },
    {
      "cell_type": "markdown",
      "metadata": {},
      "source": [
        "#### Requête de jointure par NL\n",
        "\n",
        "SELECT j.nom, g.lieutournoi \n",
        "\n",
        "FROM Joueur j, Gain g\n",
        "\n",
        "WHERE j.nujoueur = g.nujoueur AND j.nationalite = ‘France’ ;\n"
      ]
    },
    {
      "cell_type": "code",
      "execution_count": null,
      "metadata": {},
      "outputs": [
        {
          "name": "stdout",
          "output_type": "stream",
          "text": [
            "Tuple(NOM='HALARD', LIEUTOURNOI='Roland Garros')\n",
            "Tuple(NOM='HALARD', LIEUTOURNOI='Wimbledon')\n",
            "Tuple(NOM='HALARD', LIEUTOURNOI='Wimbledon')\n",
            "Tuple(NOM='PIERCE', LIEUTOURNOI='Wimbledon')\n",
            "Tuple(NOM='PIERCE', LIEUTOURNOI='Wimbledon')\n",
            "Tuple(NOM='LECONTE', LIEUTOURNOI='Roland Garros')\n",
            "Tuple(NOM='LECONTE', LIEUTOURNOI='Roland Garros')\n",
            "Tuple(NOM='LECONTE', LIEUTOURNOI='Wimbledon')\n",
            "Tuple(NOM='FORGET', LIEUTOURNOI='Roland Garros')\n",
            "Tuple(NOM='FORGET', LIEUTOURNOI='Roland Garros')\n",
            "Tuple(NOM='FORGET', LIEUTOURNOI='Roland Garros')\n",
            "Tuple(NOM='FORGET', LIEUTOURNOI='Wimbledon')\n",
            "Tuple(NOM='FORGET', LIEUTOURNOI='Wimbledon')\n",
            "Tuple(NOM='FORGET', LIEUTOURNOI='Flushing Meadow')\n",
            "Tuple(NOM='FLEURIAN', LIEUTOURNOI='Roland Garros')\n",
            "Tuple(NOM='FLEURIAN', LIEUTOURNOI='Wimbledon')\n"
          ]
        }
      ],
      "source": [
        "# schéma du résultat\n",
        "Tuple = collections.namedtuple(\"Tuple\", \"NOM, LIEUTOURNOI\")\n",
        "\n",
        "for j in Joueur:\n",
        "    if(j.NATIONALITE == 'France'):\n",
        "      for g in Gain: \n",
        "          if(j.NUJOUEUR == g.NUJOUEUR):\n",
        "            print(Tuple(j.NOM, g.LIEUTOURNOI))"
      ]
    },
    {
      "cell_type": "markdown",
      "metadata": {},
      "source": [
        "#### Requête 1.a)"
      ]
    },
    {
      "cell_type": "code",
      "execution_count": null,
      "metadata": {},
      "outputs": [
        {
          "name": "stdout",
          "output_type": "stream",
          "text": [
            "Tuple(NUJOUEUR='14', LIEUTOURNOI='Roland Garros', NOM='SAMPRAS', ANNAISS='1972')\n",
            "Tuple(NUJOUEUR='14', LIEUTOURNOI='Roland Garros', NOM='SAMPRAS', ANNAISS='1972')\n",
            "Tuple(NUJOUEUR='14', LIEUTOURNOI='Wimbledon', NOM='SAMPRAS', ANNAISS='1972')\n",
            "Tuple(NUJOUEUR='14', LIEUTOURNOI='Wimbledon', NOM='SAMPRAS', ANNAISS='1972')\n",
            "Tuple(NUJOUEUR='13', LIEUTOURNOI='Roland Garros', NOM='McENROE', ANNAISS='1959')\n",
            "Tuple(NUJOUEUR='13', LIEUTOURNOI='Roland Garros', NOM='McENROE', ANNAISS='1959')\n",
            "Tuple(NUJOUEUR='13', LIEUTOURNOI='Wimbledon', NOM='McENROE', ANNAISS='1959')\n",
            "Tuple(NUJOUEUR='13', LIEUTOURNOI='Wimbledon', NOM='McENROE', ANNAISS='1959')\n",
            "Tuple(NUJOUEUR='12', LIEUTOURNOI='Roland Garros', NOM='CONNORS', ANNAISS='1952')\n",
            "Tuple(NUJOUEUR='12', LIEUTOURNOI='Roland Garros', NOM='CONNORS', ANNAISS='1952')\n",
            "Tuple(NUJOUEUR='12', LIEUTOURNOI='Wimbledon', NOM='CONNORS', ANNAISS='1952')\n",
            "Tuple(NUJOUEUR='12', LIEUTOURNOI='Flushing Meadow', NOM='CONNORS', ANNAISS='1952')\n",
            "Tuple(NUJOUEUR='12', LIEUTOURNOI='Flushing Meadow', NOM='CONNORS', ANNAISS='1952')\n",
            "Tuple(NUJOUEUR='11', LIEUTOURNOI='Roland Garros', NOM='WILANDER', ANNAISS='1964')\n",
            "Tuple(NUJOUEUR='11', LIEUTOURNOI='Roland Garros', NOM='WILANDER', ANNAISS='1964')\n",
            "Tuple(NUJOUEUR='11', LIEUTOURNOI='Wimbledon', NOM='WILANDER', ANNAISS='1964')\n",
            "Tuple(NUJOUEUR='10', LIEUTOURNOI='Roland Garros', NOM='FLEURIAN', ANNAISS='1965')\n",
            "Tuple(NUJOUEUR='10', LIEUTOURNOI='Wimbledon', NOM='FLEURIAN', ANNAISS='1965')\n",
            "Tuple(NUJOUEUR='8', LIEUTOURNOI='Roland Garros', NOM='LECONTE', ANNAISS='1963')\n",
            "Tuple(NUJOUEUR='8', LIEUTOURNOI='Roland Garros', NOM='LECONTE', ANNAISS='1963')\n",
            "Tuple(NUJOUEUR='8', LIEUTOURNOI='Wimbledon', NOM='LECONTE', ANNAISS='1963')\n",
            "Tuple(NUJOUEUR='7', LIEUTOURNOI='Roland Garros', NOM='LARSSON', ANNAISS='1970')\n",
            "Tuple(NUJOUEUR='7', LIEUTOURNOI='Wimbledon', NOM='LARSSON', ANNAISS='1970')\n",
            "Tuple(NUJOUEUR='7', LIEUTOURNOI='Flushing Meadow', NOM='LARSSON', ANNAISS='1970')\n",
            "Tuple(NUJOUEUR='6', LIEUTOURNOI='Roland Garros', NOM='EDBERG', ANNAISS='1966')\n",
            "Tuple(NUJOUEUR='6', LIEUTOURNOI='Wimbledon', NOM='EDBERG', ANNAISS='1966')\n",
            "Tuple(NUJOUEUR='5', LIEUTOURNOI='Wimbledon', NOM='PIERCE', ANNAISS='1975')\n",
            "Tuple(NUJOUEUR='5', LIEUTOURNOI='Wimbledon', NOM='PIERCE', ANNAISS='1975')\n",
            "Tuple(NUJOUEUR='4', LIEUTOURNOI='Roland Garros', NOM='HALARD', ANNAISS='1970')\n",
            "Tuple(NUJOUEUR='4', LIEUTOURNOI='Wimbledon', NOM='HALARD', ANNAISS='1970')\n",
            "Tuple(NUJOUEUR='4', LIEUTOURNOI='Wimbledon', NOM='HALARD', ANNAISS='1970')\n",
            "Tuple(NUJOUEUR='9', LIEUTOURNOI='Roland Garros', NOM='FORGET', ANNAISS='1965')\n",
            "Tuple(NUJOUEUR='9', LIEUTOURNOI='Roland Garros', NOM='FORGET', ANNAISS='1965')\n",
            "Tuple(NUJOUEUR='9', LIEUTOURNOI='Roland Garros', NOM='FORGET', ANNAISS='1965')\n",
            "Tuple(NUJOUEUR='9', LIEUTOURNOI='Wimbledon', NOM='FORGET', ANNAISS='1965')\n",
            "Tuple(NUJOUEUR='9', LIEUTOURNOI='Wimbledon', NOM='FORGET', ANNAISS='1965')\n",
            "Tuple(NUJOUEUR='9', LIEUTOURNOI='Flushing Meadow', NOM='FORGET', ANNAISS='1965')\n",
            "Tuple(NUJOUEUR='3', LIEUTOURNOI='Roland Garros', NOM='GRAF', ANNAISS='1969')\n",
            "Tuple(NUJOUEUR='3', LIEUTOURNOI='Roland Garros', NOM='GRAF', ANNAISS='1969')\n",
            "Tuple(NUJOUEUR='3', LIEUTOURNOI='Roland Garros', NOM='GRAF', ANNAISS='1969')\n",
            "Tuple(NUJOUEUR='3', LIEUTOURNOI='Wimbledon', NOM='GRAF', ANNAISS='1969')\n",
            "Tuple(NUJOUEUR='3', LIEUTOURNOI='Wimbledon', NOM='GRAF', ANNAISS='1969')\n",
            "Tuple(NUJOUEUR='3', LIEUTOURNOI='Flushing Meadow', NOM='GRAF', ANNAISS='1969')\n",
            "Tuple(NUJOUEUR='2', LIEUTOURNOI='Roland Garros', NOM='NAVRATILOVA', ANNAISS='1957')\n",
            "Tuple(NUJOUEUR='2', LIEUTOURNOI='Roland Garros', NOM='NAVRATILOVA', ANNAISS='1957')\n",
            "Tuple(NUJOUEUR='2', LIEUTOURNOI='Roland Garros', NOM='NAVRATILOVA', ANNAISS='1957')\n",
            "Tuple(NUJOUEUR='2', LIEUTOURNOI='Wimbledon', NOM='NAVRATILOVA', ANNAISS='1957')\n",
            "Tuple(NUJOUEUR='2', LIEUTOURNOI='Wimbledon', NOM='NAVRATILOVA', ANNAISS='1957')\n",
            "Tuple(NUJOUEUR='2', LIEUTOURNOI='Wimbledon', NOM='NAVRATILOVA', ANNAISS='1957')\n",
            "Tuple(NUJOUEUR='2', LIEUTOURNOI='Flushing Meadow', NOM='NAVRATILOVA', ANNAISS='1957')\n",
            "Tuple(NUJOUEUR='1', LIEUTOURNOI='Wimbledon', NOM='MARTINEZ', ANNAISS='1972')\n",
            "Tuple(NUJOUEUR='1', LIEUTOURNOI='Roland Garros', NOM='MARTINEZ', ANNAISS='1972')\n"
          ]
        }
      ],
      "source": [
        "# schema du résultat de la requête\n",
        "# resultat = []\n",
        "Tuple = collections.namedtuple(\"Tuple\", \"NUJOUEUR, LIEUTOURNOI, NOM, ANNAISS\")\n",
        "\n",
        "for g in Gain:\n",
        "    for j in Joueur:\n",
        "        if(g.NUJOUEUR == j.NUJOUEUR):\n",
        "          # resultat.append(Tuple(g.NUJOUEUR, g.LIEUTOURNOI, j.NOM, j.ANNAISS))\n",
        "          print(Tuple(g.NUJOUEUR, g.LIEUTOURNOI, j.NOM, j.ANNAISS))\n"
      ]
    },
    {
      "cell_type": "markdown",
      "metadata": {},
      "source": [
        "#### 1 b) Sélection avec intervalle\n",
        "select * from Joueur j where j.annaiss > 1960;"
      ]
    },
    {
      "cell_type": "code",
      "execution_count": null,
      "metadata": {},
      "outputs": [
        {
          "name": "stdout",
          "output_type": "stream",
          "text": [
            "Tuple(NUJOUEUR='1', NOM='MARTINEZ', PRENOM='Conchita', ANNAISS='1972', NATIONALITE='Espagne')\n",
            "Tuple(NUJOUEUR='5', NOM='PIERCE', PRENOM='Mary', ANNAISS='1975', NATIONALITE='France')\n",
            "Tuple(NUJOUEUR='14', NOM='SAMPRAS', PRENOM='Pete', ANNAISS='1972', NATIONALITE='Etats-Unis')\n"
          ]
        }
      ],
      "source": [
        "for j in Joueur:\n",
        "    if(int(j.ANNAISS) > 1971):\n",
        "      print(j)"
      ]
    },
    {
      "cell_type": "markdown",
      "metadata": {},
      "source": [
        "#### 1 c) Sélection avec égalité\n",
        "\n",
        "select * from Joueur j where j.nationalite='France'"
      ]
    },
    {
      "cell_type": "code",
      "execution_count": null,
      "metadata": {},
      "outputs": [
        {
          "name": "stdout",
          "output_type": "stream",
          "text": [
            "Tuple(NUJOUEUR='4', NOM='HALARD', PRENOM='Julie', ANNAISS='1970', NATIONALITE='France')\n",
            "Tuple(NUJOUEUR='5', NOM='PIERCE', PRENOM='Mary', ANNAISS='1975', NATIONALITE='France')\n",
            "Tuple(NUJOUEUR='8', NOM='LECONTE', PRENOM='Henri', ANNAISS='1963', NATIONALITE='France')\n",
            "Tuple(NUJOUEUR='9', NOM='FORGET', PRENOM='Guy', ANNAISS='1965', NATIONALITE='France')\n",
            "Tuple(NUJOUEUR='10', NOM='FLEURIAN', PRENOM='Jean-Philippe', ANNAISS='1965', NATIONALITE='France')\n"
          ]
        }
      ],
      "source": [
        "for j in Joueur:\n",
        "    if(j.NATIONALITE == 'France'):\n",
        "      print(j)"
      ]
    },
    {
      "cell_type": "markdown",
      "metadata": {},
      "source": [
        "#### 1 d) Sélection avec prédicat composé\n",
        "select * from Joueur j \n",
        " \t\t\t\twhere j.annaiss >1960 and j.nationalite='France';\n"
      ]
    },
    {
      "cell_type": "code",
      "execution_count": null,
      "metadata": {},
      "outputs": [
        {
          "name": "stdout",
          "output_type": "stream",
          "text": [
            "Tuple(NUJOUEUR='4', NOM='HALARD', PRENOM='Julie', ANNAISS='1970', NATIONALITE='France')\n",
            "Tuple(NUJOUEUR='5', NOM='PIERCE', PRENOM='Mary', ANNAISS='1975', NATIONALITE='France')\n",
            "Tuple(NUJOUEUR='8', NOM='LECONTE', PRENOM='Henri', ANNAISS='1963', NATIONALITE='France')\n",
            "Tuple(NUJOUEUR='9', NOM='FORGET', PRENOM='Guy', ANNAISS='1965', NATIONALITE='France')\n",
            "Tuple(NUJOUEUR='10', NOM='FLEURIAN', PRENOM='Jean-Philippe', ANNAISS='1965', NATIONALITE='France')\n"
          ]
        }
      ],
      "source": [
        "for j in Joueur:\n",
        "    if(j.NATIONALITE == 'France' and int(j.ANNAISS) > 1960):\n",
        "        print(j)"
      ]
    },
    {
      "cell_type": "markdown",
      "metadata": {},
      "source": [
        "#### 1 e) Projection\n",
        "select nom, prenom from Joueur"
      ]
    },
    {
      "cell_type": "code",
      "execution_count": null,
      "metadata": {},
      "outputs": [
        {
          "name": "stdout",
          "output_type": "stream",
          "text": [
            "Tuple(NOM='MARTINEZ', PRENOM='Conchita')\n",
            "Tuple(NOM='NAVRATILOVA', PRENOM='Martina')\n",
            "Tuple(NOM='GRAF', PRENOM='Steffi')\n",
            "Tuple(NOM='HALARD', PRENOM='Julie')\n",
            "Tuple(NOM='PIERCE', PRENOM='Mary')\n",
            "Tuple(NOM='EDBERG', PRENOM='Stephan')\n",
            "Tuple(NOM='LARSSON', PRENOM='Magnus')\n",
            "Tuple(NOM='LECONTE', PRENOM='Henri')\n",
            "Tuple(NOM='FORGET', PRENOM='Guy')\n",
            "Tuple(NOM='FLEURIAN', PRENOM='Jean-Philippe')\n",
            "Tuple(NOM='WILANDER', PRENOM='Mats')\n",
            "Tuple(NOM='CONNORS', PRENOM='Jimmy')\n",
            "Tuple(NOM='McENROE', PRENOM='John')\n",
            "Tuple(NOM='SAMPRAS', PRENOM='Pete')\n"
          ]
        }
      ],
      "source": [
        "# schema du résultat de la requête\n",
        "Tuple = collections.namedtuple(\"Tuple\", \"NOM, PRENOM\")\n",
        "\n",
        "for j in Joueur:\n",
        "  print(Tuple(j.NOM, j.PRENOM))"
      ]
    },
    {
      "cell_type": "markdown",
      "metadata": {},
      "source": [
        "#### 1 f) Projection sans doubles\n",
        "\n",
        "select distinct nationalite\n",
        "from Joueur;\n"
      ]
    },
    {
      "cell_type": "code",
      "execution_count": null,
      "metadata": {},
      "outputs": [
        {
          "name": "stdout",
          "output_type": "stream",
          "text": [
            "Tuple(NATIONALITE='Espagne')\n",
            "Tuple(NATIONALITE='Etats-Unis')\n",
            "Tuple(NATIONALITE='Allemagne')\n",
            "Tuple(NATIONALITE='France')\n",
            "Tuple(NATIONALITE='Suede')\n"
          ]
        }
      ],
      "source": [
        "# schema du résultat de la requête\n",
        "Tuple = collections.namedtuple(\"Tuple\", \"NATIONALITE\")\n",
        "\n",
        "T={}\n",
        "for j in Joueur:\n",
        "  if(T.get(j.NATIONALITE) == None):\n",
        "    T[j.NATIONALITE] = True  \n",
        "    print(Tuple(j.NATIONALITE))"
      ]
    },
    {
      "cell_type": "markdown",
      "metadata": {},
      "source": [
        "#### 1 g) Tri avec order by\n",
        "\n",
        "select annaiss, nom, prenom\n",
        "from Joueur\n",
        "where nationalite='France'\n",
        "order by annaiss;\n"
      ]
    },
    {
      "cell_type": "code",
      "execution_count": null,
      "metadata": {},
      "outputs": [
        {
          "name": "stdout",
          "output_type": "stream",
          "text": [
            "Tuple(ANNAISS='1963', NOM='LECONTE', PRENOM='Henri') a\n",
            "Tuple(ANNAISS='1965', NOM='FLEURIAN', PRENOM='Jean-Philippe') a\n",
            "Tuple(ANNAISS='1965', NOM='FORGET', PRENOM='Guy') a\n",
            "Tuple(ANNAISS='1970', NOM='HALARD', PRENOM='Julie') a\n",
            "Tuple(ANNAISS='1975', NOM='PIERCE', PRENOM='Mary') a\n"
          ]
        }
      ],
      "source": [
        "from sortedcontainers import SortedList\n",
        "\n",
        "# schema du résultat de la requête\n",
        "Tuple = collections.namedtuple(\"Tuple\", \"ANNAISS, NOM, PRENOM\")\n",
        "\n",
        "resultatTrié = SortedList()\n",
        "# Tri\n",
        "for j in Joueur:\n",
        "  if(j.NATIONALITE == 'France'):\n",
        "    resultatTrié.add(Tuple(j.ANNAISS, j.NOM, j.PRENOM))\n",
        "\n",
        "# Parcourir le résultat trié\n",
        "for t in resultatTrié:\n",
        "  print(t, \"a\") "
      ]
    },
    {
      "cell_type": "markdown",
      "metadata": {},
      "source": [
        "#### 1 h) Jointure par hachage\n",
        "\n",
        "select j.nom, g.annee\n",
        "from Joueur j, Gain g\n",
        "where j.nujoueur = g.nujoueur\n",
        "and j.nationalite = 'Suede'\n",
        "and g.lieutournoi = 'Roland Garros'\n"
      ]
    },
    {
      "cell_type": "code",
      "execution_count": null,
      "metadata": {},
      "outputs": [
        {
          "name": "stdout",
          "output_type": "stream",
          "text": [
            "Tuple(NOM='WILANDER', ANNEE='1990')\n",
            "Tuple(NOM='WILANDER', ANNEE='1992')\n",
            "Tuple(NOM='LARSSON', ANNEE='1992')\n",
            "Tuple(NOM='EDBERG', ANNEE='1992')\n"
          ]
        }
      ],
      "source": [
        "# schema du résultat de la requête\n",
        "Tuple = collections.namedtuple(\"Tuple\", \"NOM, ANNEE\")\n",
        "\n",
        "T={}\n",
        "\n",
        "for j in Joueur:\n",
        "    if(j.NATIONALITE == 'Suede'):\n",
        "      T[j.NUJOUEUR] = j.NOM\n",
        "\n",
        "for g in Gain: \n",
        "    if(g.LIEUTOURNOI == 'Roland Garros'):\n",
        "      if(T.get(g.NUJOUEUR) != None):\n",
        "        print(Tuple(T[g.NUJOUEUR], g.ANNEE))"
      ]
    }
  ],
  "metadata": {},
  "nbformat": 4,
  "nbformat_minor": 0
}
