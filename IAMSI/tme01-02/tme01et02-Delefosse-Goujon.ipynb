{
 "cells": [
  {
   "cell_type": "raw",
   "metadata": {},
   "source": [
    "# import jupyter_black\n",
    "\n",
    "jupyter_black.load(lab=False, line_length=100)"
   ]
  },
  {
   "cell_type": "markdown",
   "metadata": {},
   "source": [
    "IAMSI -- 2022-2023\n",
    "--------\n",
    "*&copy; Equipe pédagogique : Gauvain Bourgne, Jean-Gabriel Ganascia, Marie-Jeanne Lesot, Christophe Marsala, Nicolas Maudet.*"
   ]
  },
  {
   "cell_type": "markdown",
   "metadata": {},
   "source": [
    "# TME 1 et 2 : Jeu à 2 joueurs -  Programmation d'un joueur d'Awélé"
   ]
  },
  {
   "cell_type": "markdown",
   "metadata": {},
   "source": [
    "<font color=\"RED\" size=\"+1\">**[Q]**</font> **Indiquer dans la boîte ci-dessous vos noms et prénoms**"
   ]
  },
  {
   "cell_type": "markdown",
   "metadata": {},
   "source": [
    "DELEFOSSE Aymeric"
   ]
  },
  {
   "cell_type": "markdown",
   "metadata": {},
   "source": [
    "<font color=\"RED\" size=\"+1\">**[Q]**</font> **Renommer ce fichier ipython**\n",
    "\n",
    "Tout en haut de cette page, cliquer sur `tme01et02` et rajouter à la suite de `tme01et02` les noms des membres du binômes séparés par un tiret.\n",
    "\n",
    "Par exemple, pour le binôme Luke Skywalker et Han Solo, le nom de fichier devient : <pre>tme01et02-Skywalker-Solo</pre>\n",
    "\n",
    "Penser à sauvegarder fréquemment le fichier en cours de travail :\n",
    "- soit en cliquant sur l'icône \"disquette\"\n",
    "- soit par la combinaison de touches [Ctrl]-S"
   ]
  },
  {
   "cell_type": "markdown",
   "metadata": {},
   "source": [
    "## Présentation"
   ]
  },
  {
   "cell_type": "markdown",
   "metadata": {},
   "source": [
    "### Objectifs des TME 1 et 2\n",
    "\n",
    "Le travail à réaliser est le suivant : programmer en Python un joueur artificiel d'Awélé. Il peut être utile de commencer par prendre connaissance des règles du jeu fournies en annexe à la fin de cette page.\n",
    "  \n",
    "*A noter* :  Il est autorisé d'écrire des fonctions auxiliaires permettant de simplifier l'écriture\n",
    "  de la fonction répondant à une question. Dans ce cas, ces fonctions doivent être dûment commentées et spécifiées.\n",
    "  "
   ]
  },
  {
   "cell_type": "markdown",
   "metadata": {},
   "source": [
    "#### Compte-rendu des séances de TME 1 et 2\n",
    "\n",
    "Le fichier ipython que vous remplissez ici fait office de compte-rendu pour ces 2 séances de TME.\n",
    "\n",
    "Il y a 2 soumissions à faire **obligatoirement** sur le site Moodle :\n",
    "- 1er compte-rendu : <font color=\"RED\">à l'issue de la première séance</font>, soumettre ce qui a été réalisé lors de la séance.\n",
    "- 2e compte-rendu : <font color=\"RED\">à l'issue de la deuxième séance</font>, soumettre la version finale du travail réalisé durant les 2 séances.\n",
    "\n",
    "Votre compte-rendu a la forme d'un unique fichier ipynb (ce fichier-ci complété, NON ZIPPE).\n"
   ]
  },
  {
   "cell_type": "markdown",
   "metadata": {},
   "source": [
    "### Grille de notation\n",
    "\n",
    "Le barème (indicatif) pour la notation de ce TME est le suivant :\n",
    "- implémentation correcte et effective du minimax : 9 sur 20\n",
    "- implémentation correcte et effective de l'alpha-bêta : 14 sur 20\n",
    "- implémentation d'améliorations ou d'extensions (\"pour aller plus loin...\") : +0 à +3 points\n",
    "- programme commenté : -1 à +1 points\n",
    "- efficacité des fonctions :  -1 à +2 points\n",
    "\n",
    "La note finale ne dépassera pas 20."
   ]
  },
  {
   "cell_type": "markdown",
   "metadata": {},
   "source": [
    "## Apprendre à utiliser IPython Notebook\n",
    "\n",
    "Ce document est dynamique : il est composé de \"boîtes\" qui peuvent être \"compilées\" par la commande \"Run Cells\" du menu \"Cell\" (ou bien en cliquant sur l'icône >| ou par la combinaison des touches [SHIFT][ENTREE]).\n",
    "\n",
    "Il y a **2 types principaux** de boîtes :\n",
    "- les boîtes \"Markdown\" : tout ce qui est tapé dans ces boîtes est du texte qui sera rendu \"joliment\" après avoir été compilé. On peut y écrire des commandes en $\\LaTeX$ pour définir des équations, et il reconnaît certaines balises HTML. En cliquant 2 fois dans une boîte Markdown compilée, on a accès à son contenu et on peut alors le modifier.\n",
    "- les boîtes \"Code\" : dans ces boîtes, on écrit du code Python. La compilation de la boîte produit l'exécution de ce code Python et produit une boîte \"Out\" dans laquelle le résultat de la dernière commande est affiché. On peut y écrire tout code Python valide. Ce type de boîtes se reconnaît par \"In [n]\" inscrit à côté de leur coin haut gauche (\"n\" est un entier).\n",
    "\n",
    "Le type d'une boîte peut être modifié à l'aide du menu en haut de la page (juste au dessus du texte).\n",
    "\n",
    "L'icône \"+\" permet de créer une nouvelle boîte juste en dessous de la boîte active.\n",
    "\n",
    "L'icône avec les ciseaux permet d'effacer la boîte active (attention ! c'est **irréversible !**).\n",
    "\n",
    "Pour en savoir plus :\n",
    "- http://ipython.org/\n",
    "\n",
    "Vous pouvez aussi vous référer à la documentation Python :\n",
    "- https://www.python.org/\n",
    "\n",
    "\n",
    "Dans ce qui suit, les boîtes Markdown commençant par <font color=\"RED\" size=\"+1\">**[Q]**</font> posent des questions auxquelles il faut répondre dans la boîte qui suit directement (éventuellement, en créant des nouvelles boîtes).\n",
    "Certaines des boîtes \"Code\" à remplir sont suivies d'une sortie \"Out[.]:\" qui montre un exemple de résultat attendu."
   ]
  },
  {
   "cell_type": "code",
   "execution_count": null,
   "metadata": {},
   "outputs": [],
   "source": [
    "# exemple de boîte de code :\n",
    "#    --> sélectionner cette boîte (en cliquant à l'intérieur)\n",
    "#    --> effectuer \"Run Cells\" du Menu \"Cell\" (ou bien cliquer sur l'icône >|)\n",
    "\n",
    "print(\"Un essai quelconque :\")\n",
    "2 + 3"
   ]
  },
  {
   "cell_type": "markdown",
   "metadata": {},
   "source": [
    "<font color=\"RED\" size=\"+1\">**[Q]**</font> Dans la boîte \"Code\" suivante, donner les instructions Python pour effectuer le calcul : \n",
    "$$-\\frac{1}{3}\\log_2(\\frac{1}{3})-\\frac{2}{3}\\log_2(\\frac{2}{3})$$\n",
    "\n",
    "Dont la valeur à trouver est :\n",
    "    0.9182958340544896"
   ]
  },
  {
   "cell_type": "code",
   "execution_count": null,
   "metadata": {},
   "outputs": [],
   "source": [
    "import math\n",
    "\n",
    "-1 / 3 * math.log(1 / 3, 2) - 2 / 3 * math.log(2 / 3, 2)"
   ]
  },
  {
   "cell_type": "markdown",
   "metadata": {},
   "source": [
    "**<font style=\"BACKGROUND-COLOR: lightgray\" color='red'> Important</font>** :\n",
    "en lisant ce texte sur votre ordinateur, pensez bien à exécuter les boîtes \"Code\" dans l'ordre de leur apparition. Toute la page se comporte comme une session Python unique et il pour exécuter certaines boîtes il est nécessaire que les précédentes aient été exécutées au préalable."
   ]
  },
  {
   "cell_type": "markdown",
   "metadata": {},
   "source": [
    "Une fonction utile dans la suite est la fonction `input` qui permet de demander à l'entrée d'une valeur saisie au clavier."
   ]
  },
  {
   "cell_type": "code",
   "execution_count": null,
   "metadata": {},
   "outputs": [],
   "source": [
    "# Exemple d'utilisation de input():\n",
    "annee_naiss = input(\"Entrer l'année de naissance : \")\n",
    "print(\"Cela fait donc\", 2023 - int(annee_naiss), \"ans.\")"
   ]
  },
  {
   "cell_type": "markdown",
   "metadata": {},
   "source": [
    "## Programmer un joueur d'Awélé\n",
    "\n",
    "Les règles de ce jeu sont rappelées à la fin de ce notebook."
   ]
  },
  {
   "cell_type": "markdown",
   "metadata": {},
   "source": [
    "### Structure de données"
   ]
  },
  {
   "cell_type": "markdown",
   "metadata": {},
   "source": [
    "Pour représenter une position d'Awélé en Python. Une *position* est définie par les éléments suivants :\n",
    "- une *dimension* qui correspond au nombre de colonnes (dans l'Awélé original, il y a 6 colonnes). On note $n$ ce nombre de colonnes dans la suite de ce texte ;\n",
    "- un *plateau* qui correspond au plateau de jeu et donne le nombre de graines dans chaque case ;\n",
    "- un *nombre* qui correspond au nombre total de graines sur le plateau au début du jeu (dépend du nombre de dimensions et du nombre de graines dans chaque case au départ) ;\n",
    "- le *trait* qui correspond au camp devant jouer dans la position donnée. Il y a\n",
    "  deux camps: \"NORD et \"SUD\" ;\n",
    "- le *gain* qui correspond au nombre de graines déjà ramassées par chacun des joueurs.\n",
    "\n",
    "En Python, on choisit de représenter une telle position sous la forme d'un dictionnaire qui associe à chaque nom de champ sa valeur.\n",
    "\n",
    "        # Représentation Python d'une position du jeu d'Awélé:\n",
    "        position = dict()       # initialisation\n",
    "        position['plateau']     # les cases du jeu (voir ci-dessous)\n",
    "        position['dimension']   # le nombre de colonnes du plateau\n",
    "        position['nb_total']    # nombre de graines total au début du jeu sur tout le plateau\n",
    "        position['trait']       # le joueur qui doit jouer : 'SUD' ou 'NORD'\n",
    "        position['gain']        # les graines prises par chaque joueur sous la forme : {'SUD':0, 'NORD':0}\n"
   ]
  },
  {
   "cell_type": "markdown",
   "metadata": {},
   "source": [
    "Dans ce qui suit, on distingue :\n",
    "- un coup *correct* qui correspond à un numéro de colonne correct (valeur comprise entre 1 et $n$), et pour lequel la case correspondante contient au moins une graine ;\n",
    "- un coup *autorisé* qui est un coup à la fois correct et permettant d'atteindre une position légale du jeu, c'est-à-dire une position qui respecte la règle obligeant à laisser au moins une graine dans le camp de son adversaire."
   ]
  },
  {
   "cell_type": "markdown",
   "metadata": {},
   "source": [
    "### Représentation du plateau de jeu en Python \n",
    "\n",
    "\n",
    "Pour représenter le plateau en Python, on utilise une liste d'entiers, chaque entier correspondant au nombre de graines dans une case. \n",
    "\n",
    "Soit un plateau de jeu de $n$ colonnes.\n",
    "\n",
    "Pour le camp SUD :\n",
    "- le nombre de graines de la case de la colonne 1 est stocké en position $0$ dans la liste Python ;\n",
    "- le nombre de graines de la case de la colonne  2 est stocké en position $1$ dans la liste Python ;\n",
    "- ...\n",
    "- le nombre de graines de la case de la colonne  $n$ est stocké en position $n-1$ dans la liste Python.\n",
    "\n",
    "Pour le camp NORD :\n",
    "- le nombre de graines de la case de la colonne  1 est stocké en position $2n-1$ dans la liste Python ;\n",
    "- le nombre de graines de la case de la colonne  2 est stocké en position $2n-2$ dans la liste Python ;\n",
    "- ...\n",
    "- le nombre de graines de la case de la colonne  $n$ est stocké en position $n$ dans la liste Python.\n",
    "\n",
    "Cette représentation à l'avantage de favoriser le parcours des cases du plateau : en parcourant la liste par positions croissantes, on retrouve le parcours en sens inverse des aiguilles d'une montre. Ce parcours peut alors se faire en Python en incrémentant de 1 la position pour passer à la case suivante, et en réalisant un calcul modulo $2n$."
   ]
  },
  {
   "cell_type": "markdown",
   "metadata": {},
   "source": [
    "### Package IAMSI et fonctions fournies\n",
    "\n",
    "Le package IAMSI fourni avec ce sujet doit être placé dans le même répertoire que ce notebook.\n",
    "Elle contient la librairie de fonctions de nom <i>awele</i> qui fournit plusieurs fonctions que vous pourrez utiliser :\n",
    "- `position_initiale(n, nb_graines)` : qui définit la position initiale du jeu. Les arguments sont des entiers : `n` donne le nombre de colonnes du plateau du jeu, et `nb_graines` donne le nombre de graines à mettre dans chaque case (par défaut, cet argument vaut 4);\n",
    "- `affichage(position)` : affichage de façon textuelle d'une position ;\n",
    "- `duplique(position)` : recopie d'une position en la dupliquant pour pouvoir y apporter des modifications sans altérer la position originale ;\n",
    "- `joue_un_coup(position,coup)` : renvoie la position obtenue une fois le coup joué dans la position donnée. **Important :** cette fonction fait l'hypothèse que le coup donné est un coup correct et elle ne vérifie donc pas que la position résultante est bien une position légale du jeu (cela se fait par ailleurs).\n",
    "\n",
    "\n",
    "*Remarque* : il est nécessaire d'importer la librairie et pour utiliser ces fonctions, il faudra préfixer leur nom par le nom d'importation de a librairie."
   ]
  },
  {
   "cell_type": "code",
   "execution_count": 17,
   "metadata": {},
   "outputs": [],
   "source": [
    "# importation de la librairie awele :\n",
    "# La ligne suivante permet de préciser le chemin d'accès à la librairie awele\n",
    "import sys\n",
    "\n",
    "sys.path.append(\"../\")\n",
    "\n",
    "from IAMSI import awele as aw"
   ]
  },
  {
   "cell_type": "markdown",
   "metadata": {},
   "source": [
    "Les instructions qui suivent permettent de voir comment utiliser les fonctions fournies."
   ]
  },
  {
   "cell_type": "code",
   "execution_count": null,
   "metadata": {},
   "outputs": [],
   "source": [
    "# ------------------------- POUR VOIR COMMENT CA MARCHE :\n",
    "maPosition = aw.position_initiale(6)\n",
    "aw.affichage(maPosition)\n",
    "print(\"Nombre de graines au total : \", maPosition[\"nb_total\"])\n",
    "\n",
    "maPosition2 = aw.joue_un_coup(maPosition, 1)  # SUD joue\n",
    "maPosition2 = aw.joue_un_coup(maPosition2, 1)  # NORD joue\n",
    "maPosition2 = aw.joue_un_coup(maPosition2, 2)  # SUD joue\n",
    "maPosition2 = aw.joue_un_coup(maPosition2, 4)  # NORD joue\n",
    "maPosition2 = aw.joue_un_coup(maPosition2, 3)  # SUD joue\n",
    "maPosition2 = aw.joue_un_coup(maPosition2, 2)  # NORD joue\n",
    "maPosition2 = aw.joue_un_coup(maPosition2, 5)  # SUD joue\n",
    "aw.affichage(maPosition2)\n",
    "print(\"#######################################\\nPartie sur un tablier réduit pour tester:\")\n",
    "maPosition = aw.position_initiale(3, 2)\n",
    "aw.affichage(maPosition)\n",
    "maPosition2 = aw.joue_un_coup(maPosition, 1)  # SUD joue\n",
    "maPosition2 = aw.joue_un_coup(maPosition2, 1)  # NORD joue\n",
    "maPosition2 = aw.joue_un_coup(maPosition2, 3)  # SUD joue\n",
    "maPosition2 = aw.joue_un_coup(maPosition2, 3)  # NORD joue\n",
    "maPosition2 = aw.joue_un_coup(maPosition2, 1)  # SUD joue\n",
    "maPosition2 = aw.joue_un_coup(maPosition2, 1)  # NORD joue\n",
    "aw.affichage(maPosition2)\n",
    "print(\"#######################################\\nEssai de prises:\")\n",
    "maPosition = aw.position_initiale(6)\n",
    "maPosition[\"tablier\"] = [1, 2, 3, 4, 5, 1, 2, 2, 2, 2, 2, 2]\n",
    "aw.affichage(maPosition)\n",
    "maPosition2 = aw.joue_un_coup(maPosition, 5)  # SUD joue\n",
    "aw.affichage(maPosition2)\n",
    "# ------------------------- FIN TEST"
   ]
  },
  {
   "cell_type": "markdown",
   "metadata": {},
   "source": [
    "### Fonctions simples\n",
    "\n",
    "Les fonctions que vous allez écrire dans la suite seront mises directement dans ce notebook (pas dans la librairie)."
   ]
  },
  {
   "cell_type": "markdown",
   "metadata": {},
   "source": [
    "<font color=\"RED\" size=\"+1\">**[Q]**</font> Ecrire les fonctions suivantes :\n",
    "- `est_correct(position, nombre)`: rend le booléen `True` si le nombre donné peut être un coup correct dans la position donnée, c'est-à-dire si ce nombre est un entier compris entre 1\n",
    "  et `n` et si de plus la case correspondante du plateau (pour le camp qui doit donc jouer dans la position) contient au moins une graine.\n",
    "- `est_legale(position)`: rend le booléen `True` si la position donnée est légale, c'est-à-dire si le camp qui doit jouer possède au moins une graine dans son camp.\n",
    "- `effectue_si_valide(position, coup)`: rend la nouvelle position obtenue en jouant `coup`\n",
    "  dans la position donnée. Cette fonction retourne le booléen `False` si le coup\n",
    "  n'est pas correct ou si la position résultante n'est pas une position légale du jeu.\n",
    "- `est_terminale(position)`: rend le booléen `True` si la position est\n",
    "  terminale, c'est-à-dire si aucun coup n'est correct, ou si tout coup correct ne permet\n",
    "  pas d'atteindre une position légale ou bien si l'un des deux joueurs a gagné un nombre de graines suffisant. Dans le jeu Awélé original à 6 colonnes, la position est gagnée dès qu'un camp a remporté 25 graines. Ce qui correspond à $6 \\times 4+1$ graines (*note* : correspond aussi à $(6 \\times 2 \\times 4)\\, / \\, 2 + 1 = (\\text{nombre de graines totales}) \\, / \\, 2 + 1$). Ce nombre de graines nécessaire pour remporter la victoire dépend donc de la taille du plateau de jeu (et du nombre de graines par case).\n"
   ]
  },
  {
   "cell_type": "code",
   "execution_count": 18,
   "metadata": {},
   "outputs": [],
   "source": [
    "def est_correct(position, nombre):\n",
    "    \"\"\"POSITION * NOMBRE -> BOOLEEN\n",
    "    Retourne True si le coup est correct.\n",
    "    \"\"\"\n",
    "    n = position[\"dimension\"]\n",
    "    trait = position[\"trait\"]\n",
    "    if nombre < 1 and nombre > n:\n",
    "        return False\n",
    "    if trait == \"SUD\":\n",
    "        return position[\"plateau\"][nombre - 1] > 0\n",
    "    else:\n",
    "        return position[\"plateau\"][2 * n - nombre] > 0\n",
    "\n",
    "\n",
    "def est_legale(position):\n",
    "    \"\"\"POSITION -> BOOLEEN\n",
    "    Retourne True si la position donnée est légale.\n",
    "    \"\"\"\n",
    "    n = position[\"dimension\"]\n",
    "    trait = position[\"trait\"]\n",
    "    if trait == \"SUD\":\n",
    "        return any(position[\"plateau\"][:n])\n",
    "    else:\n",
    "        return any(position[\"plateau\"][n:])\n",
    "\n",
    "\n",
    "def effectue_si_valide(position, coup):\n",
    "    \"\"\"POSITION * COUP -> POSITION | BOOLEEN\n",
    "    Retourne la nouvelle position si la position est valide ou False sinon.\n",
    "    \"\"\"\n",
    "    if est_correct(position, coup) and est_legale(aw.joue_un_coup(position, coup)):\n",
    "        return aw.joue_un_coup(position, coup)\n",
    "    return False\n",
    "\n",
    "\n",
    "def est_terminale(position):\n",
    "    \"\"\"POSITION -> BOOLEEN\n",
    "    Retourne True si la position est terminale.\n",
    "    \"\"\"\n",
    "    n = position[\"dimension\"]\n",
    "    nb_victoire = position[\"nb_total\"] / 2 + 1\n",
    "    # aucun coup n'est correct si :\n",
    "    # - pour tous les coups possibles, `effectue_si_valide` renvoie False à chaque fois\n",
    "    # - un des deux joueurs a un gain >= dimension * 4 + 1 graines, càd si un joueur a\n",
    "    # nb_graines_total / 2 + 1 graines\n",
    "    gagnant = [gain >= nb_victoire for gain in position[\"gain\"].values()]\n",
    "    coups_possibles = [effectue_si_valide(position, coup) is False for coup in range(1, n + 1)]\n",
    "    return all(coups_possibles) or any(gagnant)"
   ]
  },
  {
   "cell_type": "markdown",
   "metadata": {},
   "source": [
    "### Moteur de jeu simple"
   ]
  },
  {
   "cell_type": "markdown",
   "metadata": {},
   "source": [
    "<font color=\"RED\" size=\"+1\">**[Q]**</font> Ecrire la fonction `partie_humains(taille=6, nb_graines=4)` permettant à deux joueurs humains de s'affronter dans une partie d'Awélé sur un plateau qui contient `taille` colonnes et `nb_graines` par case au départ.  \n",
    "  Dans cette fonction, les joueurs entrent à tour de rôle leur coup à jouer. Après chaque coup, la position est affichée avec les gains de chaque joueur. Le jeu s'arrête lorsque une position terminale est atteinte et le programme affiche alors le nom du camp vainqueur.\n",
    "  Durant la partie, les coups sont donnés en utilisant la fonction `input()` de Python.\n",
    "  \n"
   ]
  },
  {
   "cell_type": "code",
   "execution_count": 19,
   "metadata": {},
   "outputs": [],
   "source": [
    "def adversaire(position):\n",
    "    \"\"\"POSITION -> str\n",
    "    Retourne le nom du camp adverse du joueur qui doit jouer.\n",
    "    \"\"\"\n",
    "    return \"NORD\" if position[\"trait\"] == \"SUD\" else \"SUD\"\n",
    "\n",
    "\n",
    "def vainqueur(position):\n",
    "    \"\"\"POSITION -> str\n",
    "    Retourne le nom du camp vainqueur, None si égalité.\n",
    "    \"\"\"\n",
    "    if position[\"gain\"][\"SUD\"] > position[\"gain\"][\"NORD\"]:\n",
    "        return \"SUD\"\n",
    "    if position[\"gain\"][\"SUD\"] < position[\"gain\"][\"NORD\"]:\n",
    "        return \"NORD\"\n",
    "    if position[\"gain\"][\"SUD\"] == position[\"gain\"][\"NORD\"]:\n",
    "        return None\n",
    "\n",
    "\n",
    "def partie_humains(taille=6, nb_graines=4):\n",
    "    \"\"\"int * int ->\n",
    "    Permet à deux joueurs humains de s'affronter dans une partie d'Awélé.\n",
    "    \"\"\"\n",
    "    # initialisation\n",
    "    position = aw.position_initiale(taille, nb_graines)\n",
    "    aw.affichage(position)\n",
    "    # début du jeu\n",
    "    while not est_terminale(position):\n",
    "        coup = int(input(\"-> entrer le coup à jouer : \"))  # saisie du coup à jouer\n",
    "        if effectue_si_valide(position, coup):  # si le coup est valide, on le joue\n",
    "            position = effectue_si_valide(position, coup)\n",
    "            aw.affichage(position)\n",
    "        else:\n",
    "            print(\"-> Le coup n'est pas valide. Retenter.\")\n",
    "    # fin du jeu\n",
    "    # on ajoute au score de l'adversaire du dernier joueur (ne pouvant jouer)\n",
    "    # les graines restantes sur le plateau\n",
    "    position[\"gain\"][adversaire(position)] += sum(position[\"plateau\"])\n",
    "    print(\"* * * * * * * * * * * * * * * * * * * *\")\n",
    "    gagnant = vainqueur(position)\n",
    "    if gagnant is None:\n",
    "        print(\"\\t\\tEGALITE !\")\n",
    "    else:\n",
    "        print(\"{} REMPORTE LA PARTIE AVEC {} GRAINES !\".format(gagnant, position[\"gain\"][gagnant]))\n",
    "    print(\"* * * * * * * * * * * * * * * * * * * *\")"
   ]
  },
  {
   "cell_type": "code",
   "execution_count": null,
   "metadata": {},
   "outputs": [],
   "source": [
    "# essai sur un petit awélé:\n",
    "partie_humains(3, 2)"
   ]
  },
  {
   "cell_type": "code",
   "execution_count": null,
   "metadata": {},
   "outputs": [],
   "source": [
    "partie_humains(3, 2)"
   ]
  },
  {
   "cell_type": "markdown",
   "metadata": {},
   "source": [
    "<font color=\"RED\" size=\"+1\">**[Q]**</font> Ecrire la fonction `genere_un_coup(position)` qui retourne un coup autorisé pour la position donnée. Le coup est choisi de façon aléatoire parmi les coups possibles dans la position donnée. Cette fonction rend la valeur 0 si aucun coup n'est possible."
   ]
  },
  {
   "cell_type": "code",
   "execution_count": 20,
   "metadata": {},
   "outputs": [
    {
     "name": "stdout",
     "output_type": "stream",
     "text": [
      "* * * * * * * * * * * * * * * * * * * *\n",
      "\t\tNORD (prises: 0)\n",
      "< - - - - - - - - - - - - - - -\n",
      "colonnes:\t 1 \t 2 \t 3 \t 4 \t 5 \t 6 \n",
      "        \t[4]\t[4]\t[4]\t[5]\t[5]\t[5]\n",
      "        \t[4]\t[4]\t[4]\t[4]\t[0]\t[5]\n",
      "colonnes:\t 1 \t 2 \t 3 \t 4 \t 5 \t 6 \n",
      "\n",
      "- - - - - - - - - - - - - - - >\n",
      "\t\tSUD (prises: 0)\n",
      "\n",
      "-> camp au trait: NORD\n",
      "\n",
      "Coup généré : 4\n",
      "* * * * * * * * * * * * * * * * * * * *\n",
      "\t\tNORD (prises: 0)\n",
      "< - - - - - - - - - - - - - - -\n",
      "colonnes:\t 1 \t 2 \t 3 \t 4 \t 5 \t 6 \n",
      "        \t[5]\t[5]\t[5]\t[0]\t[5]\t[5]\n",
      "        \t[5]\t[5]\t[4]\t[4]\t[0]\t[5]\n",
      "colonnes:\t 1 \t 2 \t 3 \t 4 \t 5 \t 6 \n",
      "\n",
      "- - - - - - - - - - - - - - - >\n",
      "\t\tSUD (prises: 0)\n",
      "\n",
      "-> camp au trait: SUD\n",
      "\n"
     ]
    }
   ],
   "source": [
    "import random\n",
    "\n",
    "\n",
    "def genere_un_coup(position):\n",
    "    \"\"\"POSITION -> COUP\n",
    "    Retourne un coup autorisé pour la position donnée de manière\n",
    "    aléatoire, ou 0 s'il n'y en a aucun.\n",
    "    \"\"\"\n",
    "    n = position[\"dimension\"]\n",
    "    coups_possibles = [coup for coup in range(1, n + 1) if effectue_si_valide(position, coup)]\n",
    "    return random.choice(coups_possibles) if len(coups_possibles) > 0 else 0\n",
    "\n",
    "\n",
    "aw.affichage(maPosition2)\n",
    "coup_genere = genere_un_coup(maPosition2)\n",
    "print(\"Coup généré :\", coup_genere)\n",
    "aw.affichage(effectue_si_valide(maPosition2, coup_genere))"
   ]
  },
  {
   "cell_type": "markdown",
   "metadata": {},
   "source": [
    "<font color=\"RED\" size=\"+1\">**[Q]**</font> Ecrire la fonction `partie_aleatoire(campCPU, taille=6, nb_graines=4)` permettant à un joueur humain de jouer contre l'ordinateur qui choisit aléatoirement ses coups. L'argument\n",
    "  `campCPU` donne le camp que doit gérer l'ordinateur (`'SUD'` ou `'NORD'`), l'argument `taille` est un entier strictement positif donnant le nombre de colonnes du plateau de jeu (par défaut 6 colonnes), et l'argument `nb_graines` donne le nombre de graines par case au départ (par défaut, 4 graines)."
   ]
  },
  {
   "cell_type": "code",
   "execution_count": 21,
   "metadata": {},
   "outputs": [],
   "source": [
    "def partie_aleatoire(campCPU, taille=6, nb_graines=4):\n",
    "    \"\"\"str * int * int ->\n",
    "    Permet à un humain d'affronter un ordinateur dans une partie d'Awélé.\n",
    "    \"\"\"\n",
    "    # initialisation\n",
    "    position = aw.position_initiale(taille, nb_graines)\n",
    "    aw.affichage(position)\n",
    "    # début du jeu\n",
    "    while not est_terminale(position):\n",
    "        if position[\"trait\"] == campCPU:\n",
    "            coup = genere_un_coup(position)\n",
    "            if not coup:\n",
    "                print(\"aucun coup n'est possible pour l'ordinateur.\")\n",
    "                break\n",
    "            position = effectue_si_valide(position, coup)\n",
    "            print(\"-> coup joué par l'ordinateur : {}\".format(coup))\n",
    "            aw.affichage(position)\n",
    "        else:\n",
    "            coup = int(input(\"-> entrer le coup à jouer : \"))  # saisie du coup à jouer\n",
    "            if effectue_si_valide(position, coup):\n",
    "                position = effectue_si_valide(position, coup)\n",
    "                aw.affichage(position)\n",
    "            else:\n",
    "                print(\"-> Le coup n'est pas valide. Retenter.\")\n",
    "    # fin du jeu\n",
    "    # on ajoute au score de l'adversaire du dernier joueur (ne pouvant jouer)\n",
    "    # les graines restantes sur le plateau\n",
    "    position[\"gain\"][adversaire(position)] += sum(position[\"plateau\"])\n",
    "    print(\"* * * * * * * * * * * * * * * * * * * *\")\n",
    "    gagnant = vainqueur(position)\n",
    "    if gagnant is None:\n",
    "        print(\"\\t\\tEGALITE !\")\n",
    "    else:\n",
    "        print(\"{} REMPORTE LA PARTIE AVEC {} GRAINES !\".format(gagnant, position[\"gain\"][gagnant]))\n",
    "    print(\"* * * * * * * * * * * * * * * * * * * *\")"
   ]
  },
  {
   "cell_type": "code",
   "execution_count": null,
   "metadata": {},
   "outputs": [],
   "source": [
    "partie_aleatoire(\"SUD\", 3, 2)"
   ]
  },
  {
   "cell_type": "code",
   "execution_count": null,
   "metadata": {
    "scrolled": false
   },
   "outputs": [],
   "source": [
    "partie_aleatoire(\"NORD\", 3, 2)"
   ]
  },
  {
   "cell_type": "markdown",
   "metadata": {},
   "source": [
    "## Joueur artificiel simple"
   ]
  },
  {
   "cell_type": "markdown",
   "metadata": {},
   "source": [
    "On considère la fonction d'évaluation suivante de la position $P$ :\n",
    "$$f(P) = \n",
    "\\begin{cases}\n",
    "    +99 & \\text{si } P \\text{ est gagnée par sud} \\\\\n",
    "    -99 & \\text{si } P \\text{ est gagnée par nord} \\\\\n",
    "    (2f_g(P,sud) + f_{12}(P,nord)) - (2f_g(P,nord) + f_{12}(P,sud))& \\mbox{sinon }\n",
    "\\end{cases}$$\n",
    "\n",
    "avec\n",
    "- $f_g(P,c)$ : nombre de graines déjà gagnées par le camp $c$ dans la position $P$\n",
    "- $f_{12}(P,c)$ : nombre de cases du camp $c$ contenant 1 ou 2 graines, dans la position $P$.\n"
   ]
  },
  {
   "cell_type": "markdown",
   "metadata": {},
   "source": [
    "<font color=\"RED\" size=\"+1\">**[Q]**</font> Ecrire la fonction `evalue(position)` qui rend la valeur de l'évaluation de la position obtenue en utilisant la fonction $f$."
   ]
  },
  {
   "cell_type": "code",
   "execution_count": 22,
   "metadata": {},
   "outputs": [],
   "source": [
    "def cases(position, camp):\n",
    "    \"\"\"POSITION * CAMP -> int\n",
    "    Retourne le nombre de cases du camp contenant 1 ou 2 graines dans une\n",
    "    position(= f_{12}(P,c)).\n",
    "    \"\"\"\n",
    "    n = position[\"dimension\"]\n",
    "    if camp == \"SUD\":  # nombre de cases du camp 'SUD' contenant 1 ou 2 graines\n",
    "        return len([case for case in position[\"plateau\"][:n] if case in (1, 2)])\n",
    "    else:  # nombre de cases du camp 'NORD' contenant 1 ou 2 graines\n",
    "        return len([case for case in position[\"plateau\"][n:] if case in (1, 2)])\n",
    "\n",
    "\n",
    "def evalue(position):\n",
    "    \"\"\"POSITION -> int\n",
    "    Retourne la valeur de la fonction d'évaluation de la position.\n",
    "    \"\"\"\n",
    "    nb_victoire = position[\"nb_total\"] / 2 + 1\n",
    "    # si la position est gagnée par 'SUD'\n",
    "    if position[\"gain\"][\"SUD\"] >= nb_victoire:\n",
    "        return 99\n",
    "    # si la position est gagnée par 'NORD'\n",
    "    if position[\"gain\"][\"NORD\"] >= nb_victoire:\n",
    "        return -99\n",
    "    # sinon\n",
    "    return (2 * position[\"gain\"][\"SUD\"] + cases(position, \"NORD\")) - (\n",
    "        2 * position[\"gain\"][\"NORD\"] + cases(position, \"SUD\")\n",
    "    )"
   ]
  },
  {
   "cell_type": "markdown",
   "metadata": {},
   "source": [
    "<font color=\"RED\" size=\"+1\">**[Q]**</font> Ecrire la fonction `minimax(position, prof)` qui, pour la position donnée, retourne un tuple Python dont le premier terme correspond au meilleur coup à jouer trouvé par l'application de l'algorithme du minimax à une profondeur `prof`, et le deuxième terme correspond à l'évaluation de la position obtenue pour ce coup."
   ]
  },
  {
   "cell_type": "code",
   "execution_count": null,
   "metadata": {},
   "outputs": [],
   "source": [
    "# Rappel :\n",
    "import sys\n",
    "\n",
    "print(\"Plus grand entier : \", sys.maxsize)"
   ]
  },
  {
   "cell_type": "markdown",
   "metadata": {},
   "source": [
    "De part la construction de notre fonction d'évaluation $f(P)$, c'est `'SUD'` qui cherchera à maximiser le gain et `'NORD'` à minimiser."
   ]
  },
  {
   "cell_type": "code",
   "execution_count": 35,
   "metadata": {},
   "outputs": [
    {
     "name": "stdout",
     "output_type": "stream",
     "text": [
      "536.9673073291779\n"
     ]
    }
   ],
   "source": [
    "def minimax(position, prof):\n",
    "    n = position[\"dimension\"]\n",
    "    trait = position[\"trait\"]  # joueur qui doit jouer\n",
    "    coup_optimal = 0\n",
    "    # si la position est terminale ou la profondeur de l'arbre est nul,\n",
    "    # l'algorithme minimax s'arrête\n",
    "    if prof == 0 or est_terminale(position):\n",
    "        return (coup_optimal, evalue(position))\n",
    "    if trait == \"SUD\": # le joueur cherche à maximiser le gain\n",
    "        valeur = -sys.maxsize\n",
    "        for coup in range(1, n + 1):\n",
    "            nouvelle_position = effectue_si_valide(position, coup)\n",
    "            if nouvelle_position:\n",
    "                val = minimax(nouvelle_position, prof - 1)[1]\n",
    "                if val > valeur:\n",
    "                    valeur = val\n",
    "                    coup_optimal = coup\n",
    "    else: # le joueur cherche à minimiser le gain\n",
    "        valeur = sys.maxsize\n",
    "        for coup in range(1, n + 1):\n",
    "            nouvelle_position = effectue_si_valide(position, coup)\n",
    "            if nouvelle_position:\n",
    "                val = minimax(nouvelle_position, prof - 1)[1]\n",
    "                if val < valeur:\n",
    "                    valeur = val\n",
    "                    coup_optimal = coup\n",
    "    return (coup_optimal, valeur)\n",
    "\n",
    "\n",
    "t0 = time.time()\n",
    "minimax(maPosition2, 10)\n",
    "print(time.time() - t0)"
   ]
  },
  {
   "cell_type": "markdown",
   "metadata": {},
   "source": [
    "<font color=\"RED\" size=\"+1\">**[Q]**</font> Ecrire la fonction `partie_minimax(campCPU, taille=6, nb_graines=4, prof=2)` permettant à un joueur humain de jouer contre l'ordinateur, celui-ci trouvant ses coups à l'aide de l'algorithme minimax, utilisé à une profondeur `prof` (par défaut 2). L'argument `campCPU` donne le camp que doit gérer l'ordinateur (`'SUD'` ou `'NORD'`). L'argument `taille` donne la dimension du plateau de jeu en nombre de colonnes et l'argument `nb_graines` donne le nombre de graines dans chaque case au départ.\n"
   ]
  },
  {
   "cell_type": "code",
   "execution_count": 24,
   "metadata": {},
   "outputs": [],
   "source": [
    "def partie_minimax(campCPU, taille=6, nb_graines=4, prof=2):\n",
    "    \"\"\"str * int * int * int ->\n",
    "    Permet à un humain d'affronter un ordinateur dans une partie d'Awélé.\n",
    "    L'ordinateur choisit ses coups à l'aide de l'algorithme minimax.\n",
    "    \"\"\"\n",
    "    # initialisation\n",
    "    position = aw.position_initiale(taille, nb_graines)\n",
    "    aw.affichage(position)\n",
    "    # début du jeu\n",
    "    while not est_terminale(position):\n",
    "        if position[\"trait\"] == campCPU:\n",
    "            coup, valeur = minimax(position, prof)\n",
    "            if not coup:\n",
    "                print(\"aucun coup n'est possible pour l'ordinateur.\")\n",
    "                break\n",
    "            position = effectue_si_valide(position, coup)\n",
    "            print(position)\n",
    "            print(\"-> coup joué par l'ordinateur : {}\".format(coup))\n",
    "            print(\"-> valeur heuristique du coup joué : {}\".format(valeur))\n",
    "            aw.affichage(position)\n",
    "        else:\n",
    "            coup = int(input(\"-> entrer le coup à jouer : \"))  # saisie du coup à jouer\n",
    "            if effectue_si_valide(position, coup):\n",
    "                position = effectue_si_valide(position, coup)\n",
    "                aw.affichage(position)\n",
    "            else:\n",
    "                print(\"-> Le coup n'est pas valide. Retenter.\")\n",
    "    # fin du jeu\n",
    "    # on ajoute au score de l'adversaire du dernier joueur (ne pouvant jouer)\n",
    "    # les graines restantes sur le plateau\n",
    "    position[\"gain\"][adversaire(position)] += sum(position[\"plateau\"])\n",
    "    print(\"* * * * * * * * * * * * * * * * * * * *\")\n",
    "    gagnant = vainqueur(position)\n",
    "    if gagnant is None:\n",
    "        print(\"\\t\\tEGALITE !\")\n",
    "    else:\n",
    "        print(\"{} REMPORTE LA PARTIE AVEC {} GRAINES !\".format(gagnant, position[\"gain\"][gagnant]))\n",
    "    print(\"* * * * * * * * * * * * * * * * * * * *\")"
   ]
  },
  {
   "cell_type": "code",
   "execution_count": null,
   "metadata": {
    "scrolled": false
   },
   "outputs": [],
   "source": [
    "# --------\n",
    "# partie_humains(3, 2)\n",
    "# partie_aleatoire(\"SUD\", 5, 3)\n",
    "print(\"*************************\\n********* Partie minimax : \");\n",
    "\n",
    "# decommenter la ligne suivante:\n",
    "partie_minimax(\"SUD\", taille=6, nb_graines=4, prof=2)"
   ]
  },
  {
   "cell_type": "markdown",
   "metadata": {},
   "source": [
    "## Joueur artificiel élaboré"
   ]
  },
  {
   "cell_type": "markdown",
   "metadata": {},
   "source": [
    "<font color=\"RED\" size=\"+1\">**[Q]**</font> Ecrire la fonction `alphabeta(position, prof,  alpha=-sys.maxsize, beta=sys.maxsize)` qui, pour la `position` donnée, retourne le tuple dont le premier élément correspond au meilleur coup à jouer trouvé par l'application de l'algorithme du alpha-bêta à une profondeur <code>prof</code>, avec les valeurs <code>alpha</code> et <code>beta</code> comme valeurs initiales."
   ]
  },
  {
   "cell_type": "code",
   "execution_count": 32,
   "metadata": {},
   "outputs": [
    {
     "name": "stdout",
     "output_type": "stream",
     "text": [
      "537.8987393379211\n"
     ]
    }
   ],
   "source": [
    "def alphabeta(position, prof, alpha=-sys.maxsize, beta=sys.maxsize):\n",
    "    n = position[\"dimension\"]\n",
    "    trait = position[\"trait\"]  # joueur qui doit jouer\n",
    "    coup_optimal = 0\n",
    "    # si la position est terminale ou la profondeur de l'arbre est nul,\n",
    "    # l'algorithme minimax s'arrête\n",
    "    if prof == 0 or est_terminale(position):\n",
    "        return (coup_optimal, evalue(position))\n",
    "    \n",
    "    \n",
    "    if trait == \"SUD\": # le joueur cherche à maximiser le gain\n",
    "        for coup in range(1, n + 1):\n",
    "            nouvelle_position = effectue_si_valide(position, coup)\n",
    "            if nouvelle_position:\n",
    "                valeur = alphabeta(nouvelle_position, prof - 1, alpha, beta)[1]\n",
    "                if valeur > alpha:\n",
    "                    coup_optimal = coup\n",
    "                    alpha = valeur\n",
    "        return (coup_optimal, alpha)\n",
    "    else: # le joueur cherche à minimiser le gain\n",
    "        for coup in range(1, n + 1):\n",
    "            nouvelle_position = effectue_si_valide(position, coup)\n",
    "            if nouvelle_position:\n",
    "                valeur = alphabeta(nouvelle_position, prof - 1, alpha, beta)[1]\n",
    "                if valeur < beta:\n",
    "                    coup_optimal = coup\n",
    "                    beta = valeur\n",
    "        return (coup_optimal, beta)\n",
    "\n",
    "import time\n",
    "t0 = time.time()\n",
    "alphabeta(maPosition2, 10)\n",
    "print(time.time() - t0)"
   ]
  },
  {
   "cell_type": "markdown",
   "metadata": {},
   "source": [
    "<font color=\"RED\" size=\"+1\">**[Q]**</font> Ecrire la fonction <code>partie_alphabeta(campCPU, taille=6, nb_graines=4, prof=2)</code> permettant à un joueur  humain de jouer contre l'ordinateur, celui-ci trouvant ses coups à l'aide de\n",
    "  l'algorithme alpha-bêta, utilisé à une profondeur <code>prof</code>. L'argument <code>campCPU</code>\n",
    "  donne le camp que doit gérer l'ordinateur (<code>'SUD'</code> ou <code>'NORD'</code>). L'argument `taille` donne la dimension du plateau de jeu en nombre de colonnes.\n"
   ]
  },
  {
   "cell_type": "code",
   "execution_count": 26,
   "metadata": {},
   "outputs": [],
   "source": [
    "def partie_alphabeta(campCPU, taille=6, nb_graines=4, prof=2):\n",
    "    \"\"\"str * int * int * int ->\n",
    "    Permet à un humain d'affronter un ordinateur dans une partie d'Awélé.\n",
    "    L'ordinateur choisit ses coups à l'aide de l'algorithme alphabeta.\n",
    "    \"\"\"\n",
    "    # initialisation\n",
    "    position = aw.position_initiale(taille, nb_graines)\n",
    "    aw.affichage(position)\n",
    "    # début du jeu\n",
    "    while not est_terminale(position):\n",
    "        if position[\"trait\"] == campCPU:\n",
    "            coup, valeur = alphabeta(position, prof)\n",
    "            if not coup:\n",
    "                print(\"aucun coup n'est possible pour l'ordinateur.\")\n",
    "                break\n",
    "            position = effectue_si_valide(position, coup)\n",
    "            print(position)\n",
    "            print(\"-> coup joué par l'ordinateur : {}\".format(coup))\n",
    "            print(\"-> valeur heuristique du coup joué : {}\".format(valeur))\n",
    "            aw.affichage(position)\n",
    "        else:\n",
    "            coup = int(input(\"-> entrer le coup à jouer : \"))  # saisie du coup à jouer\n",
    "            if effectue_si_valide(position, coup):\n",
    "                position = effectue_si_valide(position, coup)\n",
    "                aw.affichage(position)\n",
    "            else:\n",
    "                print(\"-> Le coup n'est pas valide. Retenter.\")\n",
    "    # fin du jeu\n",
    "    # on ajoute au score de l'adversaire du dernier joueur (ne pouvant jouer)\n",
    "    # les graines restantes sur le plateau\n",
    "    position[\"gain\"][adversaire(position)] += sum(position[\"plateau\"])\n",
    "    print(\"* * * * * * * * * * * * * * * * * * * *\")\n",
    "    gagnant = vainqueur(position)\n",
    "    if gagnant is None:\n",
    "        print(\"\\t\\tEGALITE !\")\n",
    "    else:\n",
    "        print(\"{} REMPORTE LA PARTIE AVEC {} GRAINES !\".format(gagnant, position[\"gain\"][gagnant]))\n",
    "    print(\"* * * * * * * * * * * * * * * * * * * *\")"
   ]
  },
  {
   "cell_type": "code",
   "execution_count": null,
   "metadata": {},
   "outputs": [],
   "source": [
    "# --------\n",
    "# partie_humains(3, 2)\n",
    "# partie_aleatoire(\"SUD\", 5, 3)\n",
    "print(\"*************************\\n********* Partie alphabeta : \");\n",
    "\n",
    "# decommenter la ligne suivante:\n",
    "partie_alphabeta(\"SUD\", taille=6, nb_graines=4, prof=2)"
   ]
  },
  {
   "cell_type": "markdown",
   "metadata": {},
   "source": [
    "## Pour aller plus loin..."
   ]
  },
  {
   "cell_type": "markdown",
   "metadata": {},
   "source": [
    "Ne pas hésiter à ajouter des fonctionnalités ou des améliorations à votre programme.\n",
    "Par exemple :\n",
    "- une interface graphique pour afficher le tablier, saisir les coups,...\n",
    "- proposer une nouvelle fonction d'évaluation plus efficace que celle donnée dans\n",
    "  l'exercice 4 du TD. Tester le programme en le faisant jouer contre lui même un grand nombre de\n",
    "  fois (automatiquement).\n",
    "- ajouter la règle suivante : un coup qui retire toutes les graines du camp de\n",
    "  l'adversaire peut être quand même joué mais dans ce cas, aucune prise n'est effectuée.\n",
    "- toute autre amélioration que vous pouvez envisager.\n",
    "\n"
   ]
  },
  {
   "cell_type": "code",
   "execution_count": 27,
   "metadata": {},
   "outputs": [],
   "source": [
    "def ia_vs_ia(taille=6, nb_graines=4, prof=2):\n",
    "    \n",
    "    # initialisation\n",
    "    position = aw.position_initiale(taille, nb_graines)\n",
    "    aw.affichage(position)\n",
    "    # début du jeu\n",
    "    while not est_terminale(position):\n",
    "        if position[\"trait\"] == \"SUD\":\n",
    "            coup, valeur = alphabeta(position, prof)\n",
    "            if not coup:\n",
    "                print(\"aucun coup n'est possible pour SUD.\")\n",
    "                break\n",
    "            position = effectue_si_valide(position, coup)\n",
    "            print(position)\n",
    "            print(\"-> coup joué par SUD : {}\".format(coup))\n",
    "            print(\"-> valeur heuristique du coup joué : {}\".format(valeur))\n",
    "            aw.affichage(position)\n",
    "        else:\n",
    "            coup, valeur = alphabeta(position, prof)\n",
    "            if not coup:\n",
    "                print(\"aucun coup n'est possible pour NORD.\")\n",
    "                break\n",
    "            position = effectue_si_valide(position, coup)\n",
    "            print(position)\n",
    "            print(\"-> coup joué par NORD : {}\".format(coup))\n",
    "            print(\"-> valeur heuristique du coup joué : {}\".format(valeur))\n",
    "            aw.affichage(position)\n",
    "\n",
    "    # fin du jeu\n",
    "    # on ajoute au score de l'adversaire du dernier joueur (ne pouvant jouer)\n",
    "    # les graines restantes sur le plateau\n",
    "    position[\"gain\"][adversaire(position)] += sum(position[\"plateau\"])\n",
    "    print(\"* * * * * * * * * * * * * * * * * * * *\")\n",
    "    gagnant = vainqueur(position)\n",
    "    if gagnant is None:\n",
    "        print(\"\\t\\tEGALITE !\")\n",
    "    else:\n",
    "        print(\"{} REMPORTE LA PARTIE AVEC {} GRAINES !\".format(gagnant, position[\"gain\"][gagnant]))\n",
    "    print(\"* * * * * * * * * * * * * * * * * * * *\")"
   ]
  },
  {
   "cell_type": "code",
   "execution_count": 29,
   "metadata": {
    "scrolled": true
   },
   "outputs": [
    {
     "name": "stdout",
     "output_type": "stream",
     "text": [
      "*************************\n",
      "********* Partie IA : \n",
      "* * * * * * * * * * * * * * * * * * * *\n",
      "\t\tNORD (prises: 0)\n",
      "< - - - - - - - - - - - - - - -\n",
      "colonnes:\t 1 \t 2 \t 3 \t 4 \t 5 \t 6 \n",
      "        \t[4]\t[4]\t[4]\t[4]\t[4]\t[4]\n",
      "        \t[4]\t[4]\t[4]\t[4]\t[4]\t[4]\n",
      "colonnes:\t 1 \t 2 \t 3 \t 4 \t 5 \t 6 \n",
      "\n",
      "- - - - - - - - - - - - - - - >\n",
      "\t\tSUD (prises: 0)\n",
      "\n",
      "-> camp au trait: SUD\n",
      "\n"
     ]
    },
    {
     "ename": "KeyboardInterrupt",
     "evalue": "",
     "output_type": "error",
     "traceback": [
      "\u001b[0;31m---------------------------------------------------------------------------\u001b[0m",
      "\u001b[0;31mKeyboardInterrupt\u001b[0m                         Traceback (most recent call last)",
      "\u001b[0;32m/tmp/ipykernel_6005/1607109578.py\u001b[0m in \u001b[0;36m<module>\u001b[0;34m\u001b[0m\n\u001b[1;32m      2\u001b[0m \u001b[0;34m\u001b[0m\u001b[0m\n\u001b[1;32m      3\u001b[0m \u001b[0;31m# decommenter la ligne suivante:\u001b[0m\u001b[0;34m\u001b[0m\u001b[0;34m\u001b[0m\u001b[0;34m\u001b[0m\u001b[0m\n\u001b[0;32m----> 4\u001b[0;31m \u001b[0mia_vs_ia\u001b[0m\u001b[0;34m(\u001b[0m\u001b[0mtaille\u001b[0m\u001b[0;34m=\u001b[0m\u001b[0;36m6\u001b[0m\u001b[0;34m,\u001b[0m \u001b[0mnb_graines\u001b[0m\u001b[0;34m=\u001b[0m\u001b[0;36m4\u001b[0m\u001b[0;34m,\u001b[0m \u001b[0mprof\u001b[0m\u001b[0;34m=\u001b[0m\u001b[0;36m10\u001b[0m\u001b[0;34m)\u001b[0m\u001b[0;34m\u001b[0m\u001b[0;34m\u001b[0m\u001b[0m\n\u001b[0m",
      "\u001b[0;32m/tmp/ipykernel_6005/3930675475.py\u001b[0m in \u001b[0;36mia_vs_ia\u001b[0;34m(taille, nb_graines, prof)\u001b[0m\n\u001b[1;32m      7\u001b[0m     \u001b[0;32mwhile\u001b[0m \u001b[0;32mnot\u001b[0m \u001b[0mest_terminale\u001b[0m\u001b[0;34m(\u001b[0m\u001b[0mposition\u001b[0m\u001b[0;34m)\u001b[0m\u001b[0;34m:\u001b[0m\u001b[0;34m\u001b[0m\u001b[0;34m\u001b[0m\u001b[0m\n\u001b[1;32m      8\u001b[0m         \u001b[0;32mif\u001b[0m \u001b[0mposition\u001b[0m\u001b[0;34m[\u001b[0m\u001b[0;34m\"trait\"\u001b[0m\u001b[0;34m]\u001b[0m \u001b[0;34m==\u001b[0m \u001b[0;34m\"SUD\"\u001b[0m\u001b[0;34m:\u001b[0m\u001b[0;34m\u001b[0m\u001b[0;34m\u001b[0m\u001b[0m\n\u001b[0;32m----> 9\u001b[0;31m             \u001b[0mcoup\u001b[0m\u001b[0;34m,\u001b[0m \u001b[0mvaleur\u001b[0m \u001b[0;34m=\u001b[0m \u001b[0malphabeta\u001b[0m\u001b[0;34m(\u001b[0m\u001b[0mposition\u001b[0m\u001b[0;34m,\u001b[0m \u001b[0mprof\u001b[0m\u001b[0;34m)\u001b[0m\u001b[0;34m\u001b[0m\u001b[0;34m\u001b[0m\u001b[0m\n\u001b[0m\u001b[1;32m     10\u001b[0m             \u001b[0;32mif\u001b[0m \u001b[0;32mnot\u001b[0m \u001b[0mcoup\u001b[0m\u001b[0;34m:\u001b[0m\u001b[0;34m\u001b[0m\u001b[0;34m\u001b[0m\u001b[0m\n\u001b[1;32m     11\u001b[0m                 \u001b[0mprint\u001b[0m\u001b[0;34m(\u001b[0m\u001b[0;34m\"aucun coup n'est possible pour SUD.\"\u001b[0m\u001b[0;34m)\u001b[0m\u001b[0;34m\u001b[0m\u001b[0;34m\u001b[0m\u001b[0m\n",
      "\u001b[0;32m/tmp/ipykernel_6005/1073295735.py\u001b[0m in \u001b[0;36malphabeta\u001b[0;34m(position, prof, alpha, beta)\u001b[0m\n\u001b[1;32m     13\u001b[0m             \u001b[0mnouvelle_position\u001b[0m \u001b[0;34m=\u001b[0m \u001b[0meffectue_si_valide\u001b[0m\u001b[0;34m(\u001b[0m\u001b[0mposition\u001b[0m\u001b[0;34m,\u001b[0m \u001b[0mcoup\u001b[0m\u001b[0;34m)\u001b[0m\u001b[0;34m\u001b[0m\u001b[0;34m\u001b[0m\u001b[0m\n\u001b[1;32m     14\u001b[0m             \u001b[0;32mif\u001b[0m \u001b[0mnouvelle_position\u001b[0m\u001b[0;34m:\u001b[0m\u001b[0;34m\u001b[0m\u001b[0;34m\u001b[0m\u001b[0m\n\u001b[0;32m---> 15\u001b[0;31m                 \u001b[0mvaleur\u001b[0m \u001b[0;34m=\u001b[0m \u001b[0malphabeta\u001b[0m\u001b[0;34m(\u001b[0m\u001b[0mnouvelle_position\u001b[0m\u001b[0;34m,\u001b[0m \u001b[0mprof\u001b[0m \u001b[0;34m-\u001b[0m \u001b[0;36m1\u001b[0m\u001b[0;34m,\u001b[0m \u001b[0malpha\u001b[0m\u001b[0;34m,\u001b[0m \u001b[0mbeta\u001b[0m\u001b[0;34m)\u001b[0m\u001b[0;34m[\u001b[0m\u001b[0;36m1\u001b[0m\u001b[0;34m]\u001b[0m\u001b[0;34m\u001b[0m\u001b[0;34m\u001b[0m\u001b[0m\n\u001b[0m\u001b[1;32m     16\u001b[0m                 \u001b[0;32mif\u001b[0m \u001b[0mvaleur\u001b[0m \u001b[0;34m>\u001b[0m \u001b[0malpha\u001b[0m\u001b[0;34m:\u001b[0m\u001b[0;34m\u001b[0m\u001b[0;34m\u001b[0m\u001b[0m\n\u001b[1;32m     17\u001b[0m                     \u001b[0mcoup_optimal\u001b[0m \u001b[0;34m=\u001b[0m \u001b[0mcoup\u001b[0m\u001b[0;34m\u001b[0m\u001b[0;34m\u001b[0m\u001b[0m\n",
      "\u001b[0;32m/tmp/ipykernel_6005/1073295735.py\u001b[0m in \u001b[0;36malphabeta\u001b[0;34m(position, prof, alpha, beta)\u001b[0m\n\u001b[1;32m     22\u001b[0m             \u001b[0mnouvelle_position\u001b[0m \u001b[0;34m=\u001b[0m \u001b[0meffectue_si_valide\u001b[0m\u001b[0;34m(\u001b[0m\u001b[0mposition\u001b[0m\u001b[0;34m,\u001b[0m \u001b[0mcoup\u001b[0m\u001b[0;34m)\u001b[0m\u001b[0;34m\u001b[0m\u001b[0;34m\u001b[0m\u001b[0m\n\u001b[1;32m     23\u001b[0m             \u001b[0;32mif\u001b[0m \u001b[0mnouvelle_position\u001b[0m\u001b[0;34m:\u001b[0m\u001b[0;34m\u001b[0m\u001b[0;34m\u001b[0m\u001b[0m\n\u001b[0;32m---> 24\u001b[0;31m                 \u001b[0mvaleur\u001b[0m \u001b[0;34m=\u001b[0m \u001b[0malphabeta\u001b[0m\u001b[0;34m(\u001b[0m\u001b[0mnouvelle_position\u001b[0m\u001b[0;34m,\u001b[0m \u001b[0mprof\u001b[0m \u001b[0;34m-\u001b[0m \u001b[0;36m1\u001b[0m\u001b[0;34m,\u001b[0m \u001b[0malpha\u001b[0m\u001b[0;34m,\u001b[0m \u001b[0mbeta\u001b[0m\u001b[0;34m)\u001b[0m\u001b[0;34m[\u001b[0m\u001b[0;36m1\u001b[0m\u001b[0;34m]\u001b[0m\u001b[0;34m\u001b[0m\u001b[0;34m\u001b[0m\u001b[0m\n\u001b[0m\u001b[1;32m     25\u001b[0m                 \u001b[0;32mif\u001b[0m \u001b[0mvaleur\u001b[0m \u001b[0;34m<\u001b[0m \u001b[0mbeta\u001b[0m\u001b[0;34m:\u001b[0m\u001b[0;34m\u001b[0m\u001b[0;34m\u001b[0m\u001b[0m\n\u001b[1;32m     26\u001b[0m                     \u001b[0mcoup_optimal\u001b[0m \u001b[0;34m=\u001b[0m \u001b[0mcoup\u001b[0m\u001b[0;34m\u001b[0m\u001b[0;34m\u001b[0m\u001b[0m\n",
      "\u001b[0;32m/tmp/ipykernel_6005/1073295735.py\u001b[0m in \u001b[0;36malphabeta\u001b[0;34m(position, prof, alpha, beta)\u001b[0m\n\u001b[1;32m     13\u001b[0m             \u001b[0mnouvelle_position\u001b[0m \u001b[0;34m=\u001b[0m \u001b[0meffectue_si_valide\u001b[0m\u001b[0;34m(\u001b[0m\u001b[0mposition\u001b[0m\u001b[0;34m,\u001b[0m \u001b[0mcoup\u001b[0m\u001b[0;34m)\u001b[0m\u001b[0;34m\u001b[0m\u001b[0;34m\u001b[0m\u001b[0m\n\u001b[1;32m     14\u001b[0m             \u001b[0;32mif\u001b[0m \u001b[0mnouvelle_position\u001b[0m\u001b[0;34m:\u001b[0m\u001b[0;34m\u001b[0m\u001b[0;34m\u001b[0m\u001b[0m\n\u001b[0;32m---> 15\u001b[0;31m                 \u001b[0mvaleur\u001b[0m \u001b[0;34m=\u001b[0m \u001b[0malphabeta\u001b[0m\u001b[0;34m(\u001b[0m\u001b[0mnouvelle_position\u001b[0m\u001b[0;34m,\u001b[0m \u001b[0mprof\u001b[0m \u001b[0;34m-\u001b[0m \u001b[0;36m1\u001b[0m\u001b[0;34m,\u001b[0m \u001b[0malpha\u001b[0m\u001b[0;34m,\u001b[0m \u001b[0mbeta\u001b[0m\u001b[0;34m)\u001b[0m\u001b[0;34m[\u001b[0m\u001b[0;36m1\u001b[0m\u001b[0;34m]\u001b[0m\u001b[0;34m\u001b[0m\u001b[0;34m\u001b[0m\u001b[0m\n\u001b[0m\u001b[1;32m     16\u001b[0m                 \u001b[0;32mif\u001b[0m \u001b[0mvaleur\u001b[0m \u001b[0;34m>\u001b[0m \u001b[0malpha\u001b[0m\u001b[0;34m:\u001b[0m\u001b[0;34m\u001b[0m\u001b[0;34m\u001b[0m\u001b[0m\n\u001b[1;32m     17\u001b[0m                     \u001b[0mcoup_optimal\u001b[0m \u001b[0;34m=\u001b[0m \u001b[0mcoup\u001b[0m\u001b[0;34m\u001b[0m\u001b[0;34m\u001b[0m\u001b[0m\n",
      "\u001b[0;32m/tmp/ipykernel_6005/1073295735.py\u001b[0m in \u001b[0;36malphabeta\u001b[0;34m(position, prof, alpha, beta)\u001b[0m\n\u001b[1;32m     22\u001b[0m             \u001b[0mnouvelle_position\u001b[0m \u001b[0;34m=\u001b[0m \u001b[0meffectue_si_valide\u001b[0m\u001b[0;34m(\u001b[0m\u001b[0mposition\u001b[0m\u001b[0;34m,\u001b[0m \u001b[0mcoup\u001b[0m\u001b[0;34m)\u001b[0m\u001b[0;34m\u001b[0m\u001b[0;34m\u001b[0m\u001b[0m\n\u001b[1;32m     23\u001b[0m             \u001b[0;32mif\u001b[0m \u001b[0mnouvelle_position\u001b[0m\u001b[0;34m:\u001b[0m\u001b[0;34m\u001b[0m\u001b[0;34m\u001b[0m\u001b[0m\n\u001b[0;32m---> 24\u001b[0;31m                 \u001b[0mvaleur\u001b[0m \u001b[0;34m=\u001b[0m \u001b[0malphabeta\u001b[0m\u001b[0;34m(\u001b[0m\u001b[0mnouvelle_position\u001b[0m\u001b[0;34m,\u001b[0m \u001b[0mprof\u001b[0m \u001b[0;34m-\u001b[0m \u001b[0;36m1\u001b[0m\u001b[0;34m,\u001b[0m \u001b[0malpha\u001b[0m\u001b[0;34m,\u001b[0m \u001b[0mbeta\u001b[0m\u001b[0;34m)\u001b[0m\u001b[0;34m[\u001b[0m\u001b[0;36m1\u001b[0m\u001b[0;34m]\u001b[0m\u001b[0;34m\u001b[0m\u001b[0;34m\u001b[0m\u001b[0m\n\u001b[0m\u001b[1;32m     25\u001b[0m                 \u001b[0;32mif\u001b[0m \u001b[0mvaleur\u001b[0m \u001b[0;34m<\u001b[0m \u001b[0mbeta\u001b[0m\u001b[0;34m:\u001b[0m\u001b[0;34m\u001b[0m\u001b[0;34m\u001b[0m\u001b[0m\n\u001b[1;32m     26\u001b[0m                     \u001b[0mcoup_optimal\u001b[0m \u001b[0;34m=\u001b[0m \u001b[0mcoup\u001b[0m\u001b[0;34m\u001b[0m\u001b[0;34m\u001b[0m\u001b[0m\n",
      "\u001b[0;32m/tmp/ipykernel_6005/1073295735.py\u001b[0m in \u001b[0;36malphabeta\u001b[0;34m(position, prof, alpha, beta)\u001b[0m\n\u001b[1;32m     13\u001b[0m             \u001b[0mnouvelle_position\u001b[0m \u001b[0;34m=\u001b[0m \u001b[0meffectue_si_valide\u001b[0m\u001b[0;34m(\u001b[0m\u001b[0mposition\u001b[0m\u001b[0;34m,\u001b[0m \u001b[0mcoup\u001b[0m\u001b[0;34m)\u001b[0m\u001b[0;34m\u001b[0m\u001b[0;34m\u001b[0m\u001b[0m\n\u001b[1;32m     14\u001b[0m             \u001b[0;32mif\u001b[0m \u001b[0mnouvelle_position\u001b[0m\u001b[0;34m:\u001b[0m\u001b[0;34m\u001b[0m\u001b[0;34m\u001b[0m\u001b[0m\n\u001b[0;32m---> 15\u001b[0;31m                 \u001b[0mvaleur\u001b[0m \u001b[0;34m=\u001b[0m \u001b[0malphabeta\u001b[0m\u001b[0;34m(\u001b[0m\u001b[0mnouvelle_position\u001b[0m\u001b[0;34m,\u001b[0m \u001b[0mprof\u001b[0m \u001b[0;34m-\u001b[0m \u001b[0;36m1\u001b[0m\u001b[0;34m,\u001b[0m \u001b[0malpha\u001b[0m\u001b[0;34m,\u001b[0m \u001b[0mbeta\u001b[0m\u001b[0;34m)\u001b[0m\u001b[0;34m[\u001b[0m\u001b[0;36m1\u001b[0m\u001b[0;34m]\u001b[0m\u001b[0;34m\u001b[0m\u001b[0;34m\u001b[0m\u001b[0m\n\u001b[0m\u001b[1;32m     16\u001b[0m                 \u001b[0;32mif\u001b[0m \u001b[0mvaleur\u001b[0m \u001b[0;34m>\u001b[0m \u001b[0malpha\u001b[0m\u001b[0;34m:\u001b[0m\u001b[0;34m\u001b[0m\u001b[0;34m\u001b[0m\u001b[0m\n\u001b[1;32m     17\u001b[0m                     \u001b[0mcoup_optimal\u001b[0m \u001b[0;34m=\u001b[0m \u001b[0mcoup\u001b[0m\u001b[0;34m\u001b[0m\u001b[0;34m\u001b[0m\u001b[0m\n",
      "\u001b[0;32m/tmp/ipykernel_6005/1073295735.py\u001b[0m in \u001b[0;36malphabeta\u001b[0;34m(position, prof, alpha, beta)\u001b[0m\n\u001b[1;32m     22\u001b[0m             \u001b[0mnouvelle_position\u001b[0m \u001b[0;34m=\u001b[0m \u001b[0meffectue_si_valide\u001b[0m\u001b[0;34m(\u001b[0m\u001b[0mposition\u001b[0m\u001b[0;34m,\u001b[0m \u001b[0mcoup\u001b[0m\u001b[0;34m)\u001b[0m\u001b[0;34m\u001b[0m\u001b[0;34m\u001b[0m\u001b[0m\n\u001b[1;32m     23\u001b[0m             \u001b[0;32mif\u001b[0m \u001b[0mnouvelle_position\u001b[0m\u001b[0;34m:\u001b[0m\u001b[0;34m\u001b[0m\u001b[0;34m\u001b[0m\u001b[0m\n\u001b[0;32m---> 24\u001b[0;31m                 \u001b[0mvaleur\u001b[0m \u001b[0;34m=\u001b[0m \u001b[0malphabeta\u001b[0m\u001b[0;34m(\u001b[0m\u001b[0mnouvelle_position\u001b[0m\u001b[0;34m,\u001b[0m \u001b[0mprof\u001b[0m \u001b[0;34m-\u001b[0m \u001b[0;36m1\u001b[0m\u001b[0;34m,\u001b[0m \u001b[0malpha\u001b[0m\u001b[0;34m,\u001b[0m \u001b[0mbeta\u001b[0m\u001b[0;34m)\u001b[0m\u001b[0;34m[\u001b[0m\u001b[0;36m1\u001b[0m\u001b[0;34m]\u001b[0m\u001b[0;34m\u001b[0m\u001b[0;34m\u001b[0m\u001b[0m\n\u001b[0m\u001b[1;32m     25\u001b[0m                 \u001b[0;32mif\u001b[0m \u001b[0mvaleur\u001b[0m \u001b[0;34m<\u001b[0m \u001b[0mbeta\u001b[0m\u001b[0;34m:\u001b[0m\u001b[0;34m\u001b[0m\u001b[0;34m\u001b[0m\u001b[0m\n\u001b[1;32m     26\u001b[0m                     \u001b[0mcoup_optimal\u001b[0m \u001b[0;34m=\u001b[0m \u001b[0mcoup\u001b[0m\u001b[0;34m\u001b[0m\u001b[0;34m\u001b[0m\u001b[0m\n",
      "\u001b[0;32m/tmp/ipykernel_6005/1073295735.py\u001b[0m in \u001b[0;36malphabeta\u001b[0;34m(position, prof, alpha, beta)\u001b[0m\n\u001b[1;32m     13\u001b[0m             \u001b[0mnouvelle_position\u001b[0m \u001b[0;34m=\u001b[0m \u001b[0meffectue_si_valide\u001b[0m\u001b[0;34m(\u001b[0m\u001b[0mposition\u001b[0m\u001b[0;34m,\u001b[0m \u001b[0mcoup\u001b[0m\u001b[0;34m)\u001b[0m\u001b[0;34m\u001b[0m\u001b[0;34m\u001b[0m\u001b[0m\n\u001b[1;32m     14\u001b[0m             \u001b[0;32mif\u001b[0m \u001b[0mnouvelle_position\u001b[0m\u001b[0;34m:\u001b[0m\u001b[0;34m\u001b[0m\u001b[0;34m\u001b[0m\u001b[0m\n\u001b[0;32m---> 15\u001b[0;31m                 \u001b[0mvaleur\u001b[0m \u001b[0;34m=\u001b[0m \u001b[0malphabeta\u001b[0m\u001b[0;34m(\u001b[0m\u001b[0mnouvelle_position\u001b[0m\u001b[0;34m,\u001b[0m \u001b[0mprof\u001b[0m \u001b[0;34m-\u001b[0m \u001b[0;36m1\u001b[0m\u001b[0;34m,\u001b[0m \u001b[0malpha\u001b[0m\u001b[0;34m,\u001b[0m \u001b[0mbeta\u001b[0m\u001b[0;34m)\u001b[0m\u001b[0;34m[\u001b[0m\u001b[0;36m1\u001b[0m\u001b[0;34m]\u001b[0m\u001b[0;34m\u001b[0m\u001b[0;34m\u001b[0m\u001b[0m\n\u001b[0m\u001b[1;32m     16\u001b[0m                 \u001b[0;32mif\u001b[0m \u001b[0mvaleur\u001b[0m \u001b[0;34m>\u001b[0m \u001b[0malpha\u001b[0m\u001b[0;34m:\u001b[0m\u001b[0;34m\u001b[0m\u001b[0;34m\u001b[0m\u001b[0m\n\u001b[1;32m     17\u001b[0m                     \u001b[0mcoup_optimal\u001b[0m \u001b[0;34m=\u001b[0m \u001b[0mcoup\u001b[0m\u001b[0;34m\u001b[0m\u001b[0;34m\u001b[0m\u001b[0m\n",
      "\u001b[0;32m/tmp/ipykernel_6005/1073295735.py\u001b[0m in \u001b[0;36malphabeta\u001b[0;34m(position, prof, alpha, beta)\u001b[0m\n\u001b[1;32m     22\u001b[0m             \u001b[0mnouvelle_position\u001b[0m \u001b[0;34m=\u001b[0m \u001b[0meffectue_si_valide\u001b[0m\u001b[0;34m(\u001b[0m\u001b[0mposition\u001b[0m\u001b[0;34m,\u001b[0m \u001b[0mcoup\u001b[0m\u001b[0;34m)\u001b[0m\u001b[0;34m\u001b[0m\u001b[0;34m\u001b[0m\u001b[0m\n\u001b[1;32m     23\u001b[0m             \u001b[0;32mif\u001b[0m \u001b[0mnouvelle_position\u001b[0m\u001b[0;34m:\u001b[0m\u001b[0;34m\u001b[0m\u001b[0;34m\u001b[0m\u001b[0m\n\u001b[0;32m---> 24\u001b[0;31m                 \u001b[0mvaleur\u001b[0m \u001b[0;34m=\u001b[0m \u001b[0malphabeta\u001b[0m\u001b[0;34m(\u001b[0m\u001b[0mnouvelle_position\u001b[0m\u001b[0;34m,\u001b[0m \u001b[0mprof\u001b[0m \u001b[0;34m-\u001b[0m \u001b[0;36m1\u001b[0m\u001b[0;34m,\u001b[0m \u001b[0malpha\u001b[0m\u001b[0;34m,\u001b[0m \u001b[0mbeta\u001b[0m\u001b[0;34m)\u001b[0m\u001b[0;34m[\u001b[0m\u001b[0;36m1\u001b[0m\u001b[0;34m]\u001b[0m\u001b[0;34m\u001b[0m\u001b[0;34m\u001b[0m\u001b[0m\n\u001b[0m\u001b[1;32m     25\u001b[0m                 \u001b[0;32mif\u001b[0m \u001b[0mvaleur\u001b[0m \u001b[0;34m<\u001b[0m \u001b[0mbeta\u001b[0m\u001b[0;34m:\u001b[0m\u001b[0;34m\u001b[0m\u001b[0;34m\u001b[0m\u001b[0m\n\u001b[1;32m     26\u001b[0m                     \u001b[0mcoup_optimal\u001b[0m \u001b[0;34m=\u001b[0m \u001b[0mcoup\u001b[0m\u001b[0;34m\u001b[0m\u001b[0;34m\u001b[0m\u001b[0m\n",
      "\u001b[0;32m/tmp/ipykernel_6005/1073295735.py\u001b[0m in \u001b[0;36malphabeta\u001b[0;34m(position, prof, alpha, beta)\u001b[0m\n\u001b[1;32m      5\u001b[0m     \u001b[0;31m# si la position est terminale ou la profondeur de l'arbre est nul,\u001b[0m\u001b[0;34m\u001b[0m\u001b[0;34m\u001b[0m\u001b[0;34m\u001b[0m\u001b[0m\n\u001b[1;32m      6\u001b[0m     \u001b[0;31m# l'algorithme minimax s'arrête\u001b[0m\u001b[0;34m\u001b[0m\u001b[0;34m\u001b[0m\u001b[0;34m\u001b[0m\u001b[0m\n\u001b[0;32m----> 7\u001b[0;31m     \u001b[0;32mif\u001b[0m \u001b[0mprof\u001b[0m \u001b[0;34m==\u001b[0m \u001b[0;36m0\u001b[0m \u001b[0;32mor\u001b[0m \u001b[0mest_terminale\u001b[0m\u001b[0;34m(\u001b[0m\u001b[0mposition\u001b[0m\u001b[0;34m)\u001b[0m\u001b[0;34m:\u001b[0m\u001b[0;34m\u001b[0m\u001b[0;34m\u001b[0m\u001b[0m\n\u001b[0m\u001b[1;32m      8\u001b[0m         \u001b[0;32mreturn\u001b[0m \u001b[0;34m(\u001b[0m\u001b[0mcoup_optimal\u001b[0m\u001b[0;34m,\u001b[0m \u001b[0mevalue\u001b[0m\u001b[0;34m(\u001b[0m\u001b[0mposition\u001b[0m\u001b[0;34m)\u001b[0m\u001b[0;34m)\u001b[0m\u001b[0;34m\u001b[0m\u001b[0;34m\u001b[0m\u001b[0m\n\u001b[1;32m      9\u001b[0m \u001b[0;34m\u001b[0m\u001b[0m\n",
      "\u001b[0;32m/tmp/ipykernel_6005/2292224548.py\u001b[0m in \u001b[0;36mest_terminale\u001b[0;34m(position)\u001b[0m\n\u001b[1;32m     45\u001b[0m     \u001b[0;31m# nb_graines_total / 2 + 1 graines\u001b[0m\u001b[0;34m\u001b[0m\u001b[0;34m\u001b[0m\u001b[0;34m\u001b[0m\u001b[0m\n\u001b[1;32m     46\u001b[0m     \u001b[0mgagnant\u001b[0m \u001b[0;34m=\u001b[0m \u001b[0;34m[\u001b[0m\u001b[0mgain\u001b[0m \u001b[0;34m>=\u001b[0m \u001b[0mnb_victoire\u001b[0m \u001b[0;32mfor\u001b[0m \u001b[0mgain\u001b[0m \u001b[0;32min\u001b[0m \u001b[0mposition\u001b[0m\u001b[0;34m[\u001b[0m\u001b[0;34m\"gain\"\u001b[0m\u001b[0;34m]\u001b[0m\u001b[0;34m.\u001b[0m\u001b[0mvalues\u001b[0m\u001b[0;34m(\u001b[0m\u001b[0;34m)\u001b[0m\u001b[0;34m]\u001b[0m\u001b[0;34m\u001b[0m\u001b[0;34m\u001b[0m\u001b[0m\n\u001b[0;32m---> 47\u001b[0;31m     \u001b[0mcoups_possibles\u001b[0m \u001b[0;34m=\u001b[0m \u001b[0;34m[\u001b[0m\u001b[0meffectue_si_valide\u001b[0m\u001b[0;34m(\u001b[0m\u001b[0mposition\u001b[0m\u001b[0;34m,\u001b[0m \u001b[0mcoup\u001b[0m\u001b[0;34m)\u001b[0m \u001b[0;32mis\u001b[0m \u001b[0;32mFalse\u001b[0m \u001b[0;32mfor\u001b[0m \u001b[0mcoup\u001b[0m \u001b[0;32min\u001b[0m \u001b[0mrange\u001b[0m\u001b[0;34m(\u001b[0m\u001b[0;36m1\u001b[0m\u001b[0;34m,\u001b[0m \u001b[0mn\u001b[0m \u001b[0;34m+\u001b[0m \u001b[0;36m1\u001b[0m\u001b[0;34m)\u001b[0m\u001b[0;34m]\u001b[0m\u001b[0;34m\u001b[0m\u001b[0;34m\u001b[0m\u001b[0m\n\u001b[0m\u001b[1;32m     48\u001b[0m     \u001b[0;32mreturn\u001b[0m \u001b[0mall\u001b[0m\u001b[0;34m(\u001b[0m\u001b[0mcoups_possibles\u001b[0m\u001b[0;34m)\u001b[0m \u001b[0;32mor\u001b[0m \u001b[0many\u001b[0m\u001b[0;34m(\u001b[0m\u001b[0mgagnant\u001b[0m\u001b[0;34m)\u001b[0m\u001b[0;34m\u001b[0m\u001b[0;34m\u001b[0m\u001b[0m\n",
      "\u001b[0;32m/tmp/ipykernel_6005/2292224548.py\u001b[0m in \u001b[0;36m<listcomp>\u001b[0;34m(.0)\u001b[0m\n\u001b[1;32m     45\u001b[0m     \u001b[0;31m# nb_graines_total / 2 + 1 graines\u001b[0m\u001b[0;34m\u001b[0m\u001b[0;34m\u001b[0m\u001b[0;34m\u001b[0m\u001b[0m\n\u001b[1;32m     46\u001b[0m     \u001b[0mgagnant\u001b[0m \u001b[0;34m=\u001b[0m \u001b[0;34m[\u001b[0m\u001b[0mgain\u001b[0m \u001b[0;34m>=\u001b[0m \u001b[0mnb_victoire\u001b[0m \u001b[0;32mfor\u001b[0m \u001b[0mgain\u001b[0m \u001b[0;32min\u001b[0m \u001b[0mposition\u001b[0m\u001b[0;34m[\u001b[0m\u001b[0;34m\"gain\"\u001b[0m\u001b[0;34m]\u001b[0m\u001b[0;34m.\u001b[0m\u001b[0mvalues\u001b[0m\u001b[0;34m(\u001b[0m\u001b[0;34m)\u001b[0m\u001b[0;34m]\u001b[0m\u001b[0;34m\u001b[0m\u001b[0;34m\u001b[0m\u001b[0m\n\u001b[0;32m---> 47\u001b[0;31m     \u001b[0mcoups_possibles\u001b[0m \u001b[0;34m=\u001b[0m \u001b[0;34m[\u001b[0m\u001b[0meffectue_si_valide\u001b[0m\u001b[0;34m(\u001b[0m\u001b[0mposition\u001b[0m\u001b[0;34m,\u001b[0m \u001b[0mcoup\u001b[0m\u001b[0;34m)\u001b[0m \u001b[0;32mis\u001b[0m \u001b[0;32mFalse\u001b[0m \u001b[0;32mfor\u001b[0m \u001b[0mcoup\u001b[0m \u001b[0;32min\u001b[0m \u001b[0mrange\u001b[0m\u001b[0;34m(\u001b[0m\u001b[0;36m1\u001b[0m\u001b[0;34m,\u001b[0m \u001b[0mn\u001b[0m \u001b[0;34m+\u001b[0m \u001b[0;36m1\u001b[0m\u001b[0;34m)\u001b[0m\u001b[0;34m]\u001b[0m\u001b[0;34m\u001b[0m\u001b[0;34m\u001b[0m\u001b[0m\n\u001b[0m\u001b[1;32m     48\u001b[0m     \u001b[0;32mreturn\u001b[0m \u001b[0mall\u001b[0m\u001b[0;34m(\u001b[0m\u001b[0mcoups_possibles\u001b[0m\u001b[0;34m)\u001b[0m \u001b[0;32mor\u001b[0m \u001b[0many\u001b[0m\u001b[0;34m(\u001b[0m\u001b[0mgagnant\u001b[0m\u001b[0;34m)\u001b[0m\u001b[0;34m\u001b[0m\u001b[0;34m\u001b[0m\u001b[0m\n",
      "\u001b[0;32m/tmp/ipykernel_6005/2292224548.py\u001b[0m in \u001b[0;36meffectue_si_valide\u001b[0;34m(position, coup)\u001b[0m\n\u001b[1;32m     29\u001b[0m     \u001b[0mRetourne\u001b[0m \u001b[0mla\u001b[0m \u001b[0mnouvelle\u001b[0m \u001b[0mposition\u001b[0m \u001b[0msi\u001b[0m \u001b[0mla\u001b[0m \u001b[0mposition\u001b[0m \u001b[0mest\u001b[0m \u001b[0mvalide\u001b[0m \u001b[0mou\u001b[0m \u001b[0;32mFalse\u001b[0m \u001b[0msinon\u001b[0m\u001b[0;34m.\u001b[0m\u001b[0;34m\u001b[0m\u001b[0;34m\u001b[0m\u001b[0m\n\u001b[1;32m     30\u001b[0m     \"\"\"\n\u001b[0;32m---> 31\u001b[0;31m     \u001b[0;32mif\u001b[0m \u001b[0mest_correct\u001b[0m\u001b[0;34m(\u001b[0m\u001b[0mposition\u001b[0m\u001b[0;34m,\u001b[0m \u001b[0mcoup\u001b[0m\u001b[0;34m)\u001b[0m \u001b[0;32mand\u001b[0m \u001b[0mest_legale\u001b[0m\u001b[0;34m(\u001b[0m\u001b[0maw\u001b[0m\u001b[0;34m.\u001b[0m\u001b[0mjoue_un_coup\u001b[0m\u001b[0;34m(\u001b[0m\u001b[0mposition\u001b[0m\u001b[0;34m,\u001b[0m \u001b[0mcoup\u001b[0m\u001b[0;34m)\u001b[0m\u001b[0;34m)\u001b[0m\u001b[0;34m:\u001b[0m\u001b[0;34m\u001b[0m\u001b[0;34m\u001b[0m\u001b[0m\n\u001b[0m\u001b[1;32m     32\u001b[0m         \u001b[0;32mreturn\u001b[0m \u001b[0maw\u001b[0m\u001b[0;34m.\u001b[0m\u001b[0mjoue_un_coup\u001b[0m\u001b[0;34m(\u001b[0m\u001b[0mposition\u001b[0m\u001b[0;34m,\u001b[0m \u001b[0mcoup\u001b[0m\u001b[0;34m)\u001b[0m\u001b[0;34m\u001b[0m\u001b[0;34m\u001b[0m\u001b[0m\n\u001b[1;32m     33\u001b[0m     \u001b[0;32mreturn\u001b[0m \u001b[0;32mFalse\u001b[0m\u001b[0;34m\u001b[0m\u001b[0;34m\u001b[0m\u001b[0m\n",
      "\u001b[0;32m/users/nfs/Etu4/21213744/DAC/IAMSI/tme01-02/IAMSI/awele.py\u001b[0m in \u001b[0;36mjoue_un_coup\u001b[0;34m(position, coup)\u001b[0m\n\u001b[1;32m     82\u001b[0m     \u001b[0mCette\u001b[0m \u001b[0mfonction\u001b[0m \u001b[0mretourne\u001b[0m \u001b[0mla\u001b[0m \u001b[0mposition\u001b[0m \u001b[0mobtenue\u001b[0m \u001b[0mune\u001b[0m \u001b[0mfois\u001b[0m \u001b[0mle\u001b[0m \u001b[0mcoup\u001b[0m \u001b[0mjoué\u001b[0m\u001b[0;34m.\u001b[0m\u001b[0;34m\u001b[0m\u001b[0;34m\u001b[0m\u001b[0m\n\u001b[1;32m     83\u001b[0m     \"\"\"\n\u001b[0;32m---> 84\u001b[0;31m     \u001b[0mnouvelle_pos\u001b[0m \u001b[0;34m=\u001b[0m \u001b[0mduplique\u001b[0m\u001b[0;34m(\u001b[0m\u001b[0mposition\u001b[0m\u001b[0;34m)\u001b[0m  \u001b[0;31m# on duplique pour ne pas modifier l'original\u001b[0m\u001b[0;34m\u001b[0m\u001b[0;34m\u001b[0m\u001b[0m\n\u001b[0m\u001b[1;32m     85\u001b[0m     \u001b[0mn\u001b[0m \u001b[0;34m=\u001b[0m \u001b[0mnouvelle_pos\u001b[0m\u001b[0;34m[\u001b[0m\u001b[0;34m\"dimension\"\u001b[0m\u001b[0;34m]\u001b[0m\u001b[0;34m\u001b[0m\u001b[0;34m\u001b[0m\u001b[0m\n\u001b[1;32m     86\u001b[0m     \u001b[0mtrait\u001b[0m \u001b[0;34m=\u001b[0m \u001b[0mnouvelle_pos\u001b[0m\u001b[0;34m[\u001b[0m\u001b[0;34m\"trait\"\u001b[0m\u001b[0;34m]\u001b[0m\u001b[0;34m\u001b[0m\u001b[0;34m\u001b[0m\u001b[0m\n",
      "\u001b[0;32m/users/nfs/Etu4/21213744/DAC/IAMSI/tme01-02/IAMSI/awele.py\u001b[0m in \u001b[0;36mduplique\u001b[0;34m(position)\u001b[0m\n\u001b[1;32m     68\u001b[0m     \"\"\"\n\u001b[1;32m     69\u001b[0m     \u001b[0mleclone\u001b[0m \u001b[0;34m=\u001b[0m \u001b[0mdict\u001b[0m\u001b[0;34m(\u001b[0m\u001b[0;34m)\u001b[0m\u001b[0;34m\u001b[0m\u001b[0;34m\u001b[0m\u001b[0m\n\u001b[0;32m---> 70\u001b[0;31m     \u001b[0mleclone\u001b[0m\u001b[0;34m[\u001b[0m\u001b[0;34m\"plateau\"\u001b[0m\u001b[0;34m]\u001b[0m \u001b[0;34m=\u001b[0m \u001b[0mcopy\u001b[0m\u001b[0;34m.\u001b[0m\u001b[0mdeepcopy\u001b[0m\u001b[0;34m(\u001b[0m\u001b[0mposition\u001b[0m\u001b[0;34m[\u001b[0m\u001b[0;34m\"plateau\"\u001b[0m\u001b[0;34m]\u001b[0m\u001b[0;34m)\u001b[0m\u001b[0;34m\u001b[0m\u001b[0;34m\u001b[0m\u001b[0m\n\u001b[0m\u001b[1;32m     71\u001b[0m     \u001b[0mleclone\u001b[0m\u001b[0;34m[\u001b[0m\u001b[0;34m\"dimension\"\u001b[0m\u001b[0;34m]\u001b[0m \u001b[0;34m=\u001b[0m \u001b[0mposition\u001b[0m\u001b[0;34m[\u001b[0m\u001b[0;34m\"dimension\"\u001b[0m\u001b[0;34m]\u001b[0m\u001b[0;34m\u001b[0m\u001b[0;34m\u001b[0m\u001b[0m\n\u001b[1;32m     72\u001b[0m     \u001b[0mleclone\u001b[0m\u001b[0;34m[\u001b[0m\u001b[0;34m\"nb_total\"\u001b[0m\u001b[0;34m]\u001b[0m \u001b[0;34m=\u001b[0m \u001b[0mposition\u001b[0m\u001b[0;34m[\u001b[0m\u001b[0;34m\"nb_total\"\u001b[0m\u001b[0;34m]\u001b[0m\u001b[0;34m\u001b[0m\u001b[0;34m\u001b[0m\u001b[0m\n",
      "\u001b[0;32m/usr/lib/python3.9/copy.py\u001b[0m in \u001b[0;36mdeepcopy\u001b[0;34m(x, memo, _nil)\u001b[0m\n\u001b[1;32m    144\u001b[0m     \u001b[0mcopier\u001b[0m \u001b[0;34m=\u001b[0m \u001b[0m_deepcopy_dispatch\u001b[0m\u001b[0;34m.\u001b[0m\u001b[0mget\u001b[0m\u001b[0;34m(\u001b[0m\u001b[0mcls\u001b[0m\u001b[0;34m)\u001b[0m\u001b[0;34m\u001b[0m\u001b[0;34m\u001b[0m\u001b[0m\n\u001b[1;32m    145\u001b[0m     \u001b[0;32mif\u001b[0m \u001b[0mcopier\u001b[0m \u001b[0;32mis\u001b[0m \u001b[0;32mnot\u001b[0m \u001b[0;32mNone\u001b[0m\u001b[0;34m:\u001b[0m\u001b[0;34m\u001b[0m\u001b[0;34m\u001b[0m\u001b[0m\n\u001b[0;32m--> 146\u001b[0;31m         \u001b[0my\u001b[0m \u001b[0;34m=\u001b[0m \u001b[0mcopier\u001b[0m\u001b[0;34m(\u001b[0m\u001b[0mx\u001b[0m\u001b[0;34m,\u001b[0m \u001b[0mmemo\u001b[0m\u001b[0;34m)\u001b[0m\u001b[0;34m\u001b[0m\u001b[0;34m\u001b[0m\u001b[0m\n\u001b[0m\u001b[1;32m    147\u001b[0m     \u001b[0;32melse\u001b[0m\u001b[0;34m:\u001b[0m\u001b[0;34m\u001b[0m\u001b[0;34m\u001b[0m\u001b[0m\n\u001b[1;32m    148\u001b[0m         \u001b[0;32mif\u001b[0m \u001b[0missubclass\u001b[0m\u001b[0;34m(\u001b[0m\u001b[0mcls\u001b[0m\u001b[0;34m,\u001b[0m \u001b[0mtype\u001b[0m\u001b[0;34m)\u001b[0m\u001b[0;34m:\u001b[0m\u001b[0;34m\u001b[0m\u001b[0;34m\u001b[0m\u001b[0m\n",
      "\u001b[0;32m/usr/lib/python3.9/copy.py\u001b[0m in \u001b[0;36m_deepcopy_list\u001b[0;34m(x, memo, deepcopy)\u001b[0m\n\u001b[1;32m    203\u001b[0m     \u001b[0mappend\u001b[0m \u001b[0;34m=\u001b[0m \u001b[0my\u001b[0m\u001b[0;34m.\u001b[0m\u001b[0mappend\u001b[0m\u001b[0;34m\u001b[0m\u001b[0;34m\u001b[0m\u001b[0m\n\u001b[1;32m    204\u001b[0m     \u001b[0;32mfor\u001b[0m \u001b[0ma\u001b[0m \u001b[0;32min\u001b[0m \u001b[0mx\u001b[0m\u001b[0;34m:\u001b[0m\u001b[0;34m\u001b[0m\u001b[0;34m\u001b[0m\u001b[0m\n\u001b[0;32m--> 205\u001b[0;31m         \u001b[0mappend\u001b[0m\u001b[0;34m(\u001b[0m\u001b[0mdeepcopy\u001b[0m\u001b[0;34m(\u001b[0m\u001b[0ma\u001b[0m\u001b[0;34m,\u001b[0m \u001b[0mmemo\u001b[0m\u001b[0;34m)\u001b[0m\u001b[0;34m)\u001b[0m\u001b[0;34m\u001b[0m\u001b[0;34m\u001b[0m\u001b[0m\n\u001b[0m\u001b[1;32m    206\u001b[0m     \u001b[0;32mreturn\u001b[0m \u001b[0my\u001b[0m\u001b[0;34m\u001b[0m\u001b[0;34m\u001b[0m\u001b[0m\n\u001b[1;32m    207\u001b[0m \u001b[0md\u001b[0m\u001b[0;34m[\u001b[0m\u001b[0mlist\u001b[0m\u001b[0;34m]\u001b[0m \u001b[0;34m=\u001b[0m \u001b[0m_deepcopy_list\u001b[0m\u001b[0;34m\u001b[0m\u001b[0;34m\u001b[0m\u001b[0m\n",
      "\u001b[0;31mKeyboardInterrupt\u001b[0m: "
     ]
    }
   ],
   "source": [
    "print(\"*************************\\n********* Partie IA : \");\n",
    "\n",
    "# decommenter la ligne suivante:\n",
    "ia_vs_ia(taille=6, nb_graines=4, prof=10)"
   ]
  },
  {
   "cell_type": "markdown",
   "metadata": {},
   "source": [
    "# Annexe : présentation du jeu d'Awélé\n",
    "\n",
    "L'Awélé est un jeu d'origine africaine qui se joue sur un plateau (ou tablier) où chacun des 2 joueurs (Sud et Nord) possède 6 cases.  Les règles de ce jeu  sont simples et facilement implémentables.\n",
    "\n",
    "Voir la page wikipédia (http://fr.wikipedia.org/wiki/Awalé) qui détaille les règles que nous utilisons ici.\n",
    "\n",
    "### Règles du jeu\n",
    "Dans la position de départ, toutes les cases sont remplies avec 4 graines.  Le joueur dont\n",
    "c'est le tour de jeu (on considère que le camp Sud débute toujours la partie.) choisit une de ses cases contenant des graines, et en retire toutes les graines qu'elle contient.  Il sème alors ces graines une par une dans les cases suivantes dans le sens inverse des aiguilles d'une montre.  Au cours de cette pose, s'il repasse sur la case qui contenait les graines au départ, il n'y dépose pas de graine.\n",
    "\n",
    "Si la dernière graine est semée dans une case de l'adversaire contenant 2 ou 3 graines après la pose, les graines dans cette case sont capturées par le joueur et elles sont alors retirées du jeu (elles sont mises dans le gain du joueur).  Dans ce cas, si l'avant-dernière case est aussi une case ennemie contenant 2 ou 3 graines, les graines en sont aussi capturées, et ainsi de suite tant que des prises sont possibles (toujours dans le camp ennemi).\n",
    "\n",
    "Il est à noter qu'un coup n'effectue pas forcément une prise, mais si une prise existe à l'issue d'un coup, elle doit obligatoirement être réalisée totalement.\n",
    "\n",
    "A l'issue du coup ainsi exécuté, il doit rester au moins une graine dans l'une des cases de l'adversaire (il ne faut pas ''affamer'' l'adversaire) sinon la position est considérée comme illégale et le coup ne peut pas être joué.\n",
    "\n",
    "Dès qu'un joueur a capturé 25 graines ou plus, il est déclaré vainqueur de la partie et le jeu s'arrête.\n",
    "\n",
    "Dans le cas où un joueur ne peut pas jouer, la partie s'arrête et toutes les graines restant sur le tablier sont capturées par son adversaire.  Dans ce cas, le joueur qui a capturé le plus de graines a gagné.\n",
    "\n",
    "### Représentation du tablier\n",
    "\n",
    "Le tablier est toujours représenté avec les cases de Sud en bas.  \n",
    "Les cases sont ordonnées et repérées par des chiffres, de 1 à 6, de la gauche vers la droite. Dans chaque case, on indique le nombre de graines qu'elle contient. Ainsi, le tablier de départ classique est donné ci-dessous:\n",
    "\n",
    "<p/>\n",
    "<table width=\"25%\">\n",
    "<tr>\n",
    "<td>    \n",
    "**NORD**<br>\n",
    "$\\begin{array}{|c|c|c|c|c|c|} \\hline\n",
    "      4 & 4 & 4 & 4 &\t4 & 4\\\\\n",
    "      \\hline\n",
    "      4 & 4 & 4 & 4 & 4 & 4\\\\\n",
    "      \\hline\n",
    "\\end{array}$<br>\n",
    "**SUD**<br>\n",
    "$\\begin{array}{cccccc} \n",
    "      1 & 2 & 3 & 4 & 5 & 6\\\\\n",
    "\\end{array}$\n",
    "</td>\n",
    "</tr>\n",
    "</table>\n",
    "\n",
    "Un coup est noté en donnant le camp qui joue ainsi que le numéro de la case qui est vidée.  Par exemple, $($SUD$, 2)$ si le camp Sud joue en prenant les graines de la deuxième case en partant de la gauche qui se trouve dans son camp. Ou alors, $($NORD$, 6)$ si le camp Nord joue en prenant les graines de la case numéro 6 qui se trouve dans son camp, c'est à dire la sixième case en partant de la gauche qui se trouve dans son camp, soit celle la plus en haut et à droite du tablier.\n",
    "\n",
    "\n",
    "### Exemple de coup avec prise de graines\n",
    "\n",
    "A partir de la position située à gauche dans la figure ci-dessous, Sud décide de jouer le coup $4$.  La position au centre de la figure montre la situation intermédiaire, suite au dépôt des $6$ graines dans les $6$ cases qui suivent la case $4$ dans l'ordre inverse des aiguilles d'une montre.\n",
    "\n",
    "<p />\n",
    "<table width=\"60%\">\n",
    "<tr>\n",
    "<td>Départ</td>\n",
    "<td>SUD a réparti les graines de $4$</td>\n",
    "<td>SUD retire les graines dans le camp NORD</td>\n",
    "</tr>\n",
    "<tr>\n",
    "<td>\n",
    "**NORD**<br>\n",
    "$\\begin{array}{|c|c|c|c|c|c|} \\hline\n",
    " & 2 & 1 & 2 & 1 & 1\\\\\n",
    "\\hline\n",
    "1 & & & {\\bf 6} & & 1\\\\\n",
    "     \\hline\n",
    "\\end{array}$<br>\n",
    "**SUD**\n",
    "</td>\n",
    "<td>\n",
    "**NORD**<br>\n",
    "$\\begin{array}{|c|c|c|c|c|c|} \\hline\n",
    "& 2 & {\\bf 2} & {\\bf 3} & {\\bf 2} & {\\bf 2}\\\\\n",
    "\\hline\n",
    "1 & & & & {\\bf 1} & {\\bf 2}\\\\\n",
    "      \\hline\n",
    "\\end{array}$<br>\n",
    "**SUD**\n",
    "</td>\n",
    "<td>\n",
    "**NORD**<br>\n",
    "$\\begin{array}{|c|c|c|c|c|c|} \\hline\n",
    "& 2 & & & & \\\\\n",
    "\\hline\n",
    "1 & & & & {\\bf 1} & {\\bf 2}\\\\\n",
    "      \\hline\n",
    "\\end{array}$<br>\n",
    "**SUD**\n",
    "</td>\n",
    "</tr>\n",
    "<tr>\n",
    "<td>\n",
    "$\\begin{array}{cccccc} \n",
    "      1 & 2 & 3 & 4 & 5 & 6\\\\\n",
    "\\end{array}$\n",
    "</td>\n",
    "<td>\n",
    "$\\begin{array}{cccccc} \n",
    "      1 & 2 & 3 & 4 & 5 & 6\\\\\n",
    "\\end{array}$\n",
    "</td>\n",
    "<td>\n",
    "$\\begin{array}{cccccc} \n",
    "      1 & 2 & 3 & 4 & 5 & 6\\\\\n",
    "\\end{array}$\n",
    "</td>\n",
    "</tr>\n",
    "\n",
    "</table>\n",
    "\n",
    "\n",
    "Comme la dernière case où une graine a été posée (la case $3$ du camp Nord) contient maintenant $2$ graines, celles-ci sont prises par Sud, ainsi que celles des cases $4$, $5$ et $6$ qui contiennent (en suivant cet ordre) $2$ ou $3$ graines.  Au total, avec ce coup, Sud prend $9$ graines.  A l'issue des prises réalisées, on obtient finalement la nouvelle position présentée à droite de la figure.  Maintenant, Nord n'a qu'une seule possibilité et doit jouer les graines de la case $2$."
   ]
  },
  {
   "cell_type": "markdown",
   "metadata": {},
   "source": [
    "## Annexe : un peu de langage Python...\n",
    "\n",
    "### Documentation\n",
    "\n",
    "Quelques liens utiles pour se documenter sur le langage Python :\n",
    "- Tutoriel : http://python.developpez.com/cours/\n",
    "- Documentation officielle : https://docs.python.org/fr/3/\n",
    "\n",
    "### Quelques fonctions utiles\n",
    "\n",
    "- Saisie d'une valeur au clavier (noter que la fonction <code>input</code> retourne une chaîne de caractères) :\n",
    "    <pre>\n",
    "    saisie = input(\"Entrez un nombre :\")\n",
    "    </pre>\n",
    "- Pour utiliser des fonctions de gestion de l'aléatoire :\n",
    "    <pre>\n",
    "import random\n",
    "    </pre>\n",
    "    - génération d'une valeur aléatoire comprise entre 1 et 10 inclus :\n",
    "    <pre>\n",
    "random.randint(1,10)\n",
    "    </pre>\n",
    "    - tirage aléatoire d'un élément dans une liste :\n",
    "    <pre>\n",
    "random.choice(['a','b','c','d','e','f'])\n",
    "    </pre>"
   ]
  },
  {
   "cell_type": "code",
   "execution_count": null,
   "metadata": {},
   "outputs": [],
   "source": []
  }
 ],
 "metadata": {
  "kernelspec": {
   "display_name": "base",
   "language": "python",
   "name": "python3"
  },
  "language_info": {
   "codemirror_mode": {
    "name": "ipython",
    "version": 3
   },
   "file_extension": ".py",
   "mimetype": "text/x-python",
   "name": "python",
   "nbconvert_exporter": "python",
   "pygments_lexer": "ipython3",
   "version": "3.9.15"
  },
  "vscode": {
   "interpreter": {
    "hash": "c58e34eadad72e4a49d885cdf4dc6f5ec7648655391e938737c552628e5bb536"
   }
  }
 },
 "nbformat": 4,
 "nbformat_minor": 4
}
