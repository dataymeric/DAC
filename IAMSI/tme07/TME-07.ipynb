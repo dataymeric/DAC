{
 "cells": [
  {
   "attachments": {},
   "cell_type": "markdown",
   "metadata": {},
   "source": [
    "## IAMSI -- 2022-2023\n",
    "\n",
    "# TME 07: Règles d'association\n"
   ]
  },
  {
   "attachments": {},
   "cell_type": "markdown",
   "metadata": {},
   "source": [
    "<font color=\"RED\" size=\"+1\">**[Q]**</font> **Indiquer dans la boîte ci-dessous vos noms et prénoms**\n"
   ]
  },
  {
   "attachments": {},
   "cell_type": "markdown",
   "metadata": {},
   "source": [
    "_Double-cliquer ici et insérer les noms et prénoms de votre binôme_\n"
   ]
  },
  {
   "attachments": {},
   "cell_type": "markdown",
   "metadata": {},
   "source": [
    "## Présentation\n"
   ]
  },
  {
   "attachments": {},
   "cell_type": "markdown",
   "metadata": {},
   "source": [
    "### But de ce TME\n",
    "\n",
    "Ce TME a pour but de réaliser une implémentation _intuitive_ de l'algorithme **apriori** afin de la comparer à une version efficace de cet algorithme, puis à une implémentation de l'algorithme **fp-growth**.\n"
   ]
  },
  {
   "attachments": {},
   "cell_type": "markdown",
   "metadata": {},
   "source": [
    "#### Contenu de l'archive téléchargée\n",
    "\n",
    "Une fois détarée, l'archive **tme-07.tgz** crée le répertoire `tme07` contenant :\n",
    "\n",
    "- un répertoire `dataset` contenant des bases d'exemples pour tester les algorithmes\n",
    "- deux fichiers exécutables (Linux): `apriori32` et `fpgrowth32` (ces 2 programmes ont été développés par Christian Borgelt, plus d'infos sur sa page web https://www.borgelt.net/software.html). Ces programmes seront utilisés en fin de séance. Si vous n'êtes pas sous Linux, vous pouvez trouver une version pour votre OS ici:\n",
    "  - `apriori` : https://borgelt.net/apriori.html\n",
    "  - `fpgrowth` : https://borgelt.net/fpgrowth.html\n"
   ]
  },
  {
   "attachments": {},
   "cell_type": "markdown",
   "metadata": {},
   "source": [
    "#### Compte-rendu de la séance\n",
    "\n",
    "Le compte-rendu de ce TME se compose de ce notebook complété par les réponses aux questions posées.\n",
    "\n",
    "Ce compte-rendu est à poster :\n",
    "\n",
    "- à l'issue de la séance, un premier envoi doit être **obligatoirement** fait avec ce que vous avez réalisé\n",
    "- si nécessaire, un complément peut être envoyé **au plus tard avant le début de la prochaine séance**.\n"
   ]
  },
  {
   "attachments": {},
   "cell_type": "markdown",
   "metadata": {},
   "source": [
    "<font color=\"RED\">IMPORTANT: soumission de votre fichier final</font>\n",
    "\n",
    "**Nom à donner au fichier à poster** : _Nom1_Nom2.ipynb_\n",
    "\n",
    "- _Nom1_ et _Nom2_ : noms des membres du binôme\n",
    "- ne pas compresser ou faire une archive : envoyer le notebook tel quel, éventuellement, si vous avez d'autres fichiers à envoyer, les joindre au message.\n"
   ]
  },
  {
   "cell_type": "code",
   "execution_count": 1,
   "metadata": {
    "collapsed": true
   },
   "outputs": [
    {
     "data": {
      "text/plain": [
       "['/home/aymeric/Documents/DAC/S2/IAMSI/tme07',\n",
       " '/home/aymeric/.pyenv/versions/3.10.10/lib/python310.zip',\n",
       " '/home/aymeric/.pyenv/versions/3.10.10/lib/python3.10',\n",
       " '/home/aymeric/.pyenv/versions/3.10.10/lib/python3.10/lib-dynload',\n",
       " '',\n",
       " '/home/aymeric/.pyenv/versions/3.10.10/lib/python3.10/site-packages']"
      ]
     },
     "execution_count": 1,
     "metadata": {},
     "output_type": "execute_result"
    }
   ],
   "source": [
    "# Vérification de la version de Python utilisée:\n",
    "import sys\n",
    "\n",
    "sys.path  # le path doit contenir python3.5 ou une version supérieure\n"
   ]
  },
  {
   "cell_type": "code",
   "execution_count": 78,
   "metadata": {},
   "outputs": [],
   "source": [
    "from pprint import pprint\n"
   ]
  },
  {
   "attachments": {},
   "cell_type": "markdown",
   "metadata": {},
   "source": [
    "## Traitement d'une base d'apprentissage\n",
    "\n",
    "### Chargement de la base\n",
    "\n",
    "On commence par travailler sur la base exemple du fichier `exemple-1.txt` (fourni dans le répertoire datasets).\n",
    "\n",
    "Ce fichier contient une transaction par ligne. Chaque transaction est composée d'un groupe d'items séparés par un espace.\n",
    "\n",
    "On peut charger en Python ce fichier par la commande suivante (le répertoire datasets doit se trouver dans le répertoire courant) :\n"
   ]
  },
  {
   "cell_type": "code",
   "execution_count": 2,
   "metadata": {
    "scrolled": true
   },
   "outputs": [
    {
     "name": "stdout",
     "output_type": "stream",
     "text": [
      "ligne 1 : ['a', 'b', 'c'] {'c', 'a', 'b'}\n",
      "ligne 2 : ['a', 'd', 'e'] {'e', 'a', 'd'}\n",
      "ligne 3 : ['b', 'c', 'd'] {'b', 'd', 'c'}\n",
      "ligne 4 : ['a', 'b', 'c', 'd'] {'c', 'a', 'd', 'b'}\n",
      "ligne 5 : ['b', 'c'] {'b', 'c'}\n",
      "ligne 6 : ['a', 'b', 'd'] {'a', 'd', 'b'}\n",
      "ligne 7 : ['d', 'e'] {'e', 'd'}\n",
      "ligne 8 : ['a', 'b', 'c', 'd'] {'c', 'a', 'd', 'b'}\n",
      "ligne 9 : ['c', 'd', 'e'] {'e', 'd', 'c'}\n",
      "ligne 10 : ['a', 'b', 'c'] {'c', 'a', 'b'}\n"
     ]
    }
   ],
   "source": [
    "import csv\n",
    "\n",
    "with open(\"datasets/exemple-1.txt\", \"r\") as fichier:\n",
    "    lecteur = csv.reader(fichier, delimiter=\" \")\n",
    "    i = 0\n",
    "    for ligne in lecteur:\n",
    "        i += 1\n",
    "        print(\"ligne\", i, \":\", ligne, set(ligne))\n"
   ]
  },
  {
   "attachments": {},
   "cell_type": "markdown",
   "metadata": {},
   "source": [
    "<font color=\"RED\" size=\"+1\">**[Q]**</font> Ecrire la fonction `chargeBase` qui prend en argument un nom de fichier, respectant le format énoncé plus haut, le lit et rend un dictionnaire dont les clés sont les numéros de ligne (une transaction) et les valeurs associées les itemsets correspondants représentés sous forme d'ensembles Python (des `set()` donc).\n",
    "\n",
    "Ici, il est plus intéressant de représenter un itemset comme un ensemble Python plutôt que comme une liste. Il est ainsi plus facile de réaliser des comparaisons d'ensembles ou des ajouts d'éléments.\n",
    "\n",
    "Dans le reste de ce document, on appelle **BASE** un dictionnaire de ce type.\n"
   ]
  },
  {
   "cell_type": "code",
   "execution_count": 25,
   "metadata": {},
   "outputs": [],
   "source": [
    "def chargeBase(filepath, delimiteur=\" \"):\n",
    "    \"\"\"Renvoie les itemsets contenus dans un fichier texte.\n",
    "\n",
    "    Parameters\n",
    "    ----------\n",
    "    filename : str\n",
    "        Chemin vers le fichier.\n",
    "    delimiteur : str, default=\" \"\n",
    "        Le caractère utilisé pour séparer les données.\n",
    "\n",
    "    Returns\n",
    "    -------\n",
    "    base : dict of set\n",
    "        Ensemble des itemsets.\n",
    "        Clé : numéro de la transaction (numéro de la ligne).\n",
    "        Valeur : itemset correspondant.\n",
    "    \"\"\"\n",
    "    import csv\n",
    "\n",
    "    base = {}\n",
    "    with open(filepath, \"r\") as fichier:\n",
    "        lecteur = csv.reader(fichier, delimiter=delimiteur)\n",
    "        for row, ligne in enumerate(lecteur):\n",
    "            base[row] = set(ligne)\n",
    "    return base\n"
   ]
  },
  {
   "cell_type": "code",
   "execution_count": 4,
   "metadata": {},
   "outputs": [
    {
     "name": "stdout",
     "output_type": "stream",
     "text": [
      "Résultat du chargement de 'exemple-1.txt', on obtient : \n"
     ]
    },
    {
     "data": {
      "text/plain": [
       "{0: {'a', 'b', 'c'},\n",
       " 1: {'a', 'd', 'e'},\n",
       " 2: {'b', 'c', 'd'},\n",
       " 3: {'a', 'b', 'c', 'd'},\n",
       " 4: {'b', 'c'},\n",
       " 5: {'a', 'b', 'd'},\n",
       " 6: {'d', 'e'},\n",
       " 7: {'a', 'b', 'c', 'd'},\n",
       " 8: {'c', 'd', 'e'},\n",
       " 9: {'a', 'b', 'c'}}"
      ]
     },
     "execution_count": 4,
     "metadata": {},
     "output_type": "execute_result"
    }
   ],
   "source": [
    "print(\"Résultat du chargement de 'exemple-1.txt', on obtient : \")\n",
    "Base1 = chargeBase(\"datasets/exemple-1.txt\")\n",
    "Base1\n"
   ]
  },
  {
   "attachments": {},
   "cell_type": "markdown",
   "metadata": {},
   "source": [
    "On utilise la variable **Base1** dans la suite pour faire référence à cette base.\n"
   ]
  },
  {
   "attachments": {},
   "cell_type": "markdown",
   "metadata": {},
   "source": [
    "## Itemsets et support\n"
   ]
  },
  {
   "attachments": {},
   "cell_type": "markdown",
   "metadata": {},
   "source": [
    "<font color=\"RED\" size=\"+1\">**[Q]**</font> Ecrire la fonction `noms_items` qui prend en argument une BASE et rend l'ensemble des items qui composent cette base.\n"
   ]
  },
  {
   "cell_type": "code",
   "execution_count": 5,
   "metadata": {},
   "outputs": [],
   "source": [
    "def noms_items(base):\n",
    "    \"\"\"Renvoie l'ensemble des items composant une base.\n",
    "\n",
    "    Parameters\n",
    "    ----------\n",
    "    base : dict of set\n",
    "        Ensemble des itemsets.\n",
    "\n",
    "    Returns\n",
    "    -------\n",
    "    set\n",
    "        Items uniques de la base.\n",
    "    \"\"\"\n",
    "    return set().union(*[itemset for itemset in base.values()])\n"
   ]
  },
  {
   "cell_type": "code",
   "execution_count": 81,
   "metadata": {},
   "outputs": [
    {
     "name": "stdout",
     "output_type": "stream",
     "text": [
      "Pour la BASE précédente :\n"
     ]
    },
    {
     "data": {
      "text/plain": [
       "{'a', 'b', 'c', 'd', 'e'}"
      ]
     },
     "execution_count": 81,
     "metadata": {},
     "output_type": "execute_result"
    }
   ],
   "source": [
    "print(\"Pour la BASE précédente :\")\n",
    "noms_items(Base1)\n"
   ]
  },
  {
   "attachments": {},
   "cell_type": "markdown",
   "metadata": {},
   "source": [
    "<font color=\"RED\" size=\"+1\">**[Q]**</font> Ecrire la fonction `singletons` qui prend en argument une BASE et rend la liste des itemsets de taille 1 obtenus à partir de cette base.\n",
    "\n",
    "_Remarque_ : attention, ici on utilise une **liste** pour stocker les itemsets (un itemset est un ensemble Python) car il n'est pas possible en Python de créer des ensembles d'ensembles.\n"
   ]
  },
  {
   "cell_type": "code",
   "execution_count": 7,
   "metadata": {},
   "outputs": [],
   "source": [
    "def singletons(base):\n",
    "    \"\"\"Rend la liste des itemsets de taille 1 d'une base.\n",
    "\n",
    "    Parameters\n",
    "    ----------\n",
    "    base : dict of set\n",
    "        Ensemble des itemsets.\n",
    "\n",
    "    Returns\n",
    "    -------\n",
    "    list of set\n",
    "        Liste des singletons de la base.\n",
    "    \"\"\"\n",
    "    return [{singleton} for singleton in noms_items(base)]\n"
   ]
  },
  {
   "cell_type": "code",
   "execution_count": 8,
   "metadata": {},
   "outputs": [
    {
     "name": "stdout",
     "output_type": "stream",
     "text": [
      "Exemple: singletons(Base1) rend :\n"
     ]
    },
    {
     "data": {
      "text/plain": [
       "[{'d'}, {'b'}, {'a'}, {'c'}, {'e'}]"
      ]
     },
     "execution_count": 8,
     "metadata": {},
     "output_type": "execute_result"
    }
   ],
   "source": [
    "print(\"Exemple: singletons(Base1) rend :\")\n",
    "singletons(Base1)\n"
   ]
  },
  {
   "attachments": {},
   "cell_type": "markdown",
   "metadata": {},
   "source": [
    "<font color=\"RED\" size=\"+1\">**[Q]**</font> Ecrire la fonction `comptage` qui, pour une BASE et un itemset donnés, rend le nombre de transactions de BASE qui contiennent cet itemset.\n"
   ]
  },
  {
   "cell_type": "code",
   "execution_count": 9,
   "metadata": {},
   "outputs": [],
   "source": [
    "def comptage(base, itemset):\n",
    "    \"\"\"Renvoie le nombre de transactions contenant un itemset dans une base.\n",
    "\n",
    "    Parameters\n",
    "    ----------\n",
    "    base : dict of set\n",
    "        Ensemble des itemsets.\n",
    "    itemset : set\n",
    "        Itemset.\n",
    "\n",
    "    Returns\n",
    "    -------\n",
    "    int\n",
    "        Nombre de transactions contenant l'itemset donné.\n",
    "    \"\"\"\n",
    "    return sum([itemset.issubset(base[key]) for key in base])\n"
   ]
  },
  {
   "cell_type": "code",
   "execution_count": 82,
   "metadata": {},
   "outputs": [
    {
     "name": "stdout",
     "output_type": "stream",
     "text": [
      "Comptage de l'itemset {'a','b','c'} dans la base précédente : \n",
      "comptage(Base1, {'a','b','c'}) rend la valeur 4.\n",
      "comptage(Base1, {'a'}) rend la valeur 6.\n"
     ]
    }
   ],
   "source": [
    "print(\"Comptage de l'itemset {'a','b','c'} dans la base précédente : \")\n",
    "print(\n",
    "    \"comptage(Base1, {'a','b','c'}) rend la valeur %s.\"\n",
    "    % comptage(Base1, {\"a\", \"b\", \"c\"})\n",
    ")\n",
    "print(\"comptage(Base1, {'a'}) rend la valeur %s.\" % comptage(Base1, {\"a\"}))\n"
   ]
  },
  {
   "attachments": {},
   "cell_type": "markdown",
   "metadata": {},
   "source": [
    "<font color=\"RED\" size=\"+1\">**[Q]**</font> Ecrire la fonction `support` qui, pour une BASE et un itemset donné, rend le support de cet itemset dans la BASE.\n"
   ]
  },
  {
   "cell_type": "code",
   "execution_count": 11,
   "metadata": {},
   "outputs": [],
   "source": [
    "comptage(Base1, {\"a\", \"b\", \"c\"})\n",
    "\n",
    "\n",
    "def support(base, itemset):\n",
    "    \"\"\"Calcule le support d'un itemset d'une base.\n",
    "\n",
    "    .. math:: \\text{support} = \\frac {n_{\\text{itemset}}} {n}\n",
    "\n",
    "    Parameters\n",
    "    ----------\n",
    "    base : dict of set\n",
    "        Ensemble des itemsets.\n",
    "    itemset : set\n",
    "        Itemset.\n",
    "\n",
    "    Returns\n",
    "    -------\n",
    "    float\n",
    "        Support de l'itemset donné.\n",
    "    \"\"\"\n",
    "    return comptage(base, itemset) / len(base)\n"
   ]
  },
  {
   "cell_type": "code",
   "execution_count": 12,
   "metadata": {},
   "outputs": [
    {
     "name": "stdout",
     "output_type": "stream",
     "text": [
      "Support de l'itemset {'a','b','c'} dans la base précédente : 0.4\n",
      "Support de l'itemset {'a'} dans la base précédente : 0.6\n"
     ]
    }
   ],
   "source": [
    "print(\n",
    "    \"Support de l'itemset {'a','b','c'} dans la base précédente : \"\n",
    "    + str(support(Base1, {\"a\", \"b\", \"c\"}))\n",
    ")\n",
    "print(\n",
    "    \"Support de l'itemset {'a'} dans la base précédente : \" + str(support(Base1, {\"a\"}))\n",
    ")\n"
   ]
  },
  {
   "attachments": {},
   "cell_type": "markdown",
   "metadata": {},
   "source": [
    "## Implémentation de l'algorithme a-priori\n",
    "\n",
    "Dans cette partie, une implémentation de la partie de construction des itemsets fréquents de l'algorithme a-priori est réalisée. On ne s'intéresse pas dans cette question à la génération des règles d'association (mais cela peut être fait en complément).\n",
    "\n",
    "Votre programme doit pouvoir s'appliquer aux bases fournies dans le répertoire _datasets_ (éventuellement, sur au moins les 10 premiers exemples de la base mushrooms).\n"
   ]
  },
  {
   "attachments": {},
   "cell_type": "markdown",
   "metadata": {},
   "source": [
    "<font color=\"RED\" size=\"+1\">**[Q]**</font> Ecrire la fonction `apriori_gen` qui prend en argument une liste d'itemsets de même longueur $k$, applique l'algorithme apriori-gen pour rendre la liste des itemsets candidats de longueurs $k+1$.\n",
    "\n",
    "*Rappel de l'algorithme* :\n",
    "\n",
    "<font style=\"font-variant: small-caps\">Apriori-Gen</font>($F$)<br>\n",
    "Entrée : $F$ ensemble d’itemsets fréquents de longueur $k$<br>\n",
    "$C \\leftarrow \\{c = f_1 ∪ f_2 \\in F \\times F$ tels que $|c| = k + 1\\}$<br>\n",
    "pour chaque $c \\in C$ faire<br>\n",
    "&emsp; pour chaque $i \\in c$ faire<br>\n",
    "&emsp;&emsp;si $c \\setminus \\{i\\} \\in F$ alors<br>\n",
    "&emsp;&emsp;&emsp;$C \\leftarrow C \\setminus \\{c\\}$<br>\n",
    "retourner $C$<br>"
   ]
  },
  {
   "cell_type": "code",
   "execution_count": 125,
   "metadata": {},
   "outputs": [
    {
     "name": "stdout",
     "output_type": "stream",
     "text": [
      "4.84 µs ± 11 ns per loop (mean ± std. dev. of 7 runs, 100,000 loops each)\n",
      "11.2 µs ± 11 ns per loop (mean ± std. dev. of 7 runs, 100,000 loops each)\n"
     ]
    }
   ],
   "source": [
    "from itertools import combinations\n",
    "\n",
    "def apriori_gen(itemsets):\n",
    "    \"\"\"Applique l'algorithme apriori-gen pour rendre la liste des itemsets candidats\n",
    "    à partir d'une liste d'itemsets.\n",
    "\n",
    "    Parameters\n",
    "    ----------\n",
    "    itemsets : list\n",
    "        Liste d'itemsets de même longueur k.\n",
    "\n",
    "    Returns\n",
    "    -------\n",
    "    list\n",
    "        Liste des itemsets candidats de longueurs k+1.\n",
    "    \"\"\"\n",
    "    C = []\n",
    "    k = len(itemsets[0])\n",
    "    for f1, f2 in combinations(itemsets, 2):\n",
    "        c = f1.union(f2)\n",
    "        if len(c) == k + 1 and c not in C:\n",
    "            C.append(c)\n",
    "        for i in c:\n",
    "            if c.difference({i}) not in itemsets and c in C:\n",
    "                C.remove(c)\n",
    "    return C\n",
    "    \n",
    "%timeit apriori_gen([{\"a\"}, {\"b\"}, {\"c\"}, {\"d\"}])\n",
    "%timeit apriori_gen([{\"a\", \"b\"}, {\"a\", \"d\"}, {\"b\", \"d\"}, {\"b\", \"c\"}, {\"c\", \"d\"}])"
   ]
  },
  {
   "cell_type": "code",
   "execution_count": 1,
   "metadata": {},
   "outputs": [
    {
     "name": "stdout",
     "output_type": "stream",
     "text": [
      "10.4 µs ± 23.9 ns per loop (mean ± std. dev. of 7 runs, 100,000 loops each)\n",
      "24.4 µs ± 245 ns per loop (mean ± std. dev. of 7 runs, 10,000 loops each)\n"
     ]
    }
   ],
   "source": [
    "def apriori_gen(itemsets):\n",
    "    \"\"\"Variante avec deux boucles.\"\"\"\n",
    "    C = []\n",
    "    k = len(itemsets[0])\n",
    "    for f1 in itemsets:\n",
    "        for f2 in itemsets:\n",
    "            c = f1.union(f2)\n",
    "            if len(c) == k + 1 and c not in C:\n",
    "                C.append(c)\n",
    "            for i in c:\n",
    "                if c.difference({i}) not in itemsets and c in C:\n",
    "                    C.remove(c)\n",
    "    return C\n",
    "    \n",
    "%timeit apriori_gen([{\"a\"}, {\"b\"}, {\"c\"}, {\"d\"}])\n",
    "%timeit apriori_gen([{\"a\", \"b\"}, {\"a\", \"d\"}, {\"b\", \"d\"}, {\"b\", \"c\"}, {\"c\", \"d\"}])"
   ]
  },
  {
   "cell_type": "code",
   "execution_count": 128,
   "metadata": {},
   "outputs": [
    {
     "name": "stdout",
     "output_type": "stream",
     "text": [
      "Exemple: apriori_gen([{'a'}, {'b'}, {'c'}, {'d'}]) rend \n",
      "[{'a', 'b'}, {'a', 'c'}, {'a', 'd'}, {'b', 'c'}, {'b', 'd'}, {'d', 'c'}]\n",
      "\n",
      "Exemple: apriori_gen([{'a','b'},{'a','d'},{'b','d'},{'b','c'},{'c','d'}]) rend \n",
      "[{'a', 'd', 'b'}, {'b', 'd', 'c'}]\n"
     ]
    }
   ],
   "source": [
    "print(\"Exemple: apriori_gen([{'a'}, {'b'}, {'c'}, {'d'}]) rend \")\n",
    "print(apriori_gen([{\"a\"}, {\"b\"}, {\"c\"}, {\"d\"}]))\n",
    "\n",
    "print(\n",
    "    \"\\nExemple: apriori_gen([{'a','b'},{'a','d'},{'b','d'},{'b','c'},{'c','d'}]) rend \"\n",
    ")\n",
    "print(apriori_gen([{\"a\", \"b\"}, {\"a\", \"d\"}, {\"b\", \"d\"}, {\"b\", \"c\"}, {\"c\", \"d\"}]))\n"
   ]
  },
  {
   "attachments": {},
   "cell_type": "markdown",
   "metadata": {},
   "source": [
    "<font color=\"RED\" size=\"+1\">**[Q]**</font> Ecrire la fonction `apriori` qui prend en argument une BASE et une valeur réelle comprise entre 0 et 1, et qui rend une liste de tuples dont le premier élément et un itemset trouvé et le deuxième élément est la valeur de support correspondante.\n"
   ]
  },
  {
   "cell_type": "code",
   "execution_count": 52,
   "metadata": {},
   "outputs": [],
   "source": [
    "def apriori(base, minsup):\n",
    "    C = [singletons(base)]\n",
    "    F = []\n",
    "    k = 0\n",
    "    while len(C[k]) > 0:\n",
    "        Fk = []\n",
    "        for c in C[k]:\n",
    "            s = support(base, c)\n",
    "            if s >= minsup:\n",
    "                Fk.append(c)\n",
    "                F.append((c, s))\n",
    "        gen = apriori_gen(Fk)\n",
    "        C.append(gen)\n",
    "        k += 1\n",
    "    return F\n",
    "\n",
    "\n",
    "# %timeit apriori(Base1, 0.3)\n"
   ]
  },
  {
   "cell_type": "code",
   "execution_count": 54,
   "metadata": {},
   "outputs": [
    {
     "name": "stdout",
     "output_type": "stream",
     "text": [
      "Exemple: apriori(Base1, 0.3) rend \n",
      "[({'d'}, 0.7),\n",
      " ({'b'}, 0.7),\n",
      " ({'a'}, 0.6),\n",
      " ({'c'}, 0.7),\n",
      " ({'e'}, 0.3),\n",
      " ({'b', 'd'}, 0.4),\n",
      " ({'a', 'd'}, 0.4),\n",
      " ({'d', 'c'}, 0.4),\n",
      " ({'e', 'd'}, 0.3),\n",
      " ({'a', 'b'}, 0.5),\n",
      " ({'b', 'c'}, 0.6),\n",
      " ({'a', 'c'}, 0.4),\n",
      " ({'a', 'b', 'd'}, 0.3),\n",
      " ({'b', 'd', 'c'}, 0.3),\n",
      " ({'a', 'b', 'c'}, 0.4)]\n"
     ]
    }
   ],
   "source": [
    "print(\"Exemple: apriori(Base1, 0.3) rend \")\n",
    "pprint(apriori(Base1, 0.3))\n"
   ]
  },
  {
   "attachments": {},
   "cell_type": "markdown",
   "metadata": {},
   "source": [
    "## Expérimentations\n"
   ]
  },
  {
   "attachments": {},
   "cell_type": "markdown",
   "metadata": {},
   "source": [
    "### Vérification avec la base du TD\n",
    "\n",
    "Utiliser la fonction `apriori` avec la base de transactions du TD afin de vérifier que les itemsets obtenus sont corrects.\n"
   ]
  },
  {
   "cell_type": "code",
   "execution_count": 26,
   "metadata": {},
   "outputs": [
    {
     "data": {
      "text/plain": [
       "{0: {'a', 'b', 'd', 'e'},\n",
       " 1: {'b', 'c', 'd'},\n",
       " 2: {'a', 'b', 'd', 'e'},\n",
       " 3: {'a', 'c', 'd', 'e'},\n",
       " 4: {'b', 'c', 'd', 'e'},\n",
       " 5: {'b', 'd', 'e'},\n",
       " 6: {'c', 'd'},\n",
       " 7: {'a', 'b', 'c'},\n",
       " 8: {'a', 'd', 'e'},\n",
       " 9: {'b', 'd'}}"
      ]
     },
     "execution_count": 26,
     "metadata": {},
     "output_type": "execute_result"
    }
   ],
   "source": [
    "BaseTD = chargeBase(\"datasets/td.txt\")\n",
    "BaseTD\n"
   ]
  },
  {
   "cell_type": "code",
   "execution_count": 55,
   "metadata": {},
   "outputs": [
    {
     "name": "stdout",
     "output_type": "stream",
     "text": [
      "Exemple : apriori(BaseTD, 0.3) rend :\n",
      "[({'d'}, 0.9),\n",
      " ({'b'}, 0.7),\n",
      " ({'a'}, 0.5),\n",
      " ({'c'}, 0.5),\n",
      " ({'e'}, 0.6),\n",
      " ({'b', 'd'}, 0.6),\n",
      " ({'a', 'd'}, 0.4),\n",
      " ({'d', 'c'}, 0.4),\n",
      " ({'e', 'd'}, 0.6),\n",
      " ({'a', 'b'}, 0.3),\n",
      " ({'b', 'c'}, 0.3),\n",
      " ({'e', 'b'}, 0.4),\n",
      " ({'e', 'a'}, 0.4),\n",
      " ({'e', 'b', 'd'}, 0.4),\n",
      " ({'e', 'a', 'd'}, 0.4)]\n"
     ]
    }
   ],
   "source": [
    "print(\"Exemple : apriori(BaseTD, 0.3) rend :\")\n",
    "pprint(apriori(BaseTD, 0.3))\n"
   ]
  },
  {
   "attachments": {},
   "cell_type": "markdown",
   "metadata": {},
   "source": [
    "### Comparaisons avec les implémentations apriori et fpgrowth\n"
   ]
  },
  {
   "attachments": {},
   "cell_type": "markdown",
   "metadata": {},
   "source": [
    "<font color=\"RED\" size=\"+1\">**[Q]**</font> Tester votre fonction `apriori` sur les 3 bases données dans datasets et confronter les résultats obtenus avec ceux fournis par l'exécutable `apriori`.\n"
   ]
  },
  {
   "cell_type": "code",
   "execution_count": 56,
   "metadata": {},
   "outputs": [
    {
     "name": "stdout",
     "output_type": "stream",
     "text": [
      "Résultat du chargement de 'mushrooms.txt', on obtient : \n",
      "8416  transactions.\n"
     ]
    }
   ],
   "source": [
    "print(\"Résultat du chargement de 'mushrooms.txt', on obtient : \")\n",
    "Base_mushrooms = chargeBase(\"datasets/mushrooms.txt\", delimiteur=\",\")\n",
    "# Base_mushrooms\n",
    "print(len(Base_mushrooms), \" transactions.\")\n"
   ]
  },
  {
   "cell_type": "code",
   "execution_count": 57,
   "metadata": {
    "scrolled": false
   },
   "outputs": [
    {
     "name": "stdout",
     "output_type": "stream",
     "text": [
      "Pour la BASE précédente :\n",
      "Exemple: singletons(Base_mushrooms) rend :\n",
      "Nombre de singletons : 70\n"
     ]
    }
   ],
   "source": [
    "print(\"Pour la BASE précédente :\")\n",
    "noms_items(Base_mushrooms)\n",
    "print(\"Exemple: singletons(Base_mushrooms) rend :\")\n",
    "singletons(Base_mushrooms)\n",
    "print(\"Nombre de singletons :\", len(singletons(Base_mushrooms)))\n"
   ]
  },
  {
   "cell_type": "code",
   "execution_count": 59,
   "metadata": {},
   "outputs": [
    {
     "name": "stdout",
     "output_type": "stream",
     "text": [
      "[({'WHITE'}, 0.9771863117870723),\n",
      " ({'PARTIAL'}, 1.0),\n",
      " ({'FREE'}, 0.9743346007604563),\n",
      " ({'ONE'}, 0.9230038022813688),\n",
      " ({'WHITE', 'PARTIAL'}, 0.9771863117870723),\n",
      " ({'FREE', 'WHITE'}, 0.9743346007604563),\n",
      " ({'WHITE', 'ONE'}, 0.9001901140684411),\n",
      " ({'FREE', 'PARTIAL'}, 0.9743346007604563),\n",
      " ({'ONE', 'PARTIAL'}, 0.9230038022813688),\n",
      " ({'FREE', 'ONE'}, 0.9001901140684411),\n",
      " ({'FREE', 'WHITE', 'PARTIAL'}, 0.9743346007604563),\n",
      " ({'WHITE', 'ONE', 'PARTIAL'}, 0.9001901140684411),\n",
      " ({'FREE', 'WHITE', 'ONE'}, 0.9001901140684411),\n",
      " ({'FREE', 'ONE', 'PARTIAL'}, 0.9001901140684411),\n",
      " ({'FREE', 'ONE', 'PARTIAL', 'WHITE'}, 0.9001901140684411)]\n"
     ]
    }
   ],
   "source": [
    "pprint(apriori(Base_mushrooms, 0.9))\n"
   ]
  },
  {
   "cell_type": "code",
   "execution_count": 60,
   "metadata": {},
   "outputs": [
    {
     "name": "stdout",
     "output_type": "stream",
     "text": [
      "Résultat du chargement de 'titanic-red.csv', on obtient : \n",
      "741  transactions.\n"
     ]
    }
   ],
   "source": [
    "print(\"Résultat du chargement de 'titanic-red.csv', on obtient : \")\n",
    "Base_titanic = chargeBase(\"datasets/titanic-red.csv\", delimiteur=\",\")\n",
    "print(len(Base_titanic), \" transactions.\")\n"
   ]
  },
  {
   "cell_type": "code",
   "execution_count": 62,
   "metadata": {},
   "outputs": [
    {
     "name": "stdout",
     "output_type": "stream",
     "text": [
      "Pour la BASE Titanic :\n",
      "Exemple: singletons(Base_titanic) rend :\n"
     ]
    },
    {
     "data": {
      "text/plain": [
       "[{'EnglandNewYorkNY'},\n",
       " {'ProvidenceRI'},\n",
       " {'ZurichSwitzerland'},\n",
       " {'BelmontMA'},\n",
       " {'SurbitonHillSurrey'},\n",
       " {'YoungstownOH'},\n",
       " {'SwedenChicagoIL'},\n",
       " {'NewYorkNYStamfordCT'},\n",
       " {'WimbledonParkLondonHaylingIslandHants'},\n",
       " {'EnglandSacramentoCA'},\n",
       " {'PenzanceCornwallAkronOH'},\n",
       " {'CoAthloneIrelandNewYorkNY'},\n",
       " {'BergenNorway'},\n",
       " {\"StAnne'sonSeaLancashire\"},\n",
       " {'BroomfieldChelmsfordEngland'},\n",
       " {'HornseyEngland'},\n",
       " {'BuffaloNY'},\n",
       " {'WestHampsteadLondonNeepawaMB'},\n",
       " {'BarcelonaSpainHavanaCuba'},\n",
       " {'GuernseyMontclairNJand/orToledoOhio'},\n",
       " {'WorcesterEngland'},\n",
       " {'HarrisburgPA'},\n",
       " {'SwindonEngland'},\n",
       " {'SydneyAustralia'},\n",
       " {'MamaroneckNY'},\n",
       " {'RuotsinphyhtaaFinlandNewYorkNY'},\n",
       " {'ElkinsParkPA'},\n",
       " {'NewYorkNYGreenwichCT'},\n",
       " {'KontiolahtiFinlandDetroitMI'},\n",
       " {'TokyoJapan'},\n",
       " {'MilfordNH'},\n",
       " {'LimaPeru'},\n",
       " {'DowagiacMI'},\n",
       " {'LosAngelesCA'},\n",
       " {'GreenportNY'},\n",
       " {'GunturIndiaBentonHarbourMI'},\n",
       " {'BrennesNorwayNewYork'},\n",
       " {'HaverfordPACooperstownNY'},\n",
       " {'SkaraSwedenRockfordIL'},\n",
       " {'GreenBayWI'},\n",
       " {'GuernseyWilmingtonDE'},\n",
       " {'KilmacowenCoSligoIrelandNewYorkNY'},\n",
       " {'CoCorkIrelandCharlestownMA'},\n",
       " {'RotherfieldSussexEnglandEssexCoMA'},\n",
       " {'SpainHavanaCuba'},\n",
       " {'IrelandNewYorkNY'},\n",
       " {'KingwilliamstownCoCorkIrelandGlensFallsNY'},\n",
       " {'AltdorfSwitzerland'},\n",
       " {'FondduLacWI'},\n",
       " {'SouthingtonNoankCT'},\n",
       " {'Paris'},\n",
       " {'MadridSpain'},\n",
       " {'GlenRidgeNJ'},\n",
       " {'ChicagoIL'},\n",
       " {'BangkokThailandRosevilleIL'},\n",
       " {'BrunswickME'},\n",
       " {'EnglandBenningtonVT'},\n",
       " {'TaalintehdasFinlandHobokenNJ'},\n",
       " {'London'},\n",
       " {'MyrenSwedenNewYorkNY'},\n",
       " {'StJamesLongIslandNY'},\n",
       " {'CoLongfordIrelandNewYorkNY'},\n",
       " {'GermantownPhiladelphiaPA'},\n",
       " {'GreenwichCT'},\n",
       " {'WestHobokenNJ'},\n",
       " {'home.dest'},\n",
       " {'BuenosAiresArgentinaNewJerseyNJ'},\n",
       " {'MontrealPQ'},\n",
       " {'HamiltonON'},\n",
       " {'SittingbourneEnglandSanDiegoCA'},\n",
       " {'ParisFranceNewYorkNY'},\n",
       " {'TuxedoParkNY'},\n",
       " {'CornwallHancockMI'},\n",
       " {'BelgiumMontrealPQ'},\n",
       " {'England'},\n",
       " {'BridgeruleDevon'},\n",
       " {'CoCorkIrelandRoxburyMA'},\n",
       " {'DorchesterMA'},\n",
       " {'Ireland'},\n",
       " {'CologneGermany'},\n",
       " {'BristolEnglandClevelandOH'},\n",
       " {'LondonVancouverBC'},\n",
       " {'ParisHaiti'},\n",
       " {'FinlandWashingtonDC'},\n",
       " {'OmahaNE'},\n",
       " {'Syria'},\n",
       " {'YoevilEnglandCottageGroveOR'},\n",
       " {'GunnislakeEnglandButteMT'},\n",
       " {'Portugal'},\n",
       " {'HessleYorks'},\n",
       " {'AmeniaND'},\n",
       " {'CornwallClearCreekCO'},\n",
       " {'BenningtonVT'},\n",
       " {'RussiaNewYorkNY'},\n",
       " {'Guernsey'},\n",
       " {'DorkingSurreyEngland'},\n",
       " {'SouthseaHants'},\n",
       " {'AustriaNiagaraFallsNY'},\n",
       " {'OttawaON'},\n",
       " {'LondonBirmingham'},\n",
       " {'SyriaOttawaON'},\n",
       " {'WestBromwichEnglandPontiacMI'},\n",
       " {'PlymouthDevonDetroitMI'},\n",
       " {'Liverpool'},\n",
       " {'LiverpoolMontrealPQ'},\n",
       " {'ChelseaLondon'},\n",
       " {'MexicoCityMexico'},\n",
       " {'Russia'},\n",
       " {'EnglandSanFranciscoCA'},\n",
       " {'OskarshamnSwedenMinneapolisMN'},\n",
       " {'MontrealPQChestervilleON'},\n",
       " {'NorrlotSwedenChicagoIL'},\n",
       " {'SomersetBernardsvilleNJ'},\n",
       " {'BirkdaleEnglandClevelandOhio'},\n",
       " {'BarreCoWashingtonVT'},\n",
       " {'FinlandMinneapolisMN'},\n",
       " {'EnglandAlbionNY'},\n",
       " {'StockholmSwedenWashingtonDC'},\n",
       " {'CornwallHoughtonMI'},\n",
       " {'HartfordHuntingdonshire'},\n",
       " {'SeattleWA'},\n",
       " {'ColumbusOH'},\n",
       " {'SaultStMarieON'},\n",
       " {'WarwickEngland'},\n",
       " {'ItalyPhiladelphiaPA'},\n",
       " {'LondonParis'},\n",
       " {'OsloNorwayCameronWI'},\n",
       " {'DenmarkHillSurreyChicago'},\n",
       " {'FinlandSudburyON'},\n",
       " {'PlymouthEngland'},\n",
       " {'OsloNorwayBayonneNJ'},\n",
       " {'SyriaYoungstownOH'},\n",
       " {'GenevaSwitzerlandRadnorPA'},\n",
       " {'FolkstoneKentNewYorkNY'},\n",
       " {'MerrillWI'},\n",
       " {'sex'},\n",
       " {'CambridgeMA'},\n",
       " {'StantonIA'},\n",
       " {'LuccaItalyCalifornia'},\n",
       " {'IndianapolisIN'},\n",
       " {'BerneSwitzerlandCentralCityIA'},\n",
       " {'WestonSuperMareMooseJawSK'},\n",
       " {'KrakuddenSwedenMouneIL'},\n",
       " {'SyriaFredericksburgVA'},\n",
       " {'CornwallEnglandHoughtonMI'},\n",
       " {'female'},\n",
       " {'BishopstokeHantsFayetteValleyID'},\n",
       " {'NewBritainCT'},\n",
       " {'NorwayLosAngelesCA'},\n",
       " {'Queenstown'},\n",
       " {'ProvoUT'},\n",
       " {'EnglandOglesbyIL'},\n",
       " {'WestcliffonSeaEssex'},\n",
       " {'AuburnNY'},\n",
       " {'GlasgowBangorME'},\n",
       " {'BrooklynNY'},\n",
       " {'BaysideQueensNY'},\n",
       " {'SpringfieldMA'},\n",
       " {'EnglandPhiladelphiaPA'},\n",
       " {'AustraliaFingalND'},\n",
       " {'IsleworthEngland'},\n",
       " {'VadsbroSwedenMinisteeMI'},\n",
       " {'Belfast'},\n",
       " {'BristolEnglandNewBritainCT'},\n",
       " {'CornwallSpokaneWA'},\n",
       " {'IrelandBrooklynNY'},\n",
       " {'EastOrangeNJ'},\n",
       " {'LondonEnglandNorfolkVA'},\n",
       " {'DeephavenMNCedarRapidsIA'},\n",
       " {'NiceFrance'},\n",
       " {'pclass'},\n",
       " {'MedeltorpSwedenChicagoIL'},\n",
       " {'BrightonMA'},\n",
       " {'LondonChicagoIL'},\n",
       " {'TranvikFinlandNewYork'},\n",
       " {'LondonEastOrangeNJ'},\n",
       " {'BromsgroveEnglandMontrealPQ'},\n",
       " {'BronxNY'},\n",
       " {'SanFranciscoCA'},\n",
       " {'SwedenAkeleyMN'},\n",
       " {'CoLimerickIrelandSherbrookePQ'},\n",
       " {'CatfordKentDetroitMI'},\n",
       " {'DevonEnglandWichitaKS'},\n",
       " {'UpperBurmaIndiaPittsburghPA'},\n",
       " {'RuotsinphytaaFinlandNewYorkNY'},\n",
       " {'ElizabethNJ'},\n",
       " {'SaloFinlandAstoriaOR'},\n",
       " {'StroodKentEnglandDetroitMI'},\n",
       " {'CooperstownNY'},\n",
       " {'BostonMA'},\n",
       " {'BulgariaChicagoIL'},\n",
       " {'StockholmSwedenNewYork'},\n",
       " {'LakewoodNJ'},\n",
       " {'StDenysSouthamptonHants'},\n",
       " {'HalesworthEngland'},\n",
       " {'WalthamstowEngland'},\n",
       " {'WestHavenCT'},\n",
       " {'StockholmSweden'},\n",
       " {'2nd'},\n",
       " {'Southampton'},\n",
       " {'HuntingtonWV'},\n",
       " {'MinneapolisMN'},\n",
       " {'EastBridgewaterMA'},\n",
       " {'Cherbourg'},\n",
       " {'MontevideoUruguay'},\n",
       " {'PhiladelphiaPA'},\n",
       " {'FrankfortKY'},\n",
       " {'SyriaNewYorkNY'},\n",
       " {'BrynMawrPAUSA'},\n",
       " {'SwedenWinnipegMN'},\n",
       " {'NewForestEngland'},\n",
       " {'WaukeganChicagoIL'},\n",
       " {'NewYorkNY'},\n",
       " {'AscotBerkshireRochesterNY'},\n",
       " {'ClevedonEngland'},\n",
       " {'LyndhurstEngland'},\n",
       " {'IllinoisUSA'},\n",
       " {'ParisFrance'},\n",
       " {'BrooklineMA'},\n",
       " {'StreathamSurrey'},\n",
       " {'IrelandPhiladelphiaPA'},\n",
       " {'StIvesCornwallHoughtonMI'},\n",
       " {'Argentina'},\n",
       " {'BrynMawrPA'},\n",
       " {'BrocktonMA'},\n",
       " {'LondonFortByronNY'},\n",
       " {'Croatia'},\n",
       " {'ForesvikNorwayPortlandND'},\n",
       " {'KrakorydSwedenBloomingtonIL'},\n",
       " {'BristolAvonJacksonvilleFL'},\n",
       " {'CoClareIrelandWashingtonDC'},\n",
       " {'IlfracombeDevon'},\n",
       " {'Spain'},\n",
       " {'ElmiraNYOrangeNJ'},\n",
       " {'TorontoON'},\n",
       " {'IrelandChicagoIL'},\n",
       " {'HongKongNewYorkNY'},\n",
       " {'StLeonardsonSeaEnglandOhio'},\n",
       " {'VictoriaBC'},\n",
       " {'StIvesCornwallHancockMI'},\n",
       " {'RoachdaleIN'},\n",
       " {'WinnipegMB'},\n",
       " {'LittleOnnHallStaffs'},\n",
       " {'ScituateMA'},\n",
       " {'HalifaxNS'},\n",
       " {'NewYorkNYIthacaNY'},\n",
       " {'IlfordEssexWinnipegMB'},\n",
       " {'StAustallCornwall'},\n",
       " {'CornwallCamdenNJ'},\n",
       " {'BournemouthEnglandNewarkNJ'},\n",
       " {'BelgiumDetroitMI'},\n",
       " {'JanjgirIndiaPennsylvania'},\n",
       " {'NorwichNewYorkNY'},\n",
       " {'BournemouthEngland'},\n",
       " {'SwedenArlingtonNJ'},\n",
       " {'BrightonSussex'},\n",
       " {'LexingtonMA'},\n",
       " {'HarrowontheHillMiddlesex'},\n",
       " {'AsarumSwedenBrooklynNY'},\n",
       " {'MtAiryPhiladelphiaPA'},\n",
       " {'WashingtonDC'},\n",
       " {'AntwerpBelgiumStantonOH'},\n",
       " {'SouthamptonNewYorkNY'},\n",
       " {'NorthEvingtonEngland'},\n",
       " {'Greece'},\n",
       " {'MiddleburgHeightsOH'},\n",
       " {'PlymouthDorsetHoughtonMI'},\n",
       " {'DenmarkNewYorkNY'},\n",
       " {'CapeTownSouthAfricaSeattleWA'},\n",
       " {'AlbanyNY'},\n",
       " {'BallydehobCoCorkIrelandNewYorkNY'},\n",
       " {'DetroitMI'},\n",
       " {'StLouisMO'},\n",
       " {'VancouverBC'},\n",
       " {'StoughtonMA'},\n",
       " {'MilwaukeeWI'},\n",
       " {'ToftaSwedenJolietIL'},\n",
       " {'WiltshireEnglandNiagaraFallsNY'},\n",
       " {'AustriaHungaryGermantownPhiladelphiaPA'},\n",
       " {'RotterdamNetherlands'},\n",
       " {'CopenhagenDenmark'},\n",
       " {'WestonSuperMareSomerset'},\n",
       " {'EnglandSaltLakeCityUtah'},\n",
       " {'LowerClaptonMiddlesexorErdingtonBirmingham'},\n",
       " {'EnglandHartfordCT'},\n",
       " {'StAndrewsGuernsey'},\n",
       " {'LondonEnglandMariettaOhioandMilwaukeeWI'},\n",
       " {'IsleofWightEngland'},\n",
       " {'NewarkNJ'},\n",
       " {'SwedenJolietIL'},\n",
       " {'TrentonNJ'},\n",
       " {'SarniaON'},\n",
       " {'WestKensingtonLondon'},\n",
       " {'LondonNewYorkNY'},\n",
       " {'HaddenfieldNJ'},\n",
       " {'GoteborgSwedenRockfordIL'},\n",
       " {'EastProvidenceRI'},\n",
       " {'GreensburgPA'},\n",
       " {'BournmouthEngland'},\n",
       " {'LondonBrooklynNY'},\n",
       " {'LondonStatenIslandNY'},\n",
       " {'SeattleWAToledoOH'},\n",
       " {'WorcesterMA'},\n",
       " {'EnglandDetroitMI'},\n",
       " {'DenverCO'},\n",
       " {'HarrowEngland'},\n",
       " {'AustriaHungary'},\n",
       " {'MoscowBronxNY'},\n",
       " {'KingstonSurrey'},\n",
       " {'WoodfordCountyKY'},\n",
       " {'GuernseyEnglandEdgewoodRI'},\n",
       " {'NewYorkNYWashingtonDC'},\n",
       " {'LondonMiddlesex'},\n",
       " {'LondonWinnipegMB'},\n",
       " {'IndiaPittsburghPA'},\n",
       " {'GoteborgSwedenHuntleyIL'},\n",
       " {'WinnipegMN'},\n",
       " {'GallipolisOhioParisNewYork'},\n",
       " {'DevonportEngland'},\n",
       " {'NewYorkNYBriarcliffManorNY'},\n",
       " {'AughnacliffCoLongfordIrelandNewYorkNY'},\n",
       " {'Pennsylvania'},\n",
       " {'DeerLodgeMT'},\n",
       " {'embarked'},\n",
       " {'1st'},\n",
       " {'IndiaRapidCitySD'},\n",
       " {'BridgwaterSomersetEngland'},\n",
       " {'JacksonvilleFL'},\n",
       " {'EnglandBrooklynNY'},\n",
       " {'SwedenWorcesterMA'},\n",
       " {'HartfordCT'},\n",
       " {'AberdeenPortlandOR'},\n",
       " {'EffingtonRutSD'},\n",
       " {'BulgariaCoonRapidsIA'},\n",
       " {'dead'},\n",
       " {'HaverfordPA'},\n",
       " {'PomeroyWA'},\n",
       " {'CornwallAkronOH'},\n",
       " {'LondonSkantealesNY'},\n",
       " {'survived'},\n",
       " {'CalgaryAB'},\n",
       " {'PetworthSussex'},\n",
       " {'3rd'},\n",
       " {'alive'},\n",
       " {'PerkinsCountySD'},\n",
       " {'RochesterNY'},\n",
       " {'HolleyNY'},\n",
       " {'Glasgow'},\n",
       " {'CoSligoIrelandNewYorkNY'},\n",
       " {'male'},\n",
       " {'DuluthMN'},\n",
       " {'TreherbertCardiffWales'},\n",
       " {'ParisMontrealPQ'},\n",
       " {'BelfastNI'},\n",
       " {'ManchesterEngland'},\n",
       " {'DagsasSwedenFowerMN'},\n",
       " {'HelsinkiFinlandAshtabulaOhio'},\n",
       " {'WindsorEnglandNewYorkNY'},\n",
       " {'UnionHillNJ'},\n",
       " {'LondonEngland'},\n",
       " {'CoSligoIrelandHartfordCT'},\n",
       " {'ParisNewYorkNY'},\n",
       " {'PondersendEnglandNewDurhamNJ'},\n",
       " {'GuernseyElizabethNJ'},\n",
       " {'LondonMontrealPQ'},\n",
       " {'Cornwall'},\n",
       " {'PortlandOR'},\n",
       " {'BathEnglandMassachusetts'},\n",
       " {'Austria'},\n",
       " {'SyriaKentON'},\n",
       " {'StIvesCornwallCalumetMI'},\n",
       " {'BaselSwitzerland'},\n",
       " {'KarbergSwedenJeromeJunctionAZ'},\n",
       " {'LiverpoolEnglandBedfordOH'},\n",
       " {'TampicoMT'},\n",
       " {'KingwilliamstownCoCorkIrelandNewYorkNY'},\n",
       " {'HudsonNY'},\n",
       " {'LakeArthurChavezCountyNM'}]"
      ]
     },
     "execution_count": 62,
     "metadata": {},
     "output_type": "execute_result"
    }
   ],
   "source": [
    "print(\"Pour la BASE Titanic :\")\n",
    "noms_items(Base_titanic)\n",
    "print(\"Exemple: singletons(Base_titanic) rend :\")\n",
    "singletons(Base_titanic)\n"
   ]
  },
  {
   "cell_type": "code",
   "execution_count": 66,
   "metadata": {},
   "outputs": [
    {
     "name": "stdout",
     "output_type": "stream",
     "text": [
      "({'male', 'dead'}, 0.46963562753036436)\n",
      "({'male', 'Southampton'}, 0.46288798920377866)\n",
      "({'dead', 'Southampton'}, 0.41295546558704455)\n",
      "({'male', 'dead', 'Southampton'}, 0.3684210526315789)\n",
      "({'alive', 'female'}, 0.32388663967611336)\n",
      "({'2nd', 'Southampton'}, 0.30634278002699056)\n",
      "({'alive', 'Southampton'}, 0.2982456140350877)\n",
      "({'female', 'Southampton'}, 0.2483130904183536)\n",
      "({'1st', 'alive'}, 0.23076923076923078)\n",
      "({'male', '1st'}, 0.21997300944669365)\n",
      "({'1st', 'Southampton'}, 0.20917678812415655)\n",
      "({'male', '2nd'}, 0.20647773279352227)\n",
      "({'alive', 'female', 'Southampton'}, 0.203778677462888)\n"
     ]
    }
   ],
   "source": [
    "Lres = apriori(Base_titanic, 0.2)\n",
    "\n",
    "# tri sur les valeurs de supports:\n",
    "# print(sorted(Lres, key=lambda data: data[1]))\n",
    "\n",
    "# tri sur la taille des itemsets\n",
    "# print(sorted(Lres, key=lambda data: len(data[0])))\n",
    "\n",
    "for t in sorted(Lres, key=lambda data: data[1], reverse=True):\n",
    "    if len(t[0]) > 1:\n",
    "        print(t)\n"
   ]
  },
  {
   "attachments": {},
   "cell_type": "markdown",
   "metadata": {},
   "source": [
    "<font color=\"RED\" size=\"+1\">**[Q]**</font> Utiliser l'éxécutable `apriori` pour générer des règles d'association (voir les différentes options en annexe) sur les différentes bases de données fournies. Tester différents seuils (support et confiance).\n"
   ]
  },
  {
   "cell_type": "code",
   "execution_count": 77,
   "metadata": {},
   "outputs": [
    {
     "name": "stdout",
     "output_type": "stream",
     "text": [
      "./apriori - find frequent item sets with the apriori algorithm\n",
      "version 6.31 (2022.11.22)        (c) 1996-2022   Christian Borgelt\n",
      "reading datasets/exemple-1.txt ... [5 item(s), 10 transaction(s)] done [0.00s].\n",
      "filtering, sorting and recoding items ... [5 item(s)] done [0.00s].\n",
      "sorting and reducing transactions ... [8/10 transaction(s)] done [0.00s].\n",
      "building transaction tree ... [12 node(s)] done [0.00s].\n",
      "checking subsets of size 1 2 3 done [0.00s].\n",
      "writing out/exemple-1.out ... [15 set(s)] done [0.00s].\n",
      "e d (30)\n",
      "e (30)\n",
      "a (60)\n",
      "a d (40)\n",
      "a d b (30)\n",
      "a c b (40)\n",
      "a c (40)\n",
      "a b (50)\n",
      "d (70)\n",
      "d c (40)\n",
      "d c b (30)\n",
      "d b (40)\n",
      "c (70)\n",
      "c b (60)\n",
      "b (70)\n"
     ]
    }
   ],
   "source": [
    "!./apriori -s30 datasets/exemple-1.txt out/exemple-1.out\n",
    "!cat out/exemple-1.out"
   ]
  },
  {
   "attachments": {},
   "cell_type": "markdown",
   "metadata": {},
   "source": [
    "<font color=\"RED\" size=\"+1\">**[Q]**</font> Ajouter les deux mesures d'intérêt vues en TD (lift et RR) et afficher leurs valeurs pour chaque règle trouvée. Ajouter un argument au programme afin de pouvoir sélectionner une de ces mesures pour éliminer les règles inintéressantes.\n"
   ]
  },
  {
   "cell_type": "code",
   "execution_count": null,
   "metadata": {},
   "outputs": [],
   "source": []
  },
  {
   "attachments": {},
   "cell_type": "markdown",
   "metadata": {},
   "source": [
    "<font color=\"RED\" size=\"+1\">**[Q]**</font> Ajouter les deux mesures d'intérêt suivantes et afficher leurs valeurs\n",
    "pour chaque règle trouvée. Ajouter un argument au programme afin de pouvoir sélectionner une de ces mesures pour éliminer les règles inintéressantes.\n",
    "\n",
    "Par exemple:\n",
    "\n",
    "\\begin{align}\n",
    "\\text{Interest}(X \\longrightarrow Y) & = \\frac{P(X,Y)}{P(X)}P(Y) \\nonumber\\\\\n",
    "\\text{IS}(X \\longrightarrow Y) & = \\frac{P(X,Y)}{\\sqrt{P(X)P(Y)}} \\nonumber\n",
    "\\end{align}\n"
   ]
  },
  {
   "attachments": {},
   "cell_type": "markdown",
   "metadata": {},
   "source": [
    "### Utilisation de fp-growth\n"
   ]
  },
  {
   "attachments": {},
   "cell_type": "markdown",
   "metadata": {},
   "source": [
    "<font color=\"RED\" size=\"+1\">**[Q]**</font> Utiliser `fpgrowth` pour générer des règles d'association sur les différentes\n",
    "bases de données. Comparer avec les résultats obtenus dans la section précédente. En particulier, comparer les temps d'éxecution.\n"
   ]
  },
  {
   "cell_type": "code",
   "execution_count": null,
   "metadata": {},
   "outputs": [],
   "source": []
  },
  {
   "attachments": {},
   "cell_type": "markdown",
   "metadata": {},
   "source": [
    "<font color=\"RED\" size=\"+1\">**[Q]**</font> En essayant différentes valeurs de seuil, tester la génération de règles d'association intéressantes sur les bases de données fournies.\n"
   ]
  },
  {
   "cell_type": "code",
   "execution_count": null,
   "metadata": {},
   "outputs": [],
   "source": []
  },
  {
   "attachments": {},
   "cell_type": "markdown",
   "metadata": {},
   "source": [
    "## Annexes : utilisation des exécutables _apriori_ et _fpgrowth_\n",
    "\n",
    "La documentation complète de ces programmes est disponible aux URL suivantes:\n",
    "\n",
    "- pour _apriori_: https://www.borgelt.net/doc/apriori/apriori.html\n",
    "- pour _fp-growth_: https://www.borgelt.net/doc/fpgrowth/fpgrowth.html\n",
    "\n",
    "Leur format d'utilisation général est:\n",
    "\n",
    "        ./<programme> [options] infile [outfile]\n",
    "\n",
    "(où <`programme`> est soit _apriori_, soit _fpgrowth_).\n",
    "\n",
    "Les options de base de ces 2 programmes sont:\n",
    "\n",
    "- sans argument: génération des itemsets fréquents (argument {`-ts` activé par défaut)\n",
    "- _tr_: pour obtenir les règles d'associations\n",
    "- _s_: pour fournir une valeur minimale de support. Le support est ici donné en valeur absolue ($n_{AB}$) et non pas en valeur relative ($\\frac{n_{AB}}{n}$).\n",
    "- _m_: pour fournir un nombre minimum d'items dans un itemset\n",
    "- _n_: pour fournir un nombre maximum d'items dans un itemset\n",
    "\n",
    "Par exemple (commandes lancées dans le répertoire père du répertoire _datasets/_):\n",
    "\n",
    "        ./apriori -trs50m2n5 datasets/exemple-1.txt fichier-resultat.out\n",
    "        ./fpgrowth -trs50m2n5 datasets/mushrooms.txt fichier-resultat.out\n"
   ]
  },
  {
   "cell_type": "code",
   "execution_count": null,
   "metadata": {},
   "outputs": [],
   "source": []
  }
 ],
 "metadata": {
  "kernelspec": {
   "display_name": "Python 3",
   "language": "python",
   "name": "python3"
  },
  "language_info": {
   "codemirror_mode": {
    "name": "ipython",
    "version": 3
   },
   "file_extension": ".py",
   "mimetype": "text/x-python",
   "name": "python",
   "nbconvert_exporter": "python",
   "pygments_lexer": "ipython3",
   "version": "3.10.10"
  }
 },
 "nbformat": 4,
 "nbformat_minor": 1
}
