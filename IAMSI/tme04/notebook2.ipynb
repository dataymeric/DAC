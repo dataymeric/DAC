{
 "cells": [
  {
   "cell_type": "code",
   "execution_count": 11,
   "metadata": {},
   "outputs": [
    {
     "name": "stdout",
     "output_type": "stream",
     "text": [
      "[['-2 -11 0', '-2 -20 0', '-2 -29 0', '-11 -20 0', '-11 -29 0', '-20 -29 0', '2 11 20 29 0'], ['-3 -12 0', '-3 -21 0', '-3 -30 0', '-12 -21 0', '-12 -30 0', '-21 -30 0', '3 12 21 30 0'], ['-4 -13 0', '-4 -22 0', '-4 -31 0', '-13 -22 0', '-13 -31 0', '-22 -31 0', '4 13 22 31 0'], ['-6 -15 0', '-6 -24 0', '-6 -33 0', '-15 -24 0', '-15 -33 0', '-24 -33 0', '6 15 24 33 0'], ['-7 -16 0', '-7 -25 0', '-7 -34 0', '-16 -25 0', '-16 -34 0', '-25 -34 0', '7 16 25 34 0'], ['-8 -17 0', '-8 -26 0', '-8 -35 0', '-17 -26 0', '-17 -35 0', '-26 -35 0', '8 17 26 35 0']]\n"
     ]
    }
   ],
   "source": [
    "# -*- coding: utf-8 -*-\n",
    "\n",
    "import numpy as np\n",
    "import codecs\n",
    "import unicodedata\n",
    "from pylab import *\n",
    "from matplotlib import pyplot as plt\n",
    "\n",
    "\n",
    "ne = 3\n",
    "nj = 4\n",
    "\n",
    "\"\"\"\n",
    "fonction destinee a calculer la valeur de k a partir\n",
    "des valeurs de x,y et j (dite de decodage)\n",
    "\"\"\"\n",
    "def find_k(ne,j,x,y):\n",
    "    return j * ne*ne + x * ne + y + 1\n",
    "\n",
    "k = find_k(3,0,1,0)\n",
    "#print k\n",
    "\"\"\"\n",
    "fonction destinee a calculer les valeurs de x,y et j \n",
    "a partir d'une valeur k donnee (dite de codage)\n",
    "\"\"\"\n",
    "def find_mjxy(k,ne):\n",
    "    y = (k-1)%(ne)\n",
    "    x = ((k-1-y)/(ne))%ne\n",
    "    j = (k-1-y-x*ne)/(ne*ne)\n",
    "\n",
    "    return j,x,y\n",
    "\n",
    "j,x,y = find_mjxy(1218,20)\n",
    "#print j,x,y\n",
    "\n",
    "\n",
    "def clause_moins(L):\n",
    "    sortie = \"\"\n",
    "    for v in L:\n",
    "        sortie += str(v) + \" \"\n",
    "    sortie += \"0\"\n",
    "    return sortie\n",
    "\n",
    "#print clause_moins([1,2,3])\n",
    "\n",
    "\n",
    "\"\"\"\n",
    "on prend pour hypothese que la liste contient que une\n",
    "seule occurence de chaque valeur\n",
    "\"\"\"\n",
    "def clause_plus(L):\n",
    "    sortie = []\n",
    "    for i in range(0,len(L)):\n",
    "        for j in range(i+1,len(L)):\n",
    "            sor = \"\"\n",
    "            sor += \"-\" + str(L[i]) + \" -\" + str(L[j]) + \" 0\"\n",
    "            sortie.append(sor)\n",
    "    return sortie\n",
    "L =  clause_plus([1,2,3])\n",
    "#print L\n",
    "\n",
    "#voir code stat info pour ecriture fichier\n",
    "def encoderC1(ne,nj):\n",
    "    c1 = []\n",
    "    for j in range(0,nj):\n",
    "        for x in range(0,ne):\n",
    "            L = []\n",
    "            for y in range(0,ne):\n",
    "                if x != y :\n",
    "                    k1 = find_k(ne,j,x,y) #a domicile\n",
    "                    k2 = find_k(ne,j,y,x) #en exterieur\n",
    "                    L.append(k1)\n",
    "                    L.append(k2)\n",
    "            c1.append(clause_plus(L)) #L designe une seule et meme contrainte\n",
    "\n",
    "    return c1\n",
    "\n",
    "c1 = encoderC1(3,4)\n",
    "#print c1\n",
    "\n",
    "\n",
    "def encoderC2(ne,nj): #ne pas mettre quand c'est la même équipe\n",
    "    c2 = []\n",
    "    for x in range(0,ne):\n",
    "        for y in range(0,ne):\n",
    "            if x!=y: #une equipe peut pas jouer contre elle meme\n",
    "                L = []\n",
    "                for j in range(0,nj):\n",
    "                    k = find_k(ne,j,x,y)\n",
    "                    L.append(k)\n",
    "                cpl = clause_plus(L) #au plus 1\n",
    "                cpl.append(clause_moins(L)) #au moins 1\n",
    "                c2.append(cpl)           # -> exactement 1\n",
    "    return c2\n",
    "\n",
    "c2 = encoderC2(3,4)\n",
    "print(c2) #(3*2*[(4*3/2) + 1])\n",
    "\n",
    "\"\"\" \n",
    "fonction qui retourne False quand pas satisfiable \n",
    "ou True sinon\n",
    "\"\"\"\n",
    "def insatisfiable(ne,nj):\n",
    "    n = ne//2\n",
    "    return ne*(ne-1)/n > nj\n",
    "    \n",
    "\"\"\"\n",
    "fonction retournant la chaine de caracteres \"Insatisfiable\"\n",
    "quand ce ne pas satisfiable car pas assez de jours\n",
    "ou les contraintes associees sinon\n",
    "\"\"\"\n",
    "def encoder(ne,nj):\n",
    "\n",
    "    #if insatisfiable(ne,nj):\n",
    "    #    return \"Insatisfiable\"\n",
    "\n",
    "    Sortie = encoderC1(ne,nj)\n",
    "\n",
    "    return Sortie + encoderC2(ne,nj)\n",
    "\n",
    "c3 = encoder(3,4)\n",
    "\n",
    "\n"
   ]
  },
  {
   "cell_type": "code",
   "execution_count": 12,
   "metadata": {},
   "outputs": [],
   "source": [
    "var = [1, 4, 2, 5, 3]"
   ]
  },
  {
   "cell_type": "code",
   "execution_count": 13,
   "metadata": {},
   "outputs": [
    {
     "data": {
      "text/plain": [
       "'1 4 2 5 3 0'"
      ]
     },
     "execution_count": 13,
     "metadata": {},
     "output_type": "execute_result"
    }
   ],
   "source": [
    "clause_moins(var)"
   ]
  },
  {
   "cell_type": "code",
   "execution_count": 14,
   "metadata": {},
   "outputs": [
    {
     "data": {
      "text/plain": [
       "['-1 -4 0',\n",
       " '-1 -2 0',\n",
       " '-1 -5 0',\n",
       " '-1 -3 0',\n",
       " '-4 -2 0',\n",
       " '-4 -5 0',\n",
       " '-4 -3 0',\n",
       " '-2 -5 0',\n",
       " '-2 -3 0',\n",
       " '-5 -3 0']"
      ]
     },
     "execution_count": 14,
     "metadata": {},
     "output_type": "execute_result"
    }
   ],
   "source": [
    "(clause_plus(var))"
   ]
  },
  {
   "cell_type": "code",
   "execution_count": 15,
   "metadata": {},
   "outputs": [
    {
     "data": {
      "text/plain": [
       "[['-2 -4 0', '-2 -3 0', '-2 -7 0', '-4 -3 0', '-4 -7 0', '-3 -7 0'],\n",
       " ['-4 -2 0', '-4 -6 0', '-4 -8 0', '-2 -6 0', '-2 -8 0', '-6 -8 0'],\n",
       " ['-7 -3 0', '-7 -8 0', '-7 -6 0', '-3 -8 0', '-3 -6 0', '-8 -6 0'],\n",
       " ['-11 -13 0',\n",
       "  '-11 -12 0',\n",
       "  '-11 -16 0',\n",
       "  '-13 -12 0',\n",
       "  '-13 -16 0',\n",
       "  '-12 -16 0'],\n",
       " ['-13 -11 0',\n",
       "  '-13 -15 0',\n",
       "  '-13 -17 0',\n",
       "  '-11 -15 0',\n",
       "  '-11 -17 0',\n",
       "  '-15 -17 0'],\n",
       " ['-16 -12 0',\n",
       "  '-16 -17 0',\n",
       "  '-16 -15 0',\n",
       "  '-12 -17 0',\n",
       "  '-12 -15 0',\n",
       "  '-17 -15 0'],\n",
       " ['-20 -22 0',\n",
       "  '-20 -21 0',\n",
       "  '-20 -25 0',\n",
       "  '-22 -21 0',\n",
       "  '-22 -25 0',\n",
       "  '-21 -25 0'],\n",
       " ['-22 -20 0',\n",
       "  '-22 -24 0',\n",
       "  '-22 -26 0',\n",
       "  '-20 -24 0',\n",
       "  '-20 -26 0',\n",
       "  '-24 -26 0'],\n",
       " ['-25 -21 0',\n",
       "  '-25 -26 0',\n",
       "  '-25 -24 0',\n",
       "  '-21 -26 0',\n",
       "  '-21 -24 0',\n",
       "  '-26 -24 0'],\n",
       " ['-29 -31 0',\n",
       "  '-29 -30 0',\n",
       "  '-29 -34 0',\n",
       "  '-31 -30 0',\n",
       "  '-31 -34 0',\n",
       "  '-30 -34 0'],\n",
       " ['-31 -29 0',\n",
       "  '-31 -33 0',\n",
       "  '-31 -35 0',\n",
       "  '-29 -33 0',\n",
       "  '-29 -35 0',\n",
       "  '-33 -35 0'],\n",
       " ['-34 -30 0',\n",
       "  '-34 -35 0',\n",
       "  '-34 -33 0',\n",
       "  '-30 -35 0',\n",
       "  '-30 -33 0',\n",
       "  '-35 -33 0']]"
      ]
     },
     "execution_count": 15,
     "metadata": {},
     "output_type": "execute_result"
    }
   ],
   "source": [
    "encoderC1(3,4)"
   ]
  },
  {
   "cell_type": "code",
   "execution_count": 16,
   "metadata": {},
   "outputs": [
    {
     "data": {
      "text/plain": [
       "[['-2 -11 0',\n",
       "  '-2 -20 0',\n",
       "  '-2 -29 0',\n",
       "  '-11 -20 0',\n",
       "  '-11 -29 0',\n",
       "  '-20 -29 0',\n",
       "  '2 11 20 29 0'],\n",
       " ['-3 -12 0',\n",
       "  '-3 -21 0',\n",
       "  '-3 -30 0',\n",
       "  '-12 -21 0',\n",
       "  '-12 -30 0',\n",
       "  '-21 -30 0',\n",
       "  '3 12 21 30 0'],\n",
       " ['-4 -13 0',\n",
       "  '-4 -22 0',\n",
       "  '-4 -31 0',\n",
       "  '-13 -22 0',\n",
       "  '-13 -31 0',\n",
       "  '-22 -31 0',\n",
       "  '4 13 22 31 0'],\n",
       " ['-6 -15 0',\n",
       "  '-6 -24 0',\n",
       "  '-6 -33 0',\n",
       "  '-15 -24 0',\n",
       "  '-15 -33 0',\n",
       "  '-24 -33 0',\n",
       "  '6 15 24 33 0'],\n",
       " ['-7 -16 0',\n",
       "  '-7 -25 0',\n",
       "  '-7 -34 0',\n",
       "  '-16 -25 0',\n",
       "  '-16 -34 0',\n",
       "  '-25 -34 0',\n",
       "  '7 16 25 34 0'],\n",
       " ['-8 -17 0',\n",
       "  '-8 -26 0',\n",
       "  '-8 -35 0',\n",
       "  '-17 -26 0',\n",
       "  '-17 -35 0',\n",
       "  '-26 -35 0',\n",
       "  '8 17 26 35 0']]"
      ]
     },
     "execution_count": 16,
     "metadata": {},
     "output_type": "execute_result"
    }
   ],
   "source": [
    "encoderC2(3, 4)"
   ]
  },
  {
   "cell_type": "code",
   "execution_count": null,
   "metadata": {},
   "outputs": [],
   "source": []
  }
 ],
 "metadata": {
  "kernelspec": {
   "display_name": "base",
   "language": "python",
   "name": "python3"
  },
  "language_info": {
   "codemirror_mode": {
    "name": "ipython",
    "version": 3
   },
   "file_extension": ".py",
   "mimetype": "text/x-python",
   "name": "python",
   "nbconvert_exporter": "python",
   "pygments_lexer": "ipython3",
   "version": "3.9.16"
  },
  "orig_nbformat": 4,
  "vscode": {
   "interpreter": {
    "hash": "c58e34eadad72e4a49d885cdf4dc6f5ec7648655391e938737c552628e5bb536"
   }
  }
 },
 "nbformat": 4,
 "nbformat_minor": 2
}
