{
 "cells": [
  {
   "cell_type": "code",
   "execution_count": 1,
   "id": "38e03cae",
   "metadata": {},
   "outputs": [],
   "source": [
    "var = [1, 4, 2, 5, 3]\n"
   ]
  },
  {
   "cell_type": "code",
   "execution_count": 2,
   "id": "e076181d",
   "metadata": {},
   "outputs": [
    {
     "name": "stdout",
     "output_type": "stream",
     "text": [
      "1 <class 'str'>\n",
      "4 <class 'str'>\n",
      "2 <class 'str'>\n",
      "5 <class 'str'>\n",
      "3 <class 'str'>\n"
     ]
    }
   ],
   "source": [
    "for i in map(str, var):\n",
    "    print(i, type(i))\n"
   ]
  },
  {
   "cell_type": "code",
   "execution_count": 3,
   "id": "2bc76964",
   "metadata": {},
   "outputs": [
    {
     "data": {
      "text/plain": [
       "'1 4 2 5 3 0'"
      ]
     },
     "execution_count": 3,
     "metadata": {},
     "output_type": "execute_result"
    }
   ],
   "source": [
    "var.append(0)\n",
    "\" \".join(map(str, var))\n"
   ]
  },
  {
   "cell_type": "code",
   "execution_count": 4,
   "id": "023ab318",
   "metadata": {},
   "outputs": [
    {
     "name": "stdout",
     "output_type": "stream",
     "text": [
      "11\n",
      "(1, 0, 1)\n"
     ]
    }
   ],
   "source": [
    "def encodage(ne, nj, j, x, y):\n",
    "    return j * ne**2 + x * ne + y + 1\n",
    "\n",
    "\n",
    "def decodage(k, ne):\n",
    "    y = (k - 1) % ne\n",
    "    x = ((k - 1 - y) // ne) % ne\n",
    "    j = (k - 1 - y - x * ne) // (ne * ne)\n",
    "    return j, x, y\n",
    "\n",
    "\n",
    "print(encodage(3, 4, 1, 0, 1))\n",
    "print(decodage(11, 3))\n"
   ]
  },
  {
   "cell_type": "code",
   "execution_count": 5,
   "id": "c07bc23f",
   "metadata": {},
   "outputs": [
    {
     "data": {
      "text/plain": [
       "['1 2 3 0']"
      ]
     },
     "execution_count": 5,
     "metadata": {},
     "output_type": "execute_result"
    }
   ],
   "source": [
    "var = [1, 2, 3]\n",
    "\n",
    "\n",
    "def au_moins_un(variables):\n",
    "    clause = [str(v) for v in variables]\n",
    "    clause.append(\"0\")\n",
    "    return [\" \".join(clause)]\n",
    "\n",
    "\n",
    "au_moins_un(var)\n"
   ]
  },
  {
   "cell_type": "code",
   "execution_count": 6,
   "id": "eaba3f1b",
   "metadata": {},
   "outputs": [
    {
     "data": {
      "text/plain": [
       "['-1 -2 0', '-1 -3 0', '-2 -3 0']"
      ]
     },
     "execution_count": 6,
     "metadata": {},
     "output_type": "execute_result"
    }
   ],
   "source": [
    "var = [1, 2, 3]\n",
    "\n",
    "\n",
    "def au_plus_un(variables):\n",
    "    clauses = []\n",
    "    n = len(variables)\n",
    "    for i in range(n):\n",
    "        for j in range(i + 1, n):\n",
    "            clauses.append(\"-{} -{} 0\".format(variables[i], variables[j]))\n",
    "    return clauses\n",
    "\n",
    "\n",
    "au_plus_un(var)\n"
   ]
  },
  {
   "cell_type": "code",
   "execution_count": 7,
   "id": "7372bca4",
   "metadata": {},
   "outputs": [
    {
     "name": "stdout",
     "output_type": "stream",
     "text": [
      "[[-1, -2], [-1, -3], [-2, -3]]\n"
     ]
    },
    {
     "data": {
      "text/plain": [
       "['-1 -2 0', '-1 -3 0', '-2 -3 0']"
      ]
     },
     "execution_count": 7,
     "metadata": {},
     "output_type": "execute_result"
    }
   ],
   "source": [
    "from itertools import combinations\n",
    "\n",
    "l = [[-i, -j] for i, j in combinations(var, 2)]\n",
    "print(l)\n",
    "[\" \".join(map(str, clause + [0])) for clause in l]\n"
   ]
  },
  {
   "cell_type": "code",
   "execution_count": 8,
   "id": "158531be",
   "metadata": {},
   "outputs": [
    {
     "data": {
      "text/plain": [
       "['-2 -3 0', '-3 -2 0', '-6 -7 0', '-7 -6 0']"
      ]
     },
     "execution_count": 8,
     "metadata": {},
     "output_type": "execute_result"
    }
   ],
   "source": [
    "def encoderC1(ne, nj):\n",
    "    clauses = []\n",
    "    for j in range(nj):\n",
    "        for x in range(ne):\n",
    "            # Contrainte \"au plus 1\" pour chaque équipe x et chaque jour j\n",
    "            domicile = [encodage(ne, nj, j, x, y) for y in range(ne) if y != x]\n",
    "            exterieur = [encodage(ne, nj, j, y, x) for y in range(ne) if y != x]\n",
    "            clauses.extend(au_plus_un(domicile + exterieur))\n",
    "    return clauses\n",
    "\n",
    "\n",
    "encoderC1(2, 2)\n"
   ]
  },
  {
   "cell_type": "code",
   "execution_count": 9,
   "id": "4e330ff1",
   "metadata": {},
   "outputs": [
    {
     "name": "stdout",
     "output_type": "stream",
     "text": [
      "42\n"
     ]
    },
    {
     "data": {
      "text/plain": [
       "['2 11 20 29 0',\n",
       " '-2 -11 0',\n",
       " '-2 -20 0',\n",
       " '-2 -29 0',\n",
       " '-11 -20 0',\n",
       " '-11 -29 0',\n",
       " '-20 -29 0',\n",
       " '3 12 21 30 0',\n",
       " '-3 -12 0',\n",
       " '-3 -21 0',\n",
       " '-3 -30 0',\n",
       " '-12 -21 0',\n",
       " '-12 -30 0',\n",
       " '-21 -30 0',\n",
       " '4 13 22 31 0',\n",
       " '-4 -13 0',\n",
       " '-4 -22 0',\n",
       " '-4 -31 0',\n",
       " '-13 -22 0',\n",
       " '-13 -31 0',\n",
       " '-22 -31 0',\n",
       " '6 15 24 33 0',\n",
       " '-6 -15 0',\n",
       " '-6 -24 0',\n",
       " '-6 -33 0',\n",
       " '-15 -24 0',\n",
       " '-15 -33 0',\n",
       " '-24 -33 0',\n",
       " '7 16 25 34 0',\n",
       " '-7 -16 0',\n",
       " '-7 -25 0',\n",
       " '-7 -34 0',\n",
       " '-16 -25 0',\n",
       " '-16 -34 0',\n",
       " '-25 -34 0',\n",
       " '8 17 26 35 0',\n",
       " '-8 -17 0',\n",
       " '-8 -26 0',\n",
       " '-8 -35 0',\n",
       " '-17 -26 0',\n",
       " '-17 -35 0',\n",
       " '-26 -35 0']"
      ]
     },
     "execution_count": 9,
     "metadata": {},
     "output_type": "execute_result"
    }
   ],
   "source": [
    "def encoderC2(ne, nj):\n",
    "    clauses = []\n",
    "    for x in range(ne):\n",
    "        for y in range(ne):\n",
    "            if x != y:\n",
    "                list_match = [encodage(ne, nj, j, x, y) for j in range(nj)]\n",
    "                clauses.extend(au_moins_un(list_match))\n",
    "                clauses.extend(au_plus_un(list_match))\n",
    "    return clauses\n",
    "\n",
    "\n",
    "print(len(encoderC2(3, 4)))\n",
    "encoderC2(3, 4)\n"
   ]
  },
  {
   "cell_type": "code",
   "execution_count": 10,
   "id": "21f37e02",
   "metadata": {},
   "outputs": [],
   "source": [
    "def encoder(ne, nj):\n",
    "    contraintes = encoderC1(ne, nj) + encoderC2(ne, nj)\n",
    "    with open(\"contraintes.cnf\", \"w\") as f:\n",
    "        # Ecrire l'en-tête du fichier DIMACS\n",
    "        f.write(\"p cnf {} {}\\n\".format(ne * ne * nj - 1, len(contraintes)))\n",
    "        # Ecrire les contraintes\n",
    "        for contrainte in contraintes:\n",
    "            f.write(contrainte + \"\\n\")"
   ]
  },
  {
   "cell_type": "code",
   "execution_count": 11,
   "id": "1261976f",
   "metadata": {},
   "outputs": [
    {
     "data": {
      "text/plain": [
       "{0: {'Domicile': 'Chicago Bulls', 'Extérieur': 'Atlanta Hawks'},\n",
       " 1: {'Domicile': 'Atlanta Hawks', 'Extérieur': 'Chicago Bulls'},\n",
       " 2: {'Domicile': 'Atlanta Hawks', 'Extérieur': 'LA Lakers'},\n",
       " 3: {'Domicile': 'Chicago Bulls', 'Extérieur': 'LA Lakers'},\n",
       " 4: {'Domicile': 'LA Lakers', 'Extérieur': 'Atlanta Hawks'},\n",
       " 5: {'Domicile': 'LA Lakers', 'Extérieur': 'Chicago Bulls'}}"
      ]
     },
     "execution_count": 11,
     "metadata": {},
     "output_type": "execute_result"
    }
   ],
   "source": [
    "def decoder(output_file, ne, nj, team_names_file):\n",
    "    # Ouvrir le fichier contenant les noms d'équipe\n",
    "    with open(team_names_file, \"r\") as f:\n",
    "        team_names = [line.strip() for line in f]\n",
    "\n",
    "    # Ouvrir le fichier de sortie de glucose\n",
    "    with open(output_file, \"r\") as f:\n",
    "        output_lines = f.readlines()\n",
    "\n",
    "    # Extraire le modèle s'il existe\n",
    "    model = output_lines[0].split()\n",
    "\n",
    "    # Si aucun modèle n'a été trouvé, il n'y a pas de solution\n",
    "    if model == \"UNSAT\":\n",
    "        return \"Pas de solution\"\n",
    "\n",
    "    # Cas SAT : initialisation du planning sous forme de dictionnaire\n",
    "    planning = {j: {\"Domicile\" : None, \"Extérieur\": None} for j in range(nj)}\n",
    "\n",
    "    for s in model:\n",
    "        s = int(s)\n",
    "        if s > 0:\n",
    "            j, x, y = decodage(s, ne)\n",
    "            if team_names_file != None:\n",
    "                x = team_names[x]\n",
    "                y = team_names[y]\n",
    "            planning[j][\"Domicile\"] = x\n",
    "            planning[j][\"Extérieur\"] = y\n",
    "\n",
    "    return planning\n",
    "\n",
    "\n",
    "decoder(\"output.txt\", 3, 6, \"teams_names.txt\")\n"
   ]
  },
  {
   "cell_type": "code",
   "execution_count": 12,
   "id": "a9520e28",
   "metadata": {},
   "outputs": [
    {
     "name": "stdout",
     "output_type": "stream",
     "text": [
      "Jour       Domicile        Extérieur\n",
      " 1        Chicago Bulls   Atlanta Hawks\n",
      " 2        Atlanta Hawks   Chicago Bulls\n",
      " 3        Atlanta Hawks   LA Lakers \n",
      " 4        Chicago Bulls   LA Lakers \n",
      " 5        LA Lakers       Atlanta Hawks\n",
      " 6        LA Lakers       Chicago Bulls\n"
     ]
    }
   ],
   "source": [
    "planning = decoder(\"output.txt\", 3, 6, \"teams_names.txt\")\n",
    "print(\"{:<10} {:<15} {}\".format('Jour','Domicile','Extérieur'))\n",
    "for jour, matchs in planning.items():\n",
    "    domicile = matchs[\"Domicile\"]\n",
    "    exterieur = matchs[\"Extérieur\"]\n",
    "    print(\" {:<8} {:<15} {:<10}\".format(jour + 1, domicile, exterieur))"
   ]
  },
  {
   "cell_type": "code",
   "execution_count": 13,
   "id": "1749bcf4",
   "metadata": {},
   "outputs": [],
   "source": [
    "import pandas as pd\n",
    "df = pd.DataFrame(planning)"
   ]
  },
  {
   "cell_type": "code",
   "execution_count": 14,
   "id": "8505005b",
   "metadata": {},
   "outputs": [],
   "source": [
    "def optimiser_nj(ne_min = 1, ne_max = 4):\n",
    "    \"\"\" Cherche le nombre de jour nj minimal afin de pouvoir planifier tous\n",
    "        les matchs du championnat. Tourne au plus 10s.\n",
    "        @param ne_min: int\n",
    "        @param ne_max: int\n",
    "    \"\"\"\n",
    "    nj_opt = [0] * ( ne_max - ne_min + 1 )\n",
    "    \n",
    "    for ne in range( ne_min, ne_max + 1 ):\n",
    "        t_start = time.time()\n",
    "        nj = 1\n",
    "        while time.time() - t_start < 10:\n",
    "            genere_cnf(ne,nj)\n",
    "            if decoder('championnat.cnf', ne, nj) != None:\n",
    "                nj_opt[ ne - ne_min ] = nj\n",
    "                print(nj_opt)\n",
    "                break\n",
    "            nj += 1\n",
    "            \n",
    "    return nj_opt"
   ]
  },
  {
   "cell_type": "code",
   "execution_count": 15,
   "id": "e86032f9",
   "metadata": {},
   "outputs": [
    {
     "name": "stdout",
     "output_type": "stream",
     "text": [
      "['wsl', '/mnt/d/Downloads/glucose-4.2.1/sources/simp/glucose_static']\n"
     ]
    }
   ],
   "source": [
    "import subprocess\n",
    "import os\n",
    "\n",
    "current = os.getcwd()\n",
    "\n",
    "cmd = \"glucose contraintes.cnf output.txt\"\n",
    "cmd = [\"wsl\", \"/mnt/d/Downloads/glucose-4.2.1/sources/simp/glucose_static\"]\n",
    "print(cmd)\n",
    "subprocess.run(cmd, shell=True, capture_output=True)"
   ]
  },
  {
   "cell_type": "code",
   "execution_count": 7,
   "id": "932e4989",
   "metadata": {},
   "outputs": [
    {
     "data": {
      "text/plain": [
       "'d:\\\\~Perso\\\\Etudes\\\\DAC\\\\S2\\\\IAMSI\\\\tme04'"
      ]
     },
     "execution_count": 7,
     "metadata": {},
     "output_type": "execute_result"
    }
   ],
   "source": [
    "os.getcwd()"
   ]
  },
  {
   "cell_type": "code",
   "execution_count": null,
   "id": "eeb65413",
   "metadata": {},
   "outputs": [],
   "source": []
  }
 ],
 "metadata": {
  "kernelspec": {
   "display_name": "base",
   "language": "python",
   "name": "python3"
  },
  "language_info": {
   "codemirror_mode": {
    "name": "ipython",
    "version": 3
   },
   "file_extension": ".py",
   "mimetype": "text/x-python",
   "name": "python",
   "nbconvert_exporter": "python",
   "pygments_lexer": "ipython3",
   "version": "3.9.13"
  },
  "vscode": {
   "interpreter": {
    "hash": "c58e34eadad72e4a49d885cdf4dc6f5ec7648655391e938737c552628e5bb536"
   }
  }
 },
 "nbformat": 4,
 "nbformat_minor": 5
}
