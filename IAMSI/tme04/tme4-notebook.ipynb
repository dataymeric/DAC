{
 "cells": [
  {
   "cell_type": "code",
   "execution_count": 4,
   "id": "38e03cae",
   "metadata": {},
   "outputs": [],
   "source": [
    "var = [1, 4, 2, 5, 3]"
   ]
  },
  {
   "cell_type": "code",
   "execution_count": 11,
   "id": "e076181d",
   "metadata": {},
   "outputs": [
    {
     "name": "stdout",
     "output_type": "stream",
     "text": [
      "1 <class 'str'>\n",
      "4 <class 'str'>\n",
      "2 <class 'str'>\n",
      "5 <class 'str'>\n",
      "0 <class 'str'>\n"
     ]
    }
   ],
   "source": [
    "for i in map(str, var):\n",
    "    print(i, type(i))"
   ]
  },
  {
   "cell_type": "code",
   "execution_count": 5,
   "id": "2bc76964",
   "metadata": {},
   "outputs": [
    {
     "data": {
      "text/plain": [
       "'1 4 2 5 3 0'"
      ]
     },
     "execution_count": 5,
     "metadata": {},
     "output_type": "execute_result"
    }
   ],
   "source": [
    "var.append(0)\n",
    "\" \".join(map(str, var))"
   ]
  },
  {
   "cell_type": "code",
   "execution_count": 80,
   "id": "023ab318",
   "metadata": {},
   "outputs": [
    {
     "name": "stdout",
     "output_type": "stream",
     "text": [
      "11\n",
      "(1, 0, 1)\n"
     ]
    }
   ],
   "source": [
    "def encodage(ne, nj, j, x, y):\n",
    "    return j * ne**2 + x * ne + y + 1\n",
    "\n",
    "def decodage(k, ne):\n",
    "    y = (k - 1) % ne\n",
    "    x = ((k - 1 - y) // ne) % ne\n",
    "    j = (k - 1 - y - x * ne) // (ne * ne)\n",
    "    return j, x, y\n",
    "\n",
    "print(encodage(3, 4, 1, 0, 1))\n",
    "print(decodage(11, 3))"
   ]
  },
  {
   "cell_type": "code",
   "execution_count": 75,
   "id": "c07bc23f",
   "metadata": {},
   "outputs": [
    {
     "data": {
      "text/plain": [
       "['1 4 2 5 3 0']"
      ]
     },
     "execution_count": 75,
     "metadata": {},
     "output_type": "execute_result"
    }
   ],
   "source": [
    "var = [1, 4, 2, 5, 3]\n",
    "def au_moins_un(variables):\n",
    "    clause = [str(v) for v in variables]\n",
    "    clause.append('0')\n",
    "    return [' '.join(clause)]\n",
    "\n",
    "au_moins_un(var)"
   ]
  },
  {
   "cell_type": "code",
   "execution_count": 76,
   "id": "eaba3f1b",
   "metadata": {},
   "outputs": [
    {
     "data": {
      "text/plain": [
       "['-1 -4 0',\n",
       " '-1 -2 0',\n",
       " '-1 -5 0',\n",
       " '-1 -3 0',\n",
       " '-4 -2 0',\n",
       " '-4 -5 0',\n",
       " '-4 -3 0',\n",
       " '-2 -5 0',\n",
       " '-2 -3 0',\n",
       " '-5 -3 0']"
      ]
     },
     "execution_count": 76,
     "metadata": {},
     "output_type": "execute_result"
    }
   ],
   "source": [
    "var = [1, 4, 2, 5, 3]\n",
    "def au_plus_un(variables):\n",
    "    clauses = []\n",
    "    n = len(variables)\n",
    "    for i in range(n):\n",
    "        for j in range(i+1, n):\n",
    "            clauses.append('-{} -{} 0'.format(variables[i], variables[j]))\n",
    "    return clauses\n",
    "\n",
    "au_plus_un(var)"
   ]
  },
  {
   "cell_type": "code",
   "execution_count": 77,
   "id": "7372bca4",
   "metadata": {},
   "outputs": [
    {
     "name": "stdout",
     "output_type": "stream",
     "text": [
      "[[-1, -4], [-1, -2], [-1, -5], [-1, -3], [-4, -2], [-4, -5], [-4, -3], [-2, -5], [-2, -3], [-5, -3]]\n"
     ]
    },
    {
     "data": {
      "text/plain": [
       "['-1 -4 0',\n",
       " '-1 -2 0',\n",
       " '-1 -5 0',\n",
       " '-1 -3 0',\n",
       " '-4 -2 0',\n",
       " '-4 -5 0',\n",
       " '-4 -3 0',\n",
       " '-2 -5 0',\n",
       " '-2 -3 0',\n",
       " '-5 -3 0']"
      ]
     },
     "execution_count": 77,
     "metadata": {},
     "output_type": "execute_result"
    }
   ],
   "source": [
    "from itertools import combinations\n",
    "l = [[-i, -j] for i, j in combinations(var, 2)]\n",
    "print(l)\n",
    "[\" \".join(map(str, clause + [0])) for clause in l]"
   ]
  },
  {
   "cell_type": "code",
   "execution_count": 78,
   "id": "158531be",
   "metadata": {},
   "outputs": [
    {
     "data": {
      "text/plain": [
       "['-2 -3 0',\n",
       " '-2 -4 0',\n",
       " '-2 -7 0',\n",
       " '-3 -4 0',\n",
       " '-3 -7 0',\n",
       " '-4 -7 0',\n",
       " '-4 -6 0',\n",
       " '-4 -2 0',\n",
       " '-4 -8 0',\n",
       " '-6 -2 0',\n",
       " '-6 -8 0',\n",
       " '-2 -8 0',\n",
       " '-7 -8 0',\n",
       " '-7 -3 0',\n",
       " '-7 -6 0',\n",
       " '-8 -3 0',\n",
       " '-8 -6 0',\n",
       " '-3 -6 0',\n",
       " '-11 -12 0',\n",
       " '-11 -13 0',\n",
       " '-11 -16 0',\n",
       " '-12 -13 0',\n",
       " '-12 -16 0',\n",
       " '-13 -16 0',\n",
       " '-13 -15 0',\n",
       " '-13 -11 0',\n",
       " '-13 -17 0',\n",
       " '-15 -11 0',\n",
       " '-15 -17 0',\n",
       " '-11 -17 0',\n",
       " '-16 -17 0',\n",
       " '-16 -12 0',\n",
       " '-16 -15 0',\n",
       " '-17 -12 0',\n",
       " '-17 -15 0',\n",
       " '-12 -15 0',\n",
       " '-20 -21 0',\n",
       " '-20 -22 0',\n",
       " '-20 -25 0',\n",
       " '-21 -22 0',\n",
       " '-21 -25 0',\n",
       " '-22 -25 0',\n",
       " '-22 -24 0',\n",
       " '-22 -20 0',\n",
       " '-22 -26 0',\n",
       " '-24 -20 0',\n",
       " '-24 -26 0',\n",
       " '-20 -26 0',\n",
       " '-25 -26 0',\n",
       " '-25 -21 0',\n",
       " '-25 -24 0',\n",
       " '-26 -21 0',\n",
       " '-26 -24 0',\n",
       " '-21 -24 0',\n",
       " '-29 -30 0',\n",
       " '-29 -31 0',\n",
       " '-29 -34 0',\n",
       " '-30 -31 0',\n",
       " '-30 -34 0',\n",
       " '-31 -34 0',\n",
       " '-31 -33 0',\n",
       " '-31 -29 0',\n",
       " '-31 -35 0',\n",
       " '-33 -29 0',\n",
       " '-33 -35 0',\n",
       " '-29 -35 0',\n",
       " '-34 -35 0',\n",
       " '-34 -30 0',\n",
       " '-34 -33 0',\n",
       " '-35 -30 0',\n",
       " '-35 -33 0',\n",
       " '-30 -33 0']"
      ]
     },
     "execution_count": 78,
     "metadata": {},
     "output_type": "execute_result"
    }
   ],
   "source": [
    "def encoderC1(ne, nj):\n",
    "    clauses = []\n",
    "    for j in range(nj):\n",
    "        for x in range(ne):\n",
    "            # Contrainte \"au plus 1\" pour chaque équipe x et chaque jour j\n",
    "            domicile = [encodage(ne, nj, j, x, y) for y in range(ne) if y != x]\n",
    "            exterieur = [encodage(ne, nj, j, y, x) for y in range(ne) if y != x]\n",
    "            clauses.extend(au_plus_un(domicile + exterieur))\n",
    "    return clauses\n",
    "\n",
    "encoderC1(3, 4)"
   ]
  },
  {
   "cell_type": "code",
   "execution_count": 79,
   "id": "4e330ff1",
   "metadata": {},
   "outputs": [
    {
     "data": {
      "text/plain": [
       "['2 11 20 29 0',\n",
       " '-2 -11 0',\n",
       " '-2 -20 0',\n",
       " '-2 -29 0',\n",
       " '-11 -20 0',\n",
       " '-11 -29 0',\n",
       " '-20 -29 0',\n",
       " '3 12 21 30 0',\n",
       " '-3 -12 0',\n",
       " '-3 -21 0',\n",
       " '-3 -30 0',\n",
       " '-12 -21 0',\n",
       " '-12 -30 0',\n",
       " '-21 -30 0',\n",
       " '4 13 22 31 0',\n",
       " '-4 -13 0',\n",
       " '-4 -22 0',\n",
       " '-4 -31 0',\n",
       " '-13 -22 0',\n",
       " '-13 -31 0',\n",
       " '-22 -31 0',\n",
       " '6 15 24 33 0',\n",
       " '-6 -15 0',\n",
       " '-6 -24 0',\n",
       " '-6 -33 0',\n",
       " '-15 -24 0',\n",
       " '-15 -33 0',\n",
       " '-24 -33 0',\n",
       " '7 16 25 34 0',\n",
       " '-7 -16 0',\n",
       " '-7 -25 0',\n",
       " '-7 -34 0',\n",
       " '-16 -25 0',\n",
       " '-16 -34 0',\n",
       " '-25 -34 0',\n",
       " '8 17 26 35 0',\n",
       " '-8 -17 0',\n",
       " '-8 -26 0',\n",
       " '-8 -35 0',\n",
       " '-17 -26 0',\n",
       " '-17 -35 0',\n",
       " '-26 -35 0']"
      ]
     },
     "execution_count": 79,
     "metadata": {},
     "output_type": "execute_result"
    }
   ],
   "source": [
    "def encoderC2(ne, nj):\n",
    "    clauses = []\n",
    "    for x in range(ne):\n",
    "            for y in range(ne):\n",
    "                if x != y:\n",
    "                    list_match = [encodage(ne, nj, j, x, y) for j in range(nj)]\n",
    "                    clauses.extend(au_moins_un(list_match))\n",
    "                    clauses.extend(au_plus_un(list_match))\n",
    "    return clauses\n",
    "    \n",
    "encoderC2(3,4)"
   ]
  },
  {
   "cell_type": "code",
   "execution_count": 84,
   "id": "21f37e02",
   "metadata": {},
   "outputs": [],
   "source": [
    "def encoder(ne, nj):\n",
    "    return encoderC1(ne, nj) + encoderC2(ne, nj)\n",
    "\n",
    "ne = 3\n",
    "nj = 6\n",
    "with open(\"contraintes.cnf\", \"w\") as f:\n",
    "    # Écrire l'en-tête du fichier DIMACS\n",
    "    f.write(\"p cnf {} {}\\n\".format(ne ** 2 * nj, len(encoder(ne, nj))))\n",
    "    for contrainte in encoder(ne, nj):\n",
    "        f.write(contrainte + \"\\n\")\n",
    "\n",
    "\n"
   ]
  },
  {
   "cell_type": "code",
   "execution_count": null,
   "id": "b3818a30",
   "metadata": {},
   "outputs": [],
   "source": [
    "def decoder(sortie):\n",
    "    # Ouvrir le fichier de sortie de glucose\n",
    "    with open(sortie, 'r') as f:\n",
    "        sortie = f.readlines()\n",
    "    pass"
   ]
  }
 ],
 "metadata": {
  "kernelspec": {
   "display_name": "base",
   "language": "python",
   "name": "python3"
  },
  "language_info": {
   "codemirror_mode": {
    "name": "ipython",
    "version": 3
   },
   "file_extension": ".py",
   "mimetype": "text/x-python",
   "name": "python",
   "nbconvert_exporter": "python",
   "pygments_lexer": "ipython3",
   "version": "3.9.16"
  },
  "vscode": {
   "interpreter": {
    "hash": "c58e34eadad72e4a49d885cdf4dc6f5ec7648655391e938737c552628e5bb536"
   }
  }
 },
 "nbformat": 4,
 "nbformat_minor": 5
}
