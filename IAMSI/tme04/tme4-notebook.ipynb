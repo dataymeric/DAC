{
 "cells": [
  {
   "cell_type": "code",
   "execution_count": 17,
   "id": "38e03cae",
   "metadata": {},
   "outputs": [
    {
     "ename": "TypeError",
     "evalue": "map() must have at least two arguments.",
     "output_type": "error",
     "traceback": [
      "\u001b[0;31m---------------------------------------------------------------------------\u001b[0m",
      "\u001b[0;31mTypeError\u001b[0m                                 Traceback (most recent call last)",
      "\u001b[0;32m/tmp/ipykernel_18678/325664019.py\u001b[0m in \u001b[0;36m<module>\u001b[0;34m\u001b[0m\n\u001b[1;32m      1\u001b[0m \u001b[0mvar\u001b[0m \u001b[0;34m=\u001b[0m \u001b[0;34m[\u001b[0m\u001b[0;36m1\u001b[0m\u001b[0;34m,\u001b[0m \u001b[0;36m4\u001b[0m\u001b[0;34m,\u001b[0m \u001b[0;36m2\u001b[0m\u001b[0;34m,\u001b[0m \u001b[0;36m5\u001b[0m\u001b[0;34m,\u001b[0m \u001b[0;36m0\u001b[0m\u001b[0;34m]\u001b[0m\u001b[0;34m\u001b[0m\u001b[0;34m\u001b[0m\u001b[0m\n\u001b[0;32m----> 2\u001b[0;31m \u001b[0mmap\u001b[0m\u001b[0;34m(\u001b[0m\u001b[0mvar\u001b[0m\u001b[0;34m)\u001b[0m\u001b[0;34m\u001b[0m\u001b[0;34m\u001b[0m\u001b[0m\n\u001b[0m",
      "\u001b[0;31mTypeError\u001b[0m: map() must have at least two arguments."
     ]
    }
   ],
   "source": [
    "var = [1, 4, 2, 5, 0]\n",
    "map(var)"
   ]
  },
  {
   "cell_type": "code",
   "execution_count": 11,
   "id": "e076181d",
   "metadata": {},
   "outputs": [
    {
     "name": "stdout",
     "output_type": "stream",
     "text": [
      "1 <class 'str'>\n",
      "4 <class 'str'>\n",
      "2 <class 'str'>\n",
      "5 <class 'str'>\n",
      "0 <class 'str'>\n"
     ]
    }
   ],
   "source": [
    "for i in map(str, var):\n",
    "    print(i, type(i))"
   ]
  },
  {
   "cell_type": "code",
   "execution_count": 18,
   "id": "2bc76964",
   "metadata": {},
   "outputs": [
    {
     "data": {
      "text/plain": [
       "'1 4 2 5 0 0'"
      ]
     },
     "execution_count": 18,
     "metadata": {},
     "output_type": "execute_result"
    }
   ],
   "source": [
    "var.append(0)\n",
    "\" \".join(map(str, var))"
   ]
  },
  {
   "cell_type": "code",
   "execution_count": 26,
   "id": "23efd484",
   "metadata": {},
   "outputs": [
    {
     "name": "stdout",
     "output_type": "stream",
     "text": [
      "[1, 2, 3, 4]\n",
      "-1 -2\n",
      "-1 -3\n",
      "-1 -4\n",
      "-2 -3\n",
      "-2 -4\n",
      "-3 -4\n"
     ]
    }
   ],
   "source": [
    "from itertools import combinations\n",
    "\n",
    "var = list(range(1, 5))\n",
    "print(var)\n",
    "for i, j in combinations(var, 2):\n",
    "    print(-i, -j)"
   ]
  },
  {
   "cell_type": "code",
   "execution_count": 27,
   "id": "7372bca4",
   "metadata": {},
   "outputs": [
    {
     "name": "stdout",
     "output_type": "stream",
     "text": [
      "[[-1, -2], [-1, -3], [-1, -4], [-2, -3], [-2, -4], [-3, -4]]\n"
     ]
    },
    {
     "data": {
      "text/plain": [
       "['-1 -2 0', '-1 -3 0', '-1 -4 0', '-2 -3 0', '-2 -4 0', '-3 -4 0']"
      ]
     },
     "execution_count": 27,
     "metadata": {},
     "output_type": "execute_result"
    }
   ],
   "source": [
    "l = [[-i, -j] for i, j in combinations(var, 2)]\n",
    "print(l)\n",
    "[\" \".join(map(str, clause + [0])) for clause in l]"
   ]
  },
  {
   "cell_type": "code",
   "execution_count": 31,
   "id": "79c49a56",
   "metadata": {},
   "outputs": [],
   "source": [
    "def codage(ne, nj, j, x, y):\n",
    "    \"\"\"int ** 5 -> int\n",
    "    Encode une variable m_{j,x,y} par v_k.\n",
    "    \"\"\"\n",
    "    return j * ne * ne + x * ne + y + 1"
   ]
  },
  {
   "cell_type": "code",
   "execution_count": 32,
   "id": "ff0e929e",
   "metadata": {},
   "outputs": [
    {
     "data": {
      "text/plain": [
       "[1,\n",
       " 10,\n",
       " 19,\n",
       " 28,\n",
       " 2,\n",
       " 11,\n",
       " 20,\n",
       " 29,\n",
       " 3,\n",
       " 12,\n",
       " 21,\n",
       " 30,\n",
       " 4,\n",
       " 13,\n",
       " 22,\n",
       " 31,\n",
       " 5,\n",
       " 14,\n",
       " 23,\n",
       " 32,\n",
       " 6,\n",
       " 15,\n",
       " 24,\n",
       " 33,\n",
       " 7,\n",
       " 16,\n",
       " 25,\n",
       " 34,\n",
       " 8,\n",
       " 17,\n",
       " 26,\n",
       " 35,\n",
       " 9,\n",
       " 18,\n",
       " 27,\n",
       " 36]"
      ]
     },
     "execution_count": 32,
     "metadata": {},
     "output_type": "execute_result"
    }
   ],
   "source": [
    "[codage(3, 4, j, x, y) for x in range(3) for y in range(3) for j in range(4)]"
   ]
  },
  {
   "cell_type": "code",
   "execution_count": 35,
   "id": "11ed473f",
   "metadata": {},
   "outputs": [],
   "source": [
    "nj = 4\n",
    "ne = 3\n",
    "\n",
    "l = []\n",
    "for j in range(nj):\n",
    "    for x in range(ne):\n",
    "        l.append([codage(ne, nj, j, x, y) for y in range(ne)])\n",
    "        "
   ]
  },
  {
   "cell_type": "code",
   "execution_count": 36,
   "id": "15701ea5",
   "metadata": {},
   "outputs": [
    {
     "data": {
      "text/plain": [
       "[[1, 2, 3],\n",
       " [4, 5, 6],\n",
       " [7, 8, 9],\n",
       " [10, 11, 12],\n",
       " [13, 14, 15],\n",
       " [16, 17, 18],\n",
       " [19, 20, 21],\n",
       " [22, 23, 24],\n",
       " [25, 26, 27],\n",
       " [28, 29, 30],\n",
       " [31, 32, 33],\n",
       " [34, 35, 36]]"
      ]
     },
     "execution_count": 36,
     "metadata": {},
     "output_type": "execute_result"
    }
   ],
   "source": [
    "l"
   ]
  },
  {
   "cell_type": "code",
   "execution_count": null,
   "id": "158531be",
   "metadata": {},
   "outputs": [],
   "source": []
  }
 ],
 "metadata": {
  "kernelspec": {
   "display_name": "Python 3 (ipykernel)",
   "language": "python",
   "name": "python3"
  },
  "language_info": {
   "codemirror_mode": {
    "name": "ipython",
    "version": 3
   },
   "file_extension": ".py",
   "mimetype": "text/x-python",
   "name": "python",
   "nbconvert_exporter": "python",
   "pygments_lexer": "ipython3",
   "version": "3.9.2"
  }
 },
 "nbformat": 4,
 "nbformat_minor": 5
}
