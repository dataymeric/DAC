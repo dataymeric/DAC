{
 "cells": [
  {
   "cell_type": "code",
   "execution_count": 1,
   "metadata": {},
   "outputs": [],
   "source": [
    "from itertools import combinations\n",
    "\n",
    "\n",
    "def calcul_k(ne, nj, j, x, y):\n",
    "\t\"\"\"Calculer k l'id de la variable\"\"\"\n",
    "\treturn j * ne**2 + x * ne + y + 1\n",
    "\n",
    "def calcul_jxy(ne, k):\n",
    "\t\"\"\"Calculer j,x,y les attributs individus de la variable k\"\"\"\n",
    "\ty = (k - 1) % ne\n",
    "\tx = ((k-1-y) // ne) % ne\n",
    "\tj = (k - 1 - y - x*ne) // (ne**2)\n",
    "\treturn j, x, y\n",
    "\n",
    "def au_moins_1(list_vars):\n",
    "\t\"\"\"Renvoie une clause DIMACS correspondant a la contrainte au moins une de ces vars est vraie\"\"\"\n",
    "\treturn [\" \".join(map(str, list_vars + [0]))]\n",
    "\n",
    "def au_plus_1(list_vars):\n",
    "\t\"\"\"Renvoie une liste des clauses DIMACS correspondant a la contrainte au plus une de ces vars est vraie\"\"\"\n",
    "\tl = [[-i, -j] for i, j in combinations(list_vars, 2)]\n",
    "\treturn [\" \".join(map(str, clause + [0])) for clause in l]\n",
    "\n",
    "def encoderC1(ne, nj):\n",
    "\t\"\"\"Encoder chaque equipe ne peut jouer plus d'un match par jour\"\"\"\n",
    "\tclauses = []\n",
    "\tfor j in range(nj):\n",
    "\t\tfor x in range(ne):\n",
    "\t\t\tlist_vars = [calcul_k(ne, nj, j, x, y) for y in range(ne) if x != y] \\\n",
    "\t\t\t\t+ [calcul_k(ne, nj, j, y, x) for y in range(ne) if x != y]\n",
    "\t\t\tclauses += au_plus_1(list_vars)\n",
    "\treturn clauses\n",
    "\n",
    "\n",
    "def encoderC2(ne, nj):\n",
    "\t\"\"\"Encoder sur la duree du championnat chaque equipe doit rencontrer l'ensemble des autres\n",
    "\tequipes une fois a domicile et une fois a l'ext soit exactement 2 matchs par equipe adverse\"\"\"\n",
    "\tclauses = []\n",
    "\tfor x, y in combinations(range(ne), 2):\n",
    "\t\tclauses += au_plus_1([calcul_k(ne, nj, j, x, y) for j in range(nj)])\n",
    "\t\tclauses += au_moins_1([calcul_k(ne, nj, j, x, y) for j in range(nj)])\n",
    "\t\tclauses += au_plus_1([calcul_k(ne, nj, j, y, x) for j in range(nj)])\n",
    "\t\tclauses += au_moins_1([calcul_k(ne, nj, j, y, x) for j in range(nj)])\n",
    "\treturn clauses\n",
    "\t\n",
    "def encoder(ne, nj):\n",
    "\t\"\"\"Programme principal\"\"\"\n",
    "\treturn encoderC1(ne, nj) + encoderC2(ne, nj)"
   ]
  },
  {
   "cell_type": "code",
   "execution_count": 2,
   "metadata": {},
   "outputs": [
    {
     "data": {
      "text/plain": [
       "['-2 -3 0',\n",
       " '-2 -4 0',\n",
       " '-2 -7 0',\n",
       " '-3 -4 0',\n",
       " '-3 -7 0',\n",
       " '-4 -7 0',\n",
       " '-4 -6 0',\n",
       " '-4 -2 0',\n",
       " '-4 -8 0',\n",
       " '-6 -2 0',\n",
       " '-6 -8 0',\n",
       " '-2 -8 0',\n",
       " '-7 -8 0',\n",
       " '-7 -3 0',\n",
       " '-7 -6 0',\n",
       " '-8 -3 0',\n",
       " '-8 -6 0',\n",
       " '-3 -6 0',\n",
       " '-11 -12 0',\n",
       " '-11 -13 0',\n",
       " '-11 -16 0',\n",
       " '-12 -13 0',\n",
       " '-12 -16 0',\n",
       " '-13 -16 0',\n",
       " '-13 -15 0',\n",
       " '-13 -11 0',\n",
       " '-13 -17 0',\n",
       " '-15 -11 0',\n",
       " '-15 -17 0',\n",
       " '-11 -17 0',\n",
       " '-16 -17 0',\n",
       " '-16 -12 0',\n",
       " '-16 -15 0',\n",
       " '-17 -12 0',\n",
       " '-17 -15 0',\n",
       " '-12 -15 0',\n",
       " '-20 -21 0',\n",
       " '-20 -22 0',\n",
       " '-20 -25 0',\n",
       " '-21 -22 0',\n",
       " '-21 -25 0',\n",
       " '-22 -25 0',\n",
       " '-22 -24 0',\n",
       " '-22 -20 0',\n",
       " '-22 -26 0',\n",
       " '-24 -20 0',\n",
       " '-24 -26 0',\n",
       " '-20 -26 0',\n",
       " '-25 -26 0',\n",
       " '-25 -21 0',\n",
       " '-25 -24 0',\n",
       " '-26 -21 0',\n",
       " '-26 -24 0',\n",
       " '-21 -24 0',\n",
       " '-29 -30 0',\n",
       " '-29 -31 0',\n",
       " '-29 -34 0',\n",
       " '-30 -31 0',\n",
       " '-30 -34 0',\n",
       " '-31 -34 0',\n",
       " '-31 -33 0',\n",
       " '-31 -29 0',\n",
       " '-31 -35 0',\n",
       " '-33 -29 0',\n",
       " '-33 -35 0',\n",
       " '-29 -35 0',\n",
       " '-34 -35 0',\n",
       " '-34 -30 0',\n",
       " '-34 -33 0',\n",
       " '-35 -30 0',\n",
       " '-35 -33 0',\n",
       " '-30 -33 0']"
      ]
     },
     "execution_count": 2,
     "metadata": {},
     "output_type": "execute_result"
    }
   ],
   "source": [
    "encoderC1(3, 4)"
   ]
  },
  {
   "cell_type": "code",
   "execution_count": 3,
   "metadata": {},
   "outputs": [
    {
     "data": {
      "text/plain": [
       "['-2 -11 0',\n",
       " '-2 -20 0',\n",
       " '-2 -29 0',\n",
       " '-11 -20 0',\n",
       " '-11 -29 0',\n",
       " '-20 -29 0',\n",
       " '2 11 20 29 0',\n",
       " '-4 -13 0',\n",
       " '-4 -22 0',\n",
       " '-4 -31 0',\n",
       " '-13 -22 0',\n",
       " '-13 -31 0',\n",
       " '-22 -31 0',\n",
       " '4 13 22 31 0',\n",
       " '-3 -12 0',\n",
       " '-3 -21 0',\n",
       " '-3 -30 0',\n",
       " '-12 -21 0',\n",
       " '-12 -30 0',\n",
       " '-21 -30 0',\n",
       " '3 12 21 30 0',\n",
       " '-7 -16 0',\n",
       " '-7 -25 0',\n",
       " '-7 -34 0',\n",
       " '-16 -25 0',\n",
       " '-16 -34 0',\n",
       " '-25 -34 0',\n",
       " '7 16 25 34 0',\n",
       " '-6 -15 0',\n",
       " '-6 -24 0',\n",
       " '-6 -33 0',\n",
       " '-15 -24 0',\n",
       " '-15 -33 0',\n",
       " '-24 -33 0',\n",
       " '6 15 24 33 0',\n",
       " '-8 -17 0',\n",
       " '-8 -26 0',\n",
       " '-8 -35 0',\n",
       " '-17 -26 0',\n",
       " '-17 -35 0',\n",
       " '-26 -35 0',\n",
       " '8 17 26 35 0']"
      ]
     },
     "execution_count": 3,
     "metadata": {},
     "output_type": "execute_result"
    }
   ],
   "source": [
    "encoderC2(3, 4)"
   ]
  },
  {
   "cell_type": "code",
   "execution_count": 5,
   "metadata": {},
   "outputs": [
    {
     "data": {
      "text/plain": [
       "['1 4 2 5 3 0']"
      ]
     },
     "execution_count": 5,
     "metadata": {},
     "output_type": "execute_result"
    }
   ],
   "source": [
    "var = [1, 4, 2, 5, 3]\n",
    "au_moins_1(var)"
   ]
  },
  {
   "cell_type": "code",
   "execution_count": null,
   "metadata": {},
   "outputs": [],
   "source": []
  }
 ],
 "metadata": {
  "kernelspec": {
   "display_name": "base",
   "language": "python",
   "name": "python3"
  },
  "language_info": {
   "codemirror_mode": {
    "name": "ipython",
    "version": 3
   },
   "file_extension": ".py",
   "mimetype": "text/x-python",
   "name": "python",
   "nbconvert_exporter": "python",
   "pygments_lexer": "ipython3",
   "version": "3.9.16"
  },
  "orig_nbformat": 4,
  "vscode": {
   "interpreter": {
    "hash": "c58e34eadad72e4a49d885cdf4dc6f5ec7648655391e938737c552628e5bb536"
   }
  }
 },
 "nbformat": 4,
 "nbformat_minor": 2
}
