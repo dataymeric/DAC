{
 "cells": [
  {
   "cell_type": "markdown",
   "metadata": {},
   "source": [
    "# Sequence Processing with HMMs and CRFs\n",
    "\n",
    "**The goal of this practical is to study sequence models in NLP.**\n",
    "\n",
    "We will work on Part-Of-Speech (POS) and optionally on chunking (gathering different groups in sentences). The datasets are from [CONLL 2000](https://www.clips.uantwerpen.be/conll2000/chunking/): \n",
    "- **Small corpus:** chtrain/chtest to understand the tools and models \n",
    "- **Larger corpus:** train/test to collect reliable experimental results\n",
    "\n",
    "\n",
    "# 1) HMMS\n"
   ]
  },
  {
   "cell_type": "code",
   "execution_count": 40,
   "metadata": {},
   "outputs": [],
   "source": [
    "import numpy as np\n",
    "import matplotlib.pyplot as plt"
   ]
  },
  {
   "cell_type": "code",
   "execution_count": 41,
   "metadata": {},
   "outputs": [],
   "source": [
    "# Loading POS/Chunking data\n",
    "def load(filename):\n",
    "    listeDoc = list()\n",
    "    with open(filename, \"r\") as f:\n",
    "        doc = list()\n",
    "        for ligne in f:\n",
    "            if len(ligne) < 2:  # fin de doc\n",
    "                listeDoc.append(doc)\n",
    "                doc = list()\n",
    "                continue\n",
    "            mots = ligne.replace(\"\\n\", \"\").split(\" \")\n",
    "            doc.append((mots[0], mots[1]))  # Change mots[1] -> mots[2] for chuncking\n",
    "    return listeDoc"
   ]
  },
  {
   "cell_type": "code",
   "execution_count": 42,
   "metadata": {},
   "outputs": [
    {
     "name": "stdout",
     "output_type": "stream",
     "text": [
      "8936  docs read\n",
      "2012  docs (T) read\n"
     ]
    }
   ],
   "source": [
    "# =============== loding ============\n",
    "# small corpus => ideal for first tests\n",
    "# filename = \"ressources/conll2000/chtrain.txt\"\n",
    "# filenameT = \"ressources/conll2000/chtest.txt\"\n",
    "\n",
    "# Larger corpus => To valide perf.\n",
    "filename = \"ressources/conll2000/train.txt\"\n",
    "filenameT = \"ressources/conll2000/test.txt\"\n",
    "\n",
    "alldocs = load(filename)\n",
    "alldocsT = load(filenameT)\n",
    "\n",
    "print(len(alldocs), \" docs read\")\n",
    "print(len(alldocsT), \" docs (T) read\")"
   ]
  },
  {
   "cell_type": "code",
   "execution_count": 43,
   "metadata": {},
   "outputs": [
    {
     "name": "stdout",
     "output_type": "stream",
     "text": [
      "[('Confidence', 'NN'), ('in', 'IN'), ('the', 'DT'), ('pound', 'NN'), ('is', 'VBZ'), ('widely', 'RB'), ('expected', 'VBN'), ('to', 'TO'), ('take', 'VB'), ('another', 'DT'), ('sharp', 'JJ'), ('dive', 'NN'), ('if', 'IN'), ('trade', 'NN'), ('figures', 'NNS'), ('for', 'IN'), ('September', 'NNP'), (',', ','), ('due', 'JJ'), ('for', 'IN'), ('release', 'NN'), ('tomorrow', 'NN'), (',', ','), ('fail', 'VB'), ('to', 'TO'), ('show', 'VB'), ('a', 'DT'), ('substantial', 'JJ'), ('improvement', 'NN'), ('from', 'IN'), ('July', 'NNP'), ('and', 'CC'), ('August', 'NNP'), (\"'s\", 'POS'), ('near-record', 'JJ'), ('deficits', 'NNS'), ('.', '.')]\n",
      "[('Rockwell', 'NNP'), ('International', 'NNP'), ('Corp.', 'NNP'), (\"'s\", 'POS'), ('Tulsa', 'NNP'), ('unit', 'NN'), ('said', 'VBD'), ('it', 'PRP'), ('signed', 'VBD'), ('a', 'DT'), ('tentative', 'JJ'), ('agreement', 'NN'), ('extending', 'VBG'), ('its', 'PRP$'), ('contract', 'NN'), ('with', 'IN'), ('Boeing', 'NNP'), ('Co.', 'NNP'), ('to', 'TO'), ('provide', 'VB'), ('structural', 'JJ'), ('parts', 'NNS'), ('for', 'IN'), ('Boeing', 'NNP'), (\"'s\", 'POS'), ('747', 'CD'), ('jetliners', 'NNS'), ('.', '.')]\n"
     ]
    }
   ],
   "source": [
    "print(alldocs[0])\n",
    "print(alldocsT[0])"
   ]
  },
  {
   "cell_type": "markdown",
   "metadata": {},
   "source": [
    "## Building a baseline POS model (without sequence)\n",
    "\n",
    "We will build a simple dictionary ```word => PoS label``` without taking into account any sequence information. We will compare the sequence models to this baseline.\n",
    "\n",
    "The dataset is a list a tuples with ```(word, POS)```. **Build a simple dictionary mapping each word to its PoS tag in the train set**"
   ]
  },
  {
   "cell_type": "code",
   "execution_count": 44,
   "metadata": {},
   "outputs": [],
   "source": [
    "# Dictionary building\n",
    "dico = dict()\n",
    "# YOUR CODE HERE\n",
    "for lines in alldocs:\n",
    "    for words, tags in lines:\n",
    "        dico[words] = tags"
   ]
  },
  {
   "cell_type": "markdown",
   "metadata": {},
   "source": [
    "**Note: on the test set, there are unknown words...**. We will use the following simple strategy: \n",
    "```\n",
    "# remplace\n",
    "dico[cle] # crashing with an unknown key \n",
    "# by \n",
    "dico.get(cle, DefaultValue)\n",
    "```\n",
    "From a linguistic point of view, we can choose the default value as the majority PoS class, producing a stronger baseline."
   ]
  },
  {
   "cell_type": "code",
   "execution_count": 45,
   "metadata": {},
   "outputs": [
    {
     "data": {
      "text/plain": [
       "42474"
      ]
     },
     "execution_count": 45,
     "metadata": {},
     "output_type": "execute_result"
    }
   ],
   "source": [
    "# Evaluate test performances\n",
    "score = 0\n",
    "for lines in alldocsT:\n",
    "    for words, tags in lines:\n",
    "        if tags in dico.get(words, \"NN\"):\n",
    "            score += 1\n",
    "# TODO\n",
    "# w = np.array(w)\n",
    "# np.sum(np.where(w == \"NN\", 0, 1))\n",
    "score"
   ]
  },
  {
   "cell_type": "markdown",
   "metadata": {},
   "source": [
    "Check: 1433 good predictions in test over 1896\n",
    "\n",
    "(1527 with 'NN' as default PoS value)"
   ]
  },
  {
   "cell_type": "markdown",
   "metadata": {},
   "source": [
    "## HMMs\n",
    "\n",
    "Here is a code for training HMM parameters and running decoding using the Viterbi algorithm. You should apply it to our PoS task. **N.B.: you should undersand the ```eps``` parmaters**.\n"
   ]
  },
  {
   "cell_type": "code",
   "execution_count": 47,
   "metadata": {},
   "outputs": [],
   "source": [
    "# allx: list of observation sequences\n",
    "# allq: list os state sequences\n",
    "# N: nb states\n",
    "# K: nb observations\n",
    "\n",
    "\n",
    "def learnHMM(allx, allq, N, K, initTo1=True):\n",
    "    if initTo1:\n",
    "        eps = 1e-3  # You can play with this regularization parameter\n",
    "        A = np.ones((N, N)) * eps\n",
    "        B = np.ones((N, K)) * eps\n",
    "        Pi = np.ones(N) * eps\n",
    "    else:\n",
    "        A = np.zeros((N, N))\n",
    "        B = np.zeros((N, K))\n",
    "        Pi = np.zeros(N)\n",
    "    for x, q in zip(allx, allq):\n",
    "        Pi[int(q[0])] += 1\n",
    "        for i in range(len(q) - 1):\n",
    "            A[int(q[i]), int(q[i + 1])] += 1\n",
    "            B[int(q[i]), int(x[i])] += 1\n",
    "        B[int(q[-1]), int(x[-1])] += 1  # last transition\n",
    "    A = A / np.maximum(A.sum(1).reshape(N, 1), 1)  # normalisation\n",
    "    B = B / np.maximum(B.sum(1).reshape(N, 1), 1)  # normalisation\n",
    "    Pi = Pi / Pi.sum()\n",
    "    return Pi, A, B\n",
    "\n",
    "\n",
    "def viterbi(x, Pi, A, B):\n",
    "    T = len(x)\n",
    "    N = len(Pi)\n",
    "    logA = np.log(A)\n",
    "    logB = np.log(B)\n",
    "    logdelta = np.zeros((N, T))\n",
    "    psi = np.zeros((N, T), dtype=int)\n",
    "    S = np.zeros(T)\n",
    "    logdelta[:, 0] = np.log(Pi) + logB[:, int(x[0])]\n",
    "    # forward\n",
    "    for t in range(1, T):\n",
    "        logdelta[:, t] = (logdelta[:, t - 1].reshape(N, 1) + logA).max(0) + logB[:, int(x[t])]\n",
    "        psi[:, t] = (logdelta[:, t - 1].reshape(N, 1) + logA).argmax(0)\n",
    "    # backward\n",
    "    logp = logdelta[:, -1].max()\n",
    "    S[T - 1] = logdelta[:, -1].argmax()\n",
    "    for i in range(2, T + 1):\n",
    "        S[int(T - i)] = psi[int(S[int(T - i + 1)]), int(T - i + 1)]\n",
    "    return S, logp  # , delta, psi"
   ]
  },
  {
   "cell_type": "markdown",
   "metadata": {},
   "source": [
    "### Data encoding\n",
    "\n",
    "We will map each word to an index for traing the HMM (see code below):\n",
    "```\n",
    " The cat is in the garden => 1 2 3 4 1 5\n",
    "```\n",
    "We have to understand the dictionary functionning to retrieve the words corresponding to indices."
   ]
  },
  {
   "cell_type": "code",
   "execution_count": 48,
   "metadata": {},
   "outputs": [
    {
     "name": "stdout",
     "output_type": "stream",
     "text": [
      "19123 words, 44 keys in the dictionary\n"
     ]
    }
   ],
   "source": [
    "# alldocs etant issu du chargement des données\n",
    "# la mise en forme des données est fournie ici\n",
    "# afin de produire des analyses qualitative, vous devez malgré tout comprendre le fonctionnement des dictionnaires\n",
    "\n",
    "buf = [[m for m, pos in d] for d in alldocs]\n",
    "mots = []\n",
    "[mots.extend(b) for b in buf]\n",
    "mots = np.unique(np.array(mots))\n",
    "nMots = len(mots) + 1  # mot inconnu\n",
    "\n",
    "mots2ind = dict(zip(mots, range(len(mots))))\n",
    "mots2ind[\"UUUUUUUU\"] = len(mots)\n",
    "\n",
    "buf2 = [[pos for m, pos in d] for d in alldocs]\n",
    "cles = []\n",
    "[cles.extend(b) for b in buf2]\n",
    "cles = np.unique(np.array(cles))\n",
    "cles2ind = dict(zip(cles, range(len(cles))))\n",
    "nCles = len(cles)\n",
    "\n",
    "print(f\"{nMots} words, {nCles} keys in the dictionary\")\n",
    "\n",
    "# mise en forme des données\n",
    "allx = [[mots2ind[m] for m, pos in d] for d in alldocs]\n",
    "allxT = [[mots2ind.setdefault(m, len(mots)) for m, pos in d] for d in alldocsT]\n",
    "\n",
    "allq = [[cles2ind[pos] for m, pos in d] for d in alldocs]\n",
    "allqT = [[cles2ind.setdefault(pos, len(cles)) for m, pos in d] for d in alldocsT]"
   ]
  },
  {
   "cell_type": "code",
   "execution_count": 49,
   "metadata": {},
   "outputs": [
    {
     "name": "stdout",
     "output_type": "stream",
     "text": [
      "[3068, 12557, 17919, 15074, 12916, 18921, 11125, 18064, 17758, 7826, 16693, 10436, 12470, 18146, 11397, 11597, 6398, 24, 10616, 11597, 15914, 18078, 24, 11229, 18064, 16777, 7393, 17545, 12552, 11752, 4554, 7798, 2331, 21, 14042, 10027, 31]\n",
      "[18, 13, 10, 18, 38, 26, 36, 31, 33, 10, 14, 18, 13, 18, 21, 13, 19, 5, 14, 13, 18, 18, 5, 33, 31, 33, 10, 14, 18, 13, 19, 8, 19, 23, 14, 21, 6]\n"
     ]
    }
   ],
   "source": [
    "# First doc:\n",
    "print(allx[0])\n",
    "print(allq[0])"
   ]
  },
  {
   "cell_type": "markdown",
   "metadata": {},
   "source": [
    "## You turn: apply HMMs to those data!"
   ]
  },
  {
   "cell_type": "code",
   "execution_count": 50,
   "metadata": {},
   "outputs": [
    {
     "name": "stdout",
     "output_type": "stream",
     "text": [
      "[1.12018249e-04 6.71549961e-04 4.47737276e-04 3.13348949e-03\n",
      " 1.12018249e-04 1.11906342e-07 1.11906342e-07 2.12633241e-03\n",
      " 5.61770958e-02 1.62265316e-02 2.12398350e-01 3.24539584e-03\n",
      " 1.11906342e-07 1.28916218e-01 4.48745552e-02 1.11917533e-03\n",
      " 4.92399097e-03 5.59643619e-04 4.52102743e-02 1.91919489e-01\n",
      " 2.23924591e-04 4.36435855e-02 1.11906342e-07 1.11906342e-07\n",
      " 5.83033163e-02 8.61690027e-03 6.03176305e-02 2.12633241e-03\n",
      " 1.11906342e-07 1.11906342e-07 4.47737276e-04 3.35730218e-03\n",
      " 6.71549961e-04 4.81208463e-03 1.11917533e-03 1.34288730e-02\n",
      " 5.25971000e-03 3.35830934e-04 1.90251973e-03 7.83456303e-04\n",
      " 3.24539584e-03 1.12018249e-04 6.37877343e-03 7.27392345e-02]\n",
      "[[2.77438686e-05 2.77438686e-05 2.77438686e-05 ... 2.77438686e-05\n",
      "  2.77438686e-05 2.77438686e-05]\n",
      " [5.71414204e-07 5.71414204e-07 5.71414204e-07 ... 5.71414204e-07\n",
      "  5.71414204e-07 5.71414204e-07]\n",
      " [9.75567878e-07 9.76543446e-04 1.07322222e-02 ... 9.75567878e-07\n",
      "  6.82995071e-03 1.07322222e-02]\n",
      " ...\n",
      " [2.85355553e-05 2.85355553e-05 2.85355553e-05 ... 2.85355553e-05\n",
      "  2.85355553e-05 2.85355553e-05]\n",
      " [2.09185765e-06 2.09185765e-06 2.09185765e-06 ... 2.09185765e-06\n",
      "  2.09185765e-06 2.09185765e-06]\n",
      " [6.53149093e-07 6.53149093e-07 6.53149093e-07 ... 6.53149093e-07\n",
      "  9.79788954e-03 6.53149093e-07]]\n",
      "[[1.81412478e-05 6.53103060e-01 1.81412478e-05 ... 1.81412478e-05\n",
      "  1.81412478e-05 1.81412478e-05]\n",
      " [5.65251823e-07 5.65251823e-07 9.75059959e-01 ... 5.65251823e-07\n",
      "  5.65251823e-07 5.65251823e-07]\n",
      " [6.61321863e-07 6.61321863e-07 6.61321863e-07 ... 6.61321863e-07\n",
      "  6.61321863e-07 6.61321863e-07]\n",
      " ...\n",
      " [1.84764333e-05 1.84764333e-05 1.84764333e-05 ... 1.84764333e-05\n",
      "  1.84764333e-05 1.84764333e-05]\n",
      " [2.01157460e-06 2.01157460e-06 2.01157460e-06 ... 2.01157460e-06\n",
      "  2.01157460e-06 2.01157460e-06]\n",
      " [6.45110098e-07 6.45110098e-07 6.45110098e-07 ... 6.45110098e-07\n",
      "  6.45110098e-07 6.45110098e-07]]\n"
     ]
    }
   ],
   "source": [
    "# HMM training\n",
    "# YOUR CODE HERE\n",
    "Pi, A, B = learnHMM(allx, allq, nCles, nMots)\n",
    "print(Pi)\n",
    "print(A)\n",
    "print(B)"
   ]
  },
  {
   "cell_type": "code",
   "execution_count": 60,
   "metadata": {},
   "outputs": [
    {
     "name": "stdout",
     "output_type": "stream",
     "text": [
      "43778 bonnes réponses\n",
      "accuracy 2074070306\n"
     ]
    }
   ],
   "source": [
    "# HMM decoding and performances evaluation\n",
    "# YOUR CODE HERE\n",
    "etats_predits = []\n",
    "for x in allxT:\n",
    "    etats_predits.append(viterbi(x, Pi, A, B)[0])\n",
    "\n",
    "score = 0\n",
    "for i in range(len(etats_predits)):\n",
    "    score += np.sum(etats_predits[i] == allqT[i])\n",
    "print(score, \"bonnes réponses\")"
   ]
  },
  {
   "cell_type": "code",
   "execution_count": 62,
   "metadata": {
    "tags": []
   },
   "outputs": [
    {
     "name": "stdout",
     "output_type": "stream",
     "text": [
      "43778 bonnes réponses\n",
      "accuracy 0.9240348692403487\n"
     ]
    }
   ],
   "source": [
    "pred = np.concatenate(etats_predits).ravel()\n",
    "q = np.concatenate(allqT).ravel()\n",
    "score = np.sum(np.where(pred == q, 1, 0))\n",
    "print(score, \"bonnes réponses\")\n",
    "print(\"accuracy\", score / len(pred))"
   ]
  },
  {
   "cell_type": "markdown",
   "metadata": {},
   "source": [
    "Check : 1564 in test"
   ]
  },
  {
   "cell_type": "markdown",
   "metadata": {},
   "source": [
    "### Qualitative Analyis:\n",
    "\n",
    "- With imshow on the parameters (ou d'un argsort), show what are the probable transition between labels.\n",
    "- Visualize the confusion matrices to understand what is challenging in this task\n",
    "- Find out examples that are corrected by Viterbi decoding\n",
    "\n"
   ]
  },
  {
   "cell_type": "code",
   "execution_count": 53,
   "metadata": {
    "tags": []
   },
   "outputs": [
    {
     "data": {
      "image/png": "[encoded data removed]",
      "text/plain": [
       "<Figure size 640x480 with 1 Axes>"
      ]
     },
     "metadata": {},
     "output_type": "display_data"
    }
   ],
   "source": [
    "plt.imshow(A)\n",
    "plt.title(\"probable transition between labels\")\n",
    "plt.show()"
   ]
  },
  {
   "cell_type": "code",
   "execution_count": 54,
   "metadata": {
    "tags": []
   },
   "outputs": [
    {
     "data": {
      "image/png": "[encoded data removed]",
      "text/plain": [
       "<Figure size 640x480 with 2 Axes>"
      ]
     },
     "metadata": {},
     "output_type": "display_data"
    }
   ],
   "source": [
    "from sklearn.metrics import confusion_matrix\n",
    "\n",
    "plt.imshow(confusion_matrix(q, pred))\n",
    "plt.colorbar()\n",
    "plt.title(\"confusion matrix\")\n",
    "plt.show()"
   ]
  },
  {
   "cell_type": "code",
   "execution_count": null,
   "metadata": {},
   "outputs": [],
   "source": []
  },
  {
   "cell_type": "markdown",
   "metadata": {},
   "source": [
    "# 2) Conditional Random Fields (CRF)"
   ]
  },
  {
   "cell_type": "markdown",
   "metadata": {},
   "source": [
    "**CRF are disciminative models** representing the conditional distribution $P( \\mathbf{y} | \\mathbf{x} , \\mathbf{w})$:\n",
    "\n",
    "$$ P( \\mathbf{y} | \\mathbf{x} , \\mathbf{w})  = \\frac{e^{\\mathbf{w}^T  \\psi(\\mathbf{x},\\mathbf{y}) } }{\\sum\\limits_{y' \\in \\mathcal{y}}e^{\\mathbf{w}^T  \\psi(\\mathbf{x},\\mathbf{y}') } } $$ \n",
    "        \n",
    "**In 'linear-chain' CRFs**, the feature functions include **unary terms $u_k$** ($\\sim$ $\\mathbf{B}$ matrix in HMMs) and **pairwise terms $p_k$** ($\\sim$ $\\mathbf{A}$ matrix in HMMs):\n",
    "\n",
    "$$ \\psi(\\mathbf{x},\\mathbf{y}) = \\sum\\limits_{t=1}^T \\sum_{k=1}^K F_k(y_{t-1}, y_t, \\mathbf{x})  =   \\sum\\limits_{t=1}^T \\sum_{k=1}^K \\left[ u_k(y_t, \\mathbf{x}) + p_k(y_{t-1}, y_t, \\mathbf{x}) \\right]$$\n",
    "\n",
    "[<img src=\"https://thome.isir.upmc.fr/classes/RITAL/crf-obs2.png\" width=\"800\" >](https://thome.isir.upmc.fr/classes/RITAL/crf-obs2.png)\n"
   ]
  },
  {
   "cell_type": "markdown",
   "metadata": {},
   "source": [
    "We can directly use resources from nltk: \n",
    "- [CRFTagger](https://tedboy.github.io/nlps/generated/generated/nltk.CRFTagger.html)\n",
    "- [PerceptronTagger](https://www.nltk.org/_modules/nltk/tag/perceptron.html)"
   ]
  },
  {
   "cell_type": "code",
   "execution_count": 55,
   "metadata": {},
   "outputs": [],
   "source": [
    "# !pip install python-crfsuite\n",
    "from nltk.tag.crf import CRFTagger\n",
    "\n",
    "tagger = CRFTagger()\n",
    "tagger.train(alldocs, \"out/crf.model\")  # training"
   ]
  },
  {
   "cell_type": "code",
   "execution_count": 56,
   "metadata": {},
   "outputs": [
    {
     "name": "stdout",
     "output_type": "stream",
     "text": [
      "accuracy 0.9627456360681343 %\n"
     ]
    }
   ],
   "source": [
    "score = tagger.accuracy(alldocsT)\n",
    "print(f\"accuracy {score} %\")"
   ]
  },
  {
   "cell_type": "code",
   "execution_count": 59,
   "metadata": {
    "tags": []
   },
   "outputs": [
    {
     "data": {
      "text/plain": [
       "45612.0"
      ]
     },
     "execution_count": 59,
     "metadata": {},
     "output_type": "execute_result"
    }
   ],
   "source": [
    "len(pred) * score"
   ]
  },
  {
   "cell_type": "markdown",
   "metadata": {},
   "source": [
    "Check: 1720 bonnes réponses"
   ]
  },
  {
   "cell_type": "markdown",
   "metadata": {},
   "source": [
    "### Training and evaluating the model, as before"
   ]
  },
  {
   "cell_type": "code",
   "execution_count": 57,
   "metadata": {},
   "outputs": [
    {
     "data": {
      "text/plain": [
       "0.9708719420816008"
      ]
     },
     "execution_count": 57,
     "metadata": {},
     "output_type": "execute_result"
    }
   ],
   "source": [
    "# perceptron\n",
    "from nltk.tag.perceptron import PerceptronTagger\n",
    "\n",
    "tagger = PerceptronTagger(load=False)\n",
    "tagger.train(alldocs)\n",
    "tagger.accuracy(alldocsT)"
   ]
  },
  {
   "cell_type": "markdown",
   "metadata": {},
   "source": [
    "Check: 1737 bonnes réponses"
   ]
  },
  {
   "cell_type": "markdown",
   "metadata": {},
   "source": [
    "# Going further\n",
    "\n",
    "- We test the application for PoS, we can run similar experiments for chunking (see parsing indication, very simple to load data)\n",
    "- Run  experiement on the larger dataset. This dataset is still largely used in research. This work can thus be included in your resume :)\n",
    "- Work will be purshed with word embeddings (next practical), and for [NER](https://www.clips.uantwerpen.be/conll2003/ner/) with RNNs (X. Tannier)\n",
    "- [State-of-the-art resources](https://github.com/stanfordnlp/stanza/)"
   ]
  },
  {
   "cell_type": "code",
   "execution_count": null,
   "metadata": {},
   "outputs": [],
   "source": []
  }
 ],
 "metadata": {
  "kernelspec": {
   "display_name": "Python 3 (ipykernel)",
   "language": "python",
   "name": "python3"
  },
  "language_info": {
   "codemirror_mode": {
    "name": "ipython",
    "version": 3
   },
   "file_extension": ".py",
   "mimetype": "text/x-python",
   "name": "python",
   "nbconvert_exporter": "python",
   "pygments_lexer": "ipython3",
   "version": "3.9.2"
  }
 },
 "nbformat": 4,
 "nbformat_minor": 4
}
